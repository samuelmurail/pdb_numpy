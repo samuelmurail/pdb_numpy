{
 "cells": [
  {
   "cell_type": "code",
   "execution_count": 1,
   "metadata": {},
   "outputs": [],
   "source": [
    "import sys\n",
    "import numpy as np\n",
    "from copy import deepcopy\n",
    "\n",
    "sys.path.append(\"./src/\")\n",
    "from pdb_numpy import Coor, Model"
   ]
  },
  {
   "cell_type": "code",
   "execution_count": 5,
   "metadata": {},
   "outputs": [
    {
     "name": "stdout",
     "output_type": "stream",
     "text": [
      "\n",
      "OrderedDict([('title', OrderedDict([('title', 'data_2OL9')])), ('_entry', OrderedDict([('id', '2OL9')])), ('_audit_conform', OrderedDict([('dict_name', 'mmcif_pdbx.dic'), ('dict_version', '5.289'), ('dict_location', 'http://mmcif.pdb.org/dictionaries/ascii/mmcif_pdbx.dic')])), ('_database_2', {'col_names': ['database_id', 'database_code'], 'value': [['PDB', 'RCSB', 'WWPDB'], ['2OL9', 'RCSB041276', 'D_1000041276']]}), ('_pdbx_database_related', OrderedDict([('db_name', 'PDB'), ('db_id', '2OKZ'), ('details', '.'), ('content_type', 'unspecified')])), ('_pdbx_database_status', OrderedDict([('entry_id', '2OL9'), ('deposit_site', 'RCSB'), ('process_site', 'RCSB'), ('recvd_initial_deposition_date', '2007-01-18'), ('status_code', 'REL'), ('status_code_sf', 'REL'), ('status_code_mr', '?'), ('SG_entry', '?'), ('pdb_format_compatible', 'Y'), ('status_code_cs', '?'), ('methods_development_category', '?')])), ('_audit_author', {'col_names': ['name', 'pdbx_ordinal'], 'value': [[\"'Apostol, M.A.'\", \"'Sawaya, M.R.'\", \"'Eisenberg, D.'\"], ['1', '2', '3']]}), ('_citation', OrderedDict([('id', 'primary'), ('title', \"'Atomic structures of amyloid cross-beta spines reveal varied steric zippers.'\"), ('journal_abbrev', 'Nature'), ('journal_volume', '447'), ('page_first', '453'), ('page_last', '457'), ('year', '2007'), ('journal_id_ASTM', 'NATUAS'), ('country', 'UK'), ('journal_id_ISSN', '0028-0836'), ('journal_id_CSD', '0006'), ('book_publisher', '?'), ('pdbx_database_id_PubMed', '17468747'), ('pdbx_database_id_DOI', '10.1038/nature05695')])), ('_citation_author', {'col_names': ['citation_id', 'name', 'ordinal'], 'value': [['primary', 'primary', 'primary', 'primary', 'primary', 'primary', 'primary', 'primary', 'primary', 'primary', 'primary', 'primary', 'primary'], [\"'Sawaya, M.R.'\", \"'Sambashivan, S.'\", \"'Nelson, R.'\", \"'Ivanova, M.I.'\", \"'Sievers, S.A.'\", \"'Apostol, M.I.'\", \"'Thompson, M.J.'\", \"'Balbirnie, M.'\", \"'Wiltzius, J.J.'\", \"'McFarlane, H.T.'\", \"'Madsen, A.O.'\", \"'Riekel, C.'\", \"'Eisenberg, D.'\"], ['1', '2', '3', '4', '5', '6', '7', '8', '9', '10', '11', '12', '13']]}), ('_cell', OrderedDict([('length_a', '14.002'), ('length_b', '4.879'), ('length_c', '15.100'), ('angle_alpha', '75.230'), ('angle_beta', '75.880'), ('angle_gamma', '78.890'), ('entry_id', '2OL9'), ('pdbx_unique_axis', '?'), ('Z_PDB', '1'), ('length_a_esd', '?'), ('length_b_esd', '?'), ('length_c_esd', '?'), ('angle_alpha_esd', '?'), ('angle_beta_esd', '?'), ('angle_gamma_esd', '?')])), ('_symmetry', OrderedDict([('space_group_name_H-M', \"'P 1'\"), ('entry_id', '2OL9'), ('Int_Tables_number', '1'), ('pdbx_full_space_group_name_H-M', '?'), ('cell_setting', '?'), ('space_group_name_Hall', '?')])), ('_entity', {'col_names': ['id', 'type', 'src_method', 'pdbx_description', 'formula_weight', 'pdbx_number_of_molecules', 'pdbx_ec', 'pdbx_mutation', 'pdbx_fragment', 'details'], 'value': [['1', '2'], ['polymer', 'water'], ['syn', 'nat'], [\"'peptide from human prion'\", 'water'], ['722.704', '18.015'], ['1', '5'], ['?', '?'], ['?', '?'], [\"'residues 170-175'\", '?'], ['?', '?']]}), ('_entity_poly', OrderedDict([('entity_id', '1'), ('type', \"'polypeptide(L)'\"), ('nstd_linkage', 'no'), ('nstd_monomer', 'no'), ('pdbx_seq_one_letter_code', 'SNQNNF'), ('pdbx_seq_one_letter_code_can', 'SNQNNF'), ('pdbx_strand_id', 'A'), ('pdbx_target_identifier', '?')])), ('_entity_poly_seq', {'col_names': ['entity_id', 'num', 'mon_id', 'hetero'], 'value': [['1', '1', '1', '1', '1', '1'], ['1', '2', '3', '4', '5', '6'], ['SER', 'ASN', 'GLN', 'ASN', 'ASN', 'PHE'], ['n', 'n', 'n', 'n', 'n', 'n']]}), ('_pdbx_entity_src_syn', OrderedDict([('entity_id', '1'), ('pdbx_src_id', '1'), ('pdbx_alt_source_flag', 'sample'), ('pdbx_beg_seq_num', '?'), ('pdbx_end_seq_num', '?'), ('organism_scientific', '?'), ('organism_common_name', '?'), ('ncbi_taxonomy_id', '?'), ('details', \"'This sequence is taken from residues 170-175 of human prion'\")])), ('_struct_ref', OrderedDict([('id', '1'), ('entity_id', '1'), ('db_name', 'PDB'), ('db_code', '2OL9'), ('pdbx_db_accession', '2OL9'), ('pdbx_db_isoform', '?'), ('pdbx_seq_one_letter_code', '?'), ('pdbx_align_begin', '?')])), ('_struct_ref_seq', OrderedDict([('align_id', '1'), ('ref_id', '1'), ('pdbx_PDB_id_code', '2OL9'), ('pdbx_strand_id', 'A'), ('seq_align_beg', '1'), ('pdbx_seq_align_beg_ins_code', '?'), ('seq_align_end', '6'), ('pdbx_seq_align_end_ins_code', '?'), ('pdbx_db_accession', '2OL9'), ('db_align_beg', '1'), ('pdbx_db_align_beg_ins_code', '?'), ('db_align_end', '6'), ('pdbx_db_align_end_ins_code', '?'), ('pdbx_auth_seq_align_beg', '1'), ('pdbx_auth_seq_align_end', '6')])), ('_chem_comp', {'col_names': ['id', 'type', 'mon_nstd_flag', 'name', 'pdbx_synonyms', 'formula', 'formula_weight'], 'value': [['ASN', 'GLN', 'HOH', 'PHE', 'SER'], [\"'L-peptide linking'\", \"'L-peptide linking'\", 'non-polymer', \"'L-peptide linking'\", \"'L-peptide linking'\"], ['y', 'y', '.', 'y', 'y'], ['ASPARAGINE', 'GLUTAMINE', 'WATER', 'PHENYLALANINE', 'SERINE'], ['?', '?', '?', '?', '?'], [\"'C4 H8 N2 O3'\", \"'C5 H10 N2 O3'\", \"'H2 O'\", \"'C9 H11 N O2'\", \"'C3 H7 N O3'\"], ['132.118', '146.144', '18.015', '165.189', '105.093']]}), ('_exptl', OrderedDict([('crystals_number', '1'), ('entry_id', '2OL9'), ('method', \"'X-RAY DIFFRACTION'\")])), ('_exptl_crystal', OrderedDict([('id', '1'), ('density_Matthews', '?'), ('density_meas', '?'), ('density_percent_sol', '?'), ('description', '?'), ('F_000', '?'), ('preparation', '?')])), ('_exptl_crystal_grow', OrderedDict([('crystal_id', '1'), ('method', \"'VAPOR DIFFUSION, HANGING DROP'\"), ('pH', '7.0'), ('temp', '298'), ('temp_details', '?'), ('pdbx_details', \"'200 mM Hepes, pH 7.0, VAPOR DIFFUSION, HANGING DROP, temperature 298K'\"), ('pdbx_pH_range', '.')])), ('_diffrn', OrderedDict([('id', '1'), ('ambient_temp', '100'), ('ambient_temp_details', '?'), ('crystal_id', '1')])), ('_diffrn_detector', OrderedDict([('diffrn_id', '1'), ('detector', 'CCD'), ('type', \"'ADSC QUANTUM 315'\"), ('pdbx_collection_date', '2006-09-14'), ('details', '?')])), ('_diffrn_radiation', OrderedDict([('diffrn_id', '1'), ('wavelength_id', '1'), ('pdbx_diffrn_protocol', \"'SINGLE WAVELENGTH'\"), ('monochromator', '?'), ('pdbx_monochromatic_or_laue_m_l', 'M'), ('pdbx_scattering_type', 'x-ray')])), ('_diffrn_radiation_wavelength', OrderedDict([('id', '1'), ('wavelength', '0.88560'), ('wt', '1.0')])), ('_diffrn_source', OrderedDict([('diffrn_id', '1'), ('source', 'SYNCHROTRON'), ('type', \"'ALS BEAMLINE 8.2.2'\"), ('pdbx_wavelength', '0.88560'), ('pdbx_wavelength_list', '?'), ('pdbx_synchrotron_site', 'ALS'), ('pdbx_synchrotron_beamline', '8.2.2')])), ('_reflns', OrderedDict([('entry_id', '2OL9'), ('d_resolution_high', '0.850'), ('d_resolution_low', '90.000'), ('number_obs', '2681'), ('pdbx_Rmerge_I_obs', '0.036'), ('pdbx_netI_over_sigmaI', '48.700'), ('pdbx_chi_squared', '1.195'), ('pdbx_redundancy', '3.600'), ('percent_possible_obs', '82.100'), ('observed_criterion_sigma_F', '?'), ('observed_criterion_sigma_I', '-3'), ('number_all', '2681'), ('pdbx_Rsym_value', '?'), ('B_iso_Wilson_estimate', '4.4'), ('R_free_details', '?'), ('limit_h_max', '?'), ('limit_h_min', '?'), ('limit_k_max', '?'), ('limit_k_min', '?'), ('limit_l_max', '?'), ('limit_l_min', '?'), ('observed_criterion_F_max', '?'), ('observed_criterion_F_min', '?'), ('pdbx_scaling_rejects', '?'), ('pdbx_diffrn_id', '1'), ('pdbx_ordinal', '1')])), ('_reflns_shell', {'col_names': ['d_res_high', 'd_res_low', 'number_measured_obs', 'number_measured_all', 'number_unique_obs', 'Rmerge_I_obs', 'meanI_over_sigI_obs', 'pdbx_Rsym_value', 'pdbx_chi_squared', 'pdbx_redundancy', 'percent_possible_obs', 'number_unique_all', 'percent_possible_all', 'pdbx_diffrn_id', 'pdbx_ordinal'], 'value': [['0.85', '0.88', '0.92', '0.96', '1.01', '1.07', '1.15', '1.27', '1.45', '1.83'], ['0.88', '0.92', '0.96', '1.01', '1.07', '1.15', '1.27', '1.45', '1.83', '90.00'], ['?', '?', '?', '?', '?', '?', '?', '?', '?', '?'], ['?', '?', '?', '?', '?', '?', '?', '?', '?', '?'], ['?', '?', '?', '?', '?', '?', '?', '?', '?', '?'], ['0.078', '0.078', '0.067', '0.055', '0.048', '0.036', '0.04', '0.037', '0.034', '0.027'], ['?', '?', '?', '?', '?', '?', '?', '?', '?', '?'], ['?', '?', '?', '?', '?', '?', '?', '?', '?', '?'], ['1.139', '1.200', '1.301', '1.196', '1.387', '1.143', '1.166', '1.150', '1.186', '1.070'], ['2.30', '2.70', '3.30', '3.60', '3.80', '3.70', '3.80', '3.80', '3.70', '3.80'], ['?', '?', '?', '?', '?', '?', '?', '?', '?', '?'], ['107', '175', '267', '304', '309', '293', '282', '322', '309', '313'], ['33.50', '51.90', '79.50', '92.40', '99.70', '90.20', '85.50', '100.00', '93.10', '96.00'], ['?', '?', '?', '?', '?', '?', '?', '?', '?', '?'], ['1', '2', '3', '4', '5', '6', '7', '8', '9', '10']]}), ('_refine', OrderedDict([('entry_id', '2OL9'), ('ls_d_res_high', '0.850'), ('ls_d_res_low', '14.290'), ('pdbx_ls_sigma_F', '0.00'), ('ls_percent_reflns_obs', '82.110'), ('ls_number_reflns_obs', '2680'), ('pdbx_ls_cross_valid_method', 'THROUGHOUT'), ('pdbx_R_Free_selection_details', 'RANDOM'), ('details', \"'HYDROGENS HAVE BEEN ADDED IN THE RIDING POSITIONS'\"), ('ls_R_factor_obs', '0.073'), ('ls_R_factor_R_work', '0.073'), ('ls_R_factor_R_free', '0.078'), ('ls_percent_reflns_R_free', '5.000'), ('ls_number_reflns_R_free', '134'), ('B_iso_mean', '1.335'), ('aniso_B[1][1]', '0.020'), ('aniso_B[2][2]', '-0.040'), ('aniso_B[3][3]', '0.020'), ('aniso_B[1][2]', '-0.030'), ('aniso_B[1][3]', '-0.060'), ('aniso_B[2][3]', '0.060'), ('correlation_coeff_Fo_to_Fc', '0.992'), ('correlation_coeff_Fo_to_Fc_free', '0.989'), ('pdbx_overall_ESU_R', '0.011'), ('pdbx_overall_ESU_R_Free', '0.011'), ('overall_SU_ML', '0.007'), ('overall_SU_B', '0.242'), ('solvent_model_details', 'MASK'), ('pdbx_solvent_vdw_probe_radii', '1.400'), ('pdbx_solvent_ion_probe_radii', '0.800'), ('pdbx_solvent_shrinkage_radii', '0.800'), ('pdbx_stereochemistry_target_values', \"'MAXIMUM LIKELIHOOD'\"), ('pdbx_ls_sigma_I', '?'), ('ls_number_reflns_all', '2680'), ('ls_R_factor_all', '0.073'), ('ls_redundancy_reflns_obs', '?'), ('pdbx_data_cutoff_high_absF', '?'), ('pdbx_data_cutoff_low_absF', '?'), ('ls_number_parameters', '?'), ('ls_number_restraints', '?'), ('ls_R_factor_R_free_error', '?'), ('ls_R_factor_R_free_error_details', '?'), ('pdbx_method_to_determine_struct', \"'MOLECULAR REPLACEMENT'\"), ('pdbx_starting_model', \"'idealized 6 residue beta strand'\"), ('pdbx_stereochem_target_val_spec_case', '?'), ('solvent_model_param_bsol', '?'), ('solvent_model_param_ksol', '?'), ('occupancy_max', '?'), ('occupancy_min', '?'), ('pdbx_isotropic_thermal_model', '?'), ('B_iso_min', '?'), ('B_iso_max', '?'), ('overall_SU_R_Cruickshank_DPI', '?'), ('overall_SU_R_free', '?'), ('pdbx_data_cutoff_high_rms_absF', '?'), ('ls_wR_factor_R_free', '?'), ('ls_wR_factor_R_work', '?'), ('overall_FOM_free_R_set', '?'), ('overall_FOM_work_R_set', '?'), ('pdbx_refine_id', \"'X-RAY DIFFRACTION'\"), ('pdbx_diffrn_id', '1'), ('pdbx_TLS_residual_ADP_flag', '?'), ('pdbx_overall_phase_error', '?'), ('pdbx_overall_SU_R_free_Cruickshank_DPI', '?'), ('pdbx_overall_SU_R_Blow_DPI', '?'), ('pdbx_overall_SU_R_free_Blow_DPI', '?')])), ('_refine_hist', OrderedDict([('pdbx_refine_id', \"'X-RAY DIFFRACTION'\"), ('cycle_id', 'LAST'), ('pdbx_number_atoms_protein', '51'), ('pdbx_number_atoms_nucleic_acid', '0'), ('pdbx_number_atoms_ligand', '0'), ('number_atoms_solvent', '5'), ('number_atoms_total', '56'), ('d_res_high', '0.850'), ('d_res_low', '14.290')])), ('_refine_ls_restr', {'col_names': ['type', 'number', 'dev_ideal', 'dev_ideal_target', 'weight', 'pdbx_refine_id', 'pdbx_restraint_function'], 'value': [['r_bond_refined_d', 'r_bond_other_d', 'r_angle_refined_deg', 'r_angle_other_deg', 'r_dihedral_angle_1_deg', 'r_dihedral_angle_2_deg', 'r_dihedral_angle_3_deg', 'r_chiral_restr', 'r_gen_planes_refined', 'r_gen_planes_other', 'r_nbd_refined', 'r_nbd_other', 'r_nbtor_refined', 'r_nbtor_other', 'r_symmetry_vdw_refined', 'r_symmetry_vdw_other', 'r_symmetry_hbond_refined', 'r_mcbond_it', 'r_mcbond_other', 'r_mcangle_it', 'r_scbond_it', 'r_scangle_it', 'r_rigid_bond_restr', 'r_sphericity_free', 'r_sphericity_bonded'], ['51', '30', '68', '73', '5', '5', '7', '6', '62', '10', '4', '16', '20', '31', '2', '10', '1', '39', '11', '47', '24', '21', '107', '5', '81'], ['0.005', '0.001', '1.019', '0.505', '7.839', '52.080', '8.571', '0.073', '0.003', '0.000', '0.081', '0.190', '0.176', '0.072', '0.034', '0.190', '0.081', '0.394', '0.073', '0.484', '0.651', '0.857', '0.688', '1.686', '0.569'], ['0.021', '0.020', '1.828', '3.000', '5.000', '28.000', '15.000', '0.200', '0.020', '0.020', '0.200', '0.200', '0.200', '0.200', '0.200', '0.200', '0.200', '1.500', '1.500', '2.000', '3.000', '4.500', '3.000', '3.000', '3.000'], ['?', '?', '?', '?', '?', '?', '?', '?', '?', '?', '?', '?', '?', '?', '?', '?', '?', '?', '?', '?', '?', '?', '?', '?', '?'], [\"'X-RAY DIFFRACTION'\", \"'X-RAY DIFFRACTION'\", \"'X-RAY DIFFRACTION'\", \"'X-RAY DIFFRACTION'\", \"'X-RAY DIFFRACTION'\", \"'X-RAY DIFFRACTION'\", \"'X-RAY DIFFRACTION'\", \"'X-RAY DIFFRACTION'\", \"'X-RAY DIFFRACTION'\", \"'X-RAY DIFFRACTION'\", \"'X-RAY DIFFRACTION'\", \"'X-RAY DIFFRACTION'\", \"'X-RAY DIFFRACTION'\", \"'X-RAY DIFFRACTION'\", \"'X-RAY DIFFRACTION'\", \"'X-RAY DIFFRACTION'\", \"'X-RAY DIFFRACTION'\", \"'X-RAY DIFFRACTION'\", \"'X-RAY DIFFRACTION'\", \"'X-RAY DIFFRACTION'\", \"'X-RAY DIFFRACTION'\", \"'X-RAY DIFFRACTION'\", \"'X-RAY DIFFRACTION'\", \"'X-RAY DIFFRACTION'\", \"'X-RAY DIFFRACTION'\"], ['?', '?', '?', '?', '?', '?', '?', '?', '?', '?', '?', '?', '?', '?', '?', '?', '?', '?', '?', '?', '?', '?', '?', '?', '?']]}), ('_refine_ls_shell', OrderedDict([('d_res_high', '0.850'), ('d_res_low', '0.873'), ('pdbx_total_number_of_bins_used', '20'), ('percent_reflns_obs', '31.400'), ('number_reflns_R_work', '72'), ('R_factor_all', '?'), ('R_factor_R_work', '0.175'), ('R_factor_R_free', '0.052'), ('percent_reflns_R_free', '?'), ('number_reflns_R_free', '4'), ('R_factor_R_free_error', '?'), ('number_reflns_all', '?'), ('number_reflns_obs', '76'), ('redundancy_reflns_obs', '?'), ('pdbx_refine_id', \"'X-RAY DIFFRACTION'\")])), ('_struct', OrderedDict([('entry_id', '2OL9'), ('title', \"'Peptide corresponding to residues 170-175 of human prion'\"), ('pdbx_descriptor', \"'SNQNNF peptide from human prion residues 170-175'\"), ('pdbx_model_details', '?'), ('pdbx_CASP_flag', '?'), ('pdbx_model_type_details', '?')])), ('_struct_keywords', OrderedDict([('entry_id', '2OL9'), ('pdbx_keywords', \"'PROTEIN FIBRIL'\"), ('text', \"'steric zipper, beta sheet, PROTEIN FIBRIL'\")])), ('_struct_asym', {'col_names': ['id', 'pdbx_blank_PDB_chainid_flag', 'pdbx_modified', 'entity_id', 'details'], 'value': [['A', 'B'], ['N', 'N'], ['N', 'N'], ['1', '2'], ['?', '?']]}), ('_atom_sites', OrderedDict([('entry_id', '2OL9'), ('fract_transf_matrix[1][1]', '0.071418'), ('fract_transf_matrix[1][2]', '-0.014019'), ('fract_transf_matrix[1][3]', '-0.015272'), ('fract_transf_matrix[2][1]', '0.000000'), ('fract_transf_matrix[2][2]', '0.208872'), ('fract_transf_matrix[2][3]', '-0.046757'), ('fract_transf_matrix[3][1]', '0.000000'), ('fract_transf_matrix[3][2]', '0.000000'), ('fract_transf_matrix[3][3]', '0.069978'), ('fract_transf_vector[1]', '0.000000'), ('fract_transf_vector[2]', '0.000000'), ('fract_transf_vector[3]', '0.000000')])), ('_atom_type', {'col_names': ['symbol'], 'value': [['C', 'N', 'O']]}), ('_atom_site', None), ('_atom_site_anisotrop', {'col_names': ['id', 'type_symbol', 'pdbx_label_atom_id', 'pdbx_label_alt_id', 'pdbx_label_comp_id', 'pdbx_label_asym_id', 'pdbx_label_seq_id', 'pdbx_PDB_ins_code', 'U[1][1]', 'U[2][2]', 'U[3][3]', 'U[1][2]', 'U[1][3]', 'U[2][3]', 'pdbx_auth_seq_id', 'pdbx_auth_comp_id', 'pdbx_auth_asym_id', 'pdbx_auth_atom_id'], 'value': [['1', '2', '3', '4', '5', '6', '7', '8', '9', '10', '11', '12', '13', '14', '15', '16', '17', '18', '19', '20', '21', '22', '23', '24', '25', '26', '27', '28', '29', '30', '31', '32', '33', '34', '35', '36', '37', '38', '39', '40', '41', '42', '43', '44', '45', '46', '47', '48', '49', '50', '51', '52', '53', '54', '55', '56'], ['N', 'C', 'C', 'O', 'C', 'O', 'N', 'C', 'C', 'O', 'C', 'C', 'O', 'N', 'N', 'C', 'C', 'O', 'C', 'C', 'C', 'O', 'N', 'N', 'C', 'C', 'O', 'C', 'C', 'O', 'N', 'N', 'C', 'C', 'O', 'C', 'C', 'O', 'N', 'N', 'C', 'C', 'O', 'C', 'C', 'C', 'C', 'C', 'C', 'C', 'O', 'O', 'O', 'O', 'O', 'O'], ['N', 'CA', 'C', 'O', 'CB', 'OG', 'N', 'CA', 'C', 'O', 'CB', 'CG', 'OD1', 'ND2', 'N', 'CA', 'C', 'O', 'CB', 'CG', 'CD', 'OE1', 'NE2', 'N', 'CA', 'C', 'O', 'CB', 'CG', 'OD1', 'ND2', 'N', 'CA', 'C', 'O', 'CB', 'CG', 'OD1', 'ND2', 'N', 'CA', 'C', 'O', 'CB', 'CG', 'CD1', 'CD2', 'CE1', 'CE2', 'CZ', 'OXT', 'O', 'O', 'O', 'O', 'O'], ['.', '.', '.', '.', '.', '.', '.', '.', '.', '.', '.', '.', '.', '.', '.', '.', '.', '.', '.', '.', '.', '.', '.', '.', '.', '.', '.', '.', '.', '.', '.', '.', '.', '.', '.', '.', '.', '.', '.', '.', '.', '.', '.', '.', '.', '.', '.', '.', '.', '.', '.', '.', '.', '.', '.', '.'], ['SER', 'SER', 'SER', 'SER', 'SER', 'SER', 'ASN', 'ASN', 'ASN', 'ASN', 'ASN', 'ASN', 'ASN', 'ASN', 'GLN', 'GLN', 'GLN', 'GLN', 'GLN', 'GLN', 'GLN', 'GLN', 'GLN', 'ASN', 'ASN', 'ASN', 'ASN', 'ASN', 'ASN', 'ASN', 'ASN', 'ASN', 'ASN', 'ASN', 'ASN', 'ASN', 'ASN', 'ASN', 'ASN', 'PHE', 'PHE', 'PHE', 'PHE', 'PHE', 'PHE', 'PHE', 'PHE', 'PHE', 'PHE', 'PHE', 'PHE', 'HOH', 'HOH', 'HOH', 'HOH', 'HOH'], ['A', 'A', 'A', 'A', 'A', 'A', 'A', 'A', 'A', 'A', 'A', 'A', 'A', 'A', 'A', 'A', 'A', 'A', 'A', 'A', 'A', 'A', 'A', 'A', 'A', 'A', 'A', 'A', 'A', 'A', 'A', 'A', 'A', 'A', 'A', 'A', 'A', 'A', 'A', 'A', 'A', 'A', 'A', 'A', 'A', 'A', 'A', 'A', 'A', 'A', 'A', 'B', 'B', 'B', 'B', 'B'], ['1', '1', '1', '1', '1', '1', '2', '2', '2', '2', '2', '2', '2', '2', '3', '3', '3', '3', '3', '3', '3', '3', '3', '4', '4', '4', '4', '4', '4', '4', '4', '5', '5', '5', '5', '5', '5', '5', '5', '6', '6', '6', '6', '6', '6', '6', '6', '6', '6', '6', '6', '.', '.', '.', '.', '.'], ['?', '?', '?', '?', '?', '?', '?', '?', '?', '?', '?', '?', '?', '?', '?', '?', '?', '?', '?', '?', '?', '?', '?', '?', '?', '?', '?', '?', '?', '?', '?', '?', '?', '?', '?', '?', '?', '?', '?', '?', '?', '?', '?', '?', '?', '?', '?', '?', '?', '?', '?', '?', '?', '?', '?', '?'], ['0.0171', '0.0172', '0.0168', '0.0198', '0.0215', '0.0223', '0.0167', '0.0176', '0.0174', '0.0310', '0.0190', '0.0174', '0.0270', '0.0267', '0.0151', '0.0138', '0.0140', '0.0178', '0.0128', '0.0129', '0.0118', '0.0132', '0.0161', '0.0134', '0.0158', '0.0127', '0.0245', '0.0175', '0.0337', '0.0691', '0.0400', '0.0128', '0.0128', '0.0138', '0.0149', '0.0126', '0.0142', '0.0166', '0.0184', '0.0144', '0.0154', '0.0158', '0.0249', '0.0185', '0.0210', '0.0285', '0.0249', '0.0326', '0.0301', '0.0380', '0.0175', '0.0274', '0.0343', '0.0438', '0.0523', '0.0739'], ['0.0227', '0.0198', '0.0171', '0.0171', '0.0235', '0.0360', '0.0149', '0.0160', '0.0131', '0.0168', '0.0173', '0.0189', '0.0205', '0.0216', '0.0119', '0.0123', '0.0125', '0.0125', '0.0124', '0.0134', '0.0118', '0.0118', '0.0151', '0.0130', '0.0156', '0.0130', '0.0167', '0.0168', '0.0256', '0.0343', '0.0272', '0.0140', '0.0149', '0.0176', '0.0213', '0.0145', '0.0146', '0.0145', '0.0158', '0.0184', '0.0214', '0.0264', '0.0419', '0.0215', '0.0224', '0.0278', '0.0263', '0.0304', '0.0329', '0.0321', '0.0328', '0.0332', '0.0408', '0.0460', '0.0940', '0.0929'], ['0.0192', '0.0206', '0.0161', '0.0202', '0.0243', '0.0437', '0.0155', '0.0151', '0.0133', '0.0188', '0.0152', '0.0155', '0.0202', '0.0173', '0.0115', '0.0123', '0.0119', '0.0193', '0.0118', '0.0120', '0.0141', '0.0146', '0.0226', '0.0133', '0.0151', '0.0147', '0.0196', '0.0172', '0.0213', '0.0316', '0.0220', '0.0141', '0.0152', '0.0188', '0.0332', '0.0125', '0.0092', '0.0137', '0.0172', '0.0253', '0.0230', '0.0244', '0.0309', '0.0269', '0.0278', '0.0319', '0.0290', '0.0335', '0.0307', '0.0309', '0.0232', '0.0177', '0.0363', '0.0367', '0.0512', '0.0665'], ['-0.0004', '-0.0001', '0.0003', '0.0013', '-0.0001', '-0.0037', '-0.0006', '-0.0001', '0.0002', '-0.0029', '0.0010', '-0.0013', '-0.0044', '-0.0015', '0.0005', '0.0010', '0.0005', '0.0004', '0.0013', '0.0006', '0.0018', '0.0028', '0.0008', '0.0000', '0.0000', '0.0012', '0.0000', '0.0004', '-0.0008', '-0.0029', '0.0000', '0.0011', '0.0006', '0.0008', '-0.0016', '0.0004', '0.0011', '-0.0017', '0.0020', '0.0005', '0.0009', '0.0007', '-0.0008', '0.0012', '0.0029', '-0.0005', '0.0021', '0.0003', '0.0032', '0.0047', '-0.0015', '0.0033', '-0.0008', '-0.0022', '0.0062', '0.0005'], ['-0.0006', '-0.0002', '-0.0003', '-0.0021', '0.0023', '0.0045', '-0.0017', '-0.0020', '-0.0027', '-0.0063', '-0.0017', '0.0010', '0.0006', '0.0001', '-0.0022', '-0.0012', '-0.0008', '-0.0022', '-0.0011', '-0.0005', '-0.0013', '0.0001', '0.0027', '0.0000', '0.0003', '0.0002', '-0.0030', '0.0015', '0.0059', '0.0119', '0.0049', '-0.0008', '-0.0006', '-0.0006', '-0.0001', '-0.0013', '-0.0003', '-0.0019', '-0.0005', '-0.0012', '0.0001', '0.0011', '0.0035', '0.0002', '0.0002', '-0.0014', '0.0016', '-0.0038', '0.0033', '-0.0007', '0.0006', '0.0016', '0.0057', '0.0018', '0.0026', '0.0033'], ['0.0000', '-0.0003', '0.0001', '-0.0014', '0.0000', '0.0023', '-0.0002', '0.0002', '0.0004', '0.0015', '0.0000', '0.0012', '0.0015', '0.0005', '0.0003', '0.0003', '-0.0001', '0.0003', '0.0003', '-0.0002', '-0.0008', '-0.0033', '0.0017', '-0.0007', '0.0000', '-0.0007', '0.0024', '-0.0019', '-0.0008', '0.0015', '-0.0023', '0.0005', '0.0000', '0.0007', '0.0001', '-0.0010', '-0.0009', '0.0000', '0.0001', '0.0004', '0.0002', '0.0005', '0.0031', '-0.0009', '-0.0009', '-0.0005', '-0.0013', '-0.0022', '-0.0001', '-0.0025', '-0.0020', '-0.0006', '0.0037', '0.0070', '-0.0070', '0.0058'], ['1', '1', '1', '1', '1', '1', '2', '2', '2', '2', '2', '2', '2', '2', '3', '3', '3', '3', '3', '3', '3', '3', '3', '4', '4', '4', '4', '4', '4', '4', '4', '5', '5', '5', '5', '5', '5', '5', '5', '6', '6', '6', '6', '6', '6', '6', '6', '6', '6', '6', '6', '7', '8', '9', '10', '11'], ['SER', 'SER', 'SER', 'SER', 'SER', 'SER', 'ASN', 'ASN', 'ASN', 'ASN', 'ASN', 'ASN', 'ASN', 'ASN', 'GLN', 'GLN', 'GLN', 'GLN', 'GLN', 'GLN', 'GLN', 'GLN', 'GLN', 'ASN', 'ASN', 'ASN', 'ASN', 'ASN', 'ASN', 'ASN', 'ASN', 'ASN', 'ASN', 'ASN', 'ASN', 'ASN', 'ASN', 'ASN', 'ASN', 'PHE', 'PHE', 'PHE', 'PHE', 'PHE', 'PHE', 'PHE', 'PHE', 'PHE', 'PHE', 'PHE', 'PHE', 'HOH', 'HOH', 'HOH', 'HOH', 'HOH'], ['A', 'A', 'A', 'A', 'A', 'A', 'A', 'A', 'A', 'A', 'A', 'A', 'A', 'A', 'A', 'A', 'A', 'A', 'A', 'A', 'A', 'A', 'A', 'A', 'A', 'A', 'A', 'A', 'A', 'A', 'A', 'A', 'A', 'A', 'A', 'A', 'A', 'A', 'A', 'A', 'A', 'A', 'A', 'A', 'A', 'A', 'A', 'A', 'A', 'A', 'A', 'A', 'A', 'A', 'A', 'A'], ['N', 'CA', 'C', 'O', 'CB', 'OG', 'N', 'CA', 'C', 'O', 'CB', 'CG', 'OD1', 'ND2', 'N', 'CA', 'C', 'O', 'CB', 'CG', 'CD', 'OE1', 'NE2', 'N', 'CA', 'C', 'O', 'CB', 'CG', 'OD1', 'ND2', 'N', 'CA', 'C', 'O', 'CB', 'CG', 'OD1', 'ND2', 'N', 'CA', 'C', 'O', 'CB', 'CG', 'CD1', 'CD2', 'CE1', 'CE2', 'CZ', 'OXT', 'O', 'O', 'O', 'O', 'O']]}), ('_pdbx_poly_seq_scheme', {'col_names': ['asym_id', 'entity_id', 'seq_id', 'mon_id', 'ndb_seq_num', 'pdb_seq_num', 'auth_seq_num', 'pdb_mon_id', 'auth_mon_id', 'pdb_strand_id', 'pdb_ins_code', 'hetero'], 'value': [['A', 'A', 'A', 'A', 'A', 'A'], ['1', '1', '1', '1', '1', '1'], ['1', '2', '3', '4', '5', '6'], ['SER', 'ASN', 'GLN', 'ASN', 'ASN', 'PHE'], ['1', '2', '3', '4', '5', '6'], ['1', '2', '3', '4', '5', '6'], ['1', '2', '3', '4', '5', '6'], ['SER', 'ASN', 'GLN', 'ASN', 'ASN', 'PHE'], ['SER', 'ASN', 'GLN', 'ASN', 'ASN', 'PHE'], ['A', 'A', 'A', 'A', 'A', 'A'], ['.', '.', '.', '.', '.', '.'], ['n', 'n', 'n', 'n', 'n', 'n']]}), ('_pdbx_nonpoly_scheme', {'col_names': ['asym_id', 'entity_id', 'mon_id', 'ndb_seq_num', 'pdb_seq_num', 'auth_seq_num', 'pdb_mon_id', 'auth_mon_id', 'pdb_strand_id', 'pdb_ins_code'], 'value': [['B', 'B', 'B', 'B', 'B'], ['2', '2', '2', '2', '2'], ['HOH', 'HOH', 'HOH', 'HOH', 'HOH'], ['1', '2', '3', '4', '5'], ['7', '8', '9', '10', '11'], ['1', '2', '3', '4', '5'], ['HOH', 'HOH', 'HOH', 'HOH', 'HOH'], ['HOH', 'HOH', 'HOH', 'HOH', 'HOH'], ['A', 'A', 'A', 'A', 'A'], ['.', '.', '.', '.', '.']]}), ('_pdbx_struct_assembly', OrderedDict([('id', '1'), ('details', 'author_defined_assembly'), ('method_details', '?'), ('oligomeric_details', 'dimeric'), ('oligomeric_count', '2')])), ('_pdbx_struct_assembly_gen', OrderedDict([('assembly_id', '1'), ('oper_expression', '1,2'), ('asym_id_list', 'A,B')])), ('_pdbx_struct_oper_list', {'col_names': ['id', 'type', 'name', 'symmetry_operation', 'matrix[1][1]', 'matrix[1][2]', 'matrix[1][3]', 'vector[1]', 'matrix[2][1]', 'matrix[2][2]', 'matrix[2][3]', 'vector[2]', 'matrix[3][1]', 'matrix[3][2]', 'matrix[3][3]', 'vector[3]'], 'value': [['1', '2'], [\"'identity operation'\", \"'crystal symmetry operation'\"], ['1_555', '1_565'], ['x,y,z', 'x,y+1,z'], ['1.0000000000', '1.0000000000'], ['0.0000000000', '0.0000000000'], ['0.0000000000', '0.0000000000'], ['0.0000000000', '0.9401502764'], ['0.0000000000', '0.0000000000'], ['1.0000000000', '1.0000000000'], ['0.0000000000', '0.0000000000'], ['0.0000000000', '4.7875628934'], ['0.0000000000', '0.0000000000'], ['0.0000000000', '0.0000000000'], ['1.0000000000', '1.0000000000'], ['0.0000000000', '0.0000000000']]}), ('_pdbx_audit_revision_history', {'col_names': ['ordinal', 'data_content_type', 'major_revision', 'minor_revision', 'revision_date'], 'value': [['1', '2', '3', '4', '5'], [\"'Structure model'\", \"'Structure model'\", \"'Structure model'\", \"'Structure model'\", \"'Structure model'\"], ['1', '1', '1', '1', '1'], ['0', '1', '2', '3', '4'], ['2007-01-30', '2008-05-01', '2011-07-13', '2017-10-18', '2018-01-24']]}), ('_pdbx_audit_revision_details', OrderedDict([('ordinal', '1'), ('revision_ordinal', '1'), ('data_content_type', \"'Structure model'\"), ('provider', 'repository'), ('type', \"'Initial release'\"), ('description', '?')])), ('_pdbx_audit_revision_group', {'col_names': ['ordinal', 'revision_ordinal', 'data_content_type', 'group'], 'value': [['1', '2', '3', '4'], ['2', '3', '4', '5'], [\"'Structure model'\", \"'Structure model'\", \"'Structure model'\", \"'Structure model'\"], [\"'Version format compliance'\", \"'Version format compliance'\", \"'Refinement description'\", \"'Structure summary'\"]]}), ('_pdbx_audit_revision_category', {'col_names': ['ordinal', 'revision_ordinal', 'data_content_type', 'category'], 'value': [['1', '2'], ['4', '5'], [\"'Structure model'\", \"'Structure model'\"], ['software', 'audit_author']]}), ('_pdbx_audit_revision_item', OrderedDict([('ordinal', '1'), ('revision_ordinal', '5'), ('data_content_type', \"'Structure model'\"), ('item', \"'_audit_author.name'\")])), ('_diffrn_reflns', OrderedDict([('diffrn_id', '1'), ('pdbx_d_res_high', '0.850'), ('pdbx_d_res_low', '90.000'), ('pdbx_number_obs', '2681'), ('pdbx_Rmerge_I_obs', '0.036'), ('pdbx_Rsym_value', '?'), ('pdbx_chi_squared', '1.20'), ('av_sigmaI_over_netI', '48.70'), ('pdbx_redundancy', '3.60'), ('pdbx_percent_possible_obs', '82.10'), ('number', '9598'), ('pdbx_observed_criterion', '?'), ('limit_h_max', '?'), ('limit_h_min', '?'), ('limit_k_max', '?'), ('limit_k_min', '?'), ('limit_l_max', '?'), ('limit_l_min', '?')])), ('_pdbx_diffrn_reflns_shell', {'col_names': ['diffrn_id', 'd_res_high', 'd_res_low', 'number_obs', 'rejects', 'Rmerge_I_obs', 'Rsym_value', 'chi_squared', 'redundancy', 'percent_possible_obs'], 'value': [['1', '1', '1', '1', '1', '1', '1', '1', '1', '1'], ['1.83', '1.45', '1.27', '1.15', '1.07', '1.01', '0.96', '0.92', '0.88', '0.85'], ['90.00', '1.83', '1.45', '1.27', '1.15', '1.07', '1.01', '0.96', '0.92', '0.88'], ['?', '?', '?', '?', '?', '?', '?', '?', '?', '?'], ['?', '?', '?', '?', '?', '?', '?', '?', '?', '?'], ['0.027', '0.034', '0.037', '0.040', '0.036', '0.048', '0.055', '0.067', '0.078', '0.078'], ['?', '?', '?', '?', '?', '?', '?', '?', '?', '?'], ['1.070', '1.186', '1.150', '1.166', '1.143', '1.387', '1.196', '1.301', '1.200', '1.139'], ['3.80', '3.70', '3.80', '3.80', '3.70', '3.80', '3.60', '3.30', '2.70', '2.30'], ['96.00', '93.10', '100.00', '85.50', '90.20', '99.70', '92.40', '79.50', '51.90', '33.50']]}), ('_software', {'col_names': ['name', 'version', 'date', 'type', 'contact_author', 'contact_author_email', 'classification', 'location', 'language', 'citation_id', 'pdbx_ordinal'], 'value': [['DENZO', 'SCALEPACK', 'PHASER', 'REFMAC', 'PDB_EXTRACT', 'BOS'], ['.', '.', '.', '.', '2.000', '.'], ['?', '?', '?', '?', \"'April. 3, 2006'\", '?'], ['package', 'package', 'other', 'program', 'package', '?'], [\"'Zbyszek Otwinowski'\", \"'Zbyszek Otwinowski'\", \"'R. J. Read'\", \"'Murshudov, G.N.'\", 'PDB', '?'], ['zbyszek@mix.swmed.edu', 'zbyszek@mix.swmed.edu', 'cimr-phaser@lists.cam.ac.uk', 'ccp4@dl.ac.uk', 'sw-help@rcsb.rutgers.edu', '?'], [\"'data reduction'\", \"'data scaling'\", 'phasing', 'refinement', \"'data extraction'\", \"'data collection'\"], ['http://www.lnls.br/infra/linhasluz/denzo-hkl.htm', 'http://www.lnls.br/infra/linhasluz/denzo-hkl.htm', 'http://www-structmed.cimr.cam.ac.uk/phaser/', 'http://www.ccp4.ac.uk/main.html', 'http://pdb.rutgers.edu/software/', '?'], ['?', '?', '?', 'Fortran_77', 'C++', '?'], ['?', '?', '?', '?', '?', '?'], ['1', '2', '3', '4', '5', '6']]}), ('_pdbx_entity_nonpoly', OrderedDict([('entity_id', '2'), ('name', 'water'), ('comp_id', 'HOH')]))])\n"
     ]
    }
   ],
   "source": [
    "\n",
    "test = Coor('src/pdb_numpy/tests/input/2ol9.cif')\n",
    "print(test.crystal_pack)\n",
    "print(test.data_mmCIF)\n",
    "\n",
    "test.write(\"test.pdb\", check_file_out=False)\n"
   ]
  },
  {
   "cell_type": "code",
   "execution_count": 14,
   "metadata": {},
   "outputs": [
    {
     "data": {
      "text/plain": [
       "{1: {'chains': ['A'],\n",
       "  'matrix': [[1.0, 1.0, 0.0, 0.0, 0.0],\n",
       "   [1.0, 0.0, 1.0, 0.0, 0.0],\n",
       "   [1.0, 0.0, 0.0, 1.0, 0.0],\n",
       "   [2.0, 1.0, 0.0, 0.0, 0.94015],\n",
       "   [2.0, 0.0, 1.0, 0.0, 4.78756],\n",
       "   [2.0, 0.0, 0.0, 1.0, 0.0]]}}"
      ]
     },
     "execution_count": 14,
     "metadata": {},
     "output_type": "execute_result"
    }
   ],
   "source": [
    "def pdb_parse_transformation(text):\n",
    "    \"\"\"Parse the `REMARK 350   BIOMT` information from a pdb file.\n",
    "\n",
    "    Parameters\n",
    "    ----------\n",
    "    text : str\n",
    "        pdb file\n",
    "\n",
    "    Returns\n",
    "    -------\n",
    "    symetry_dict : dict\n",
    "        symetry information\n",
    "    \"\"\"\n",
    "\n",
    "    transformation_dict = {}\n",
    "\n",
    "    for line in text.split(\"\\n\"):\n",
    "        if line[11:23] == \"BIOMOLECULE:\":\n",
    "            biomol = int(line[24:])\n",
    "            transformation_dict[biomol] = {\"chains\": [], \"matrix\": []}\n",
    "        elif line[34:41] == \"CHAINS:\":\n",
    "            transformation_dict[biomol][\"chains\"] += line[42:].split()\n",
    "        elif line.startswith(\"REMARK 350   BIOMT\"):\n",
    "            transformation_dict[biomol][\"matrix\"] += [\n",
    "                [float(x) for x in line[19:].split()]\n",
    "            ]\n",
    "\n",
    "    return transformation_dict\n",
    "\n",
    "txt = \"\"\"REMARK 350                                                                      \n",
    "REMARK 350 COORDINATES FOR A COMPLETE MULTIMER REPRESENTING THE KNOWN           \n",
    "REMARK 350 BIOLOGICALLY SIGNIFICANT OLIGOMERIZATION STATE OF THE                \n",
    "REMARK 350 MOLECULE CAN BE GENERATED BY APPLYING BIOMT TRANSFORMATIONS          \n",
    "REMARK 350 GIVEN BELOW.  BOTH NON-CRYSTALLOGRAPHIC AND                          \n",
    "REMARK 350 CRYSTALLOGRAPHIC OPERATIONS ARE GIVEN.                               \n",
    "REMARK 350                                                                      \n",
    "REMARK 350 BIOMOLECULE: 1                                                       \n",
    "REMARK 350 AUTHOR DETERMINED BIOLOGICAL UNIT: DIMERIC                           \n",
    "REMARK 350 APPLY THE FOLLOWING TO CHAINS: A                                     \n",
    "REMARK 350   BIOMT1   1  1.000000  0.000000  0.000000        0.00000            \n",
    "REMARK 350   BIOMT2   1  0.000000  1.000000  0.000000        0.00000            \n",
    "REMARK 350   BIOMT3   1  0.000000  0.000000  1.000000        0.00000            \n",
    "REMARK 350   BIOMT1   2  1.000000  0.000000  0.000000        0.94015            \n",
    "REMARK 350   BIOMT2   2  0.000000  1.000000  0.000000        4.78756            \n",
    "REMARK 350   BIOMT3   2  0.000000  0.000000  1.000000        0.00000\"\"\"\n",
    "\n",
    "pdb_parse_transformation(txt)"
   ]
  },
  {
   "cell_type": "code",
   "execution_count": 16,
   "metadata": {},
   "outputs": [],
   "source": [
    "\n",
    "def parse_transformation(data_mmCIF):\n",
    "    \"\"\"Parse the `_pdbx_struct_oper_list` information from a mmcif file.\n",
    "\n",
    "    Parameters\n",
    "    ----------\n",
    "    pdbx_struct_oper_list : dict\n",
    "        mmcif file information\n",
    "\n",
    "    Returns\n",
    "    -------\n",
    "    symetry_dict : dict\n",
    "        symetry information\n",
    "    \"\"\"\n",
    "\n",
    "    print(data_mmCIF['_pdbx_struct_assembly'])\n",
    "    print(data_mmCIF['_pdbx_struct_assembly_gen'])\n",
    "    print(data_mmCIF['_pdbx_struct_oper_list'])\n",
    "\n",
    "    transformation_dict = {}\n",
    "\n",
    "    return transformation_dict\n"
   ]
  },
  {
   "cell_type": "code",
   "execution_count": 17,
   "metadata": {},
   "outputs": [
    {
     "name": "stdout",
     "output_type": "stream",
     "text": [
      "OrderedDict([('id', '1'), ('details', 'author_defined_assembly'), ('method_details', '?'), ('oligomeric_details', 'dimeric'), ('oligomeric_count', '2')])\n",
      "OrderedDict([('assembly_id', '1'), ('oper_expression', '1,2'), ('asym_id_list', 'A,B')])\n",
      "{'col_names': ['id', 'type', 'name', 'symmetry_operation', 'matrix[1][1]', 'matrix[1][2]', 'matrix[1][3]', 'vector[1]', 'matrix[2][1]', 'matrix[2][2]', 'matrix[2][3]', 'vector[2]', 'matrix[3][1]', 'matrix[3][2]', 'matrix[3][3]', 'vector[3]'], 'value': [['1', '2'], [\"'identity operation'\", \"'crystal symmetry operation'\"], ['1_555', '1_565'], ['x,y,z', 'x,y+1,z'], ['1.0000000000', '1.0000000000'], ['0.0000000000', '0.0000000000'], ['0.0000000000', '0.0000000000'], ['0.0000000000', '0.9401502764'], ['0.0000000000', '0.0000000000'], ['1.0000000000', '1.0000000000'], ['0.0000000000', '0.0000000000'], ['0.0000000000', '4.7875628934'], ['0.0000000000', '0.0000000000'], ['0.0000000000', '0.0000000000'], ['1.0000000000', '1.0000000000'], ['0.0000000000', '0.0000000000']]}\n"
     ]
    },
    {
     "data": {
      "text/plain": [
       "{}"
      ]
     },
     "execution_count": 17,
     "metadata": {},
     "output_type": "execute_result"
    }
   ],
   "source": [
    "parse_transformation(test.data_mmCIF)"
   ]
  },
  {
   "cell_type": "code",
   "execution_count": null,
   "metadata": {},
   "outputs": [],
   "source": [
    "\n",
    "assert test.len == 56\n",
    "# Here there is only identity matrix\n",
    "# as symmetry, so no change is expected\n",
    "test.add_symmetry()\n",
    "assert test.len == 56\n",
    "test.apply_transformation()\n",
    "assert test.len == 112\n",
    "test.copy_box(3, 3, 3)\n",
    "assert test.len == 3024\n",
    "test.compute_chains_CA()\n",
    "test.remove_overlap_chain()\n",
    "assert test.len == 3024\n",
    "\n",
    "test.write(\"test.pdb\", check_file_out=False)\n"
   ]
  },
  {
   "cell_type": "code",
   "execution_count": 3,
   "metadata": {},
   "outputs": [],
   "source": [
    "test.write('tmp.pdb', check_file_out=False)"
   ]
  },
  {
   "cell_type": "code",
   "execution_count": 4,
   "metadata": {},
   "outputs": [],
   "source": [
    "test_2 = Coor('tmp.pdb')\n",
    "test_2.write('tmp2.gro', check_file_out=False)"
   ]
  },
  {
   "cell_type": "code",
   "execution_count": 4,
   "metadata": {},
   "outputs": [
    {
     "name": "stdout",
     "output_type": "stream",
     "text": [
      "Add symmetry 1\n",
      "0\n",
      "1\n",
      "Add transformation 1\n",
      "2\n",
      "Add transformation 2\n"
     ]
    }
   ],
   "source": [
    "test.add_symmetry()\n",
    "test.apply_transformation(index=1)\n",
    "test.compute_chains_CA()\n",
    "test.write_pdb('tmp.pdb', check_file_out=False)"
   ]
  },
  {
   "cell_type": "code",
   "execution_count": 5,
   "metadata": {},
   "outputs": [
    {
     "data": {
      "text/plain": [
       "{'matrix': [[1.0, 1.0, 0.0, 0.0, 0.0],\n",
       "  [1.0, 0.0, 1.0, 0.0, 0.0],\n",
       "  [1.0, 0.0, 0.0, 1.0, 0.0],\n",
       "  [2.0, -1.0, 0.0, 0.0, 0.0],\n",
       "  [2.0, 0.0, 1.0, 0.0, 2.35],\n",
       "  [2.0, 0.0, 0.0, -1.0, 0.0]]}"
      ]
     },
     "execution_count": 5,
     "metadata": {},
     "output_type": "execute_result"
    }
   ],
   "source": [
    "test.symmetry"
   ]
  },
  {
   "cell_type": "code",
   "execution_count": 8,
   "metadata": {},
   "outputs": [
    {
     "data": {
      "text/plain": [
       "[<pdb_numpy.model.Model at 0x7f79dd6fbf50>]"
      ]
     },
     "execution_count": 8,
     "metadata": {},
     "output_type": "execute_result"
    }
   ],
   "source": [
    "test.models"
   ]
  },
  {
   "cell_type": "code",
   "execution_count": 6,
   "metadata": {},
   "outputs": [
    {
     "name": "stdout",
     "output_type": "stream",
     "text": [
      "{1: {'chains': ['A'], 'matrix': [[1.0, 1.0, 0.0, 0.0, 0.0], [1.0, 0.0, 1.0, 0.0, 0.0], [1.0, 0.0, 0.0, 1.0, 0.0], [2.0, 1.0, 0.0, 0.0, 0.0], [2.0, 0.0, 1.0, 0.0, 4.7], [2.0, 0.0, 0.0, 1.0, 0.0], [3.0, 1.0, 0.0, 0.0, 0.0], [3.0, 0.0, 1.0, 0.0, -4.7], [3.0, 0.0, 0.0, 1.0, 0.0]]}, 2: {'chains': ['A'], 'matrix': [[1.0, -1.0, 0.0, 0.0, 0.0], [1.0, 0.0, 1.0, 0.0, 2.35], [1.0, 0.0, 0.0, -1.0, 0.0], [2.0, -1.0, 0.0, 0.0, 0.0], [2.0, 0.0, 1.0, 0.0, 7.05], [2.0, 0.0, 0.0, -1.0, 0.0], [3.0, -1.0, 0.0, 0.0, 0.0], [3.0, 0.0, 1.0, 0.0, -2.35], [3.0, 0.0, 0.0, -1.0, 0.0]]}, 3: {'chains': ['A'], 'matrix': [[1.0, 1.0, 0.0, 0.0, 0.0], [1.0, 0.0, 1.0, 0.0, 0.0], [1.0, 0.0, 0.0, 1.0, 0.0]]}}\n"
     ]
    }
   ],
   "source": [
    "print(test.transformation)"
   ]
  },
  {
   "cell_type": "code",
   "execution_count": 22,
   "metadata": {},
   "outputs": [
    {
     "name": "stdout",
     "output_type": "stream",
     "text": [
      "{1: {'chains': ['A'], 'matrix': [[1.0, 1.0, 0.0, 0.0, 0.0], [1.0, 0.0, 1.0, 0.0, 0.0], [1.0, 0.0, 0.0, 1.0, 0.0], [2.0, 1.0, 0.0, 0.0, 0.0], [2.0, 0.0, 1.0, 0.0, 4.7], [2.0, 0.0, 0.0, 1.0, 0.0], [3.0, 1.0, 0.0, 0.0, 0.0], [3.0, 0.0, 1.0, 0.0, -4.7], [3.0, 0.0, 0.0, 1.0, 0.0]]}, 2: {'chains': ['A'], 'matrix': [[1.0, -1.0, 0.0, 0.0, 0.0], [1.0, 0.0, 1.0, 0.0, 2.35], [1.0, 0.0, 0.0, -1.0, 0.0], [2.0, -1.0, 0.0, 0.0, 0.0], [2.0, 0.0, 1.0, 0.0, 7.05], [2.0, 0.0, 0.0, -1.0, 0.0], [3.0, -1.0, 0.0, 0.0, 0.0], [3.0, 0.0, 1.0, 0.0, -2.35], [3.0, 0.0, 0.0, -1.0, 0.0]]}, 3: {'chains': ['A'], 'matrix': [[1.0, 1.0, 0.0, 0.0, 0.0], [1.0, 0.0, 1.0, 0.0, 0.0], [1.0, 0.0, 0.0, 1.0, 0.0]]}}\n"
     ]
    }
   ],
   "source": [
    "def parse_transformation(text):\n",
    "\n",
    "    transformation_dict = {}\n",
    "\n",
    "    for line in text.split('\\n'):\n",
    "        if line[11:23] == \"BIOMOLECULE:\":\n",
    "            biomol = int(line[24:])\n",
    "            transformation_dict[biomol] = {'chains': [], 'matrix': []}\n",
    "        elif line[34:41] == \"CHAINS:\":\n",
    "            transformation_dict[biomol]['chains'] += line[42:].split()\n",
    "        elif line.startswith('REMARK 350   BIOMT'):\n",
    "            transformation_dict[biomol]['matrix'] += [[float(x) for x in line[19:].split()]]\n",
    "        #print(line, line[34:])\n",
    "    print(transformation_dict)\n",
    "\n",
    "\n",
    "parse_transformation(test.transformation)"
   ]
  },
  {
   "cell_type": "code",
   "execution_count": 34,
   "metadata": {},
   "outputs": [],
   "source": [
    "test.models.append(deepcopy(test.models[0]))\n",
    "test.models.append(deepcopy(test.models[0]))"
   ]
  },
  {
   "cell_type": "code",
   "execution_count": 4,
   "metadata": {},
   "outputs": [
    {
     "name": "stdout",
     "output_type": "stream",
     "text": [
      "[[-1.0 0.0 0.0 0.0]\n",
      " [0.0 1.0 0.0 7.05]\n",
      " [0.0 0.0 -1.0 0.0]]\n",
      "[[-1.0 0.0 0.0 0.0]\n",
      " [0.0 1.0 0.0 -2.35]\n",
      " [0.0 0.0 -1.0 0.0]]\n"
     ]
    }
   ],
   "source": [
    "text = \\\n",
    "\"\"\"REMARK 350   BIOMT1   2 -1.000000  0.000000  0.000000        0.00000            \n",
    "REMARK 350   BIOMT2   2  0.000000  1.000000  0.000000        7.05000            \n",
    "REMARK 350   BIOMT3   2  0.000000  0.000000 -1.000000        0.00000\"\"\"\n",
    "\n",
    "rot_mat = []\n",
    "\n",
    "for line in text.split(\"\\n\"):\n",
    "    rot_mat.append([float(x) for x in line.split()[4:]])\n",
    "\n",
    "rot_mat = np.array(rot_mat, dtype=object)\n",
    "print(rot_mat)\n",
    "\n",
    "text = \\\n",
    "\"\"\"REMARK 350   BIOMT1   3 -1.000000  0.000000  0.000000        0.00000            \n",
    "REMARK 350   BIOMT2   3  0.000000  1.000000  0.000000       -2.35000            \n",
    "REMARK 350   BIOMT3   3  0.000000  0.000000 -1.000000        0.00000\"\"\"\n",
    "\n",
    "rot_mat_2 = []\n",
    "\n",
    "for line in text.split(\"\\n\"):\n",
    "    rot_mat_2.append([float(x) for x in line.split()[4:]])\n",
    "\n",
    "rot_mat_2 = np.array(rot_mat_2, dtype=object)\n",
    "print(rot_mat_2)"
   ]
  },
  {
   "cell_type": "code",
   "execution_count": 21,
   "metadata": {},
   "outputs": [
    {
     "data": {
      "text/plain": [
       "array([[-1.0, 0.0, 0.0],\n",
       "       [0.0, 1.0, 0.0],\n",
       "       [0.0, 0.0, -1.0]], dtype=object)"
      ]
     },
     "execution_count": 21,
     "metadata": {},
     "output_type": "execute_result"
    }
   ],
   "source": [
    "rot_mat[:,:3]"
   ]
  },
  {
   "cell_type": "code",
   "execution_count": 36,
   "metadata": {},
   "outputs": [],
   "source": [
    "test.models[1].xyz = np.dot(test.models[0].xyz, rot_mat[:,:3]) + rot_mat[:,3]\n",
    "test.models[2].xyz = np.dot(test.models[0].xyz, rot_mat_2[:,:3]) + rot_mat_2[:,3]"
   ]
  },
  {
   "cell_type": "code",
   "execution_count": 37,
   "metadata": {},
   "outputs": [],
   "source": [
    "test.merge_model()\n",
    "test.write_pdb('tmp.pdb', check_file_out=False)"
   ]
  },
  {
   "cell_type": "code",
   "execution_count": 25,
   "metadata": {},
   "outputs": [
    {
     "data": {
      "text/plain": [
       "'/home/murail/Documents/Code/pdb_numpy'"
      ]
     },
     "execution_count": 25,
     "metadata": {},
     "output_type": "execute_result"
    }
   ],
   "source": [
    "pwd"
   ]
  },
  {
   "cell_type": "code",
   "execution_count": null,
   "metadata": {},
   "outputs": [],
   "source": []
  }
 ],
 "metadata": {
  "kernelspec": {
   "display_name": "Python 3 (ipykernel)",
   "language": "python",
   "name": "python3"
  },
  "language_info": {
   "codemirror_mode": {
    "name": "ipython",
    "version": 3
   },
   "file_extension": ".py",
   "mimetype": "text/x-python",
   "name": "python",
   "nbconvert_exporter": "python",
   "pygments_lexer": "ipython3",
   "version": "3.7.12"
  },
  "vscode": {
   "interpreter": {
    "hash": "dc5fd0b0b4d49cea06c0f571c9f39583c8bfc63b53b50b04d68f5ab1c4afee79"
   }
  }
 },
 "nbformat": 4,
 "nbformat_minor": 2
}

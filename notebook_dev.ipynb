{
 "cells": [
  {
   "cell_type": "code",
   "execution_count": 1,
   "metadata": {},
   "outputs": [],
   "source": [
    "import sys\n",
    "import importlib\n",
    "import logging\n",
    "import numpy as np\n",
    "\n",
    "sys.path.append(\"./src/\")\n",
    "import pdb_numpy\n",
    "import pdb_numpy.alignement as alignement\n",
    "import pdb_numpy.DSSP as DSSP\n"
   ]
  },
  {
   "cell_type": "code",
   "execution_count": 2,
   "metadata": {},
   "outputs": [],
   "source": [
    "test = pdb_numpy.Coor(pdb_id=\"3eam\")\n",
    "test.write_pdb(\"./tmp.pdb\", check_file_out=False)\n"
   ]
  },
  {
   "cell_type": "code",
   "execution_count": 3,
   "metadata": {},
   "outputs": [
    {
     "name": "stdout",
     "output_type": "stream",
     "text": [
      "Adding NH\n",
      "NH added\n"
     ]
    }
   ],
   "source": [
    "print('Adding NH')\n",
    "DSSP.add_NH(test)\n",
    "print('NH added')"
   ]
  },
  {
   "cell_type": "code",
   "execution_count": 3,
   "metadata": {},
   "outputs": [],
   "source": [
    "# run dssp:\n",
    "# sudo apt install dssp\n",
    "# time dssp -i tmp.pdb -o tmp_dssp.txt\n",
    "\n",
    "with open(\"./tmp_dssp.txt\") as f:\n",
    "    lines = f.readlines()\n",
    "\n",
    "start_read = False\n",
    "dssp_seq = \"\"\n",
    "for line in lines:\n",
    "    if line.startswith(\"  #  RESIDUE AA STRUCTURE BP1 BP2  ACC\"):\n",
    "        start_read = True\n",
    "        continue\n",
    "    if start_read and line[13] != \"!\":\n",
    "        dssp_seq += line[16]\n"
   ]
  },
  {
   "cell_type": "code",
   "execution_count": 5,
   "metadata": {},
   "outputs": [
    {
     "name": "stdout",
     "output_type": "stream",
     "text": [
      "989 ms ± 109 ms per loop (mean ± std. dev. of 7 runs, 1 loop each)\n"
     ]
    }
   ],
   "source": [
    "%timeit DSSP.add_NH(test)"
   ]
  },
  {
   "cell_type": "code",
   "execution_count": 7,
   "metadata": {},
   "outputs": [
    {
     "name": "stdout",
     "output_type": "stream",
     "text": [
      "36.4 ms ± 1.98 ms per loop (mean ± std. dev. of 7 runs, 10 loops each)\n"
     ]
    }
   ],
   "source": [
    "%timeit DSSP.get_NH_xyz(test)"
   ]
  },
  {
   "cell_type": "code",
   "execution_count": 5,
   "metadata": {},
   "outputs": [
    {
     "name": "stdout",
     "output_type": "stream",
     "text": [
      "867 ms ± 40.4 ms per loop (mean ± std. dev. of 7 runs, 1 loop each)\n"
     ]
    }
   ],
   "source": [
    "%timeit SS_list = DSSP.compute_DSSP(test)"
   ]
  },
  {
   "cell_type": "code",
   "execution_count": 7,
   "metadata": {},
   "outputs": [],
   "source": [
    "%load_ext line_profiler"
   ]
  },
  {
   "cell_type": "code",
   "execution_count": 9,
   "metadata": {},
   "outputs": [
    {
     "name": "stdout",
     "output_type": "stream",
     "text": [
      "Timer unit: 1e-09 s\n",
      "\n",
      "Total time: 0.444893 s\n",
      "File: ./src/pdb_numpy/DSSP.py\n",
      "Function: compute_Hbond_matrix at line 203\n",
      "\n",
      "Line #      Hits         Time  Per Hit   % Time  Line Contents\n",
      "==============================================================\n",
      "   203                                           def compute_Hbond_matrix(model):\n",
      "   204                                               \"\"\"Compute Hbond matrix for a protein.\n",
      "   205                                               \"\"\"\n",
      "   206         1       1518.0   1518.0      0.0      cutoff = 8.0\n",
      "   207                                           \n",
      "   208         1    5134739.0 5134739.0      1.2      CA_array = model.select_atoms(\"protein and name CA and not altloc B C D E\").xyz\n",
      "   209         1       2211.0   2211.0      0.0      n_res = len(CA_array)\n",
      "   210                                           \n",
      "   211         1   87669937.0 87669937.0     19.7      dist_mat = distance_matrix(CA_array, CA_array)\n",
      "   212         1    1114830.0 1114830.0      0.3      Hbond_mat = np.zeros_like(dist_mat, dtype=bool)\n",
      "   213                                           \n",
      "   214         1    1902725.0 1902725.0      0.4      O_array = model.select_atoms(\"protein and name O and not altloc B C D E\").xyz\n",
      "   215         1    1455376.0 1455376.0      0.3      N_array = model.select_atoms(\"protein and name N and not altloc B C D E\").xyz\n",
      "   216         1    1450244.0 1450244.0      0.3      C_array = model.select_atoms(\"protein and name C and not altloc B C D E\").xyz\n",
      "   217         1   38921280.0 38921280.0      8.7      H_array = get_NH_xyz(model)\n",
      "   218                                           \n",
      "   219         1       1404.0   1404.0      0.0      assert len(O_array) == n_res\n",
      "   220         1        608.0    608.0      0.0      assert len(N_array) == n_res\n",
      "   221         1        266.0    266.0      0.0      assert len(C_array) == n_res\n",
      "   222         1        198.0    198.0      0.0      assert len(H_array) == n_res\n",
      "   223                                           \n",
      "   224                                               # Get indexes to check\n",
      "   225         1    1912089.0 1912089.0      0.4      mask = dist_mat < cutoff\n",
      "   226                                               # Remove lower triangle and i, i+1 (k=1)\n",
      "   227         1   12439420.0 12439420.0      2.8      mask[np.tril_indices_from(mask, k=1)] = False\n",
      "   228         1    3728343.0 3728343.0      0.8      indexes = np.argwhere(mask)\n",
      "   229                                           \n",
      "   230      5993    7355771.0   1227.4      1.7      for i, j in indexes:\n",
      "   231                                           \n",
      "   232      5993    2186506.0    364.8      0.5          O_i = O_array[i]\n",
      "   233      5993    1553152.0    259.2      0.3          C_i = C_array[i]\n",
      "   234      5993    1530652.0    255.4      0.3          N_i = N_array[i]\n",
      "   235      5993    1502410.0    250.7      0.3          H_i = H_array[i]\n",
      "   236                                           \n",
      "   237      5993    1494576.0    249.4      0.3          O_j = O_array[j]\n",
      "   238      5993    1491519.0    248.9      0.3          C_j = C_array[j]\n",
      "   239      5993    1573239.0    262.5      0.4          N_j = N_array[j]\n",
      "   240      5993    1522318.0    254.0      0.3          H_j = H_array[j]\n",
      "   241                                           \n",
      "   242                                                   # Compute HBond energies\n",
      "   243      5720    1439878.0    251.7      0.3          if H_j[0] is not None:\n",
      "   244      5720  133224004.0  23290.9     29.9              energy = hbond_energy(N_j, H_j, O_i, C_i)\n",
      "   245      4734    1430609.0    302.2      0.3              if energy < -0.5:\n",
      "   246       986     491858.0    498.8      0.1                  Hbond_mat[i, j] = True\n",
      "   247                                           \n",
      "   248      5621    1676827.0    298.3      0.4          if H_i[0] is not None:\n",
      "   249      5621  129007714.0  22951.0     29.0              energy = hbond_energy(N_i, H_i, O_j, C_j)\n",
      "   250      5387    1559743.0    289.5      0.4              if energy < -0.5:\n",
      "   251       234     117009.0    500.0      0.0                  Hbond_mat[j, i] = True\n",
      "   252                                           \n",
      "   253         1        124.0    124.0      0.0      return Hbond_mat"
     ]
    }
   ],
   "source": [
    "%lprun -f DSSP.compute_Hbond_matrix DSSP.compute_DSSP(test)"
   ]
  },
  {
   "cell_type": "code",
   "execution_count": 14,
   "metadata": {},
   "outputs": [
    {
     "data": {
      "text/plain": [
       "3"
      ]
     },
     "execution_count": 14,
     "metadata": {},
     "output_type": "execute_result"
    }
   ],
   "source": [
    "test = np.array([1, 2, 3, 4, 5, 6, 7, 8, 9, 10])\n",
    "np.where(test == 4)[0][0]"
   ]
  },
  {
   "cell_type": "code",
   "execution_count": 2,
   "metadata": {},
   "outputs": [],
   "source": [
    "pdb_numpy.show_log()"
   ]
  },
  {
   "cell_type": "code",
   "execution_count": 3,
   "metadata": {},
   "outputs": [
    {
     "data": {
      "text/plain": [
       "<module 'pdb_numpy' from './src/pdb_numpy/__init__.py'>"
      ]
     },
     "execution_count": 3,
     "metadata": {},
     "output_type": "execute_result"
    }
   ],
   "source": [
    "importlib.reload(pdb_numpy)"
   ]
  },
  {
   "cell_type": "code",
   "execution_count": 4,
   "metadata": {},
   "outputs": [
    {
     "name": "stdout",
     "output_type": "stream",
     "text": [
      "Succeed to read file src/pdb_numpy/tests/input/2rri.pdb \n",
      "479 atoms found\n"
     ]
    }
   ],
   "source": [
    "test = pdb_numpy.Coor('./src/pdb_numpy/tests/input/2rri.pdb')"
   ]
  },
  {
   "cell_type": "code",
   "execution_count": 5,
   "metadata": {},
   "outputs": [
    {
     "data": {
      "text/plain": [
       "'CRYST1    1.000    1.000    1.000  90.00  90.00  90.00 P 1           1          \\n'"
      ]
     },
     "execution_count": 5,
     "metadata": {},
     "output_type": "execute_result"
    }
   ],
   "source": [
    "test.crystal_pack"
   ]
  },
  {
   "cell_type": "code",
   "execution_count": 6,
   "metadata": {},
   "outputs": [
    {
     "data": {
      "text/plain": [
       "array([b'HIS', b'HIS', b'HIS', b'HIS', b'HIS', b'HIS', b'HIS', b'HIS',\n",
       "       b'HIS', b'HIS', b'HIS', b'HIS', b'HIS', b'HIS', b'HIS', b'HIS',\n",
       "       b'HIS', b'HIS', b'SER', b'SER', b'SER', b'SER', b'SER', b'SER',\n",
       "       b'SER', b'SER', b'SER', b'SER', b'SER', b'ASP', b'ASP', b'ASP',\n",
       "       b'ASP', b'ASP', b'ASP', b'ASP', b'ASP', b'ASP', b'ASP', b'ASP',\n",
       "       b'ASP', b'ALA', b'ALA', b'ALA', b'ALA', b'ALA', b'ALA', b'ALA',\n",
       "       b'ALA', b'ALA', b'ALA', b'VAL', b'VAL', b'VAL', b'VAL', b'VAL',\n",
       "       b'VAL', b'VAL', b'VAL', b'VAL', b'VAL', b'VAL', b'VAL', b'VAL',\n",
       "       b'VAL', b'VAL', b'VAL', b'PHE', b'PHE', b'PHE', b'PHE', b'PHE',\n",
       "       b'PHE', b'PHE', b'PHE', b'PHE', b'PHE', b'PHE', b'PHE', b'PHE',\n",
       "       b'PHE', b'PHE', b'PHE', b'PHE', b'PHE', b'PHE', b'PHE', b'THR',\n",
       "       b'THR', b'THR', b'THR', b'THR', b'THR', b'THR', b'THR', b'THR',\n",
       "       b'THR', b'THR', b'THR', b'THR', b'THR', b'ASP', b'ASP', b'ASP',\n",
       "       b'ASP', b'ASP', b'ASP', b'ASP', b'ASP', b'ASP', b'ASP', b'ASP',\n",
       "       b'ASP', b'ASN', b'ASN', b'ASN', b'ASN', b'ASN', b'ASN', b'ASN',\n",
       "       b'ASN', b'ASN', b'ASN', b'ASN', b'ASN', b'ASN', b'ASN', b'TYR',\n",
       "       b'TYR', b'TYR', b'TYR', b'TYR', b'TYR', b'TYR', b'TYR', b'TYR',\n",
       "       b'TYR', b'TYR', b'TYR', b'TYR', b'TYR', b'TYR', b'TYR', b'TYR',\n",
       "       b'TYR', b'TYR', b'TYR', b'TYR', b'THR', b'THR', b'THR', b'THR',\n",
       "       b'THR', b'THR', b'THR', b'THR', b'THR', b'THR', b'THR', b'THR',\n",
       "       b'THR', b'THR', b'ARG', b'ARG', b'ARG', b'ARG', b'ARG', b'ARG',\n",
       "       b'ARG', b'ARG', b'ARG', b'ARG', b'ARG', b'ARG', b'ARG', b'ARG',\n",
       "       b'ARG', b'ARG', b'ARG', b'ARG', b'ARG', b'ARG', b'ARG', b'ARG',\n",
       "       b'ARG', b'ARG', b'LEU', b'LEU', b'LEU', b'LEU', b'LEU', b'LEU',\n",
       "       b'LEU', b'LEU', b'LEU', b'LEU', b'LEU', b'LEU', b'LEU', b'LEU',\n",
       "       b'LEU', b'LEU', b'LEU', b'LEU', b'LEU', b'ARG', b'ARG', b'ARG',\n",
       "       b'ARG', b'ARG', b'ARG', b'ARG', b'ARG', b'ARG', b'ARG', b'ARG',\n",
       "       b'ARG', b'ARG', b'ARG', b'ARG', b'ARG', b'ARG', b'ARG', b'ARG',\n",
       "       b'ARG', b'ARG', b'ARG', b'ARG', b'ARG', b'LYS', b'LYS', b'LYS',\n",
       "       b'LYS', b'LYS', b'LYS', b'LYS', b'LYS', b'LYS', b'LYS', b'LYS',\n",
       "       b'LYS', b'LYS', b'LYS', b'LYS', b'LYS', b'LYS', b'LYS', b'LYS',\n",
       "       b'LYS', b'LYS', b'LYS', b'GLN', b'GLN', b'GLN', b'GLN', b'GLN',\n",
       "       b'GLN', b'GLN', b'GLN', b'GLN', b'GLN', b'GLN', b'GLN', b'GLN',\n",
       "       b'GLN', b'GLN', b'GLN', b'GLN', b'MET', b'MET', b'MET', b'MET',\n",
       "       b'MET', b'MET', b'MET', b'MET', b'MET', b'MET', b'MET', b'MET',\n",
       "       b'MET', b'MET', b'MET', b'MET', b'MET', b'ALA', b'ALA', b'ALA',\n",
       "       b'ALA', b'ALA', b'ALA', b'ALA', b'ALA', b'ALA', b'ALA', b'VAL',\n",
       "       b'VAL', b'VAL', b'VAL', b'VAL', b'VAL', b'VAL', b'VAL', b'VAL',\n",
       "       b'VAL', b'VAL', b'VAL', b'VAL', b'VAL', b'VAL', b'VAL', b'LYS',\n",
       "       b'LYS', b'LYS', b'LYS', b'LYS', b'LYS', b'LYS', b'LYS', b'LYS',\n",
       "       b'LYS', b'LYS', b'LYS', b'LYS', b'LYS', b'LYS', b'LYS', b'LYS',\n",
       "       b'LYS', b'LYS', b'LYS', b'LYS', b'LYS', b'LYS', b'LYS', b'LYS',\n",
       "       b'LYS', b'LYS', b'LYS', b'LYS', b'LYS', b'LYS', b'LYS', b'LYS',\n",
       "       b'LYS', b'LYS', b'LYS', b'LYS', b'LYS', b'LYS', b'LYS', b'LYS',\n",
       "       b'LYS', b'LYS', b'LYS', b'TYR', b'TYR', b'TYR', b'TYR', b'TYR',\n",
       "       b'TYR', b'TYR', b'TYR', b'TYR', b'TYR', b'TYR', b'TYR', b'TYR',\n",
       "       b'TYR', b'TYR', b'TYR', b'TYR', b'TYR', b'TYR', b'TYR', b'TYR',\n",
       "       b'LEU', b'LEU', b'LEU', b'LEU', b'LEU', b'LEU', b'LEU', b'LEU',\n",
       "       b'LEU', b'LEU', b'LEU', b'LEU', b'LEU', b'LEU', b'LEU', b'LEU',\n",
       "       b'LEU', b'LEU', b'LEU', b'ASN', b'ASN', b'ASN', b'ASN', b'ASN',\n",
       "       b'ASN', b'ASN', b'ASN', b'ASN', b'ASN', b'ASN', b'ASN', b'ASN',\n",
       "       b'ASN', b'SER', b'SER', b'SER', b'SER', b'SER', b'SER', b'SER',\n",
       "       b'SER', b'SER', b'SER', b'SER', b'ILE', b'ILE', b'ILE', b'ILE',\n",
       "       b'ILE', b'ILE', b'ILE', b'ILE', b'ILE', b'ILE', b'ILE', b'ILE',\n",
       "       b'ILE', b'ILE', b'ILE', b'ILE', b'ILE', b'ILE', b'ILE', b'LEU',\n",
       "       b'LEU', b'LEU', b'LEU', b'LEU', b'LEU', b'LEU', b'LEU', b'LEU',\n",
       "       b'LEU', b'LEU', b'LEU', b'LEU', b'LEU', b'LEU', b'LEU', b'LEU',\n",
       "       b'LEU', b'LEU', b'ASN', b'ASN', b'ASN', b'ASN', b'ASN', b'ASN',\n",
       "       b'ASN', b'ASN', b'ASN', b'ASN', b'ASN', b'ASN', b'ASN', b'ASN',\n",
       "       b'GLY', b'GLY', b'GLY', b'GLY', b'GLY', b'GLY', b'GLY'],\n",
       "      dtype='|S4')"
      ]
     },
     "execution_count": 6,
     "metadata": {},
     "output_type": "execute_result"
    }
   ],
   "source": [
    "test.model[0].resname"
   ]
  },
  {
   "cell_type": "code",
   "execution_count": 7,
   "metadata": {},
   "outputs": [
    {
     "name": "stdout",
     "output_type": "stream",
     "text": [
      "Succeed to read file src/pdb_numpy/tests/input/2rri.pdb \n",
      "479 atoms found\n",
      "479\n",
      "29\n"
     ]
    }
   ],
   "source": [
    "test = pdb_numpy.Coor('./src/pdb_numpy/tests/input/2rri.pdb')\n",
    "print(test.len)\n",
    "assert test.len == 479\n",
    "\n",
    "test_CA = test.select_atoms(\"name CA\")\n",
    "print(test_CA.len)\n",
    "assert test_CA.len == 29"
   ]
  },
  {
   "cell_type": "code",
   "execution_count": 8,
   "metadata": {},
   "outputs": [
    {
     "data": {
      "text/plain": [
       "array([ 1,  2,  3,  4,  5,  6,  7,  8,  9, 10, 11, 12, 13, 14, 15, 16, 17,\n",
       "       18, 19, 20, 21, 22, 23, 24, 25, 26, 27, 28, 29])"
      ]
     },
     "execution_count": 8,
     "metadata": {},
     "output_type": "execute_result"
    }
   ],
   "source": [
    "test_CA.model[0].res_num"
   ]
  },
  {
   "cell_type": "code",
   "execution_count": 9,
   "metadata": {},
   "outputs": [
    {
     "data": {
      "text/plain": [
       "array([b'ALA', b'ALA', b'ALA', b'ALA', b'ALA', b'ALA', b'ALA', b'ALA',\n",
       "       b'ALA', b'ALA', b'ALA', b'ALA', b'ALA', b'ALA', b'ALA', b'ALA',\n",
       "       b'ALA', b'ALA', b'ALA', b'ALA', b'ALA', b'ALA', b'ALA', b'ALA',\n",
       "       b'ALA', b'ALA', b'ALA', b'ALA', b'ALA'], dtype='|S4')"
      ]
     },
     "execution_count": 9,
     "metadata": {},
     "output_type": "execute_result"
    }
   ],
   "source": [
    "test_CA.model[0].resname = 'ALA'\n",
    "test_CA.model[0].resname"
   ]
  },
  {
   "cell_type": "code",
   "execution_count": 10,
   "metadata": {},
   "outputs": [],
   "source": [
    "import pdb_numpy._alignement as alignement\n"
   ]
  },
  {
   "cell_type": "code",
   "execution_count": 10,
   "metadata": {},
   "outputs": [],
   "source": [
    "\n",
    "seq_1 = 'AQDMVSPPPPIADEPLTVNTGIYLIECYSLDDKAETFKVNAFLSLSWKDRRLAFDPV\\\n",
    "RSGVRVKTYEPEAIWIPEIRFVNVENARDADVVDISVSPDGTVQYLERFSARVLSPLDFRRYPFDSQTLHIYLIVRSV\\\n",
    "DTRNIVLAVDLEKVGKNDDVFLTGWDIESFTAVVKPANFALEDRLESKLDYQLRISRQYFSYIPNIILPMLFILFISW\\\n",
    "TAFWSTSYEANVTLVVSTLIAHIAFNILVETNLPKTPYMTYTGAIIFMIYLFYFVAVIEVTVQHYLKVESQPARAASI\\\n",
    "TRASRIAFPVVFLLANIILAFLFFGF'\n",
    "seq_2 = 'APSEFLDKLMGKVSGYDARIRPNFKGPPVNVTCNIFINSFGSIAETTMDYRVNIFLR\\\n",
    "QQWNDPRLAYSEYPDDSLDLDPSMLDSIWKPDLFFANEKGANFHEVTTDNKLLRISKNGNVLYSIRITLVLACPMDLK\\\n",
    "NFPMDVQTCIMQLESFGYTMNDLIFEWDEKGAVQVADGLTLPQFILKEEKDLRYCTKHYNTGKFTCIEARFHLERQMG\\\n",
    "YYLIQMYIPSLLIVILSWVSFWINMDAAPARVGLGITTVLTMTTQSSGSRASLPKVSYVKAIDIWMAVCLLFVFSALL\\\n",
    "EYAAVNFIARAGTKLFISRAKRIDTVSRVAFPLVFLIFNIFYWITY\\\n",
    "KLVPR'\n"
   ]
  },
  {
   "cell_type": "code",
   "execution_count": 43,
   "metadata": {},
   "outputs": [
    {
     "name": "stdout",
     "output_type": "stream",
     "text": [
      "251 ms ± 9.09 ms per loop (mean ± std. dev. of 7 runs, 1 loop each)\n"
     ]
    }
   ],
   "source": [
    "importlib.reload(alignement)\n",
    "%timeit align_seq_1, align_seq_2 = alignement.align_seq(seq_1, seq_2)"
   ]
  },
  {
   "cell_type": "code",
   "execution_count": 44,
   "metadata": {},
   "outputs": [
    {
     "name": "stdout",
     "output_type": "stream",
     "text": [
      "Timer unit: 1e-09 s\n",
      "\n",
      "Total time: 0.55506 s\n",
      "File: ./src/pdb_numpy/alignement.py\n",
      "Function: align_seq at line 16\n",
      "\n",
      "Line #      Hits         Time  Per Hit   % Time  Line Contents\n",
      "==============================================================\n",
      "    16                                           def align_seq(seq_1, seq_2, gap_cost=-11, gap_extension=-1):\n",
      "    17                                               \"\"\"Align two amino acid sequences using the Waterman - Smith Algorithm.\n",
      "    18                                           \n",
      "    19                                               Parameters\n",
      "    20                                               ----------\n",
      "    21                                               seq_1 : str\n",
      "    22                                                   First sequence to align\n",
      "    23                                               seq_2 : str\n",
      "    24                                                   Second sequence to align\n",
      "    25                                               gap_cost : int, optional\n",
      "    26                                                   Cost of gap, by default -8\n",
      "    27                                               gap_extension : int, optional\n",
      "    28                                                   Cost of gap extension, by default -2\n",
      "    29                                           \n",
      "    30                                               Returns\n",
      "    31                                               -------\n",
      "    32                                               str\n",
      "    33                                                   Aligned sequence 1\n",
      "    34                                               str\n",
      "    35                                                   Aligned sequence 2\n",
      "    36                                               \"\"\"\n",
      "    37                                           \n",
      "    38         1       3757.0   3757.0      0.0      seq_1 = seq_1.replace(\"-\", \"\")\n",
      "    39         1       2045.0   2045.0      0.0      seq_2 = seq_2.replace(\"-\", \"\")\n",
      "    40                                           \n",
      "    41         1       1194.0   1194.0      0.0      len_1 = len(seq_1)\n",
      "    42         1        577.0    577.0      0.0      len_2 = len(seq_2)\n",
      "    43                                           \n",
      "    44                                               # Initialize the matrix\n",
      "    45         1     344589.0 344589.0      0.1      matrix = np.zeros((len_1 + 1, len_2 + 1), dtype=int)\n",
      "    46                                           \n",
      "    47         1      16568.0  16568.0      0.0      prev_line = np.zeros((len_2 + 1), dtype=bool)\n",
      "    48         1       4871.0   4871.0      0.0      choices = np.zeros((3), dtype=int)\n",
      "    49                                           \n",
      "    50                                               # Fill the matrix\n",
      "    51       317      67401.0    212.6      0.0      for i in range(1, len_1 + 1):\n",
      "    52                                                   # print(i)\n",
      "    53       317      45274.0    142.8      0.0          prev = False  # insertion matrix[i, j - 1]\n",
      "    54    108414   18522219.0    170.8      3.3          for j in range(1, len_2 + 1):\n",
      "    55                                                       # Identify the BLOSUM62 score\n",
      "    56                                                       # Match\n",
      "    57    108414   76046785.0    701.4     13.7              choices[0] = matrix[i - 1, j - 1] + BLOSUM62[(seq_2[j - 1], seq_1[i - 1])]\n",
      "    58                                                       # Delete\n",
      "    59    108414   51136048.0    471.7      9.2              choices[1] = matrix[i - 1, j] + (gap_extension if prev else gap_cost)\n",
      "    60                                                       # Insert\n",
      "    61    108414   56114057.0    517.6     10.1              choices[2] = matrix[i, j - 1] + (gap_extension if prev_line[j] else gap_cost)\n",
      "    62                                           \n",
      "    63    108414  218489224.0   2015.3     39.4              max_index = np.argmax(choices)\n",
      "    64    108414   41455179.0    382.4      7.5              matrix[i, j] = choices[max_index]\n",
      "    65    108414   23491282.0    216.7      4.2              prev_line[j] = False\n",
      "    66    108414   15709179.0    144.9      2.8              prev = False\n",
      "    67                                           \n",
      "    68     95471   26880595.0    281.6      4.8              if max_index == 1:\n",
      "    69     12943    1882394.0    145.4      0.3                  prev = True\n",
      "    70     83297   20885471.0    250.7      3.8              elif max_index == 2:\n",
      "    71     12174    2643468.0    217.1      0.5                  prev_line[j] = True\n",
      "    72                                           \n",
      "    73                                               # Identify the maximum score\n",
      "    74         1       2793.0   2793.0      0.0      min_seq = min(len_1, len_2)\n",
      "    75         1      30621.0  30621.0      0.0      max_score = np.max(matrix[min_seq:, min_seq:])\n",
      "    76         1     251151.0 251151.0      0.0      max_index = np.where(matrix == max_score)\n",
      "    77                                           \n",
      "    78         1        375.0    375.0      0.0      index_list = []\n",
      "    79         6       3334.0    555.7      0.0      for i in range(len(max_index[0])):\n",
      "    80         5       2203.0    440.6      0.0          if max_index[0][i] >= min_seq and max_index[1][i] >= min_seq:\n",
      "    81         1       1623.0   1623.0      0.0              index_list.append([max_index[0][i], max_index[1][i]])\n",
      "    82                                           \n",
      "    83                                               #if len(index_list) > 1:\n",
      "    84                                               #    logger.warning(f\"Ambigous alignement, {len(index_list)} solutions exists\")\n",
      "    85                                           \n",
      "    86         1        513.0    513.0      0.0      i = index_list[0][0]\n",
      "    87         1        344.0    344.0      0.0      j = index_list[0][1]\n",
      "    88                                           \n",
      "    89                                               # Traceback and compute the alignment\n",
      "    90         1        353.0    353.0      0.0      align_1 = \"\"\n",
      "    91         1        271.0    271.0      0.0      align_2 = \"\"\n",
      "    92                                           \n",
      "    93         1        359.0    359.0      0.0      if i != len_1:\n",
      "    94                                                   align_2 = (len_1 - i) * \"-\"\n",
      "    95                                           \n",
      "    96         1        342.0    342.0      0.0      if j != len_2:\n",
      "    97         1       2195.0   2195.0      0.0          align_1 = (len_2 - j) * \"-\"\n",
      "    98                                           \n",
      "    99         1       1254.0   1254.0      0.0      align_1 += seq_1[i:]\n",
      "   100         1       1003.0   1003.0      0.0      align_2 += seq_2[j:]\n",
      "   101                                           \n",
      "   102       355     132837.0    374.2      0.0      while i != 0 and j != 0:\n",
      "   103                                                   if (\n",
      "   104       355      85508.0    240.9      0.0              matrix[i, j]\n",
      "   105       276     276214.0   1000.8      0.0              == matrix[i - 1, j - 1] + BLOSUM62[(seq_1[i - 1], seq_2[j - 1])]\n",
      "   106                                                   ):\n",
      "   107       276      87556.0    317.2      0.0              align_1 = seq_1[i - 1] + align_1\n",
      "   108       276      83873.0    303.9      0.0              align_2 = seq_2[j - 1] + align_2\n",
      "   109       276      70621.0    255.9      0.0              i -= 1\n",
      "   110       276      91920.0    333.0      0.0              j -= 1\n",
      "   111                                                   elif (\n",
      "   112        78      49771.0    638.1      0.0              matrix[i, j] == matrix[i - 1, j] + gap_cost\n",
      "   113        40      25005.0    625.1      0.0              or matrix[i, j] == matrix[i - 1, j] + gap_extension\n",
      "   114                                                   ):\n",
      "   115        41      13702.0    334.2      0.0              align_1 = seq_1[i - 1] + align_1\n",
      "   116        41       8036.0    196.0      0.0              align_2 = \"-\" + align_2\n",
      "   117        41      12413.0    302.8      0.0              i -= 1\n",
      "   118                                                   elif (\n",
      "   119        36      23544.0    654.0      0.0              matrix[i, j] == matrix[i, j - 1] + gap_cost\n",
      "   120        36      22625.0    628.5      0.0              or matrix[i, j] == matrix[i, j - 1] + gap_extension\n",
      "   121                                                   ):\n",
      "   122        38       8585.0    225.9      0.0              align_1 = \"-\" + align_1\n",
      "   123        38      12620.0    332.1      0.0              align_2 = seq_2[j - 1] + align_2\n",
      "   124        38       9875.0    259.9      0.0              j -= 1\n",
      "   125                                           \n",
      "   126         1        479.0    479.0      0.0      align_1 = seq_1[:i] + align_1\n",
      "   127         1       1059.0   1059.0      0.0      align_2 = seq_2[:j] + align_2\n",
      "   128                                           \n",
      "   129         1        348.0    348.0      0.0      if i != 0:\n",
      "   130                                                   align_2 = i * \"-\" + align_2\n",
      "   131         1        333.0    333.0      0.0      elif j != 0:\n",
      "   132         1       1050.0   1050.0      0.0          align_1 = j * \"-\" + align_1\n",
      "   133                                           \n",
      "   134         1        729.0    729.0      0.0      assert len(align_1) == len(align_2)\n",
      "   135                                           \n",
      "   136         1        136.0    136.0      0.0      return align_1, align_2"
     ]
    }
   ],
   "source": [
    "%lprun -f alignement.align_seq alignement.align_seq(seq_1, seq_2)"
   ]
  },
  {
   "cell_type": "code",
   "execution_count": 30,
   "metadata": {},
   "outputs": [
    {
     "data": {
      "text/plain": [
       "0"
      ]
     },
     "execution_count": 30,
     "metadata": {},
     "output_type": "execute_result"
    }
   ],
   "source": [
    "max_index = np.argmax([3, 2, 1])\n",
    "max_index"
   ]
  },
  {
   "cell_type": "code",
   "execution_count": 13,
   "metadata": {},
   "outputs": [
    {
     "name": "stdout",
     "output_type": "stream",
     "text": [
      "--------------AQDMVSPPPPIADEPLTVNTGIYLIECYSLDDKAETFKVNAFLSLSWKDRRLAFDPV-RSGVRVKT\n",
      "              | * |   * |   *||*| |*|| |  *| | |  ||** **  |*|* ***||    ||| |  \n",
      "APSEFLDKLMGKVSGYD-ARIRPNFKGPPVNVTCNIFINSFGSIAETTMDYRVNIFLRQQWNDPRLAYSEYPDDSLDLDP\n",
      "\n",
      "\n",
      "YEPEAIWIPEIRFVNVENARDADV-VD---ISVSPDGTVQYLERFSARVLSPLDFRRYPFDSQTLHIYLIVRSVDTRNIV\n",
      "   ||** *|| *|* ||*|  |* |*   | |* |*|* *  *||  |  *|*||||*|* **  | *   |   ||||\n",
      "SMLDSIWKPDLFFANEKGANFHEVTTDNKLLRISKNGNVLYSIRITLVLACPMDLKNFPMDVQTCIMQLESFGYTMNDLI\n",
      "\n",
      "\n",
      "LAVDLE-KVGKNDDVFLTGWDIESFTAVVKPANFALEDRLESKLDYQLRISRQYFSYIPNIILPMLFILFISWTAFW-S-\n",
      "|  * |  *   * | *  | |||    || ||   |    | || |||||**   *| || |* *|*|||**||** | \n",
      "FEWDEKGAVQVADGLTLPQFILKE-EKDLRYCTKHYNTGKFTCIEARFHLERQMGYYLIQMYIPSLLIVILSWVSFWINM\n",
      "\n",
      "\n",
      "TSYEANVTLVVSTLIAHIAFNILVETNLPKTPYMTYTGAIIFMIYLFYFVAVIEVTVQHYL-KVESQ--PARAASITRAS\n",
      " |  *|* * ||*|||  | |   |||***| *|      | |  ** * *||* || ||| || ||   |**  *  |*\n",
      "DAAPARVGLGITTVLTMTTQSSGSRASLPKVSYVKAIDIWMAVCLLFVFSALLEYAAVNFIARAGTKLFISRAKRIDTVS\n",
      "\n",
      "\n",
      "RIAFPVVFLLANIILAFLFFGF---\n",
      "*|***|***| **|  || | |   \n",
      "RVAFPLVFLIFNIFY-WITYKLVPR\n",
      "\n",
      "\n",
      "Identity seq1: 23.66%\n",
      "Identity seq2: 21.93%\n",
      "Similarity seq1: 61.51%\n",
      "Similarity seq2: 57.02%\n"
     ]
    }
   ],
   "source": [
    "alignement.print_align_seq(align_seq_1, align_seq_2, line_len=80)"
   ]
  },
  {
   "cell_type": "code",
   "execution_count": 14,
   "metadata": {},
   "outputs": [
    {
     "name": "stdout",
     "output_type": "stream",
     "text": [
      "AQDMVSPPPPIADEPLTVNTGIYLIECYSLDDKAETFKVNAFLSLSWKDRRLAFDPVRSGVRVKTYEPEAIWIPEIRFVN\n",
      "*********************************************************                       \n",
      "AQDMVSPPPPIADEPLTVNTGIYLIECYSLDDKAETFKVNAFLSLSWKDRRLAFDPV-----------------------\n",
      "\n",
      "\n",
      "VENARDADVVDISVSPDGTVQYLERFSARVLSPLDFRRYPFDSQTLHIYLIVRSVDTRNIVLAVDLEKVGKNDDVFLTGW\n",
      "                                                                                \n",
      "--------------------------------------------------------------------------------\n",
      "\n",
      "\n",
      "DIESFTAVVKPANFALEDRLESKLDYQLRISRQYFSYIPNIILPMLFILFISWTAFWSTSYEANVTLVVSTLIAHIAFNI\n",
      "                                                                                \n",
      "--------------------------------------------------------------------------------\n",
      "\n",
      "\n",
      "LVETNLPKTPYMTYTGAIIFMIYLFYFVAVIEVTVQHYLKVESQPARAASITRASRIAFPVVFLLANIILAFLFFGF\n",
      "                                                                             \n",
      "-----------------------------------------------------------------------------\n",
      "\n",
      "\n",
      "Identity seq1: 17.98%\n",
      "Identity seq2: 100.00%\n",
      "Similarity seq1: 17.98%\n",
      "Similarity seq2: 100.00%\n"
     ]
    }
   ],
   "source": [
    "seq_1 = 'AQDMVSPPPPIADEPLTVNTGIYLIECYSLDDKAETFKVNAFLSLSWKDRRLAFDPV\\\n",
    "RSGVRVKTYEPEAIWIPEIRFVNVENARDADVVDISVSPDGTVQYLERFSARVLSPLDFRRYPFDSQTLHIYLIVRSV\\\n",
    "DTRNIVLAVDLEKVGKNDDVFLTGWDIESFTAVVKPANFALEDRLESKLDYQLRISRQYFSYIPNIILPMLFILFISW\\\n",
    "TAFWSTSYEANVTLVVSTLIAHIAFNILVETNLPKTPYMTYTGAIIFMIYLFYFVAVIEVTVQHYLKVESQPARAASI\\\n",
    "TRASRIAFPVVFLLANIILAFLFFGF'\n",
    "seq_2 = 'AQDMVSPPPPIADEPLTVNTGIYLIECYSLDDKAETFKVNAFLSLSWKDRRLAFDPV'\n",
    "align_seq_1, align_seq_2 = alignement.align_seq(seq_1, seq_2)\n",
    "alignement.print_align_seq(align_seq_1, align_seq_2, line_len=80)"
   ]
  },
  {
   "cell_type": "code",
   "execution_count": 15,
   "metadata": {},
   "outputs": [
    {
     "name": "stdout",
     "output_type": "stream",
     "text": [
      "AQDMVSPPPPIADEPLTVNTGIYLIECYSLDDKAETFKVNAFLSLSWKDRRLAFDPVRSGVRVKTYEPEAIWIPEIRFVN\n",
      "                                                                                \n",
      "--------------------------------------------------------------------------------\n",
      "\n",
      "\n",
      "VENARDADVVDISVSPDGTVQYLERFSARVLSPLDFRRYPFDSQTLHIYLIVRSVDTRNIVLAVDLEKVGKNDDVFLTGW\n",
      "                                                                                \n",
      "--------------------------------------------------------------------------------\n",
      "\n",
      "\n",
      "DIESFTAVVKPANFALEDRLESKLDYQLRISRQYFSYIPNIILPMLFILFISWTAFWSTSYEANVTLVVSTLIAHIAFNI\n",
      "                                                                                \n",
      "--------------------------------------------------------------------------------\n",
      "\n",
      "\n",
      "LVETNLPKTPYMTYTGAIIFMIYLFYFVAVIEVTVQHYLKVESQPARAASITRASRIAFPVVFLLANIILAFLFFGF\n",
      "                       ******************************************************\n",
      "-----------------------LFYFVAVIEVTVQHYLKVESQPARAASITRASRIAFPVVFLLANIILAFLFFGF\n",
      "\n",
      "\n",
      "Identity seq1: 17.03%\n",
      "Identity seq2: 100.00%\n",
      "Similarity seq1: 17.03%\n",
      "Similarity seq2: 100.00%\n"
     ]
    }
   ],
   "source": [
    "seq_1 = 'AQDMVSPPPPIADEPLTVNTGIYLIECYSLDDKAETFKVNAFLSLSWKDRRLAFDPV\\\n",
    "RSGVRVKTYEPEAIWIPEIRFVNVENARDADVVDISVSPDGTVQYLERFSARVLSPLDFRRYPFDSQTLHIYLIVRSV\\\n",
    "DTRNIVLAVDLEKVGKNDDVFLTGWDIESFTAVVKPANFALEDRLESKLDYQLRISRQYFSYIPNIILPMLFILFISW\\\n",
    "TAFWSTSYEANVTLVVSTLIAHIAFNILVETNLPKTPYMTYTGAIIFMIYLFYFVAVIEVTVQHYLKVESQPARAASI\\\n",
    "TRASRIAFPVVFLLANIILAFLFFGF'\n",
    "seq_2 = 'LFYFVAVIEVTVQHYLKVESQPARAASITRASRIAFPVVFLLANIILAFLFFGF'\n",
    "align_seq_1, align_seq_2 = alignement.align_seq(seq_1, seq_2)\n",
    "alignement.print_align_seq(align_seq_1, align_seq_2, line_len=80)"
   ]
  },
  {
   "cell_type": "code",
   "execution_count": null,
   "metadata": {},
   "outputs": [],
   "source": []
  },
  {
   "cell_type": "code",
   "execution_count": null,
   "metadata": {},
   "outputs": [],
   "source": []
  }
 ],
 "metadata": {
  "kernelspec": {
   "display_name": "start",
   "language": "python",
   "name": "python3"
  },
  "language_info": {
   "codemirror_mode": {
    "name": "ipython",
    "version": 3
   },
   "file_extension": ".py",
   "mimetype": "text/x-python",
   "name": "python",
   "nbconvert_exporter": "python",
   "pygments_lexer": "ipython3",
   "version": "3.8.12"
  },
  "vscode": {
   "interpreter": {
    "hash": "8566c7ffd5a3fd0eb8b6bc5602eae056722f46b57749c0b0a0c2ae1cbf9832a0"
   }
  }
 },
 "nbformat": 4,
 "nbformat_minor": 2
}

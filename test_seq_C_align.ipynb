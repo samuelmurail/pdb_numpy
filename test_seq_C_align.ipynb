{
 "cells": [
  {
   "cell_type": "code",
   "execution_count": 1,
   "metadata": {},
   "outputs": [],
   "source": [
    "import pdb_numpy\n",
    "import pdb_numpy.alignement"
   ]
  },
  {
   "cell_type": "code",
   "execution_count": 2,
   "metadata": {},
   "outputs": [],
   "source": [
    "ref = pdb_numpy.Coor(pdb_id=\"7XZZ\")\n",
    "ref_2 = pdb_numpy.Coor(pdb_id=\"7EEU\")"
   ]
  },
  {
   "cell_type": "code",
   "execution_count": 3,
   "metadata": {},
   "outputs": [
    {
     "data": {
      "text/plain": [
       "{'A': 'PHRYRPGTVALREIRRYQKSTELLIRKLPFQRLVREIAQDFKTDLRFQSSAVMALQEACEAYLVGLFEDTNLCAIHAKRVTIMPKDIQLARRIRGER',\n",
       " 'B': 'VLRDNIQGITKPAIRRLARRGGVKRISGLIYEETRGVLKVFLENVIRDAVTYTEHAKRKTVTAMDVVYALKRQGRTLYGFGG',\n",
       " 'C': 'RAKAKTRSSRAGLQFPVGRVHRLLRKGNYSERVGAGAPVYLAAVLEYLTAEILELAGNAARDNKKTRIIPRHLQLAIRNDEELNKLLGRVTIAQGGVLPNIQAVLLPKK',\n",
       " 'D': 'KRSRKESYSIYVYKVLKQVHPDTGISSKAMGIMNSFVNDIFERIAGEASRLAHYNKRSTITSREIQTAVRLLLPGELAKHAVSEGTKAVTKYTSA',\n",
       " 'E': 'KPHRYRPGTVALREIRRYQKSTELLIRKLPFQRLVREIAQDFKTDLRFQSSAVMALQEACEAYLVGLFEDTNLCAIHAKRVTIMPKDIQLARRIRGER',\n",
       " 'F': 'RDNIQGITKPAIRRLARRGGVKRISGLIYEETRGVLKVFLENVIRDAVTYTEHAKRKTVTAMDVVYALKRQGRTLYGFGG',\n",
       " 'G': 'KAKTRSSRAGLQFPVGRVHRLLRKGNYSERVGAGAPVYLAAVLEYLTAEILELAGNAARDNKKTRIIPRHLQLAIRNDEELNKLLGRVTIAQGGVLPNIQAVLLPK',\n",
       " 'H': 'RSRKESYSIYVYKVLKQVHPDTGISSKAMGIMNSFVNDIFERIAGEASRLAHYNKRSTITSREIQTAVRLLLPGELAKHAVSEGTKAVTKYTSAK',\n",
       " 'K': 'SSSVPSQKTYQGSYGFRLGFLHSGTAKSVTCTYSPALNKMFCQLAKTCPVQLWVDSTPPPGTRVRAMAIYKQSQHMTEVVRRCPHHERCSDSDGLAPPQHLIRVEGNLRVEYLDDRNTFRHSVVVPYEPPEVGSDCTTIHYNYMCNSSCMGGMNRRPILTIITLEDSSGNLLGRNSFEVRVCACPGRDRRTEEENLRK',\n",
       " 'L': 'SSSVPSQKTYQGSYGFRLGFLHSGTAKSVTCTYSPALNKMFCQLAKTCPVQLWVDSTPPPGTRVRAMAIYKQSQHMTEVVRRCPHHERCSDSDGLAPPQHLIRVEGNLRVEYLDDRNTFRHSVVVPYEPPEVGSDCTTIHYNYMCNSSCMGGMNRRPILTIITLEDSSGNLLGRNSFEVRVCACPGRDRRTEEENLRK',\n",
       " 'M': 'SSSVPSQKTYQGSYGFRLGFLHSGTAKSVTCTYSPALNKMFCQLAKTCPVQLWVDSTPPPGTRVRAMAIYKQSQHMTEVVRRCPHHERCSDSDGLAPPQHLIRVEGNLRVEYLDDRNTFRHSVVVPYEPPEVGSDCTTIHYNYMCNSSCMGGMNRRPILTIITLEDSSGNLLGRNSFEVRVCACPGRDRRTEEENLRK',\n",
       " 'N': 'SSSVPSQKTYQGSYGFRLGFLHSGTAKSVTCTYSPALNKMFCQLAKTCPVQLWVDSTPPPGTRVRAMAIYKQSQHMTEVVRRCPHHERCSDSDGLAPPQHLIRVEGNLRVEYLDDRNTFRHSVVVPYEPPEVGSDCTTIHYNYMCNSSCMGGMNRRPILTIITLEDSSGNLLGRNSFEVRVCACPGRDRRTEEENLRK'}"
      ]
     },
     "execution_count": 3,
     "metadata": {},
     "output_type": "execute_result"
    }
   ],
   "source": [
    "seq_1 = ref.get_aa_seq()\n",
    "seq_1"
   ]
  },
  {
   "cell_type": "code",
   "execution_count": 4,
   "metadata": {},
   "outputs": [
    {
     "data": {
      "text/plain": [
       "{'A': 'SSVPSQKTYQGSYGFRLGFLHSGTAKSVTCTYSPALNKMFCQLAKTCPVQLWVDSTPPPGTRVRAMAIYKQSQHMTEVVRRCPHHERCSDSDGLAPPQHLIRVEGNLRVEYLDDRNTFRHSVVVPYEPPEVGSDCTTIHYNYMCNSSCMGGMNRRPILTIITLEDSSGNLLGRNSFEVRVCACPGRDWRTEEENLRKK',\n",
       " 'B': 'SSVPSQKTYQGSYGFRLGFLHSGTAKSVTCTYSPALNKMFCQLAKTCPVQLWVDSTPPPGTRVRAMAIYKQSQHMTEVVRRCPHHERCSDSDGLAPPQHLIRVEGNLRVEYLDDRNTFRHSVVVPYEPPEVGSDCTTIHYNYMCNSSCMGGMNRRPILTIITLEDSSGNLLGRNSFEVRVCACPGRDWRTEEENLRKK',\n",
       " 'C': 'SSVPSQKTYQGSYGFRLGFLHSGTAKSVTCTYSPALNKMFCQLAKTCPVQLWVDSTPPPGTRVRAMAIYKQSQHMTEVVRRCPHHERCSDSDGLAPPQHLIRVEGNLRVEYLDDRNTFRHSVVVPYEPPEVGSDCTTIHYNYMCNSSCMGGMNRRPILTIITLEDSSGNLLGRNSFEVRVCACPGRDWRTEEENLRKK',\n",
       " 'D': 'SSVPSQKTYQGSYGFRLGFLHSGTAKSVTCTYSPALNKMFCQLAKTCPVQLWVDSTPPPGTRVRAMAIYKQSQHMTEVVRRCPHHERCSDSDGLAPPQHLIRVEGNLRVEYLDDRNTFRHSVVVPYEPPEVGSDCTTIHYNYMCNSSCMGGMNRRPILTIITLEDSSGNLLGRNSFEVRVCACPGRDWRTEEENLRKK',\n",
       " 'E': 'SSVPSQKTYQGSYGFRLGFLHSGTAKSVTCTYSPALNKMFCQLAKTCPVQLWVDSTPPPGTRVRAMAIYKQSQHMTEVVRRCPHHERCSDSDGLAPPQHLIRVEGNLRVEYLDDRNTFRHSVVVPYEPPEVGSDCTTIHYNYMCNSSCMGGMNRRPILTIITLEDSSGNLLGRNSFEVRVCACPGRDWRTEEENLRKK',\n",
       " 'F': 'SVPSQKTYQGSYGFRLGFLHSGTAKSVTCTYSPALNKMFCQLAKTCPVQLWVDSTPPPGTRVRAMAIYKQSQHMTEVVRRCPHHERCSDSDGLAPPQHLIRVEGNLRVEYLDDRNTFRHSVVVPYEPPEVGSDCTTIHYNYMCNSSCMGGMNRRPILTIITLEDSSGNLLGRNSFEVRVCACPGRDWRTEEENLRKK',\n",
       " 'G': 'SSVPSQKTYQGSYGFRLGFLHSGTAKSVTCTYSPALNKMFCQLAKTCPVQLWVDSTPPPGTRVRAMAIYKQSQHMTEVVRRCPHHERCSDSDGLAPPQHLIRVEGNLRVEYLDDRNTFRHSVVVPYEPPEVGSDCTTIHYNYMCNSSCMGGMNRRPILTIITLEDSSGNLLGRNSFEVRVCACPGRDWRTEEENLRKK',\n",
       " 'H': 'SSVPSQKTYQGSYGFRLGFLHSGTAKSVTCTYSPALNKMFCQLAKTCPVQLWVDSTPPPGTRVRAMAIYKQSQHMTEVVRRCPHHERCSDSDGLAPPQHLIRVEGNLRVEYLDDRNTFRHSVVVPYEPPEVGSDCTTIHYNYMCNSSCMGGMNRRPILTIITLEDSSGNLLGRNSFEVRVCACPGRDWRTEEENLRKK'}"
      ]
     },
     "execution_count": 4,
     "metadata": {},
     "output_type": "execute_result"
    }
   ],
   "source": [
    "seq_2 = ref_2.get_aa_seq()\n",
    "seq_2"
   ]
  },
  {
   "cell_type": "markdown",
   "metadata": {},
   "source": [
    "## Test performance"
   ]
  },
  {
   "cell_type": "code",
   "execution_count": 5,
   "metadata": {},
   "outputs": [
    {
     "data": {
      "text/plain": [
       "('SSSVPSQKTYQGSYGFRLGFLHSGTAKSVTCTYSPALNKMFCQLAKTCPVQLWVDSTPPPGTRVRAMAIYKQSQHMTEVVRRCPHHERCSDSDGLAPPQHLIRVEGNLRVEYLDDRNTFRHSVVVPYEPPEVGSDCTTIHYNYMCNSSCMGGMNRRPILTIITLEDSSGNLLGRNSFEVRVCACPGRD-RRTEEENLR-K',\n",
       " '-SSVPSQKTYQGSYGFRLGFLHSGTAKSVTCTYSPALNKMFCQLAKTCPVQLWVDSTPPPGTRVRAMAIYKQSQHMTEVVRRCPHHERCSDSDGLAPPQHLIRVEGNLRVEYLDDRNTFRHSVVVPYEPPEVGSDCTTIHYNYMCNSSCMGGMNRRPILTIITLEDSSGNLLGRNSFEVRVCACPGRDW-RTEEENLRKK')"
      ]
     },
     "execution_count": 5,
     "metadata": {},
     "output_type": "execute_result"
    }
   ],
   "source": [
    "pdb_numpy.alignement.align_seq_cython(seq_1[\"K\"], seq_2[\"A\"])"
   ]
  },
  {
   "cell_type": "code",
   "execution_count": 6,
   "metadata": {},
   "outputs": [
    {
     "data": {
      "text/plain": [
       "('SSSVPSQKTYQGSYGFRLGFLHSGTAKSVTCTYSPALNKMFCQLAKTCPVQLWVDSTPPPGTRVRAMAIYKQSQHMTEVVRRCPHHERCSDSDGLAPPQHLIRVEGNLRVEYLDDRNTFRHSVVVPYEPPEVGSDCTTIHYNYMCNSSCMGGMNRRPILTIITLEDSSGNLLGRNSFEVRVCACPGRD-RRTEEENLR-K',\n",
       " '-SSVPSQKTYQGSYGFRLGFLHSGTAKSVTCTYSPALNKMFCQLAKTCPVQLWVDSTPPPGTRVRAMAIYKQSQHMTEVVRRCPHHERCSDSDGLAPPQHLIRVEGNLRVEYLDDRNTFRHSVVVPYEPPEVGSDCTTIHYNYMCNSSCMGGMNRRPILTIITLEDSSGNLLGRNSFEVRVCACPGRDW-RTEEENLRKK')"
      ]
     },
     "execution_count": 6,
     "metadata": {},
     "output_type": "execute_result"
    }
   ],
   "source": [
    "pdb_numpy.alignement.align_seq_C(seq_1[\"K\"], seq_2[\"A\"])"
   ]
  },
  {
   "cell_type": "code",
   "execution_count": 7,
   "metadata": {},
   "outputs": [
    {
     "data": {
      "text/plain": [
       "('SSSVPSQKTYQGSYGFRLGFLHSGTAKSVTCTYSPALNKMFCQLAKTCPVQLWVDSTPPPGTRVRAMAIYKQSQHMTEVVRRCPHHERCSDSDGLAPPQHLIRVEGNLRVEYLDDRNTFRHSVVVPYEPPEVGSDCTTIHYNYMCNSSCMGGMNRRPILTIITLEDSSGNLLGRNSFEVRVCACPGRDRRTEEENLR-K',\n",
       " '-SSVPSQKTYQGSYGFRLGFLHSGTAKSVTCTYSPALNKMFCQLAKTCPVQLWVDSTPPPGTRVRAMAIYKQSQHMTEVVRRCPHHERCSDSDGLAPPQHLIRVEGNLRVEYLDDRNTFRHSVVVPYEPPEVGSDCTTIHYNYMCNSSCMGGMNRRPILTIITLEDSSGNLLGRNSFEVRVCACPGRDWRTEEENLRKK')"
      ]
     },
     "execution_count": 7,
     "metadata": {},
     "output_type": "execute_result"
    }
   ],
   "source": [
    "pdb_numpy.alignement.align_seq(seq_1[\"K\"], seq_2[\"A\"])"
   ]
  },
  {
   "cell_type": "code",
   "execution_count": 8,
   "metadata": {},
   "outputs": [
    {
     "name": "stdout",
     "output_type": "stream",
     "text": [
      "         407 function calls in 0.001 seconds\n",
      "\n",
      "   Ordered by: cumulative time\n",
      "\n",
      "   ncalls  tottime  percall  cumtime  percall filename:lineno(function)\n",
      "        1    0.000    0.000    0.001    0.001 {built-in method builtins.exec}\n",
      "        1    0.000    0.000    0.001    0.001 <string>:1(<module>)\n",
      "        1    0.000    0.000    0.001    0.001 __init__.py:107(align_seq_cython)\n",
      "        1    0.001    0.001    0.001    0.001 align_cython.pyx:104(align_seq)\n",
      "        2    0.000    0.000    0.000    0.000 align_cython.pyx:85(convert_seq)\n",
      "      396    0.000    0.000    0.000    0.000 align_cython.pyx:39(convert_aa)\n",
      "        1    0.000    0.000    0.000    0.000 <frozen importlib._bootstrap>:1053(_handle_fromlist)\n",
      "        1    0.000    0.000    0.000    0.000 <frozen importlib._bootstrap>:404(parent)\n",
      "        1    0.000    0.000    0.000    0.000 {built-in method builtins.hasattr}\n",
      "        1    0.000    0.000    0.000    0.000 {method 'disable' of '_lsprof.Profiler' objects}\n",
      "        1    0.000    0.000    0.000    0.000 {built-in method builtins.isinstance}\n",
      "\n",
      "\n"
     ]
    }
   ],
   "source": [
    "import cProfile\n",
    "cProfile.run('pdb_numpy.alignement.align_seq_cython(seq_1[\"K\"], seq_2[\"A\"])', sort='cumtime')"
   ]
  },
  {
   "cell_type": "code",
   "execution_count": 9,
   "metadata": {},
   "outputs": [
    {
     "name": "stdout",
     "output_type": "stream",
     "text": [
      "         407 function calls in 0.001 seconds\n",
      "\n",
      "   Ordered by: cumulative time\n",
      "\n",
      "   ncalls  tottime  percall  cumtime  percall filename:lineno(function)\n",
      "        1    0.000    0.000    0.001    0.001 {built-in method builtins.exec}\n",
      "        1    0.000    0.000    0.001    0.001 <string>:1(<module>)\n",
      "        1    0.000    0.000    0.001    0.001 __init__.py:107(align_seq_cython)\n",
      "        1    0.001    0.001    0.001    0.001 align_cython.pyx:104(align_seq)\n",
      "        2    0.000    0.000    0.000    0.000 align_cython.pyx:85(convert_seq)\n",
      "      396    0.000    0.000    0.000    0.000 align_cython.pyx:39(convert_aa)\n",
      "        1    0.000    0.000    0.000    0.000 <frozen importlib._bootstrap>:1053(_handle_fromlist)\n",
      "        1    0.000    0.000    0.000    0.000 <frozen importlib._bootstrap>:404(parent)\n",
      "        1    0.000    0.000    0.000    0.000 {built-in method builtins.hasattr}\n",
      "        1    0.000    0.000    0.000    0.000 {method 'disable' of '_lsprof.Profiler' objects}\n",
      "        1    0.000    0.000    0.000    0.000 {built-in method builtins.isinstance}\n",
      "\n",
      "\n",
      " \n",
      "*** Profile printout saved to text file 'cprofile_out'.\n"
     ]
    }
   ],
   "source": [
    "%%prun -s cumulative -q  -T cprofile_out\n",
    "\n",
    "cProfile.run('pdb_numpy.alignement.align_seq_cython(seq_1[\"K\"], seq_2[\"A\"])', sort='cumtime')"
   ]
  },
  {
   "cell_type": "code",
   "execution_count": 10,
   "metadata": {},
   "outputs": [
    {
     "name": "stdout",
     "output_type": "stream",
     "text": [
      "308 µs ± 2.57 µs per loop (mean ± std. dev. of 7 runs, 1,000 loops each)\n"
     ]
    }
   ],
   "source": [
    "%timeit pdb_numpy.alignement.align_seq_cython(seq_1[\"K\"], seq_2[\"A\"])"
   ]
  },
  {
   "cell_type": "code",
   "execution_count": 11,
   "metadata": {},
   "outputs": [
    {
     "name": "stdout",
     "output_type": "stream",
     "text": [
      "542 µs ± 3.58 µs per loop (mean ± std. dev. of 7 runs, 1,000 loops each)\n"
     ]
    }
   ],
   "source": [
    "%timeit pdb_numpy.alignement.align_seq_C(seq_1[\"K\"], seq_2[\"A\"])"
   ]
  },
  {
   "cell_type": "code",
   "execution_count": 12,
   "metadata": {},
   "outputs": [
    {
     "data": {
      "text/plain": [
       "('SSSVPSQKTYQGSYGFRLGFLHSGTAKSVTCTYSPALNKMFCQLAKTCPVQLWVDSTPPPGTRVRAMAIYKQSQHMTEVVRRCPHHERCSDSDGLAPPQHLIRVEGNLRVEYLDDRNTFRHSVVVPYEPPEVGSDCTTIHYNYMCNSSCMGGMNRRPILTIITLEDSSGNLLGRNSFEVRVCACPGRD-RRTEEENLR-K',\n",
       " '-SSVPSQKTYQGSYGFRLGFLHSGTAKSVTCTYSPALNKMFCQLAKTCPVQLWVDSTPPPGTRVRAMAIYKQSQHMTEVVRRCPHHERCSDSDGLAPPQHLIRVEGNLRVEYLDDRNTFRHSVVVPYEPPEVGSDCTTIHYNYMCNSSCMGGMNRRPILTIITLEDSSGNLLGRNSFEVRVCACPGRDW-RTEEENLRKK')"
      ]
     },
     "execution_count": 12,
     "metadata": {},
     "output_type": "execute_result"
    }
   ],
   "source": [
    "pdb_numpy.alignement.align_seq_C(seq_1[\"K\"], seq_2[\"A\"])"
   ]
  },
  {
   "cell_type": "code",
   "execution_count": 13,
   "metadata": {},
   "outputs": [
    {
     "name": "stdout",
     "output_type": "stream",
     "text": [
      "305 µs ± 1.62 µs per loop (mean ± std. dev. of 7 runs, 1,000 loops each)\n"
     ]
    }
   ],
   "source": [
    "%timeit pdb_numpy.alignement.align_seq_cython(seq_1[\"K\"], seq_2[\"A\"])"
   ]
  },
  {
   "cell_type": "code",
   "execution_count": 14,
   "metadata": {},
   "outputs": [
    {
     "data": {
      "text/plain": [
       "('SSSVPSQKTYQGSYGFRLGFLHSGTAKSVTCTYSPALNKMFCQLAKTCPVQLWVDSTPPPGTRVRAMAIYKQSQHMTEVVRRCPHHERCSDSDGLAPPQHLIRVEGNLRVEYLDDRNTFRHSVVVPYEPPEVGSDCTTIHYNYMCNSSCMGGMNRRPILTIITLEDSSGNLLGRNSFEVRVCACPGRD-RRTEEENLR-K',\n",
       " '-SSVPSQKTYQGSYGFRLGFLHSGTAKSVTCTYSPALNKMFCQLAKTCPVQLWVDSTPPPGTRVRAMAIYKQSQHMTEVVRRCPHHERCSDSDGLAPPQHLIRVEGNLRVEYLDDRNTFRHSVVVPYEPPEVGSDCTTIHYNYMCNSSCMGGMNRRPILTIITLEDSSGNLLGRNSFEVRVCACPGRDW-RTEEENLRKK')"
      ]
     },
     "execution_count": 14,
     "metadata": {},
     "output_type": "execute_result"
    }
   ],
   "source": [
    "pdb_numpy.alignement.align_seq_cython(seq_1[\"K\"], seq_2[\"A\"])"
   ]
  },
  {
   "cell_type": "code",
   "execution_count": 15,
   "metadata": {},
   "outputs": [
    {
     "ename": "AttributeError",
     "evalue": "module 'pdb_numpy.alignement' has no attribute 'align_seq_cython_2'",
     "output_type": "error",
     "traceback": [
      "\u001b[0;31m---------------------------------------------------------------------------\u001b[0m",
      "\u001b[0;31mAttributeError\u001b[0m                            Traceback (most recent call last)",
      "Cell \u001b[0;32mIn[15], line 1\u001b[0m\n\u001b[0;32m----> 1\u001b[0m \u001b[43mpdb_numpy\u001b[49m\u001b[38;5;241;43m.\u001b[39;49m\u001b[43malignement\u001b[49m\u001b[38;5;241;43m.\u001b[39;49m\u001b[43malign_seq_cython_2\u001b[49m(seq_1[\u001b[38;5;124m\"\u001b[39m\u001b[38;5;124mK\u001b[39m\u001b[38;5;124m\"\u001b[39m], seq_2[\u001b[38;5;124m\"\u001b[39m\u001b[38;5;124mA\u001b[39m\u001b[38;5;124m\"\u001b[39m])\n",
      "\u001b[0;31mAttributeError\u001b[0m: module 'pdb_numpy.alignement' has no attribute 'align_seq_cython_2'"
     ]
    }
   ],
   "source": [
    "pdb_numpy.alignement.align_seq_cython_2(seq_1[\"K\"], seq_2[\"A\"])"
   ]
  },
  {
   "cell_type": "code",
   "execution_count": null,
   "metadata": {},
   "outputs": [],
   "source": [
    "%timeit pdb_numpy.alignement.align_seq(seq_1[\"K\"], seq_2[\"A\"])"
   ]
  },
  {
   "cell_type": "code",
   "execution_count": null,
   "metadata": {},
   "outputs": [],
   "source": [
    "%load_ext line_profiler"
   ]
  },
  {
   "cell_type": "code",
   "execution_count": null,
   "metadata": {},
   "outputs": [],
   "source": [
    "%lprun -f pdb_numpy.alignement.align_cython.align_seq_2 pdb_numpy.alignement.align_seq_cython_2(seq_1[\"K\"], seq_2[\"A\"])"
   ]
  },
  {
   "cell_type": "code",
   "execution_count": null,
   "metadata": {},
   "outputs": [],
   "source": [
    "%lprun -f pdb_numpy.alignement.align_seq_C pdb_numpy.alignement.align_seq_C(seq_1[\"K\"], seq_2[\"A\"])"
   ]
  },
  {
   "cell_type": "markdown",
   "metadata": {},
   "source": []
  },
  {
   "cell_type": "markdown",
   "metadata": {},
   "source": [
    "## Test memory leak\n",
    "\n",
    "- launch `htop` or `top` in a terminal to monitor memory usage "
   ]
  },
  {
   "cell_type": "code",
   "execution_count": null,
   "metadata": {},
   "outputs": [],
   "source": [
    "for i in range(100000):\n",
    "    pdb_numpy.alignement.align_seq_C(seq_1[\"K\"], seq_2[\"A\"])\n",
    "    if i % 10000 == 0:\n",
    "        print(i)"
   ]
  },
  {
   "cell_type": "code",
   "execution_count": null,
   "metadata": {},
   "outputs": [],
   "source": [
    "%load_ext Cython"
   ]
  },
  {
   "cell_type": "code",
   "execution_count": null,
   "metadata": {},
   "outputs": [],
   "source": [
    "%%cython -a\n",
    "\n",
    "import cython\n",
    "import numpy as np\n",
    "cimport numpy as np\n",
    "\n",
    "\n",
    "from libc.stdlib cimport malloc, free\n",
    "from libc.string cimport strcpy, strlen\n",
    "\n",
    "\n",
    "cdef short [:, ::1] get_blosum62():\n",
    "\n",
    "    #     A  R  N  D  C  Q  E  G  H  I  L  K  M  F  P  S  T  W  Y  V  B  Z  X  *\n",
    "    BLOSUM62_list = [\n",
    "        [ 4, -1, -2, -2,  0, -1, -1,  0, -2, -1, -1, -1, -1, -2, -1,  1,  0, -3, -2,  0, -2, -1,  0, -4,], # A\n",
    "        [-1,  5,  0, -2, -3,  1,  0, -2,  0, -3, -2,  2, -1, -3, -2, -1, -1, -3, -2, -3, -1,  0, -1, -4,], # R \n",
    "        [-2,  0,  6,  1, -3,  0,  0,  0,  1, -3, -3,  0, -2, -3, -2,  1,  0, -4, -2, -3,  3,  0, -1, -4,], # N \n",
    "        [-2, -2,  1,  6, -3,  0,  2, -1, -1, -3, -4, -1, -3, -3, -1,  0, -1, -4, -3, -3,  4,  1, -1, -4,], # D \n",
    "        [ 0, -3, -3, -3,  9, -3, -4, -3, -3, -1, -1, -3, -1, -2, -3, -1, -1, -2, -2, -1, -3, -3, -2, -4,], # C \n",
    "        [-1,  1,  0,  0, -3,  5,  2, -2,  0, -3, -2,  1,  0, -3, -1,  0, -1, -2, -1, -2,  0,  3, -1, -4,], # Q \n",
    "        [-1,  0,  0,  2, -4,  2,  5, -2,  0, -3, -3,  1, -2, -3, -1,  0, -1, -3, -2, -2,  1,  4, -1, -4,], # E \n",
    "        [ 0, -2,  0, -1, -3, -2, -2,  6, -2, -4, -4, -2, -3, -3, -2,  0, -2, -2, -3, -3, -1, -2, -1, -4,], # G \n",
    "        [-2,  0,  1, -1, -3,  0,  0, -2,  8, -3, -3, -1, -2, -1, -2, -1, -2, -2,  2, -3,  0,  0, -1, -4,], # H \n",
    "        [-1, -3, -3, -3, -1, -3, -3, -4, -3,  4,  2, -3,  1,  0, -3, -2, -1, -3, -1,  3, -3, -3, -1, -4,], # I \n",
    "        [-1, -2, -3, -4, -1, -2, -3, -4, -3,  2,  4, -2,  2,  0, -3, -2, -1, -2, -1,  1, -4, -3, -1, -4,], # L \n",
    "        [-1,  2,  0, -1, -3,  1,  1, -2, -1, -3, -2,  5, -1, -3, -1,  0, -1, -3, -2, -2,  0,  1, -1, -4,], # K \n",
    "        [-1, -1, -2, -3, -1,  0, -2, -3, -2,  1,  2, -1,  5,  0, -2, -1, -1, -1, -1,  1, -3, -1, -1, -4,], # M \n",
    "        [-2, -3, -3, -3, -2, -3, -3, -3, -1,  0,  0, -3,  0,  6, -4, -2, -2,  1,  3, -1, -3, -3, -1, -4,], # F \n",
    "        [-1, -2, -2, -1, -3, -1, -1, -2, -2, -3, -3, -1, -2, -4,  7, -1, -1, -4, -3, -2, -2, -1, -2, -4,], # P \n",
    "        [ 1, -1,  1,  0, -1,  0,  0,  0, -1, -2, -2,  0, -1, -2, -1,  4,  1, -3, -2, -2,  0,  0,  0, -4,], # S \n",
    "        [ 0, -1,  0, -1, -1, -1, -1, -2, -2, -1, -1, -1, -1, -2, -1,  1,  5, -2, -2,  0, -1, -1,  0, -4,], # T \n",
    "        [-3, -3, -4, -4, -2, -2, -3, -2, -2, -3, -2, -3, -1,  1, -4, -3, -2, 11,  2, -3, -4, -3, -2, -4,], # W \n",
    "        [-2, -2, -2, -3, -2, -1, -2, -3,  2, -1, -1, -2, -1,  3, -3, -2, -2,  2,  7, -1, -3, -2, -1, -4,], # Y \n",
    "        [ 0, -3, -3, -3, -1, -2, -2, -3, -3,  3,  1, -2,  1, -1, -2, -2,  0, -3, -1,  4, -3, -2, -1, -4,], # V \n",
    "        [-2, -1,  3,  4, -3,  0,  1, -1,  0, -3, -4,  0, -3, -3, -2,  0, -1, -4, -3, -3,  4,  1, -1, -4,], # B \n",
    "        [-1,  0,  0,  1, -3,  3,  4, -2,  0, -3, -3,  1, -1, -3, -1,  0, -1, -3, -2, -2,  1,  4, -1, -4,], # Z \n",
    "        [ 0, -1, -1, -1, -2, -1, -1, -1, -1, -1, -1, -1, -1, -1, -2,  0,  0, -2, -1, -1, -1, -1, -1, -4,], # X \n",
    "        [-4, -4, -4, -4, -4, -4, -4, -4, -4, -4, -4, -4, -4, -4, -4, -4, -4, -4, -4, -4, -4, -4, -4,  1,], # * \n",
    "    ]\n",
    "\n",
    "    cdef short [:, ::1] BLOSUM62_array = np.array(BLOSUM62_list, dtype=np.int16)\n",
    "    return BLOSUM62_array\n",
    "\n",
    "\n",
    "cdef int convert_aa(str aa):\n",
    "\n",
    "    if aa == 'A':\n",
    "        return 0\n",
    "    if aa == 'R':\n",
    "        return 1\n",
    "    if aa == 'N':\n",
    "        return 2\n",
    "    if aa == 'D':\n",
    "        return 3\n",
    "    if aa == 'C':\n",
    "        return 4\n",
    "    if aa == 'Q':\n",
    "        return 5\n",
    "    if aa == 'E':\n",
    "        return 6\n",
    "    if aa == 'G':\n",
    "        return 7\n",
    "    if aa == 'H':\n",
    "        return 8\n",
    "    if aa == 'I':\n",
    "        return 9\n",
    "    if aa == 'L':\n",
    "        return 10\n",
    "    if aa == 'K':\n",
    "        return 11\n",
    "    if aa == 'M':\n",
    "        return 12\n",
    "    if aa == 'F':\n",
    "        return 13\n",
    "    if aa == 'P':\n",
    "        return 14\n",
    "    if aa == 'S':\n",
    "        return 15\n",
    "    if aa == 'T':\n",
    "        return 16\n",
    "    if aa == 'W':\n",
    "        return 17\n",
    "    if aa == 'Y':\n",
    "        return 18\n",
    "    if aa == 'V':\n",
    "        return 19\n",
    "\n",
    "    print(f\"Warning {aa} not recognize\")\n",
    "    return -1;\n",
    "\n",
    "cdef np.ndarray[np.int8_t, ndim=1] convert_seq(str seq):\n",
    "\n",
    "    cdef unsigned int i, seq_len = 0;\n",
    "    \n",
    "    for i in range(len(seq)):\n",
    "        if seq[i] != '-':\n",
    "            seq_len += 1\n",
    "    \n",
    "    cdef np.ndarray[np.int8_t, ndim=1] new_seq = np.empty((seq_len), dtype=np.int8)\n",
    "\n",
    "    cdef int k = 0\n",
    "\n",
    "    for i in range(len(seq)):\n",
    "        if seq[i] != '-':\n",
    "            new_seq[k] = convert_aa(seq[i])\n",
    "            k += 1\n",
    "\n",
    "    return new_seq\n",
    "    #print(\"new seq:\", new_seq)\n",
    "    \n",
    "def align_seq_2(str seq_1, str seq_2, short int gap_cost=-11, short int gap_extension=-1):\n",
    "    \"\"\"Align two amino acid sequences using the Waterman - Smith Algorithm.\n",
    "\n",
    "    Parameters\n",
    "    ----------\n",
    "    seq_1 : str\n",
    "        First sequence to align\n",
    "    seq_2 : str\n",
    "        Second sequence to align\n",
    "    gap_cost : int, optional\n",
    "        Cost of gap, by default -8\n",
    "    gap_extension : int, optional\n",
    "        Cost of gap extension, by default -2\n",
    "\n",
    "    Returns\n",
    "    -------\n",
    "    str\n",
    "        Aligned sequence 1\n",
    "    str\n",
    "        Aligned sequence 2\n",
    "    \"\"\"\n",
    "\n",
    "    #seq_1 = seq_1.replace(\"-\", \"\")\n",
    "    #seq_2 = seq_2.replace(\"-\", \"\")\n",
    "\n",
    "    cdef:\n",
    "        np.ndarray[np.int8_t, ndim=1] seq_1_int, seq_2_int\n",
    "        int len_1, len_2, i, j, k, max_index\n",
    "    \n",
    "\n",
    "    \n",
    "    seq_1_int = convert_seq(seq_1)\n",
    "    seq_2_int = convert_seq(seq_2)\n",
    "\n",
    "    len_1 = len(seq_1_int)\n",
    "    len_2 = len(seq_2_int)\n",
    "\n",
    "    cdef:\n",
    "        str seq_1_nogap = \"\", seq_2_nogap = \"\"\n",
    "        #char * seq_1_nogap = <char *> malloc((len_1 + 1) * sizeof(char))\n",
    "        #char * seq_2_nogap = <char *> malloc((len_2 + 1) * sizeof(char))\n",
    "    \n",
    "    for i in range(len(seq_1)):\n",
    "        if seq_1[i] != '-':\n",
    "            seq_1_nogap += seq_1[i]\n",
    "            \n",
    "    for i in range(len(seq_2)):\n",
    "        if seq_2[i] != '-':\n",
    "            seq_2_nogap += seq_2[i]\n",
    "\n",
    "    # Initialize the matrix\n",
    "    cdef:\n",
    "        int[:, ::1] matrix = np.zeros((len_1 + 1, len_2 + 1), dtype=np.int32)\n",
    "        np.ndarray[np.npy_bool, ndim=1] prev_line = np.zeros((len_2 + 1), dtype=np.bool_)\n",
    "        int choices[3]\n",
    "        bint prev\n",
    "        short [:, ::1] BLOSUM_62_array = get_blosum62()\n",
    "\n",
    "    choices[:] = [0,0,0]\n",
    "\n",
    "    #print(matrix[0,0], matrix[0,1])\n",
    "    #print(BLOSUM_62_array[0,0], BLOSUM_62_array[1,0])\n",
    "\n",
    "    # Fill the matrix\n",
    "    for i in range(len_1):\n",
    "        prev = False  # insertion matrix[i, j - 1]\n",
    "        for j in range(len_2):\n",
    "            # Identify the BLOSUM62 score\n",
    "            # Match\n",
    "            choices[0] = matrix[i, j] + BLOSUM_62_array[seq_2_int[j], seq_1_int[i]]\n",
    "            # Delete\n",
    "            choices[1] = matrix[i, j + 1] + (gap_extension if prev else gap_cost)\n",
    "            # Insert\n",
    "            choices[2] = matrix[i + 1, j] + (\n",
    "                gap_extension if prev_line[j + 1] else gap_cost\n",
    "            )\n",
    "\n",
    "            #max_index = np.argmax(choices)\n",
    "            max_index = 0\n",
    "            for k in range(1, 3):\n",
    "                if choices[k] > choices[max_index]:\n",
    "                    max_index = k\n",
    "            #if choices[0] > choices[1]:\n",
    "            #    if choices[0] > choices[2]:\n",
    "            #        max_index = 0\n",
    "            #    else:\n",
    "            #        max_index = 2\n",
    "            #else:\n",
    "            #    if choices[1] > choices[2]:\n",
    "            #        max_index = 1\n",
    "            #    else:\n",
    "            #        max_index = 2\n",
    "            \n",
    "            #print(choices, max_index)\n",
    "            \n",
    "            matrix[i + 1, j + 1] = choices[max_index]\n",
    "            prev_line[j + 1] = False\n",
    "            prev = False\n",
    "\n",
    "            if max_index == 1:\n",
    "                prev = True\n",
    "            elif max_index == 2:\n",
    "                prev_line[j + 1] = True\n",
    "\n",
    "    # Identify the maximum score\n",
    "    cdef int min_seq = min(len_1, len_2)\n",
    "    cdef int max_score = -1000000 #= np.max(matrix[min_seq:, min_seq:])\n",
    "    cdef int show_num = 10\n",
    "\n",
    "    for i in range(min_seq, len_1 + 1):\n",
    "        for j in range(min_seq, len_2 + 1):\n",
    "            #print(matrix[i, j])\n",
    "            if matrix[i, j] > max_score: max_score = matrix[i, j]\n",
    "    \n",
    "    #print(\"max score:\", max_score)\n",
    "\n",
    "    index_list = []\n",
    "\n",
    "    for i in range(min_seq, len_1 + 1):\n",
    "        for j in range(min_seq, len_2 + 1):\n",
    "            if matrix[i, j] >= max_score:\n",
    "                index_list.append([i, j])\n",
    "\n",
    "\n",
    "    #cdef np.ndarray[np.int32_t, ndim=2] matrix_max = np.where(matrix == max_score)\n",
    "    #cdef np.ndarray[np.int64_t, ndim=1] matrix_max_x,  matrix_max_y\n",
    "    #print(\"new_way:\", index_list)\n",
    "    #matrix_max_x,  matrix_max_y = np.where(matrix == max_score)\n",
    "    #print(\"np.where\", matrix_max_x, matrix_max_y)\n",
    "    #print(type(matrix_max), matrix_max)#, matrix_max.shape, matrix_max.type)\n",
    "\n",
    "    # index_list = [] \n",
    "    # for i in range(len(matrix_max_x)):\n",
    "    #     if matrix_max_x[i] >= min_seq and matrix_max_y[i] >= min_seq:\n",
    "    #         index_list.append([matrix_max_x[i], matrix_max_y[i]])\n",
    "\n",
    "    # if len(index_list) > 1:\n",
    "    #    logger.warning(f\"Ambigous alignement, {len(index_list)} solutions exists\")\n",
    "\n",
    "    i = index_list[0][0]\n",
    "    j = index_list[0][1]\n",
    "\n",
    "    #print('nogap1', seq_1_nogap)\n",
    "    #print('nogap2', seq_2_nogap)\n",
    "\n",
    "\n",
    "    # Traceback and compute the alignment\n",
    "    cdef str align_1 = \"\", align_2 = \"\"\n",
    "\n",
    "    if i != len_1:\n",
    "        align_2 = (len_1 - i) * \"-\"\n",
    "\n",
    "    if j != len_2:\n",
    "        align_1 = (len_2 - j) * \"-\"\n",
    "\n",
    "    align_1 += seq_1_nogap[i:]\n",
    "    align_2 += seq_2_nogap[j:]\n",
    "\n",
    "    # i -= 1\n",
    "    # j -= 1\n",
    "\n",
    "    while i != 0 and j != 0:\n",
    "        if (\n",
    "            matrix[i, j]\n",
    "            == matrix[i - 1, j - 1] + BLOSUM_62_array[(seq_1_int[i - 1], seq_2_int[j - 1])]\n",
    "        ):\n",
    "            align_1 = seq_1_nogap[i - 1] + align_1\n",
    "            align_2 = seq_2_nogap[j - 1] + align_2\n",
    "            i -= 1\n",
    "            j -= 1\n",
    "        elif (\n",
    "            matrix[i, j] == matrix[i - 1, j] + gap_cost\n",
    "            or matrix[i, j] == matrix[i - 1, j] + gap_extension\n",
    "        ):\n",
    "            align_1 = seq_1_nogap[i - 1] + align_1\n",
    "            align_2 = str(\"-\") + align_2\n",
    "            i -= 1\n",
    "        elif (\n",
    "            matrix[i, j] == matrix[i, j - 1] + gap_cost\n",
    "            or matrix[i, j] == matrix[i, j - 1] + gap_extension\n",
    "        ):\n",
    "            align_1 = str(\"-\") + align_1\n",
    "            align_2 = seq_2_nogap[j - 1] + align_2\n",
    "            j -= 1\n",
    "\n",
    "    align_1 = seq_1_nogap[:i] + align_1\n",
    "    align_2 = seq_2_nogap[:j] + align_2\n",
    "\n",
    "    if i != 0:\n",
    "        align_2 = i * \"-\" + align_2\n",
    "    elif j != 0:\n",
    "        align_1 = j * \"-\" + align_1\n",
    "\n",
    "    #print(align_1)\n",
    "    #print(align_2)\n",
    "    #print(align_1.encode('utf-8'), align_2.encode('utf-8'))\n",
    "\n",
    "    assert len(align_1) == len(align_2)\n",
    "\n",
    "    return align_1, align_2\n",
    "\n",
    "align_seq_2('SSSVPSQKTYQGSYGFRLGFLHSGTAKSVTCTYSPALNKMFCQLAKTCPVQLWVDSTPPPGTRVRAMAIYKQSQHMTEVVRRCPHHERCSDSDGLAPPQHLIRVEGNLRVEYLDDRNTFRHSVVVPYEPPEVGSDCTTIHYNYMCNSSCMGGMNRRPILTIITLEDSSGNLLGRNSFEVRVCACPGRDRRTEEENLRK',\n",
    "            'SSVPSQKTYQGSYGFRLGFLHSGTAKSVTCTYSPALNKMFCQLAKTCPVQLWVDSTPPPGTRVRAMAIYKQSQHMTEVVRRCPHHERCSDSDGLAPPQHLIRVEGNLRVEYLDDRNTFRHSVVVPYEPPEVGSDCTTIHYNYMCNSSCMGGMNRRPILTIITLEDSSGNLLGRNSFEVRVCACPGRDWRTEEENLRKK')"
   ]
  },
  {
   "cell_type": "code",
   "execution_count": null,
   "metadata": {},
   "outputs": [],
   "source": []
  }
 ],
 "metadata": {
  "kernelspec": {
   "display_name": "Python 3 (ipykernel)",
   "language": "python",
   "name": "python3"
  },
  "language_info": {
   "codemirror_mode": {
    "name": "ipython",
    "version": 3
   },
   "file_extension": ".py",
   "mimetype": "text/x-python",
   "name": "python",
   "nbconvert_exporter": "python",
   "pygments_lexer": "ipython3",
   "version": "3.10.13"
  }
 },
 "nbformat": 4,
 "nbformat_minor": 4
}

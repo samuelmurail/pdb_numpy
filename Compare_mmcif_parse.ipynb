{
 "cells": [
  {
   "cell_type": "code",
   "execution_count": 15,
   "id": "f9f015c2-80b5-4290-86cb-7a20998dec6e",
   "metadata": {},
   "outputs": [],
   "source": [
    "import sys\n",
    "import os\n",
    "sys.path.insert(0, os.path.abspath('./src/'))"
   ]
  },
  {
   "cell_type": "markdown",
   "id": "65e85be1",
   "metadata": {},
   "source": [
    "$$         piTM = \\max_{i \\in \\mathcal{I}} \\frac{1}{I} \\sum_{j \\in \\mathcal{I}}  \\frac{1}{1 + [\\langle e_{ij} \\rangle / d_0 (I)]^2}\n",
    "$$ d_0(I) = \\begin{cases} \\mbox{true,} & \\mbox{if } "
   ]
  },
  {
   "cell_type": "markdown",
   "id": "f522edaa",
   "metadata": {},
   "source": [
    "$$ d_0(I) = \\begin{cases} 1.25 \\sqrt[3]{I} -15 -1.8\\text{,} & \\text{if } I \\geq 22 \\\\ 0.02 I \\text{,} & \\text{if } I < 22  \\end{cases}"
   ]
  },
  {
   "cell_type": "code",
   "execution_count": 17,
   "id": "bdbc9378-bfb9-4ada-8f1a-50deb6790c90",
   "metadata": {},
   "outputs": [],
   "source": [
    "if not os.path.exists('./tmp'):\n",
    "  os.mkdir('./tmp')"
   ]
  },
  {
   "cell_type": "code",
   "execution_count": 18,
   "id": "dc685835-316a-4c72-ae04-5445f2c72e78",
   "metadata": {},
   "outputs": [],
   "source": [
    "file_in = '../BeEM/example_input/3j6b.cif'"
   ]
  },
  {
   "cell_type": "markdown",
   "id": "ee939f6b-abf9-4e5d-9598-2da7514b4831",
   "metadata": {},
   "source": [
    "## PDB Numpy"
   ]
  },
  {
   "cell_type": "code",
   "execution_count": 19,
   "id": "0f08b67f-6204-493f-832b-ff09005b958d",
   "metadata": {},
   "outputs": [],
   "source": [
    "from pdb_numpy import Coor, Model, format, abinitio\n",
    "\n",
    "test = Coor(file_in)\n",
    "test.write(\"tmp.pdb\", overwrite=True)"
   ]
  },
  {
   "cell_type": "code",
   "execution_count": 20,
   "id": "a8e26a9c-2bbe-4972-9caa-270bda5ae894",
   "metadata": {},
   "outputs": [
    {
     "name": "stdout",
     "output_type": "stream",
     "text": [
      "2.51 s ± 15.2 ms per loop (mean ± std. dev. of 7 runs, 1 loop each)\n"
     ]
    }
   ],
   "source": [
    "%timeit Coor(file_in)"
   ]
  },
  {
   "cell_type": "code",
   "execution_count": 21,
   "id": "4300b8e7-fe54-43b0-8bc9-7dde9039b18b",
   "metadata": {},
   "outputs": [
    {
     "name": "stdout",
     "output_type": "stream",
     "text": [
      "5.19 s ± 56.8 ms per loop (mean ± std. dev. of 7 runs, 1 loop each)\n"
     ]
    }
   ],
   "source": [
    "%%timeit\n",
    "\n",
    "test = Coor(file_in)\n",
    "test.write(\"tmp.pdb\", overwrite=True)"
   ]
  },
  {
   "cell_type": "markdown",
   "id": "2daedfa4-df43-4f63-837e-0f300d84e23e",
   "metadata": {},
   "source": [
    "## BeEM"
   ]
  },
  {
   "cell_type": "code",
   "execution_count": 23,
   "id": "c8033855-7d9f-4d6b-8865-5e85cf1c5329",
   "metadata": {},
   "outputs": [],
   "source": [
    "import subprocess"
   ]
  },
  {
   "cell_type": "code",
   "execution_count": 25,
   "id": "b988d09c-67e8-46a0-bb76-a7c17f0144b5",
   "metadata": {},
   "outputs": [
    {
     "name": "stdout",
     "output_type": "stream",
     "text": [
      "3j6b-pdb-bundle1.pdb\n",
      "3j6b-pdb-bundle2.pdb\n",
      "3j6b-chain-id-mapping.txt\n",
      "3j6b-pdb-bundle1.pdb\n",
      "3j6b-pdb-bundle2.pdb\n",
      "3j6b-chain-id-mapping.txt\n",
      "3j6b-pdb-bundle1.pdb\n",
      "3j6b-pdb-bundle2.pdb\n",
      "3j6b-chain-id-mapping.txt\n",
      "3j6b-pdb-bundle1.pdb\n",
      "3j6b-pdb-bundle2.pdb\n",
      "3j6b-chain-id-mapping.txt\n",
      "3j6b-pdb-bundle1.pdb\n",
      "3j6b-pdb-bundle2.pdb\n",
      "3j6b-chain-id-mapping.txt\n",
      "3j6b-pdb-bundle1.pdb\n",
      "3j6b-pdb-bundle2.pdb\n",
      "3j6b-chain-id-mapping.txt\n",
      "3j6b-pdb-bundle1.pdb\n",
      "3j6b-pdb-bundle2.pdb\n",
      "3j6b-chain-id-mapping.txt\n",
      "3j6b-pdb-bundle1.pdb\n",
      "3j6b-pdb-bundle2.pdb\n",
      "3j6b-chain-id-mapping.txt\n",
      "1.16 s ± 15.3 ms per loop (mean ± std. dev. of 7 runs, 1 loop each)\n"
     ]
    }
   ],
   "source": [
    "os.chdir('tmp')\n",
    "%timeit subprocess.run([\"../../BeEM/BeEM\", \"../\" + file_in,])\n",
    "os.chdir('..')"
   ]
  },
  {
   "cell_type": "markdown",
   "id": "868b00d2-2d1b-4d0e-8f25-49eb44151066",
   "metadata": {},
   "source": [
    "## Biopython"
   ]
  },
  {
   "cell_type": "code",
   "execution_count": 12,
   "id": "01f1836b-d496-4ed0-9e8f-13cc2564af5f",
   "metadata": {},
   "outputs": [
    {
     "name": "stderr",
     "output_type": "stream",
     "text": [
      "/home/murail/miniforge3/envs/docking/lib/python3.10/site-packages/Bio/PDB/StructureBuilder.py:89: PDBConstructionWarning: WARNING: Chain A is discontinuous at line 195024.\n",
      "  warnings.warn(\n",
      "/home/murail/miniforge3/envs/docking/lib/python3.10/site-packages/Bio/PDB/StructureBuilder.py:89: PDBConstructionWarning: WARNING: Chain B is discontinuous at line 195133.\n",
      "  warnings.warn(\n",
      "/home/murail/miniforge3/envs/docking/lib/python3.10/site-packages/Bio/PDB/StructureBuilder.py:89: PDBConstructionWarning: WARNING: Chain N is discontinuous at line 195134.\n",
      "  warnings.warn(\n",
      "/home/murail/miniforge3/envs/docking/lib/python3.10/site-packages/Bio/PDB/StructureBuilder.py:89: PDBConstructionWarning: WARNING: Chain W is discontinuous at line 195135.\n",
      "  warnings.warn(\n",
      "/home/murail/miniforge3/envs/docking/lib/python3.10/site-packages/Bio/PDB/StructureBuilder.py:89: PDBConstructionWarning: WARNING: Chain 0 is discontinuous at line 195136.\n",
      "  warnings.warn(\n"
     ]
    },
    {
     "ename": "PDBIOException",
     "evalue": "Error when writing atom ('3j6b', 0, 'E', (' ', 83, ' '), ('CD2', ' '))",
     "output_type": "error",
     "traceback": [
      "\u001b[0;31m---------------------------------------------------------------------------\u001b[0m",
      "\u001b[0;31mValueError\u001b[0m                                Traceback (most recent call last)",
      "File \u001b[0;32m~/miniforge3/envs/docking/lib/python3.10/site-packages/Bio/PDB/PDBIO.py:379\u001b[0m, in \u001b[0;36mPDBIO.save\u001b[0;34m(self, file, select, write_end, preserve_atom_numbering)\u001b[0m\n\u001b[1;32m    378\u001b[0m \u001b[38;5;28;01mtry\u001b[39;00m:\n\u001b[0;32m--> 379\u001b[0m     s \u001b[38;5;241m=\u001b[39m \u001b[43mget_atom_line\u001b[49m\u001b[43m(\u001b[49m\n\u001b[1;32m    380\u001b[0m \u001b[43m        \u001b[49m\u001b[43matom\u001b[49m\u001b[43m,\u001b[49m\n\u001b[1;32m    381\u001b[0m \u001b[43m        \u001b[49m\u001b[43mhetfield\u001b[49m\u001b[43m,\u001b[49m\n\u001b[1;32m    382\u001b[0m \u001b[43m        \u001b[49m\u001b[43msegid\u001b[49m\u001b[43m,\u001b[49m\n\u001b[1;32m    383\u001b[0m \u001b[43m        \u001b[49m\u001b[43matom_number\u001b[49m\u001b[43m,\u001b[49m\n\u001b[1;32m    384\u001b[0m \u001b[43m        \u001b[49m\u001b[43mresname\u001b[49m\u001b[43m,\u001b[49m\n\u001b[1;32m    385\u001b[0m \u001b[43m        \u001b[49m\u001b[43mresseq\u001b[49m\u001b[43m,\u001b[49m\n\u001b[1;32m    386\u001b[0m \u001b[43m        \u001b[49m\u001b[43micode\u001b[49m\u001b[43m,\u001b[49m\n\u001b[1;32m    387\u001b[0m \u001b[43m        \u001b[49m\u001b[43mchain_id\u001b[49m\u001b[43m,\u001b[49m\n\u001b[1;32m    388\u001b[0m \u001b[43m    \u001b[49m\u001b[43m)\u001b[49m\n\u001b[1;32m    389\u001b[0m \u001b[38;5;28;01mexcept\u001b[39;00m \u001b[38;5;167;01mException\u001b[39;00m \u001b[38;5;28;01mas\u001b[39;00m err:\n\u001b[1;32m    390\u001b[0m     \u001b[38;5;66;03m# catch and re-raise with more information\u001b[39;00m\n",
      "File \u001b[0;32m~/miniforge3/envs/docking/lib/python3.10/site-packages/Bio/PDB/PDBIO.py:188\u001b[0m, in \u001b[0;36mPDBIO._get_atom_line\u001b[0;34m(self, atom, hetfield, segid, atom_number, resname, resseq, icode, chain_id, charge)\u001b[0m\n\u001b[1;32m    187\u001b[0m \u001b[38;5;28;01mif\u001b[39;00m atom_number \u001b[38;5;241m>\u001b[39m \u001b[38;5;241m99999\u001b[39m:\n\u001b[0;32m--> 188\u001b[0m     \u001b[38;5;28;01mraise\u001b[39;00m \u001b[38;5;167;01mValueError\u001b[39;00m(\n\u001b[1;32m    189\u001b[0m         \u001b[38;5;124mf\u001b[39m\u001b[38;5;124m\"\u001b[39m\u001b[38;5;124mAtom serial number (\u001b[39m\u001b[38;5;124m'\u001b[39m\u001b[38;5;132;01m{\u001b[39;00matom_number\u001b[38;5;132;01m}\u001b[39;00m\u001b[38;5;124m'\u001b[39m\u001b[38;5;124m) exceeds PDB format limit.\u001b[39m\u001b[38;5;124m\"\u001b[39m\n\u001b[1;32m    190\u001b[0m     )\n\u001b[1;32m    192\u001b[0m \u001b[38;5;66;03m# Check if the element is valid, unknown (X), or blank\u001b[39;00m\n",
      "\u001b[0;31mValueError\u001b[0m: Atom serial number ('100000') exceeds PDB format limit.",
      "\nThe above exception was the direct cause of the following exception:\n",
      "\u001b[0;31mPDBIOException\u001b[0m                            Traceback (most recent call last)",
      "Cell \u001b[0;32mIn[12], line 12\u001b[0m\n\u001b[1;32m     10\u001b[0m io\u001b[38;5;241m=\u001b[39mPDBIO()\n\u001b[1;32m     11\u001b[0m io\u001b[38;5;241m.\u001b[39mset_structure(struc)\n\u001b[0;32m---> 12\u001b[0m \u001b[43mio\u001b[49m\u001b[38;5;241;43m.\u001b[39;49m\u001b[43msave\u001b[49m\u001b[43m(\u001b[49m\u001b[38;5;124;43m\"\u001b[39;49m\u001b[38;5;124;43mtmp_biopython.pdb\u001b[39;49m\u001b[38;5;124;43m\"\u001b[39;49m\u001b[43m)\u001b[49m\n",
      "File \u001b[0;32m~/miniforge3/envs/docking/lib/python3.10/site-packages/Bio/PDB/PDBIO.py:391\u001b[0m, in \u001b[0;36mPDBIO.save\u001b[0;34m(self, file, select, write_end, preserve_atom_numbering)\u001b[0m\n\u001b[1;32m    379\u001b[0m     s \u001b[38;5;241m=\u001b[39m get_atom_line(\n\u001b[1;32m    380\u001b[0m         atom,\n\u001b[1;32m    381\u001b[0m         hetfield,\n\u001b[0;32m   (...)\u001b[0m\n\u001b[1;32m    387\u001b[0m         chain_id,\n\u001b[1;32m    388\u001b[0m     )\n\u001b[1;32m    389\u001b[0m \u001b[38;5;28;01mexcept\u001b[39;00m \u001b[38;5;167;01mException\u001b[39;00m \u001b[38;5;28;01mas\u001b[39;00m err:\n\u001b[1;32m    390\u001b[0m     \u001b[38;5;66;03m# catch and re-raise with more information\u001b[39;00m\n\u001b[0;32m--> 391\u001b[0m     \u001b[38;5;28;01mraise\u001b[39;00m PDBIOException(\n\u001b[1;32m    392\u001b[0m         \u001b[38;5;124mf\u001b[39m\u001b[38;5;124m\"\u001b[39m\u001b[38;5;124mError when writing atom \u001b[39m\u001b[38;5;132;01m{\u001b[39;00matom\u001b[38;5;241m.\u001b[39mfull_id\u001b[38;5;132;01m}\u001b[39;00m\u001b[38;5;124m\"\u001b[39m\n\u001b[1;32m    393\u001b[0m     ) \u001b[38;5;28;01mfrom\u001b[39;00m \u001b[38;5;21;01merr\u001b[39;00m\n\u001b[1;32m    394\u001b[0m \u001b[38;5;28;01melse\u001b[39;00m:\n\u001b[1;32m    395\u001b[0m     fhandle\u001b[38;5;241m.\u001b[39mwrite(s)\n",
      "\u001b[0;31mPDBIOException\u001b[0m: Error when writing atom ('3j6b', 0, 'E', (' ', 83, ' '), ('CD2', ' '))"
     ]
    }
   ],
   "source": [
    "# First import MMCIF2Dict function\n",
    "\n",
    "from Bio.PDB import PDBIO, MMCIFParser\n",
    "\n",
    "# read in the CIF file.\n",
    "parser = MMCIFParser()\n",
    "struc = parser.get_structure('3j6b', filename=file_in)\n",
    "\n",
    "# Save as pdb\n",
    "io=PDBIO()\n",
    "io.set_structure(struc)\n",
    "io.save(\"tmp_biopython.pdb\")"
   ]
  },
  {
   "cell_type": "code",
   "execution_count": 18,
   "id": "1632a07d-be2c-4e73-bf39-0cc52361721c",
   "metadata": {},
   "outputs": [],
   "source": [
    "\n",
    "class OutOfChainsError(Exception): pass\n",
    "def rename_chains(structure):\n",
    "    \"\"\"Renames chains to be one-letter chains\n",
    "    \n",
    "    Existing one-letter chains will be kept. Multi-letter chains will be truncated\n",
    "    or renamed to the next available letter of the alphabet.\n",
    "    \n",
    "    If more than 62 chains are present in the structure, raises an OutOfChainsError\n",
    "    \n",
    "    Returns a map between new and old chain IDs, as well as modifying the input structure\n",
    "    \"\"\"\n",
    "    next_chain = 0 #\n",
    "    # single-letters stay the same\n",
    "    chainmap = {c.id:c.id for c in structure.get_chains() if len(c.id) == 1}\n",
    "    for o in structure.get_chains():\n",
    "        if len(o.id) != 1:\n",
    "            if o.id[0] not in chainmap:\n",
    "                chainmap[o.id[0]] = o.id\n",
    "                o.id = o.id[0]\n",
    "            else:\n",
    "                c = int_to_chain(next_chain)\n",
    "                while c in chainmap:\n",
    "                    next_chain += 1\n",
    "                    c = int_to_chain(next_chain)\n",
    "                    if next_chain >= 62:\n",
    "                        raise OutOfChainsError()\n",
    "                chainmap[c] = o.id\n",
    "                o.id = c\n",
    "    return chainmap"
   ]
  },
  {
   "cell_type": "code",
   "execution_count": 1,
   "id": "144355c2-4cb0-4fa9-9548-21d97366e536",
   "metadata": {},
   "outputs": [
    {
     "ename": "NameError",
     "evalue": "name 'file_in' is not defined",
     "output_type": "error",
     "traceback": [
      "\u001b[0;31m---------------------------------------------------------------------------\u001b[0m",
      "\u001b[0;31mNameError\u001b[0m                                 Traceback (most recent call last)",
      "Cell \u001b[0;32mIn[1], line 4\u001b[0m\n\u001b[1;32m      1\u001b[0m \u001b[38;5;28;01mfrom\u001b[39;00m \u001b[38;5;21;01mBio\u001b[39;00m\u001b[38;5;21;01m.\u001b[39;00m\u001b[38;5;21;01mPDB\u001b[39;00m \u001b[38;5;28;01mimport\u001b[39;00m MMCIFParser, PDBIO\n\u001b[1;32m      3\u001b[0m parser \u001b[38;5;241m=\u001b[39m MMCIFParser()\n\u001b[0;32m----> 4\u001b[0m struc \u001b[38;5;241m=\u001b[39m parser\u001b[38;5;241m.\u001b[39mget_structure(\u001b[38;5;124m'\u001b[39m\u001b[38;5;124m3j6b\u001b[39m\u001b[38;5;124m'\u001b[39m, filename\u001b[38;5;241m=\u001b[39m\u001b[43mfile_in\u001b[49m)\n\u001b[1;32m      6\u001b[0m chainmap \u001b[38;5;241m=\u001b[39m rename_chains(struc)\n\u001b[1;32m      8\u001b[0m io \u001b[38;5;241m=\u001b[39m PDBIO()\n",
      "\u001b[0;31mNameError\u001b[0m: name 'file_in' is not defined"
     ]
    }
   ],
   "source": [
    "from Bio.PDB import MMCIFParser, PDBIO\n",
    "\n",
    "parser = MMCIFParser()\n",
    "struc = parser.get_structure('3j6b', filename=file_in)\n",
    "\n",
    "chainmap = rename_chains(struc)\n",
    "\n",
    "io = PDBIO()\n",
    "io.set_structure(struc)\n",
    "io.save(\"tmp_biopython.pdb\")"
   ]
  },
  {
   "cell_type": "code",
   "execution_count": 20,
   "id": "c317d5b6-d472-4e18-bb03-d44d4938ebdb",
   "metadata": {},
   "outputs": [
    {
     "name": "stderr",
     "output_type": "stream",
     "text": [
      "/home/murail/miniforge3/envs/docking/lib/python3.10/site-packages/Bio/PDB/StructureBuilder.py:89: PDBConstructionWarning: WARNING: Chain A is discontinuous at line 195024.\n",
      "  warnings.warn(\n",
      "/home/murail/miniforge3/envs/docking/lib/python3.10/site-packages/Bio/PDB/StructureBuilder.py:89: PDBConstructionWarning: WARNING: Chain B is discontinuous at line 195133.\n",
      "  warnings.warn(\n",
      "/home/murail/miniforge3/envs/docking/lib/python3.10/site-packages/Bio/PDB/StructureBuilder.py:89: PDBConstructionWarning: WARNING: Chain N is discontinuous at line 195134.\n",
      "  warnings.warn(\n",
      "/home/murail/miniforge3/envs/docking/lib/python3.10/site-packages/Bio/PDB/StructureBuilder.py:89: PDBConstructionWarning: WARNING: Chain W is discontinuous at line 195135.\n",
      "  warnings.warn(\n",
      "/home/murail/miniforge3/envs/docking/lib/python3.10/site-packages/Bio/PDB/StructureBuilder.py:89: PDBConstructionWarning: WARNING: Chain 0 is discontinuous at line 195136.\n",
      "  warnings.warn(\n",
      "/home/murail/miniforge3/envs/docking/lib/python3.10/site-packages/Bio/PDB/StructureBuilder.py:89: PDBConstructionWarning: WARNING: Chain A is discontinuous at line 195024.\n",
      "  warnings.warn(\n",
      "/home/murail/miniforge3/envs/docking/lib/python3.10/site-packages/Bio/PDB/StructureBuilder.py:89: PDBConstructionWarning: WARNING: Chain B is discontinuous at line 195133.\n",
      "  warnings.warn(\n",
      "/home/murail/miniforge3/envs/docking/lib/python3.10/site-packages/Bio/PDB/StructureBuilder.py:89: PDBConstructionWarning: WARNING: Chain N is discontinuous at line 195134.\n",
      "  warnings.warn(\n",
      "/home/murail/miniforge3/envs/docking/lib/python3.10/site-packages/Bio/PDB/StructureBuilder.py:89: PDBConstructionWarning: WARNING: Chain W is discontinuous at line 195135.\n",
      "  warnings.warn(\n",
      "/home/murail/miniforge3/envs/docking/lib/python3.10/site-packages/Bio/PDB/StructureBuilder.py:89: PDBConstructionWarning: WARNING: Chain 0 is discontinuous at line 195136.\n",
      "  warnings.warn(\n",
      "/home/murail/miniforge3/envs/docking/lib/python3.10/site-packages/Bio/PDB/StructureBuilder.py:89: PDBConstructionWarning: WARNING: Chain A is discontinuous at line 195024.\n",
      "  warnings.warn(\n",
      "/home/murail/miniforge3/envs/docking/lib/python3.10/site-packages/Bio/PDB/StructureBuilder.py:89: PDBConstructionWarning: WARNING: Chain B is discontinuous at line 195133.\n",
      "  warnings.warn(\n",
      "/home/murail/miniforge3/envs/docking/lib/python3.10/site-packages/Bio/PDB/StructureBuilder.py:89: PDBConstructionWarning: WARNING: Chain N is discontinuous at line 195134.\n",
      "  warnings.warn(\n",
      "/home/murail/miniforge3/envs/docking/lib/python3.10/site-packages/Bio/PDB/StructureBuilder.py:89: PDBConstructionWarning: WARNING: Chain W is discontinuous at line 195135.\n",
      "  warnings.warn(\n",
      "/home/murail/miniforge3/envs/docking/lib/python3.10/site-packages/Bio/PDB/StructureBuilder.py:89: PDBConstructionWarning: WARNING: Chain 0 is discontinuous at line 195136.\n",
      "  warnings.warn(\n",
      "/home/murail/miniforge3/envs/docking/lib/python3.10/site-packages/Bio/PDB/StructureBuilder.py:89: PDBConstructionWarning: WARNING: Chain A is discontinuous at line 195024.\n",
      "  warnings.warn(\n",
      "/home/murail/miniforge3/envs/docking/lib/python3.10/site-packages/Bio/PDB/StructureBuilder.py:89: PDBConstructionWarning: WARNING: Chain B is discontinuous at line 195133.\n",
      "  warnings.warn(\n",
      "/home/murail/miniforge3/envs/docking/lib/python3.10/site-packages/Bio/PDB/StructureBuilder.py:89: PDBConstructionWarning: WARNING: Chain N is discontinuous at line 195134.\n",
      "  warnings.warn(\n",
      "/home/murail/miniforge3/envs/docking/lib/python3.10/site-packages/Bio/PDB/StructureBuilder.py:89: PDBConstructionWarning: WARNING: Chain W is discontinuous at line 195135.\n",
      "  warnings.warn(\n",
      "/home/murail/miniforge3/envs/docking/lib/python3.10/site-packages/Bio/PDB/StructureBuilder.py:89: PDBConstructionWarning: WARNING: Chain 0 is discontinuous at line 195136.\n",
      "  warnings.warn(\n",
      "/home/murail/miniforge3/envs/docking/lib/python3.10/site-packages/Bio/PDB/StructureBuilder.py:89: PDBConstructionWarning: WARNING: Chain A is discontinuous at line 195024.\n",
      "  warnings.warn(\n",
      "/home/murail/miniforge3/envs/docking/lib/python3.10/site-packages/Bio/PDB/StructureBuilder.py:89: PDBConstructionWarning: WARNING: Chain B is discontinuous at line 195133.\n",
      "  warnings.warn(\n",
      "/home/murail/miniforge3/envs/docking/lib/python3.10/site-packages/Bio/PDB/StructureBuilder.py:89: PDBConstructionWarning: WARNING: Chain N is discontinuous at line 195134.\n",
      "  warnings.warn(\n",
      "/home/murail/miniforge3/envs/docking/lib/python3.10/site-packages/Bio/PDB/StructureBuilder.py:89: PDBConstructionWarning: WARNING: Chain W is discontinuous at line 195135.\n",
      "  warnings.warn(\n",
      "/home/murail/miniforge3/envs/docking/lib/python3.10/site-packages/Bio/PDB/StructureBuilder.py:89: PDBConstructionWarning: WARNING: Chain 0 is discontinuous at line 195136.\n",
      "  warnings.warn(\n",
      "/home/murail/miniforge3/envs/docking/lib/python3.10/site-packages/Bio/PDB/StructureBuilder.py:89: PDBConstructionWarning: WARNING: Chain A is discontinuous at line 195024.\n",
      "  warnings.warn(\n",
      "/home/murail/miniforge3/envs/docking/lib/python3.10/site-packages/Bio/PDB/StructureBuilder.py:89: PDBConstructionWarning: WARNING: Chain B is discontinuous at line 195133.\n",
      "  warnings.warn(\n",
      "/home/murail/miniforge3/envs/docking/lib/python3.10/site-packages/Bio/PDB/StructureBuilder.py:89: PDBConstructionWarning: WARNING: Chain N is discontinuous at line 195134.\n",
      "  warnings.warn(\n",
      "/home/murail/miniforge3/envs/docking/lib/python3.10/site-packages/Bio/PDB/StructureBuilder.py:89: PDBConstructionWarning: WARNING: Chain W is discontinuous at line 195135.\n",
      "  warnings.warn(\n",
      "/home/murail/miniforge3/envs/docking/lib/python3.10/site-packages/Bio/PDB/StructureBuilder.py:89: PDBConstructionWarning: WARNING: Chain 0 is discontinuous at line 195136.\n",
      "  warnings.warn(\n",
      "/home/murail/miniforge3/envs/docking/lib/python3.10/site-packages/Bio/PDB/StructureBuilder.py:89: PDBConstructionWarning: WARNING: Chain A is discontinuous at line 195024.\n",
      "  warnings.warn(\n",
      "/home/murail/miniforge3/envs/docking/lib/python3.10/site-packages/Bio/PDB/StructureBuilder.py:89: PDBConstructionWarning: WARNING: Chain B is discontinuous at line 195133.\n",
      "  warnings.warn(\n",
      "/home/murail/miniforge3/envs/docking/lib/python3.10/site-packages/Bio/PDB/StructureBuilder.py:89: PDBConstructionWarning: WARNING: Chain N is discontinuous at line 195134.\n",
      "  warnings.warn(\n",
      "/home/murail/miniforge3/envs/docking/lib/python3.10/site-packages/Bio/PDB/StructureBuilder.py:89: PDBConstructionWarning: WARNING: Chain W is discontinuous at line 195135.\n",
      "  warnings.warn(\n",
      "/home/murail/miniforge3/envs/docking/lib/python3.10/site-packages/Bio/PDB/StructureBuilder.py:89: PDBConstructionWarning: WARNING: Chain 0 is discontinuous at line 195136.\n",
      "  warnings.warn(\n",
      "/home/murail/miniforge3/envs/docking/lib/python3.10/site-packages/Bio/PDB/StructureBuilder.py:89: PDBConstructionWarning: WARNING: Chain A is discontinuous at line 195024.\n",
      "  warnings.warn(\n",
      "/home/murail/miniforge3/envs/docking/lib/python3.10/site-packages/Bio/PDB/StructureBuilder.py:89: PDBConstructionWarning: WARNING: Chain B is discontinuous at line 195133.\n",
      "  warnings.warn(\n",
      "/home/murail/miniforge3/envs/docking/lib/python3.10/site-packages/Bio/PDB/StructureBuilder.py:89: PDBConstructionWarning: WARNING: Chain N is discontinuous at line 195134.\n",
      "  warnings.warn(\n",
      "/home/murail/miniforge3/envs/docking/lib/python3.10/site-packages/Bio/PDB/StructureBuilder.py:89: PDBConstructionWarning: WARNING: Chain W is discontinuous at line 195135.\n",
      "  warnings.warn(\n",
      "/home/murail/miniforge3/envs/docking/lib/python3.10/site-packages/Bio/PDB/StructureBuilder.py:89: PDBConstructionWarning: WARNING: Chain 0 is discontinuous at line 195136.\n",
      "  warnings.warn(\n"
     ]
    },
    {
     "name": "stdout",
     "output_type": "stream",
     "text": [
      "7.24 s ± 62.4 ms per loop (mean ± std. dev. of 7 runs, 1 loop each)\n"
     ]
    }
   ],
   "source": [
    "%timeit parser.get_structure('3j6b', filename=file_in)"
   ]
  },
  {
   "cell_type": "code",
   "execution_count": null,
   "id": "318c98e5-3112-4998-936a-ca4596291e83",
   "metadata": {},
   "outputs": [],
   "source": [
    "%%timeit\n",
    "\n",
    "test = Coor(file_in)\n",
    "test.write(\"tmp.pdb\", overwrite=True)"
   ]
  },
  {
   "cell_type": "code",
   "execution_count": null,
   "id": "120d4b3f-aa57-43eb-b2a8-158d079a4544",
   "metadata": {},
   "outputs": [],
   "source": []
  }
 ],
 "metadata": {
  "kernelspec": {
   "display_name": "Python 3 (ipykernel)",
   "language": "python",
   "name": "python3"
  },
  "language_info": {
   "codemirror_mode": {
    "name": "ipython",
    "version": 3
   },
   "file_extension": ".py",
   "mimetype": "text/x-python",
   "name": "python",
   "nbconvert_exporter": "python",
   "pygments_lexer": "ipython3",
   "version": "3.10.13"
  }
 },
 "nbformat": 4,
 "nbformat_minor": 5
}

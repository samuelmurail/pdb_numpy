{
 "cells": [
  {
   "cell_type": "code",
   "execution_count": 1,
   "metadata": {},
   "outputs": [],
   "source": [
    "import sys\n",
    "import os\n",
    "import numpy as np\n",
    "from copy import deepcopy\n",
    "\n",
    "sys.path.insert(0, os.path.abspath('./src/'))\n",
    "\n",
    "from pdb_numpy import Coor, Model, format, abinitio"
   ]
  },
  {
   "cell_type": "code",
   "execution_count": 2,
   "metadata": {},
   "outputs": [],
   "source": [
    "from importlib import reload\n",
    "abinitio = reload(abinitio)"
   ]
  },
  {
   "cell_type": "code",
   "execution_count": 4,
   "metadata": {},
   "outputs": [
    {
     "name": "stdout",
     "output_type": "stream",
     "text": [
      "12.4 s ± 276 ms per loop (mean ± std. dev. of 7 runs, 1 loop each)\n"
     ]
    }
   ],
   "source": [
    "%%timeit\n",
    "test = Coor('../BeEM/example_input/3j6b.cif')"
   ]
  },
  {
   "cell_type": "code",
   "execution_count": 3,
   "metadata": {},
   "outputs": [],
   "source": [
    "test = Coor('../BeEM/example_input/3j6b.cif')\n",
    "test.write(\"tmp.pdb\", overwrite=True)"
   ]
  },
  {
   "cell_type": "code",
   "execution_count": 24,
   "metadata": {},
   "outputs": [
    {
     "data": {
      "text/plain": [
       "'A B C D E F G H I J K L M N O P Q R S T U V W X Y Z 0 1 2 3 4 5 6 7 8 9 a b c d e f g h i j k l m n o p q r s t u v w x y z À Á Â Ã Ä Å Æ Ç È É Ê Ë Ì Í Î Ï Ð Ñ Ò Ó Ô Õ Ö × Ø Ù Ú Û Ü Ý Þ ß à á â ã ä å æ ç è é ê ë ì í î ï ð ñ ò ó ô õ ö ÷ ø ù ú û ü ý þ ÿ Ā ā Ă ă Ą ą Ć ć Ĉ ĉ Ċ ċ Č č Ď ď Đ đ Ē ē Ĕ ĕ Ė ė Ę ę Ě ě Ĝ ĝ Ğ ğ Ġ ġ Ģ ģ Ĥ ĥ Ħ ħ Ĩ ĩ Ī ī Ĭ ĭ Į į İ ı Ĳ ĳ Ĵ ĵ Ķ ķ ĸ Ĺ ĺ Ļ ļ Ľ ľ Ŀ ŀ Ł ł Ń ń Ņ ņ Ň ň ŉ Ŋ ŋ Ō ō Ŏ ŏ Ő ő Œ œ Ŕ ŕ Ŗ ŗ Ř ř Ś ś Ŝ ŝ Ş ş Š š Ţ ţ Ť ť Ŧ ŧ Ũ ũ Ū ū Ŭ ŭ Ů ů Ű ű Ų ų Ŵ ŵ Ŷ ŷ Ÿ Ź ź Ż ż Ž ž ſ ƀ Ɓ Ƃ ƃ Ƅ ƅ Ɔ Ƈ ƈ Ɖ Ɗ Ƌ ƌ ƍ Ǝ Ə Ɛ Ƒ ƒ Ɠ Ɣ ƕ Ɩ Ɨ Ƙ ƙ ƚ ƛ Ɯ Ɲ ƞ Ɵ Ơ ơ Ƣ ƣ Ƥ ƥ Ʀ Ƨ ƨ Ʃ ƪ ƫ Ƭ ƭ Ʈ Ư ư Ʊ Ʋ Ƴ ƴ Ƶ ƶ Ʒ Ƹ ƹ ƺ ƻ Ƽ ƽ ƾ ƿ ǀ ǁ ǂ ǃ Ǆ ǅ ǆ Ǉ ǈ ǉ Ǌ ǋ ǌ Ǎ ǎ Ǐ ǐ Ǒ ǒ Ǔ ǔ Ǖ ǖ Ǘ ǘ Ǚ ǚ Ǜ ǜ ǝ Ǟ ǟ Ǡ ǡ Ǣ ǣ Ǥ ǥ Ǧ ǧ Ǩ ǩ Ǫ ǫ Ǭ ǭ Ǯ ǯ ǰ Ǳ ǲ ǳ'"
      ]
     },
     "execution_count": 24,
     "metadata": {},
     "output_type": "execute_result"
    }
   ],
   "source": [
    "CHAIN_LIST = [chr(i) for i in list(range(65, 91)) + list(range(48, 58)) + list(range(97, 123)) + list(range(192, 500))]\n",
    "\" \".join(CHAIN_LIST)"
   ]
  },
  {
   "cell_type": "code",
   "execution_count": 22,
   "metadata": {},
   "outputs": [
    {
     "name": "stdout",
     "output_type": "stream",
     "text": [
      "['A', 'B', 'C', 'D', 'E', 'F', 'G', 'H', 'I', 'J', 'K', 'L', 'M', 'N', 'O', 'P', 'Q', 'R', 'S', 'T', 'U', 'V', 'W', 'X', 'Y', 'Z', '0', '1', '2', '3', '4', '5', '6', '7', '8', '9', 'a', 'b', 'c', 'd', 'e', 'f', 'g', 'h', 'i', 'j', 'k', 'l', 'm', 'n', 'o', 'p', 'q', 'r', 's', 't', 'u', 'v', 'w', 'x', 'y', 'z', 'À', 'Á', 'Â', 'Ã', 'Ä', 'Å', 'Æ', 'Ç', 'È', 'É', 'Ê', 'Ë', 'Ì', 'Í', 'Î', 'Ï', 'Ð', 'Ñ', 'Ò', 'Ó', 'Ô', 'Õ', 'Ö', '×', 'Ø', 'Ù', 'Ú', 'Û', 'Ü', 'Ý', 'Þ', 'ß', 'à', 'á', 'â', 'ã', 'ä', 'å', 'æ', 'ç', 'è', 'é', 'ê', 'ë', 'ì', 'í', 'î', 'ï', 'ð', 'ñ', 'ò', 'ó', 'ô', 'õ', 'ö', '÷', 'ø', 'ù', 'ú', 'û', 'ü', 'ý', 'þ', 'ÿ', 'Ā', 'ā', 'Ă', 'ă', 'Ą', 'ą', 'Ć', 'ć', 'Ĉ', 'ĉ', 'Ċ', 'ċ', 'Č', 'č', 'Ď', 'ď', 'Đ', 'đ', 'Ē', 'ē', 'Ĕ', 'ĕ', 'Ė', 'ė', 'Ę', 'ę', 'Ě', 'ě', 'Ĝ', 'ĝ', 'Ğ', 'ğ', 'Ġ', 'ġ', 'Ģ', 'ģ', 'Ĥ', 'ĥ', 'Ħ', 'ħ', 'Ĩ', 'ĩ', 'Ī', 'ī', 'Ĭ', 'ĭ', 'Į', 'į', 'İ', 'ı', 'Ĳ', 'ĳ', 'Ĵ', 'ĵ', 'Ķ', 'ķ', 'ĸ', 'Ĺ', 'ĺ', 'Ļ', 'ļ', 'Ľ', 'ľ', 'Ŀ', 'ŀ', 'Ł', 'ł', 'Ń', 'ń', 'Ņ', 'ņ', 'Ň', 'ň', 'ŉ', 'Ŋ', 'ŋ', 'Ō', 'ō', 'Ŏ', 'ŏ', 'Ő', 'ő', 'Œ', 'œ', 'Ŕ', 'ŕ', 'Ŗ', 'ŗ', 'Ř', 'ř', 'Ś', 'ś', 'Ŝ', 'ŝ', 'Ş', 'ş', 'Š', 'š', 'Ţ', 'ţ', 'Ť', 'ť', 'Ŧ', 'ŧ', 'Ũ', 'ũ', 'Ū', 'ū', 'Ŭ', 'ŭ', 'Ů', 'ů', 'Ű', 'ű', 'Ų', 'ų', 'Ŵ', 'ŵ', 'Ŷ', 'ŷ', 'Ÿ', 'Ź', 'ź', 'Ż', 'ż', 'Ž', 'ž', 'ſ', 'ƀ', 'Ɓ', 'Ƃ', 'ƃ', 'Ƅ', 'ƅ', 'Ɔ', 'Ƈ', 'ƈ', 'Ɖ', 'Ɗ', 'Ƌ', 'ƌ', 'ƍ', 'Ǝ', 'Ə', 'Ɛ', 'Ƒ', 'ƒ', 'Ɠ', 'Ɣ', 'ƕ', 'Ɩ', 'Ɨ', 'Ƙ', 'ƙ', 'ƚ', 'ƛ', 'Ɯ', 'Ɲ', 'ƞ', 'Ɵ', 'Ơ', 'ơ', 'Ƣ', 'ƣ', 'Ƥ', 'ƥ', 'Ʀ', 'Ƨ', 'ƨ', 'Ʃ', 'ƪ', 'ƫ', 'Ƭ', 'ƭ', 'Ʈ', 'Ư', 'ư', 'Ʊ', 'Ʋ', 'Ƴ', 'ƴ', 'Ƶ', 'ƶ', 'Ʒ', 'Ƹ', 'ƹ', 'ƺ', 'ƻ', 'Ƽ', 'ƽ', 'ƾ', 'ƿ', 'ǀ', 'ǁ', 'ǂ', 'ǃ', 'Ǆ', 'ǅ', 'ǆ', 'Ǉ', 'ǈ', 'ǉ', 'Ǌ', 'ǋ', 'ǌ', 'Ǎ', 'ǎ', 'Ǐ', 'ǐ', 'Ǒ', 'ǒ', 'Ǔ', 'ǔ', 'Ǖ', 'ǖ', 'Ǘ', 'ǘ', 'Ǚ', 'ǚ', 'Ǜ', 'ǜ', 'ǝ', 'Ǟ', 'ǟ', 'Ǡ', 'ǡ', 'Ǣ', 'ǣ', 'Ǥ', 'ǥ', 'Ǧ', 'ǧ', 'Ǩ', 'ǩ', 'Ǫ', 'ǫ', 'Ǭ', 'ǭ', 'Ǯ', 'ǯ', 'ǰ', 'Ǳ', 'ǲ', 'ǳ']\n",
      "  0 \u0000 \n",
      "  1 \u0001   2 \u0002   3 \u0003   4 \u0004   5 \u0005   6 \u0006   7 \u0007   8   9 \t  10 \n",
      "  14 \u000e  15 \u000f  16 \u0010  17 \u0011  18 \u0012  19 \u0013  20 \u0014 \n",
      " 21 \u0015  22 \u0016  23 \u0017  24 \u0018  25 \u0019  26 \u001a  27 \u001b  28 \u001c  29 \u001d  30 \u001e  31 \u001f  32    33 !  34 \"  35 #  36 $  37 %  38 &  39 '  40 ( \n",
      " 41 )  42 *  43 +  44 ,  45 -  46 .  47 /  48 0  49 1  50 2  51 3  52 4  53 5  54 6  55 7  56 8  57 9  58 :  59 ;  60 < \n",
      " 61 =  62 >  63 ?  64 @  65 A  66 B  67 C  68 D  69 E  70 F  71 G  72 H  73 I  74 J  75 K  76 L  77 M  78 N  79 O  80 P \n",
      " 81 Q  82 R  83 S  84 T  85 U  86 V  87 W  88 X  89 Y  90 Z  91 [  92 \\  93 ]  94 ^  95 _  96 `  97 a  98 b  99 c 100 d \n",
      "101 e 102 f 103 g 104 h 105 i 106 j 107 k 108 l 109 m 110 n 111 o 112 p 113 q 114 r 115 s 116 t 117 u 118 v 119 w 120 x \n",
      "121 y 122 z 123 { 124 | 125 } 126 ~ 127  128  129  130  131  132  133  134  135  136  137  138  139  140  \n",
      "141  142  143  144  145  146  147  148  149  150  151  152  153  154  155  156  157  158  159  160   \n",
      "161 ¡ 162 ¢ 163 £ 164 ¤ 165 ¥ 166 ¦ 167 § 168 ¨ 169 © 170 ª 171 « 172 ¬ 173 ­ 174 ® 175 ¯ 176 ° 177 ± 178 ² 179 ³ 180 ´ \n",
      "181 µ 182 ¶ 183 · 184 ¸ 185 ¹ 186 º 187 » 188 ¼ 189 ½ 190 ¾ 191 ¿ 192 À 193 Á 194 Â 195 Ã 196 Ä 197 Å 198 Æ 199 Ç 200 È \n",
      "201 É 202 Ê 203 Ë 204 Ì 205 Í 206 Î 207 Ï 208 Ð 209 Ñ 210 Ò 211 Ó 212 Ô 213 Õ 214 Ö 215 × 216 Ø 217 Ù 218 Ú 219 Û 220 Ü \n",
      "221 Ý 222 Þ 223 ß 224 à 225 á 226 â 227 ã 228 ä 229 å 230 æ 231 ç 232 è 233 é 234 ê 235 ë 236 ì 237 í 238 î 239 ï 240 ð \n",
      "241 ñ 242 ò 243 ó 244 ô 245 õ 246 ö 247 ÷ 248 ø 249 ù 250 ú 251 û 252 ü 253 ý 254 þ 255 ÿ 256 Ā 257 ā 258 Ă 259 ă 260 Ą \n",
      "261 ą 262 Ć 263 ć 264 Ĉ 265 ĉ 266 Ċ 267 ċ 268 Č 269 č 270 Ď 271 ď 272 Đ 273 đ 274 Ē 275 ē 276 Ĕ 277 ĕ 278 Ė 279 ė 280 Ę \n",
      "281 ę 282 Ě 283 ě 284 Ĝ 285 ĝ 286 Ğ 287 ğ 288 Ġ 289 ġ 290 Ģ 291 ģ 292 Ĥ 293 ĥ 294 Ħ 295 ħ 296 Ĩ 297 ĩ 298 Ī 299 ī 300 Ĭ \n",
      "301 ĭ 302 Į 303 į 304 İ 305 ı 306 Ĳ 307 ĳ 308 Ĵ 309 ĵ 310 Ķ 311 ķ 312 ĸ 313 Ĺ 314 ĺ 315 Ļ 316 ļ 317 Ľ 318 ľ 319 Ŀ 320 ŀ \n",
      "321 Ł 322 ł 323 Ń 324 ń 325 Ņ 326 ņ 327 Ň 328 ň 329 ŉ 330 Ŋ 331 ŋ 332 Ō 333 ō 334 Ŏ 335 ŏ 336 Ő 337 ő 338 Œ 339 œ 340 Ŕ \n",
      "341 ŕ 342 Ŗ 343 ŗ 344 Ř 345 ř 346 Ś 347 ś 348 Ŝ 349 ŝ 350 Ş 351 ş 352 Š 353 š 354 Ţ 355 ţ 356 Ť 357 ť 358 Ŧ 359 ŧ 360 Ũ \n",
      "361 ũ 362 Ū 363 ū 364 Ŭ 365 ŭ 366 Ů 367 ů 368 Ű 369 ű 370 Ų 371 ų 372 Ŵ 373 ŵ 374 Ŷ 375 ŷ 376 Ÿ 377 Ź 378 ź 379 Ż 380 ż \n",
      "381 Ž 382 ž 383 ſ 384 ƀ 385 Ɓ 386 Ƃ 387 ƃ 388 Ƅ 389 ƅ 390 Ɔ 391 Ƈ 392 ƈ 393 Ɖ 394 Ɗ 395 Ƌ 396 ƌ 397 ƍ 398 Ǝ 399 Ə 400 Ɛ \n",
      "401 Ƒ 402 ƒ 403 Ɠ 404 Ɣ 405 ƕ 406 Ɩ 407 Ɨ 408 Ƙ 409 ƙ 410 ƚ 411 ƛ 412 Ɯ 413 Ɲ 414 ƞ 415 Ɵ 416 Ơ 417 ơ 418 Ƣ 419 ƣ 420 Ƥ \n",
      "421 ƥ 422 Ʀ 423 Ƨ 424 ƨ 425 Ʃ 426 ƪ 427 ƫ 428 Ƭ 429 ƭ 430 Ʈ 431 Ư 432 ư 433 Ʊ 434 Ʋ 435 Ƴ 436 ƴ 437 Ƶ 438 ƶ 439 Ʒ 440 Ƹ \n",
      "441 ƹ 442 ƺ 443 ƻ 444 Ƽ 445 ƽ 446 ƾ 447 ƿ 448 ǀ 449 ǁ 450 ǂ 451 ǃ 452 Ǆ 453 ǅ 454 ǆ 455 Ǉ 456 ǈ 457 ǉ 458 Ǌ 459 ǋ 460 ǌ \n",
      "461 Ǎ 462 ǎ 463 Ǐ 464 ǐ 465 Ǒ 466 ǒ 467 Ǔ 468 ǔ 469 Ǖ 470 ǖ 471 Ǘ 472 ǘ 473 Ǚ 474 ǚ 475 Ǜ 476 ǜ 477 ǝ 478 Ǟ 479 ǟ 480 Ǡ \n",
      "481 ǡ 482 Ǣ 483 ǣ 484 Ǥ 485 ǥ 486 Ǧ 487 ǧ 488 Ǩ 489 ǩ 490 Ǫ 491 ǫ 492 Ǭ 493 ǭ 494 Ǯ 495 ǯ 496 ǰ 497 Ǳ 498 ǲ 499 ǳ "
     ]
    }
   ],
   "source": [
    "char_test = \"A\"\n",
    "char_int = 0\n",
    "\n",
    "chain_list = list(range(65, 91)) + list(range(48, 58)) + list(range(97, 123)) + list(range(192, 500))\n",
    "chain_list = [chr(i) for i in chain_list]\n",
    "print(chain_list)\n",
    "\n",
    "for i in range(500):\n",
    "    print(f\"{char_int:3} {chr(char_int)} \", end=\"\")\n",
    "    if i % 20 == 0:\n",
    "        print()\n",
    "    char_int += 1"
   ]
  },
  {
   "cell_type": "code",
   "execution_count": 25,
   "metadata": {},
   "outputs": [
    {
     "data": {
      "text/plain": [
       "65"
      ]
     },
     "execution_count": 25,
     "metadata": {},
     "output_type": "execute_result"
    }
   ],
   "source": [
    "ord(\"A\")"
   ]
  },
  {
   "cell_type": "code",
   "execution_count": 64,
   "metadata": {},
   "outputs": [],
   "source": [
    "CHAIN_LIST = [chr(i) for i in list(range(65, 91)) + list(range(48, 58)) + list(range(97, 123)) + list(range(192, 500))]\n",
    "\n",
    "def convert_chain_2_letter(chain: str) -> str:\n",
    "    \"\"\" For Coor coming from `.mmcif` format,\n",
    "    chain ID can be 2 letters long.\n",
    "    It has to converted to one letter long.\n",
    "    \"\"\"\n",
    "    count = 0\n",
    "    base = 65\n",
    "    for i, letter in enumerate(chain):\n",
    "        if i > 0:\n",
    "            base = 64\n",
    "        count += 26**i * (ord(letter) - base)\n",
    "    if count < len(CHAIN_LIST):\n",
    "        return CHAIN_LIST[count]\n",
    "    else:\n",
    "        return \"0\"\n"
   ]
  },
  {
   "cell_type": "code",
   "execution_count": 67,
   "metadata": {},
   "outputs": [
    {
     "name": "stdout",
     "output_type": "stream",
     "text": [
      "0 A\n",
      "A\n",
      "1 B\n",
      "B\n",
      "25 Z\n",
      "Z\n",
      "26 0\n",
      "0\n",
      "27 1\n",
      "1\n",
      "31 5\n",
      "5\n",
      "32 6\n",
      "6\n",
      "33 7\n",
      "7\n",
      "51 p\n",
      "p\n",
      "77 Ï\n",
      "Ï\n"
     ]
    }
   ],
   "source": [
    "for chain in [\"A\", \"B\", \"Z\", \"AA\", \"BA\", \"FA\", \"GA\", \"HA\", \"ZA\", \"ZB\"]:\n",
    "    new_chain = convert_chain_2_letter(chain)\n",
    "    print(new_chain)"
   ]
  },
  {
   "cell_type": "code",
   "execution_count": 7,
   "metadata": {},
   "outputs": [
    {
     "name": "stdout",
     "output_type": "stream",
     "text": [
      "2.45 s ± 44.8 ms per loop (mean ± std. dev. of 7 runs, 1 loop each)\n"
     ]
    }
   ],
   "source": [
    "%%timeit\n",
    "test.write(\"tmp.pdb\", overwrite=True)"
   ]
  },
  {
   "cell_type": "code",
   "execution_count": 19,
   "metadata": {},
   "outputs": [],
   "source": [
    "import subprocess"
   ]
  },
  {
   "cell_type": "code",
   "execution_count": 20,
   "metadata": {},
   "outputs": [
    {
     "name": "stdout",
     "output_type": "stream",
     "text": [
      "3j6b-pdb-bundle1.pdb\n",
      "3j6b-pdb-bundle2.pdb\n",
      "3j6b-chain-id-mapping.txt\n",
      "3j6b-pdb-bundle1.pdb\n",
      "3j6b-pdb-bundle2.pdb\n",
      "3j6b-chain-id-mapping.txt\n",
      "3j6b-pdb-bundle1.pdb\n",
      "3j6b-pdb-bundle2.pdb\n",
      "3j6b-chain-id-mapping.txt\n",
      "3j6b-pdb-bundle1.pdb\n",
      "3j6b-pdb-bundle2.pdb\n",
      "3j6b-chain-id-mapping.txt\n",
      "3j6b-pdb-bundle1.pdb\n",
      "3j6b-pdb-bundle2.pdb\n",
      "3j6b-chain-id-mapping.txt\n",
      "3j6b-pdb-bundle1.pdb\n",
      "3j6b-pdb-bundle2.pdb\n",
      "3j6b-chain-id-mapping.txt\n",
      "3j6b-pdb-bundle1.pdb\n",
      "3j6b-pdb-bundle2.pdb\n",
      "3j6b-chain-id-mapping.txt\n",
      "3j6b-pdb-bundle1.pdb\n",
      "3j6b-pdb-bundle2.pdb\n",
      "3j6b-chain-id-mapping.txt\n",
      "755 ms ± 12.9 ms per loop (mean ± std. dev. of 7 runs, 1 loop each)\n"
     ]
    }
   ],
   "source": [
    "%%timeit\n",
    "subprocess.run([\"../BeEM/BeEM\", \"../BeEM/example_input/3j6b.cif\"])"
   ]
  },
  {
   "cell_type": "code",
   "execution_count": 3,
   "metadata": {},
   "outputs": [
    {
     "name": "stdout",
     "output_type": "stream",
     "text": [
      "{'title': {'title': 'untitled'}, '_entry': {'id': 'XXXX'}, '_cell': {'length_a': '20.63', 'length_b': '4.7', 'length_c': '21.009', 'angle_alpha': '90.0', 'angle_beta': '92.28', 'angle_gamma': '90.0', 'Z_PDB': '2'}, '_atom_site': None}\n"
     ]
    }
   ],
   "source": [
    "print(test.data_mmCIF)"
   ]
  },
  {
   "cell_type": "code",
   "execution_count": 5,
   "metadata": {},
   "outputs": [
    {
     "name": "stdout",
     "output_type": "stream",
     "text": [
      "CRYST1   20.630    4.700   21.009  90.00  92.28  90.00 P 1 21 1    2\n",
      "\n"
     ]
    }
   ],
   "source": [
    "test = Coor('/home/murail/Downloads/3ftk.cif')\n",
    "print(test.crystal_pack)"
   ]
  },
  {
   "cell_type": "code",
   "execution_count": 6,
   "metadata": {},
   "outputs": [],
   "source": [
    "test.write(\"test.cif\", overwrite=True)"
   ]
  },
  {
   "cell_type": "code",
   "execution_count": 4,
   "metadata": {},
   "outputs": [
    {
     "name": "stdout",
     "output_type": "stream",
     "text": [
      "{1: {'chains': ['A', 'B'], 'matrix': [[1.0, 1.0, 0.0, 0.0, 0.0], [1.0, 0.0, 1.0, 0.0, 0.0], [1.0, 0.0, 0.0, 1.0, 0.0], [2.0, 1.0, 0.0, 0.0, 0.0], [2.0, 0.0, 1.0, 0.0, 4.7], [2.0, 0.0, 0.0, 1.0, 0.0], [3.0, 1.0, 0.0, 0.0, 0.0], [3.0, 0.0, 1.0, 0.0, -4.7], [3.0, 0.0, 0.0, 1.0, 0.0]]}, 2: {'chains': ['A', 'B'], 'matrix': [[4.0, -1.0, 0.0, 0.0, 0.0], [4.0, 0.0, 1.0, 0.0, 2.35], [4.0, 0.0, 0.0, -1.0, 0.0], [5.0, -1.0, 0.0, 0.0, 0.0], [5.0, 0.0, 1.0, 0.0, 7.05], [5.0, 0.0, 0.0, -1.0, 0.0], [6.0, -1.0, 0.0, 0.0, 0.0], [6.0, 0.0, 1.0, 0.0, -2.35], [6.0, 0.0, 0.0, -1.0, 0.0]]}, 3: {'chains': ['A', 'B'], 'matrix': [[1.0, 1.0, 0.0, 0.0, 0.0], [1.0, 0.0, 1.0, 0.0, 0.0], [1.0, 0.0, 0.0, 1.0, 0.0]]}}\n"
     ]
    }
   ],
   "source": [
    "print(test.transformation)"
   ]
  },
  {
   "cell_type": "code",
   "execution_count": 5,
   "metadata": {},
   "outputs": [],
   "source": [
    "test.apply_transformation([1,2,3])\n",
    "test.write('tmp_trans3.pdb')"
   ]
  },
  {
   "cell_type": "code",
   "execution_count": 128,
   "metadata": {},
   "outputs": [
    {
     "data": {
      "text/plain": [
       "{1: {'chains': ['A'],\n",
       "  'matrix': [[1.0, 1.0, 0.0, 0.0, 0.0],\n",
       "   [1.0, 0.0, 1.0, 0.0, 0.0],\n",
       "   [1.0, 0.0, 0.0, 1.0, 0.0],\n",
       "   [2.0, 1.0, 0.0, 0.0, 0.0],\n",
       "   [2.0, 0.0, 1.0, 0.0, 4.7],\n",
       "   [2.0, 0.0, 0.0, 1.0, 0.0],\n",
       "   [3.0, 1.0, 0.0, 0.0, 0.0],\n",
       "   [3.0, 0.0, 1.0, 0.0, -4.7],\n",
       "   [3.0, 0.0, 0.0, 1.0, 0.0]]},\n",
       " 2: {'chains': ['A'],\n",
       "  'matrix': [[1.0, -1.0, 0.0, 0.0, 0.0],\n",
       "   [1.0, 0.0, 1.0, 0.0, 2.35],\n",
       "   [1.0, 0.0, 0.0, -1.0, 0.0],\n",
       "   [2.0, -1.0, 0.0, 0.0, 0.0],\n",
       "   [2.0, 0.0, 1.0, 0.0, 7.05],\n",
       "   [2.0, 0.0, 0.0, -1.0, 0.0],\n",
       "   [3.0, -1.0, 0.0, 0.0, 0.0],\n",
       "   [3.0, 0.0, 1.0, 0.0, -2.35],\n",
       "   [3.0, 0.0, 0.0, -1.0, 0.0]]},\n",
       " 3: {'chains': ['A'],\n",
       "  'matrix': [[1.0, 1.0, 0.0, 0.0, 0.0],\n",
       "   [1.0, 0.0, 1.0, 0.0, 0.0],\n",
       "   [1.0, 0.0, 0.0, 1.0, 0.0]]}}"
      ]
     },
     "execution_count": 128,
     "metadata": {},
     "output_type": "execute_result"
    }
   ],
   "source": [
    "def pdb_parse_transformation(text):\n",
    "    \"\"\"Parse the `REMARK 350   BIOMT` information from a pdb file.\n",
    "\n",
    "    Parameters\n",
    "    ----------\n",
    "    text : str\n",
    "        pdb file\n",
    "\n",
    "    Returns\n",
    "    -------\n",
    "    symetry_dict : dict\n",
    "        symetry information\n",
    "    \"\"\"\n",
    "\n",
    "    transformation_dict = {}\n",
    "\n",
    "    for line in text.split(\"\\n\"):\n",
    "        if line[11:23] == \"BIOMOLECULE:\":\n",
    "            biomol = int(line[24:])\n",
    "            transformation_dict[biomol] = {\"chains\": [], \"matrix\": []}\n",
    "        elif line[34:41] == \"CHAINS:\":\n",
    "            transformation_dict[biomol][\"chains\"] += line[42:].split()\n",
    "        elif line.startswith(\"REMARK 350   BIOMT\"):\n",
    "            transformation_dict[biomol][\"matrix\"] += [\n",
    "                [float(x) for x in line[19:].split()]\n",
    "            ]\n",
    "\n",
    "    return transformation_dict\n",
    "\n",
    "txt = \"\"\"REMARK 350                                                                      \n",
    "REMARK 350 COORDINATES FOR A COMPLETE MULTIMER REPRESENTING THE KNOWN           \n",
    "REMARK 350 BIOLOGICALLY SIGNIFICANT OLIGOMERIZATION STATE OF THE                \n",
    "REMARK 350 MOLECULE CAN BE GENERATED BY APPLYING BIOMT TRANSFORMATIONS          \n",
    "REMARK 350 GIVEN BELOW.  BOTH NON-CRYSTALLOGRAPHIC AND                          \n",
    "REMARK 350 CRYSTALLOGRAPHIC OPERATIONS ARE GIVEN.                               \n",
    "REMARK 350                                                                      \n",
    "REMARK 350 BIOMOLECULE: 1                                                       \n",
    "REMARK 350 AUTHOR DETERMINED BIOLOGICAL UNIT: DIMERIC                           \n",
    "REMARK 350 APPLY THE FOLLOWING TO CHAINS: A                                     \n",
    "REMARK 350   BIOMT1   1  1.000000  0.000000  0.000000        0.00000            \n",
    "REMARK 350   BIOMT2   1  0.000000  1.000000  0.000000        0.00000            \n",
    "REMARK 350   BIOMT3   1  0.000000  0.000000  1.000000        0.00000            \n",
    "REMARK 350   BIOMT1   2  1.000000  0.000000  0.000000        0.94015            \n",
    "REMARK 350   BIOMT2   2  0.000000  1.000000  0.000000        4.78756            \n",
    "REMARK 350   BIOMT3   2  0.000000  0.000000  1.000000        0.00000\"\"\"\n",
    "\n",
    "txt2 = \"\"\"REMARK 350                                                                      \n",
    "REMARK 350 COORDINATES FOR A COMPLETE MULTIMER REPRESENTING THE KNOWN           \n",
    "REMARK 350 BIOLOGICALLY SIGNIFICANT OLIGOMERIZATION STATE OF THE                \n",
    "REMARK 350 MOLECULE CAN BE GENERATED BY APPLYING BIOMT TRANSFORMATIONS          \n",
    "REMARK 350 GIVEN BELOW.  BOTH NON-CRYSTALLOGRAPHIC AND                          \n",
    "REMARK 350 CRYSTALLOGRAPHIC OPERATIONS ARE GIVEN.                               \n",
    "REMARK 350                                                                      \n",
    "REMARK 350 BIOMOLECULE: 1                                                       \n",
    "REMARK 350 AUTHOR DETERMINED BIOLOGICAL UNIT: TRIMERIC                          \n",
    "REMARK 350 APPLY THE FOLLOWING TO CHAINS: A                                     \n",
    "REMARK 350   BIOMT1   1  1.000000  0.000000  0.000000        0.00000            \n",
    "REMARK 350   BIOMT2   1  0.000000  1.000000  0.000000        0.00000            \n",
    "REMARK 350   BIOMT3   1  0.000000  0.000000  1.000000        0.00000            \n",
    "REMARK 350   BIOMT1   2  1.000000  0.000000  0.000000        0.00000            \n",
    "REMARK 350   BIOMT2   2  0.000000  1.000000  0.000000        4.70000            \n",
    "REMARK 350   BIOMT3   2  0.000000  0.000000  1.000000        0.00000            \n",
    "REMARK 350   BIOMT1   3  1.000000  0.000000  0.000000        0.00000            \n",
    "REMARK 350   BIOMT2   3  0.000000  1.000000  0.000000       -4.70000            \n",
    "REMARK 350   BIOMT3   3  0.000000  0.000000  1.000000        0.00000            \n",
    "REMARK 350                                                                      \n",
    "REMARK 350 BIOMOLECULE: 2                                                       \n",
    "REMARK 350 AUTHOR DETERMINED BIOLOGICAL UNIT: TRIMERIC                          \n",
    "REMARK 350 APPLY THE FOLLOWING TO CHAINS: A                                     \n",
    "REMARK 350   BIOMT1   1 -1.000000  0.000000  0.000000        0.00000            \n",
    "REMARK 350   BIOMT2   1  0.000000  1.000000  0.000000        2.35000            \n",
    "REMARK 350   BIOMT3   1  0.000000  0.000000 -1.000000        0.00000            \n",
    "REMARK 350   BIOMT1   2 -1.000000  0.000000  0.000000        0.00000            \n",
    "REMARK 350   BIOMT2   2  0.000000  1.000000  0.000000        7.05000            \n",
    "REMARK 350   BIOMT3   2  0.000000  0.000000 -1.000000        0.00000            \n",
    "REMARK 350   BIOMT1   3 -1.000000  0.000000  0.000000        0.00000            \n",
    "REMARK 350   BIOMT2   3  0.000000  1.000000  0.000000       -2.35000            \n",
    "REMARK 350   BIOMT3   3  0.000000  0.000000 -1.000000        0.00000            \n",
    "REMARK 350                                                                      \n",
    "REMARK 350 BIOMOLECULE: 3                                                       \n",
    "REMARK 350 SOFTWARE DETERMINED QUATERNARY STRUCTURE: MONOMERIC                  \n",
    "REMARK 350 SOFTWARE USED: PISA                                                  \n",
    "REMARK 350 APPLY THE FOLLOWING TO CHAINS: A                                     \n",
    "REMARK 350   BIOMT1   1  1.000000  0.000000  0.000000        0.00000            \n",
    "REMARK 350   BIOMT2   1  0.000000  1.000000  0.000000        0.00000            \n",
    "REMARK 350   BIOMT3   1  0.000000  0.000000  1.000000        0.00000\"\"\"\n",
    "\n",
    "\n",
    "#print(pdb_parse_transformation(txt))\n",
    "pdb_parse_transformation(txt2)\n",
    "#print()\n",
    "#print(pdb_parse_transformation(txt2))"
   ]
  },
  {
   "cell_type": "code",
   "execution_count": 143,
   "metadata": {},
   "outputs": [],
   "source": [
    "\n",
    "def parse_transformation(data_mmCIF):\n",
    "    \"\"\"Parse the `_pdbx_struct_oper_list` information from a mmcif file.\n",
    "\n",
    "    Parameters\n",
    "    ----------\n",
    "    pdbx_struct_oper_list : dict\n",
    "        mmcif file information\n",
    "\n",
    "    Returns\n",
    "    -------\n",
    "    symetry_dict : dict\n",
    "        symetry information\n",
    "    \"\"\"\n",
    "    \n",
    "    matrix_indexes = [\n",
    "        ['id', 'matrix[1][1]', 'matrix[1][2]', 'matrix[1][3]', 'vector[1]'],\n",
    "        ['id', 'matrix[2][1]', 'matrix[2][2]', 'matrix[2][3]', 'vector[2]'],\n",
    "        ['id', 'matrix[3][1]', 'matrix[3][2]', 'matrix[3][3]', 'vector[3]']\n",
    "    ]\n",
    "    transformation_dict = {}\n",
    "    print('_pdbx_struct_assembly_gen', data_mmCIF['_pdbx_struct_assembly_gen'])\n",
    "    print('_pdbx_struct_oper_list', data_mmCIF['_pdbx_struct_oper_list'])\n",
    "\n",
    "\n",
    "    # Extract transformation list:\n",
    "    # Here with only one transformation\n",
    "    if 'asym_id_list' in data_mmCIF['_pdbx_struct_assembly_gen']:\n",
    "        trans_num = 1\n",
    "        chain_list = [\n",
    "            chain.strip() for chain in data_mmCIF['_pdbx_struct_assembly_gen']['asym_id_list'].split(',')\n",
    "        ]\n",
    "        \n",
    "        transformation_dict[1] = {\"chains\": chain_list, \"matrix\": []}\n",
    "\n",
    "        for i in range(len(data_mmCIF['_pdbx_struct_oper_list']['value'][0])):\n",
    "            \n",
    "            for matrix_index in matrix_indexes:\n",
    "                local_matrix = []\n",
    "                for index in matrix_index:\n",
    "                    local_index = data_mmCIF['_pdbx_struct_oper_list']['col_names'].index(index)\n",
    "                    local_matrix.append(float(data_mmCIF['_pdbx_struct_oper_list']['value'][local_index][i]))\n",
    "                transformation_dict[1][\"matrix\"].append(local_matrix)\n",
    "        \n",
    "    # Here with multiple transformation\n",
    "    else:\n",
    "        trans_num = len(data_mmCIF['_pdbx_struct_assembly']['value'][0])\n",
    "        assert trans_num == len(data_mmCIF['_pdbx_struct_assembly_gen']['value'][0])\n",
    "        \n",
    "        chain_index = data_mmCIF['_pdbx_struct_assembly_gen']['col_names'].index('asym_id_list')\n",
    "        local_matrix_index = data_mmCIF['_pdbx_struct_assembly_gen']['col_names'].index('oper_expression')\n",
    "        \n",
    "        for i in range(trans_num):\n",
    "            # Extract chain list and matrix indexes\n",
    "            chain_list = [\n",
    "                chain.strip() for chain in data_mmCIF['_pdbx_struct_assembly_gen']['value'][chain_index][i].split(',')\n",
    "            ]\n",
    "            matrix_index_list = [\n",
    "                chain.strip() for chain in data_mmCIF['_pdbx_struct_assembly_gen']['value'][local_matrix_index][i].split(',')\n",
    "            ]\n",
    "            transformation_dict[i+1] = {\"chains\": chain_list, \"matrix\": []}\n",
    "\n",
    "            # Extract matrix value\n",
    "            for j in range(len(data_mmCIF['_pdbx_struct_oper_list']['value'][0])):\n",
    "                matrix_id = data_mmCIF['_pdbx_struct_oper_list']['value'][0][j]\n",
    "                \n",
    "                if matrix_id in matrix_index_list:\n",
    "                    for matrix_index in matrix_indexes:\n",
    "                        local_matrix = []\n",
    "                        for index in matrix_index:\n",
    "                            local_index = data_mmCIF['_pdbx_struct_oper_list']['col_names'].index(index)\n",
    "                            local_matrix.append(float(data_mmCIF['_pdbx_struct_oper_list']['value'][local_index][j]))\n",
    "                        transformation_dict[i+1][\"matrix\"].append(local_matrix)\n",
    "        \n",
    "    return transformation_dict\n"
   ]
  },
  {
   "cell_type": "code",
   "execution_count": 144,
   "metadata": {},
   "outputs": [
    {
     "name": "stdout",
     "output_type": "stream",
     "text": [
      "_pdbx_struct_assembly_gen {'col_names': ['assembly_id', 'oper_expression', 'asym_id_list'], 'value': [['1', '2', '3'], ['1,2,3', '4,5,6', '1'], ['A,B', 'A,B', 'A,B']]}\n",
      "_pdbx_struct_oper_list {'col_names': ['id', 'type', 'name', 'symmetry_operation', 'matrix[1][1]', 'matrix[1][2]', 'matrix[1][3]', 'vector[1]', 'matrix[2][1]', 'matrix[2][2]', 'matrix[2][3]', 'vector[2]', 'matrix[3][1]', 'matrix[3][2]', 'matrix[3][3]', 'vector[3]'], 'value': [['1', '2', '3', '4', '5', '6'], [\"'identity operation'\", \"'crystal symmetry operation'\", \"'crystal symmetry operation'\", \"'crystal symmetry operation'\", \"'crystal symmetry operation'\", \"'crystal symmetry operation'\"], ['1_555', '1_565', '1_545', '2_555', '2_565', '2_545'], ['x,y,z', 'x,y+1,z', 'x,y-1,z', '-x,y+1/2,-z', '-x,y+3/2,-z', '-x,y-1/2,-z'], ['1.0000000000', '1.0000000000', '1.0000000000', '-1.0000000000', '-1.0000000000', '-1.0000000000'], ['0.0000000000', '0.0000000000', '0.0000000000', '0.0000000000', '0.0000000000', '0.0000000000'], ['0.0000000000', '0.0000000000', '0.0000000000', '0.0000000000', '0.0000000000', '0.0000000000'], ['0.0000000000', '0.0000000000', '0.0000000000', '0.0000000000', '0.0000000000', '0.0000000000'], ['0.0000000000', '0.0000000000', '0.0000000000', '0.0000000000', '0.0000000000', '0.0000000000'], ['1.0000000000', '1.0000000000', '1.0000000000', '1.0000000000', '1.0000000000', '1.0000000000'], ['0.0000000000', '0.0000000000', '0.0000000000', '0.0000000000', '0.0000000000', '0.0000000000'], ['0.0000000000', '4.7000000000', '-4.7000000000', '2.3500000000', '7.0500000000', '-2.3500000000'], ['0.0000000000', '0.0000000000', '0.0000000000', '0.0000000000', '0.0000000000', '0.0000000000'], ['0.0000000000', '0.0000000000', '0.0000000000', '0.0000000000', '0.0000000000', '0.0000000000'], ['1.0000000000', '1.0000000000', '1.0000000000', '-1.0000000000', '-1.0000000000', '-1.0000000000'], ['0.0000000000', '0.0000000000', '0.0000000000', '0.0000000000', '0.0000000000', '0.0000000000']]}\n"
     ]
    },
    {
     "data": {
      "text/plain": [
       "{1: {'chains': ['A', 'B'],\n",
       "  'matrix': [[1.0, 1.0, 0.0, 0.0, 0.0],\n",
       "   [1.0, 0.0, 1.0, 0.0, 0.0],\n",
       "   [1.0, 0.0, 0.0, 1.0, 0.0],\n",
       "   [2.0, 1.0, 0.0, 0.0, 0.0],\n",
       "   [2.0, 0.0, 1.0, 0.0, 4.7],\n",
       "   [2.0, 0.0, 0.0, 1.0, 0.0],\n",
       "   [3.0, 1.0, 0.0, 0.0, 0.0],\n",
       "   [3.0, 0.0, 1.0, 0.0, -4.7],\n",
       "   [3.0, 0.0, 0.0, 1.0, 0.0]]},\n",
       " 2: {'chains': ['A', 'B'],\n",
       "  'matrix': [[4.0, -1.0, 0.0, 0.0, 0.0],\n",
       "   [4.0, 0.0, 1.0, 0.0, 2.35],\n",
       "   [4.0, 0.0, 0.0, -1.0, 0.0],\n",
       "   [5.0, -1.0, 0.0, 0.0, 0.0],\n",
       "   [5.0, 0.0, 1.0, 0.0, 7.05],\n",
       "   [5.0, 0.0, 0.0, -1.0, 0.0],\n",
       "   [6.0, -1.0, 0.0, 0.0, 0.0],\n",
       "   [6.0, 0.0, 1.0, 0.0, -2.35],\n",
       "   [6.0, 0.0, 0.0, -1.0, 0.0]]},\n",
       " 3: {'chains': ['A', 'B'],\n",
       "  'matrix': [[1.0, 1.0, 0.0, 0.0, 0.0],\n",
       "   [1.0, 0.0, 1.0, 0.0, 0.0],\n",
       "   [1.0, 0.0, 0.0, 1.0, 0.0]]}}"
      ]
     },
     "execution_count": 144,
     "metadata": {},
     "output_type": "execute_result"
    }
   ],
   "source": [
    "parse_transformation(test2.data_mmCIF)"
   ]
  },
  {
   "cell_type": "code",
   "execution_count": 145,
   "metadata": {},
   "outputs": [
    {
     "name": "stdout",
     "output_type": "stream",
     "text": [
      "_pdbx_struct_assembly_gen OrderedDict([('assembly_id', '1'), ('oper_expression', '1,2'), ('asym_id_list', 'A,B')])\n",
      "_pdbx_struct_oper_list {'col_names': ['id', 'type', 'name', 'symmetry_operation', 'matrix[1][1]', 'matrix[1][2]', 'matrix[1][3]', 'vector[1]', 'matrix[2][1]', 'matrix[2][2]', 'matrix[2][3]', 'vector[2]', 'matrix[3][1]', 'matrix[3][2]', 'matrix[3][3]', 'vector[3]'], 'value': [['1', '2'], [\"'identity operation'\", \"'crystal symmetry operation'\"], ['1_555', '1_565'], ['x,y,z', 'x,y+1,z'], ['1.0000000000', '1.0000000000'], ['0.0000000000', '0.0000000000'], ['0.0000000000', '0.0000000000'], ['0.0000000000', '0.9401502764'], ['0.0000000000', '0.0000000000'], ['1.0000000000', '1.0000000000'], ['0.0000000000', '0.0000000000'], ['0.0000000000', '4.7875628934'], ['0.0000000000', '0.0000000000'], ['0.0000000000', '0.0000000000'], ['1.0000000000', '1.0000000000'], ['0.0000000000', '0.0000000000']]}\n"
     ]
    },
    {
     "data": {
      "text/plain": [
       "{1: {'chains': ['A', 'B'],\n",
       "  'matrix': [[1.0, 1.0, 0.0, 0.0, 0.0],\n",
       "   [1.0, 0.0, 1.0, 0.0, 0.0],\n",
       "   [1.0, 0.0, 0.0, 1.0, 0.0],\n",
       "   [2.0, 1.0, 0.0, 0.0, 0.9401502764],\n",
       "   [2.0, 0.0, 1.0, 0.0, 4.7875628934],\n",
       "   [2.0, 0.0, 0.0, 1.0, 0.0]]}}"
      ]
     },
     "execution_count": 145,
     "metadata": {},
     "output_type": "execute_result"
    }
   ],
   "source": [
    "parse_transformation(test.data_mmCIF)"
   ]
  },
  {
   "cell_type": "code",
   "execution_count": null,
   "metadata": {},
   "outputs": [],
   "source": [
    "\n",
    "assert test.len == 56\n",
    "# Here there is only identity matrix\n",
    "# as symmetry, so no change is expected\n",
    "test.add_symmetry()\n",
    "assert test.len == 56\n",
    "test.apply_transformation()\n",
    "assert test.len == 112\n",
    "test.copy_box(3, 3, 3)\n",
    "assert test.len == 3024\n",
    "test.compute_chains_CA()\n",
    "test.remove_overlap_chain()\n",
    "assert test.len == 3024\n",
    "\n",
    "test.write(\"test.pdb\", check_file_out=False)\n"
   ]
  },
  {
   "cell_type": "code",
   "execution_count": 3,
   "metadata": {},
   "outputs": [],
   "source": [
    "test.write('tmp.pdb', check_file_out=False)"
   ]
  },
  {
   "cell_type": "code",
   "execution_count": 4,
   "metadata": {},
   "outputs": [],
   "source": [
    "test_2 = Coor('tmp.pdb')\n",
    "test_2.write('tmp2.gro', check_file_out=False)"
   ]
  },
  {
   "cell_type": "code",
   "execution_count": 4,
   "metadata": {},
   "outputs": [
    {
     "name": "stdout",
     "output_type": "stream",
     "text": [
      "Add symmetry 1\n",
      "0\n",
      "1\n",
      "Add transformation 1\n",
      "2\n",
      "Add transformation 2\n"
     ]
    }
   ],
   "source": [
    "test.add_symmetry()\n",
    "test.apply_transformation(index=1)\n",
    "test.compute_chains_CA()\n",
    "test.write_pdb('tmp.pdb', check_file_out=False)"
   ]
  },
  {
   "cell_type": "code",
   "execution_count": 5,
   "metadata": {},
   "outputs": [
    {
     "data": {
      "text/plain": [
       "{'matrix': [[1.0, 1.0, 0.0, 0.0, 0.0],\n",
       "  [1.0, 0.0, 1.0, 0.0, 0.0],\n",
       "  [1.0, 0.0, 0.0, 1.0, 0.0],\n",
       "  [2.0, -1.0, 0.0, 0.0, 0.0],\n",
       "  [2.0, 0.0, 1.0, 0.0, 2.35],\n",
       "  [2.0, 0.0, 0.0, -1.0, 0.0]]}"
      ]
     },
     "execution_count": 5,
     "metadata": {},
     "output_type": "execute_result"
    }
   ],
   "source": [
    "test.symmetry"
   ]
  },
  {
   "cell_type": "code",
   "execution_count": 8,
   "metadata": {},
   "outputs": [
    {
     "data": {
      "text/plain": [
       "[<pdb_numpy.model.Model at 0x7f79dd6fbf50>]"
      ]
     },
     "execution_count": 8,
     "metadata": {},
     "output_type": "execute_result"
    }
   ],
   "source": [
    "test.models"
   ]
  },
  {
   "cell_type": "code",
   "execution_count": 6,
   "metadata": {},
   "outputs": [
    {
     "name": "stdout",
     "output_type": "stream",
     "text": [
      "{1: {'chains': ['A'], 'matrix': [[1.0, 1.0, 0.0, 0.0, 0.0], [1.0, 0.0, 1.0, 0.0, 0.0], [1.0, 0.0, 0.0, 1.0, 0.0], [2.0, 1.0, 0.0, 0.0, 0.0], [2.0, 0.0, 1.0, 0.0, 4.7], [2.0, 0.0, 0.0, 1.0, 0.0], [3.0, 1.0, 0.0, 0.0, 0.0], [3.0, 0.0, 1.0, 0.0, -4.7], [3.0, 0.0, 0.0, 1.0, 0.0]]}, 2: {'chains': ['A'], 'matrix': [[1.0, -1.0, 0.0, 0.0, 0.0], [1.0, 0.0, 1.0, 0.0, 2.35], [1.0, 0.0, 0.0, -1.0, 0.0], [2.0, -1.0, 0.0, 0.0, 0.0], [2.0, 0.0, 1.0, 0.0, 7.05], [2.0, 0.0, 0.0, -1.0, 0.0], [3.0, -1.0, 0.0, 0.0, 0.0], [3.0, 0.0, 1.0, 0.0, -2.35], [3.0, 0.0, 0.0, -1.0, 0.0]]}, 3: {'chains': ['A'], 'matrix': [[1.0, 1.0, 0.0, 0.0, 0.0], [1.0, 0.0, 1.0, 0.0, 0.0], [1.0, 0.0, 0.0, 1.0, 0.0]]}}\n"
     ]
    }
   ],
   "source": [
    "print(test.transformation)"
   ]
  },
  {
   "cell_type": "code",
   "execution_count": 22,
   "metadata": {},
   "outputs": [
    {
     "name": "stdout",
     "output_type": "stream",
     "text": [
      "{1: {'chains': ['A'], 'matrix': [[1.0, 1.0, 0.0, 0.0, 0.0], [1.0, 0.0, 1.0, 0.0, 0.0], [1.0, 0.0, 0.0, 1.0, 0.0], [2.0, 1.0, 0.0, 0.0, 0.0], [2.0, 0.0, 1.0, 0.0, 4.7], [2.0, 0.0, 0.0, 1.0, 0.0], [3.0, 1.0, 0.0, 0.0, 0.0], [3.0, 0.0, 1.0, 0.0, -4.7], [3.0, 0.0, 0.0, 1.0, 0.0]]}, 2: {'chains': ['A'], 'matrix': [[1.0, -1.0, 0.0, 0.0, 0.0], [1.0, 0.0, 1.0, 0.0, 2.35], [1.0, 0.0, 0.0, -1.0, 0.0], [2.0, -1.0, 0.0, 0.0, 0.0], [2.0, 0.0, 1.0, 0.0, 7.05], [2.0, 0.0, 0.0, -1.0, 0.0], [3.0, -1.0, 0.0, 0.0, 0.0], [3.0, 0.0, 1.0, 0.0, -2.35], [3.0, 0.0, 0.0, -1.0, 0.0]]}, 3: {'chains': ['A'], 'matrix': [[1.0, 1.0, 0.0, 0.0, 0.0], [1.0, 0.0, 1.0, 0.0, 0.0], [1.0, 0.0, 0.0, 1.0, 0.0]]}}\n"
     ]
    }
   ],
   "source": [
    "def parse_transformation(text):\n",
    "\n",
    "    transformation_dict = {}\n",
    "\n",
    "    for line in text.split('\\n'):\n",
    "        if line[11:23] == \"BIOMOLECULE:\":\n",
    "            biomol = int(line[24:])\n",
    "            transformation_dict[biomol] = {'chains': [], 'matrix': []}\n",
    "        elif line[34:41] == \"CHAINS:\":\n",
    "            transformation_dict[biomol]['chains'] += line[42:].split()\n",
    "        elif line.startswith('REMARK 350   BIOMT'):\n",
    "            transformation_dict[biomol]['matrix'] += [[float(x) for x in line[19:].split()]]\n",
    "        #print(line, line[34:])\n",
    "    print(transformation_dict)\n",
    "\n",
    "\n",
    "parse_transformation(test.transformation)"
   ]
  },
  {
   "cell_type": "code",
   "execution_count": 34,
   "metadata": {},
   "outputs": [],
   "source": [
    "test.models.append(deepcopy(test.models[0]))\n",
    "test.models.append(deepcopy(test.models[0]))"
   ]
  },
  {
   "cell_type": "code",
   "execution_count": 4,
   "metadata": {},
   "outputs": [
    {
     "name": "stdout",
     "output_type": "stream",
     "text": [
      "[[-1.0 0.0 0.0 0.0]\n",
      " [0.0 1.0 0.0 7.05]\n",
      " [0.0 0.0 -1.0 0.0]]\n",
      "[[-1.0 0.0 0.0 0.0]\n",
      " [0.0 1.0 0.0 -2.35]\n",
      " [0.0 0.0 -1.0 0.0]]\n"
     ]
    }
   ],
   "source": [
    "text = \\\n",
    "\"\"\"REMARK 350   BIOMT1   2 -1.000000  0.000000  0.000000        0.00000            \n",
    "REMARK 350   BIOMT2   2  0.000000  1.000000  0.000000        7.05000            \n",
    "REMARK 350   BIOMT3   2  0.000000  0.000000 -1.000000        0.00000\"\"\"\n",
    "\n",
    "rot_mat = []\n",
    "\n",
    "for line in text.split(\"\\n\"):\n",
    "    rot_mat.append([float(x) for x in line.split()[4:]])\n",
    "\n",
    "rot_mat = np.array(rot_mat, dtype=object)\n",
    "print(rot_mat)\n",
    "\n",
    "text = \\\n",
    "\"\"\"REMARK 350   BIOMT1   3 -1.000000  0.000000  0.000000        0.00000            \n",
    "REMARK 350   BIOMT2   3  0.000000  1.000000  0.000000       -2.35000            \n",
    "REMARK 350   BIOMT3   3  0.000000  0.000000 -1.000000        0.00000\"\"\"\n",
    "\n",
    "rot_mat_2 = []\n",
    "\n",
    "for line in text.split(\"\\n\"):\n",
    "    rot_mat_2.append([float(x) for x in line.split()[4:]])\n",
    "\n",
    "rot_mat_2 = np.array(rot_mat_2, dtype=object)\n",
    "print(rot_mat_2)"
   ]
  },
  {
   "cell_type": "code",
   "execution_count": 21,
   "metadata": {},
   "outputs": [
    {
     "data": {
      "text/plain": [
       "array([[-1.0, 0.0, 0.0],\n",
       "       [0.0, 1.0, 0.0],\n",
       "       [0.0, 0.0, -1.0]], dtype=object)"
      ]
     },
     "execution_count": 21,
     "metadata": {},
     "output_type": "execute_result"
    }
   ],
   "source": [
    "rot_mat[:,:3]"
   ]
  },
  {
   "cell_type": "code",
   "execution_count": 36,
   "metadata": {},
   "outputs": [],
   "source": [
    "test.models[1].xyz = np.dot(test.models[0].xyz, rot_mat[:,:3]) + rot_mat[:,3]\n",
    "test.models[2].xyz = np.dot(test.models[0].xyz, rot_mat_2[:,:3]) + rot_mat_2[:,3]"
   ]
  },
  {
   "cell_type": "code",
   "execution_count": 37,
   "metadata": {},
   "outputs": [],
   "source": [
    "test.merge_model()\n",
    "test.write_pdb('tmp.pdb', check_file_out=False)"
   ]
  },
  {
   "cell_type": "code",
   "execution_count": 25,
   "metadata": {},
   "outputs": [
    {
     "data": {
      "text/plain": [
       "'/home/murail/Documents/Code/pdb_numpy'"
      ]
     },
     "execution_count": 25,
     "metadata": {},
     "output_type": "execute_result"
    }
   ],
   "source": [
    "pwd"
   ]
  },
  {
   "cell_type": "code",
   "execution_count": null,
   "metadata": {},
   "outputs": [],
   "source": []
  }
 ],
 "metadata": {
  "kernelspec": {
   "display_name": "Python 3 (ipykernel)",
   "language": "python",
   "name": "python3"
  },
  "language_info": {
   "codemirror_mode": {
    "name": "ipython",
    "version": 3
   },
   "file_extension": ".py",
   "mimetype": "text/x-python",
   "name": "python",
   "nbconvert_exporter": "python",
   "pygments_lexer": "ipython3",
   "version": "3.8.12"
  },
  "vscode": {
   "interpreter": {
    "hash": "dc5fd0b0b4d49cea06c0f571c9f39583c8bfc63b53b50b04d68f5ab1c4afee79"
   }
  }
 },
 "nbformat": 4,
 "nbformat_minor": 4
}

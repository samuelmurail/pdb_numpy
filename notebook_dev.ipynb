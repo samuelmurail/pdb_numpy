{
 "cells": [
  {
   "cell_type": "code",
   "execution_count": 1,
   "metadata": {},
   "outputs": [],
   "source": [
    "import sys\n",
    "import importlib\n",
    "import logging\n",
    "import numpy as np\n",
    "\n",
    "sys.path.append(\"./src/\")\n",
    "import pdb_numpy\n",
    "import pdb_numpy.alignement as alignement\n",
    "import pdb_numpy.DSSP as DSSP\n"
   ]
  },
  {
   "cell_type": "code",
   "execution_count": 2,
   "metadata": {},
   "outputs": [],
   "source": [
    "test = pdb_numpy.Coor(pdb_id=\"3eam\")\n",
    "test.write_pdb(\"./tmp.pdb\", check_file_out=False)\n"
   ]
  },
  {
   "cell_type": "code",
   "execution_count": 3,
   "metadata": {},
   "outputs": [
    {
     "name": "stdout",
     "output_type": "stream",
     "text": [
      "Adding NH\n",
      "NH added\n"
     ]
    }
   ],
   "source": [
    "print('Adding NH')\n",
    "DSSP.add_NH(test)\n",
    "print('NH added')"
   ]
  },
  {
   "cell_type": "code",
   "execution_count": 3,
   "metadata": {},
   "outputs": [],
   "source": [
    "# run dssp:\n",
    "# sudo apt install dssp\n",
    "# time dssp -i tmp.pdb -o tmp_dssp.txt\n",
    "\n",
    "with open(\"./tmp_dssp.txt\") as f:\n",
    "    lines = f.readlines()\n",
    "\n",
    "start_read = False\n",
    "dssp_seq = \"\"\n",
    "for line in lines:\n",
    "    if line.startswith(\"  #  RESIDUE AA STRUCTURE BP1 BP2  ACC\"):\n",
    "        start_read = True\n",
    "        continue\n",
    "    if start_read and line[13] != \"!\":\n",
    "        dssp_seq += line[16]\n"
   ]
  },
  {
   "cell_type": "code",
   "execution_count": 5,
   "metadata": {},
   "outputs": [
    {
     "name": "stdout",
     "output_type": "stream",
     "text": [
      "989 ms ± 109 ms per loop (mean ± std. dev. of 7 runs, 1 loop each)\n"
     ]
    }
   ],
   "source": [
    "%timeit DSSP.add_NH(test)"
   ]
  },
  {
   "cell_type": "code",
   "execution_count": 7,
   "metadata": {},
   "outputs": [
    {
     "name": "stdout",
     "output_type": "stream",
     "text": [
      "36.4 ms ± 1.98 ms per loop (mean ± std. dev. of 7 runs, 10 loops each)\n"
     ]
    }
   ],
   "source": [
    "%timeit DSSP.get_NH_xyz(test)"
   ]
  },
  {
   "cell_type": "code",
   "execution_count": 5,
   "metadata": {},
   "outputs": [
    {
     "name": "stdout",
     "output_type": "stream",
     "text": [
      "867 ms ± 40.4 ms per loop (mean ± std. dev. of 7 runs, 1 loop each)\n"
     ]
    }
   ],
   "source": [
    "%timeit SS_list = DSSP.compute_DSSP(test)"
   ]
  },
  {
   "cell_type": "code",
   "execution_count": 7,
   "metadata": {},
   "outputs": [],
   "source": [
    "%load_ext line_profiler"
   ]
  },
  {
   "cell_type": "code",
   "execution_count": 9,
   "metadata": {},
   "outputs": [
    {
     "name": "stdout",
     "output_type": "stream",
     "text": [
      "Timer unit: 1e-09 s\n",
      "\n",
      "Total time: 0.444893 s\n",
      "File: ./src/pdb_numpy/DSSP.py\n",
      "Function: compute_Hbond_matrix at line 203\n",
      "\n",
      "Line #      Hits         Time  Per Hit   % Time  Line Contents\n",
      "==============================================================\n",
      "   203                                           def compute_Hbond_matrix(model):\n",
      "   204                                               \"\"\"Compute Hbond matrix for a protein.\n",
      "   205                                               \"\"\"\n",
      "   206         1       1518.0   1518.0      0.0      cutoff = 8.0\n",
      "   207                                           \n",
      "   208         1    5134739.0 5134739.0      1.2      CA_array = model.select_atoms(\"protein and name CA and not altloc B C D E\").xyz\n",
      "   209         1       2211.0   2211.0      0.0      n_res = len(CA_array)\n",
      "   210                                           \n",
      "   211         1   87669937.0 87669937.0     19.7      dist_mat = distance_matrix(CA_array, CA_array)\n",
      "   212         1    1114830.0 1114830.0      0.3      Hbond_mat = np.zeros_like(dist_mat, dtype=bool)\n",
      "   213                                           \n",
      "   214         1    1902725.0 1902725.0      0.4      O_array = model.select_atoms(\"protein and name O and not altloc B C D E\").xyz\n",
      "   215         1    1455376.0 1455376.0      0.3      N_array = model.select_atoms(\"protein and name N and not altloc B C D E\").xyz\n",
      "   216         1    1450244.0 1450244.0      0.3      C_array = model.select_atoms(\"protein and name C and not altloc B C D E\").xyz\n",
      "   217         1   38921280.0 38921280.0      8.7      H_array = get_NH_xyz(model)\n",
      "   218                                           \n",
      "   219         1       1404.0   1404.0      0.0      assert len(O_array) == n_res\n",
      "   220         1        608.0    608.0      0.0      assert len(N_array) == n_res\n",
      "   221         1        266.0    266.0      0.0      assert len(C_array) == n_res\n",
      "   222         1        198.0    198.0      0.0      assert len(H_array) == n_res\n",
      "   223                                           \n",
      "   224                                               # Get indexes to check\n",
      "   225         1    1912089.0 1912089.0      0.4      mask = dist_mat < cutoff\n",
      "   226                                               # Remove lower triangle and i, i+1 (k=1)\n",
      "   227         1   12439420.0 12439420.0      2.8      mask[np.tril_indices_from(mask, k=1)] = False\n",
      "   228         1    3728343.0 3728343.0      0.8      indexes = np.argwhere(mask)\n",
      "   229                                           \n",
      "   230      5993    7355771.0   1227.4      1.7      for i, j in indexes:\n",
      "   231                                           \n",
      "   232      5993    2186506.0    364.8      0.5          O_i = O_array[i]\n",
      "   233      5993    1553152.0    259.2      0.3          C_i = C_array[i]\n",
      "   234      5993    1530652.0    255.4      0.3          N_i = N_array[i]\n",
      "   235      5993    1502410.0    250.7      0.3          H_i = H_array[i]\n",
      "   236                                           \n",
      "   237      5993    1494576.0    249.4      0.3          O_j = O_array[j]\n",
      "   238      5993    1491519.0    248.9      0.3          C_j = C_array[j]\n",
      "   239      5993    1573239.0    262.5      0.4          N_j = N_array[j]\n",
      "   240      5993    1522318.0    254.0      0.3          H_j = H_array[j]\n",
      "   241                                           \n",
      "   242                                                   # Compute HBond energies\n",
      "   243      5720    1439878.0    251.7      0.3          if H_j[0] is not None:\n",
      "   244      5720  133224004.0  23290.9     29.9              energy = hbond_energy(N_j, H_j, O_i, C_i)\n",
      "   245      4734    1430609.0    302.2      0.3              if energy < -0.5:\n",
      "   246       986     491858.0    498.8      0.1                  Hbond_mat[i, j] = True\n",
      "   247                                           \n",
      "   248      5621    1676827.0    298.3      0.4          if H_i[0] is not None:\n",
      "   249      5621  129007714.0  22951.0     29.0              energy = hbond_energy(N_i, H_i, O_j, C_j)\n",
      "   250      5387    1559743.0    289.5      0.4              if energy < -0.5:\n",
      "   251       234     117009.0    500.0      0.0                  Hbond_mat[j, i] = True\n",
      "   252                                           \n",
      "   253         1        124.0    124.0      0.0      return Hbond_mat"
     ]
    }
   ],
   "source": [
    "%lprun -f DSSP.compute_Hbond_matrix DSSP.compute_DSSP(test)"
   ]
  },
  {
   "cell_type": "code",
   "execution_count": 14,
   "metadata": {},
   "outputs": [
    {
     "data": {
      "text/plain": [
       "3"
      ]
     },
     "execution_count": 14,
     "metadata": {},
     "output_type": "execute_result"
    }
   ],
   "source": [
    "test = np.array([1, 2, 3, 4, 5, 6, 7, 8, 9, 10])\n",
    "np.where(test == 4)[0][0]"
   ]
  },
  {
   "cell_type": "code",
   "execution_count": 2,
   "metadata": {},
   "outputs": [],
   "source": [
    "pdb_numpy.show_log()"
   ]
  },
  {
   "cell_type": "code",
   "execution_count": 3,
   "metadata": {},
   "outputs": [
    {
     "data": {
      "text/plain": [
       "<module 'pdb_numpy' from './src/pdb_numpy/__init__.py'>"
      ]
     },
     "execution_count": 3,
     "metadata": {},
     "output_type": "execute_result"
    }
   ],
   "source": [
    "importlib.reload(pdb_numpy)"
   ]
  },
  {
   "cell_type": "code",
   "execution_count": 4,
   "metadata": {},
   "outputs": [
    {
     "name": "stdout",
     "output_type": "stream",
     "text": [
      "Succeed to read file src/pdb_numpy/tests/input/2rri.pdb \n",
      "479 atoms found\n"
     ]
    }
   ],
   "source": [
    "test = pdb_numpy.Coor('./src/pdb_numpy/tests/input/2rri.pdb')"
   ]
  },
  {
   "cell_type": "code",
   "execution_count": 5,
   "metadata": {},
   "outputs": [
    {
     "data": {
      "text/plain": [
       "'CRYST1    1.000    1.000    1.000  90.00  90.00  90.00 P 1           1          \\n'"
      ]
     },
     "execution_count": 5,
     "metadata": {},
     "output_type": "execute_result"
    }
   ],
   "source": [
    "test.crystal_pack"
   ]
  },
  {
   "cell_type": "code",
   "execution_count": 6,
   "metadata": {},
   "outputs": [
    {
     "data": {
      "text/plain": [
       "array([b'HIS', b'HIS', b'HIS', b'HIS', b'HIS', b'HIS', b'HIS', b'HIS',\n",
       "       b'HIS', b'HIS', b'HIS', b'HIS', b'HIS', b'HIS', b'HIS', b'HIS',\n",
       "       b'HIS', b'HIS', b'SER', b'SER', b'SER', b'SER', b'SER', b'SER',\n",
       "       b'SER', b'SER', b'SER', b'SER', b'SER', b'ASP', b'ASP', b'ASP',\n",
       "       b'ASP', b'ASP', b'ASP', b'ASP', b'ASP', b'ASP', b'ASP', b'ASP',\n",
       "       b'ASP', b'ALA', b'ALA', b'ALA', b'ALA', b'ALA', b'ALA', b'ALA',\n",
       "       b'ALA', b'ALA', b'ALA', b'VAL', b'VAL', b'VAL', b'VAL', b'VAL',\n",
       "       b'VAL', b'VAL', b'VAL', b'VAL', b'VAL', b'VAL', b'VAL', b'VAL',\n",
       "       b'VAL', b'VAL', b'VAL', b'PHE', b'PHE', b'PHE', b'PHE', b'PHE',\n",
       "       b'PHE', b'PHE', b'PHE', b'PHE', b'PHE', b'PHE', b'PHE', b'PHE',\n",
       "       b'PHE', b'PHE', b'PHE', b'PHE', b'PHE', b'PHE', b'PHE', b'THR',\n",
       "       b'THR', b'THR', b'THR', b'THR', b'THR', b'THR', b'THR', b'THR',\n",
       "       b'THR', b'THR', b'THR', b'THR', b'THR', b'ASP', b'ASP', b'ASP',\n",
       "       b'ASP', b'ASP', b'ASP', b'ASP', b'ASP', b'ASP', b'ASP', b'ASP',\n",
       "       b'ASP', b'ASN', b'ASN', b'ASN', b'ASN', b'ASN', b'ASN', b'ASN',\n",
       "       b'ASN', b'ASN', b'ASN', b'ASN', b'ASN', b'ASN', b'ASN', b'TYR',\n",
       "       b'TYR', b'TYR', b'TYR', b'TYR', b'TYR', b'TYR', b'TYR', b'TYR',\n",
       "       b'TYR', b'TYR', b'TYR', b'TYR', b'TYR', b'TYR', b'TYR', b'TYR',\n",
       "       b'TYR', b'TYR', b'TYR', b'TYR', b'THR', b'THR', b'THR', b'THR',\n",
       "       b'THR', b'THR', b'THR', b'THR', b'THR', b'THR', b'THR', b'THR',\n",
       "       b'THR', b'THR', b'ARG', b'ARG', b'ARG', b'ARG', b'ARG', b'ARG',\n",
       "       b'ARG', b'ARG', b'ARG', b'ARG', b'ARG', b'ARG', b'ARG', b'ARG',\n",
       "       b'ARG', b'ARG', b'ARG', b'ARG', b'ARG', b'ARG', b'ARG', b'ARG',\n",
       "       b'ARG', b'ARG', b'LEU', b'LEU', b'LEU', b'LEU', b'LEU', b'LEU',\n",
       "       b'LEU', b'LEU', b'LEU', b'LEU', b'LEU', b'LEU', b'LEU', b'LEU',\n",
       "       b'LEU', b'LEU', b'LEU', b'LEU', b'LEU', b'ARG', b'ARG', b'ARG',\n",
       "       b'ARG', b'ARG', b'ARG', b'ARG', b'ARG', b'ARG', b'ARG', b'ARG',\n",
       "       b'ARG', b'ARG', b'ARG', b'ARG', b'ARG', b'ARG', b'ARG', b'ARG',\n",
       "       b'ARG', b'ARG', b'ARG', b'ARG', b'ARG', b'LYS', b'LYS', b'LYS',\n",
       "       b'LYS', b'LYS', b'LYS', b'LYS', b'LYS', b'LYS', b'LYS', b'LYS',\n",
       "       b'LYS', b'LYS', b'LYS', b'LYS', b'LYS', b'LYS', b'LYS', b'LYS',\n",
       "       b'LYS', b'LYS', b'LYS', b'GLN', b'GLN', b'GLN', b'GLN', b'GLN',\n",
       "       b'GLN', b'GLN', b'GLN', b'GLN', b'GLN', b'GLN', b'GLN', b'GLN',\n",
       "       b'GLN', b'GLN', b'GLN', b'GLN', b'MET', b'MET', b'MET', b'MET',\n",
       "       b'MET', b'MET', b'MET', b'MET', b'MET', b'MET', b'MET', b'MET',\n",
       "       b'MET', b'MET', b'MET', b'MET', b'MET', b'ALA', b'ALA', b'ALA',\n",
       "       b'ALA', b'ALA', b'ALA', b'ALA', b'ALA', b'ALA', b'ALA', b'VAL',\n",
       "       b'VAL', b'VAL', b'VAL', b'VAL', b'VAL', b'VAL', b'VAL', b'VAL',\n",
       "       b'VAL', b'VAL', b'VAL', b'VAL', b'VAL', b'VAL', b'VAL', b'LYS',\n",
       "       b'LYS', b'LYS', b'LYS', b'LYS', b'LYS', b'LYS', b'LYS', b'LYS',\n",
       "       b'LYS', b'LYS', b'LYS', b'LYS', b'LYS', b'LYS', b'LYS', b'LYS',\n",
       "       b'LYS', b'LYS', b'LYS', b'LYS', b'LYS', b'LYS', b'LYS', b'LYS',\n",
       "       b'LYS', b'LYS', b'LYS', b'LYS', b'LYS', b'LYS', b'LYS', b'LYS',\n",
       "       b'LYS', b'LYS', b'LYS', b'LYS', b'LYS', b'LYS', b'LYS', b'LYS',\n",
       "       b'LYS', b'LYS', b'LYS', b'TYR', b'TYR', b'TYR', b'TYR', b'TYR',\n",
       "       b'TYR', b'TYR', b'TYR', b'TYR', b'TYR', b'TYR', b'TYR', b'TYR',\n",
       "       b'TYR', b'TYR', b'TYR', b'TYR', b'TYR', b'TYR', b'TYR', b'TYR',\n",
       "       b'LEU', b'LEU', b'LEU', b'LEU', b'LEU', b'LEU', b'LEU', b'LEU',\n",
       "       b'LEU', b'LEU', b'LEU', b'LEU', b'LEU', b'LEU', b'LEU', b'LEU',\n",
       "       b'LEU', b'LEU', b'LEU', b'ASN', b'ASN', b'ASN', b'ASN', b'ASN',\n",
       "       b'ASN', b'ASN', b'ASN', b'ASN', b'ASN', b'ASN', b'ASN', b'ASN',\n",
       "       b'ASN', b'SER', b'SER', b'SER', b'SER', b'SER', b'SER', b'SER',\n",
       "       b'SER', b'SER', b'SER', b'SER', b'ILE', b'ILE', b'ILE', b'ILE',\n",
       "       b'ILE', b'ILE', b'ILE', b'ILE', b'ILE', b'ILE', b'ILE', b'ILE',\n",
       "       b'ILE', b'ILE', b'ILE', b'ILE', b'ILE', b'ILE', b'ILE', b'LEU',\n",
       "       b'LEU', b'LEU', b'LEU', b'LEU', b'LEU', b'LEU', b'LEU', b'LEU',\n",
       "       b'LEU', b'LEU', b'LEU', b'LEU', b'LEU', b'LEU', b'LEU', b'LEU',\n",
       "       b'LEU', b'LEU', b'ASN', b'ASN', b'ASN', b'ASN', b'ASN', b'ASN',\n",
       "       b'ASN', b'ASN', b'ASN', b'ASN', b'ASN', b'ASN', b'ASN', b'ASN',\n",
       "       b'GLY', b'GLY', b'GLY', b'GLY', b'GLY', b'GLY', b'GLY'],\n",
       "      dtype='|S4')"
      ]
     },
     "execution_count": 6,
     "metadata": {},
     "output_type": "execute_result"
    }
   ],
   "source": [
    "test.model[0].resname"
   ]
  },
  {
   "cell_type": "code",
   "execution_count": 7,
   "metadata": {},
   "outputs": [
    {
     "name": "stdout",
     "output_type": "stream",
     "text": [
      "Succeed to read file src/pdb_numpy/tests/input/2rri.pdb \n",
      "479 atoms found\n",
      "479\n",
      "29\n"
     ]
    }
   ],
   "source": [
    "test = pdb_numpy.Coor('./src/pdb_numpy/tests/input/2rri.pdb')\n",
    "print(test.len)\n",
    "assert test.len == 479\n",
    "\n",
    "test_CA = test.select_atoms(\"name CA\")\n",
    "print(test_CA.len)\n",
    "assert test_CA.len == 29"
   ]
  },
  {
   "cell_type": "code",
   "execution_count": 8,
   "metadata": {},
   "outputs": [
    {
     "data": {
      "text/plain": [
       "array([ 1,  2,  3,  4,  5,  6,  7,  8,  9, 10, 11, 12, 13, 14, 15, 16, 17,\n",
       "       18, 19, 20, 21, 22, 23, 24, 25, 26, 27, 28, 29])"
      ]
     },
     "execution_count": 8,
     "metadata": {},
     "output_type": "execute_result"
    }
   ],
   "source": [
    "test_CA.model[0].res_num"
   ]
  },
  {
   "cell_type": "code",
   "execution_count": 9,
   "metadata": {},
   "outputs": [
    {
     "data": {
      "text/plain": [
       "array([b'ALA', b'ALA', b'ALA', b'ALA', b'ALA', b'ALA', b'ALA', b'ALA',\n",
       "       b'ALA', b'ALA', b'ALA', b'ALA', b'ALA', b'ALA', b'ALA', b'ALA',\n",
       "       b'ALA', b'ALA', b'ALA', b'ALA', b'ALA', b'ALA', b'ALA', b'ALA',\n",
       "       b'ALA', b'ALA', b'ALA', b'ALA', b'ALA'], dtype='|S4')"
      ]
     },
     "execution_count": 9,
     "metadata": {},
     "output_type": "execute_result"
    }
   ],
   "source": [
    "test_CA.model[0].resname = 'ALA'\n",
    "test_CA.model[0].resname"
   ]
  },
  {
   "cell_type": "code",
   "execution_count": 10,
   "metadata": {},
   "outputs": [],
   "source": [
    "import pdb_numpy._alignement as alignement\n"
   ]
  },
  {
   "cell_type": "code",
   "execution_count": 7,
   "metadata": {},
   "outputs": [],
   "source": [
    "\n",
    "seq_1 = 'AQDMVSPPPPIADEPLTVNTGIYLIECYSLDDKAETFKVNAFLSLSWKDRRLAFDPV\\\n",
    "RSGVRVKTYEPEAIWIPEIRFVNVENARDADVVDISVSPDGTVQYLERFSARVLSPLDFRRYPFDSQTLHIYLIVRSV\\\n",
    "DTRNIVLAVDLEKVGKNDDVFLTGWDIESFTAVVKPANFALEDRLESKLDYQLRISRQYFSYIPNIILPMLFILFISW\\\n",
    "TAFWSTSYEANVTLVVSTLIAHIAFNILVETNLPKTPYMTYTGAIIFMIYLFYFVAVIEVTVQHYLKVESQPARAASI\\\n",
    "TRASRIAFPVVFLLANIILAFLFFGF'\n",
    "seq_2 = 'APSEFLDKLMGKVSGYDARIRPNFKGPPVNVTCNIFINSFGSIAETTMDYRVNIFLR\\\n",
    "QQWNDPRLAYSEYPDDSLDLDPSMLDSIWKPDLFFANEKGANFHEVTTDNKLLRISKNGNVLYSIRITLVLACPMDLK\\\n",
    "NFPMDVQTCIMQLESFGYTMNDLIFEWDEKGAVQVADGLTLPQFILKEEKDLRYCTKHYNTGKFTCIEARFHLERQMG\\\n",
    "YYLIQMYIPSLLIVILSWVSFWINMDAAPARVGLGITTVLTMTTQSSGSRASLPKVSYVKAIDIWMAVCLLFVFSALL\\\n",
    "EYAAVNFIARAGTKLFISRAKRIDTVSRVAFPLVFLIFNIFYWITY\\\n",
    "KLVPR'\n"
   ]
  },
  {
   "cell_type": "code",
   "execution_count": 8,
   "metadata": {},
   "outputs": [
    {
     "name": "stdout",
     "output_type": "stream",
     "text": [
      "246 ms ± 2.75 ms per loop (mean ± std. dev. of 7 runs, 1 loop each)\n"
     ]
    }
   ],
   "source": [
    "importlib.reload(alignement)\n",
    "%timeit align_seq_1, align_seq_2 = alignement.align_seq(seq_1, seq_2)"
   ]
  },
  {
   "cell_type": "code",
   "execution_count": 132,
   "metadata": {},
   "outputs": [
    {
     "name": "stdout",
     "output_type": "stream",
     "text": [
      "Timer unit: 1e-09 s\n",
      "\n",
      "Total time: 0.0159654 s\n",
      "File: ./src/pdb_numpy/alignement.py\n",
      "Function: align_seq at line 16\n",
      "\n",
      "Line #      Hits         Time  Per Hit   % Time  Line Contents\n",
      "==============================================================\n",
      "    16                                           def align_seq_DTW(seq_1, seq_2):\n",
      "    17                                               \"\"\" Align two amino acid sequences using the Dynamic Time Warping Algorithm.\n",
      "    18                                               \"\"\"\n",
      "    19                                           \n",
      "    20                                               seq_1 = seq_1.replace(\"-\", \"\")\n",
      "    21                                               seq_2 = seq_2.replace(\"-\", \"\")\n",
      "    22                                           \n",
      "    23                                               len_1 = len(seq_1)\n",
      "    24                                               len_2 = len(seq_2)\n",
      "    25                                           \n",
      "    26                                               # Initialize the matrix\n",
      "    27                                               matrix = np.zeros((len_1 + 1, len_2 + 1), dtype=int)\n",
      "    28                                               matrix[1:, 0] = np.inf\n",
      "    29                                               matrix[0, 1:] = np.inf\n",
      "    30                                           \n",
      "    31                                               # Fill the matrix\n",
      "    32                                               for i in range(1, len_1 + 1):\n",
      "    33                                                   # print(i)\n",
      "    34                                                   prev = False  # insertion matrix[i, j - 1]\n",
      "    35                                                   for j in range(1, len_2 + 1):\n",
      "    36                                                       # Identify the BLOSUM62 score\n",
      "    37                                                       # Match\n",
      "    38         1       2191.0   2191.0      0.0              choices[0] = matrix[i - 1, j - 1] + BLOSUM62[(seq_2[j - 1], seq_1[i - 1])]\n",
      "    39         1        609.0    609.0      0.0              # Delete\n",
      "    40                                                       choices[1] = matrix[i - 1, j] + BLOSUM62[(seq_2[j - 1], seq_1[i - 1])]\n",
      "    41         1        850.0    850.0      0.0              # Insert\n",
      "    42         1        261.0    261.0      0.0              choices[2] = matrix[i, j - 1] + BLOSUM62[(seq_2[j - 1], seq_1[i - 1])]\n",
      "    43                                                       )\n",
      "    44                                           \n",
      "    45         1      13545.0  13545.0      0.1              max_index = np.argmax(choices)\n",
      "    46                                                       matrix[i, j] = choices[max_index]\n",
      "    47         1       3320.0   3320.0      0.0      \n",
      "    48         1       1537.0   1537.0      0.0      print(matrix)\n",
      "    49                                               \n",
      "    50                                           def align_seq(seq_1, seq_2, gap_cost=-11, gap_extension=-1):\n",
      "    51        57      23764.0    416.9      0.1      \"\"\"Align two amino acid sequences using the Waterman - Smith Algorithm.\n",
      "    52                                           \n",
      "    53        57      17869.0    313.5      0.1      Parameters\n",
      "    54      1083     492181.0    454.5      3.1      ----------\n",
      "    55                                               seq_1 : str\n",
      "    56                                                   First sequence to align\n",
      "    57      1083    1937070.0   1788.6     12.1      seq_2 : str\n",
      "    58                                                   Second sequence to align\n",
      "    59      1083    1212888.0   1119.9      7.6      gap_cost : int, optional\n",
      "    60                                                   Cost of gap, by default -8\n",
      "    61      1083    1321027.0   1219.8      8.3      gap_extension : int, optional\n",
      "    62                                                   Cost of gap extension, by default -2\n",
      "    63      1083    7408510.0   6840.7     46.4  \n",
      "    64      1083    1037888.0    958.3      6.5      Returns\n",
      "    65      1083     561877.0    518.8      3.5      -------\n",
      "    66      1083     369553.0    341.2      2.3      str\n",
      "    67                                                   Aligned sequence 1\n",
      "    68       881     582377.0    661.0      3.6      str\n",
      "    69       202      73828.0    365.5      0.5          Aligned sequence 2\n",
      "    70       804     463993.0    577.1      2.9      \"\"\"\n",
      "    71        77      37638.0    488.8      0.2  \n",
      "    72                                               seq_1 = seq_1.replace(\"-\", \"\")\n",
      "    73                                               seq_2 = seq_2.replace(\"-\", \"\")\n",
      "    74         1       2826.0   2826.0      0.0  \n",
      "    75         1      35332.0  35332.0      0.2      len_1 = len(seq_1)\n",
      "    76         1     268397.0 268397.0      1.7      len_2 = len(seq_2)\n",
      "    77                                           \n",
      "    78         1        534.0    534.0      0.0      # Initialize the matrix\n",
      "    79         1       2688.0   2688.0      0.0      matrix = np.zeros((len_1 + 1, len_2 + 1), dtype=int)\n",
      "    80         1       1565.0   1565.0      0.0  \n",
      "    81         1       1500.0   1500.0      0.0      prev_line = np.zeros((len_2 + 1), dtype=bool)\n",
      "    82                                               choices = np.zeros((3), dtype=int)\n",
      "    83                                           \n",
      "    84                                               # Fill the matrix\n",
      "    85                                               for i in range(1, len_1 + 1):\n",
      "    86         1        509.0    509.0      0.0          # print(i)\n",
      "    87         1        312.0    312.0      0.0          prev = False  # insertion matrix[i, j - 1]\n",
      "    88                                                   for j in range(1, len_2 + 1):\n",
      "    89                                                       # Identify the BLOSUM62 score\n",
      "    90         1        349.0    349.0      0.0              # Match\n",
      "    91         1        282.0    282.0      0.0              choices[0] = matrix[i - 1, j - 1] + BLOSUM62[(seq_2[j - 1], seq_1[i - 1])]\n",
      "    92                                                       # Delete\n",
      "    93         1        439.0    439.0      0.0              choices[1] = matrix[i - 1, j] + (gap_extension if prev else gap_cost)\n",
      "    94         1       2583.0   2583.0      0.0              # Insert\n",
      "    95                                                       choices[2] = matrix[i, j - 1] + (\n",
      "    96         1        411.0    411.0      0.0                  gap_extension if prev_line[j] else gap_cost\n",
      "    97                                                       )\n",
      "    98                                           \n",
      "    99         1       1375.0   1375.0      0.0              max_index = np.argmax(choices)\n",
      "   100         1        613.0    613.0      0.0              matrix[i, j] = choices[max_index]\n",
      "   101                                                       prev_line[j] = False\n",
      "   102        19      10274.0    540.7      0.1              prev = False\n",
      "   103                                           \n",
      "   104        19       7585.0    399.2      0.0              if max_index == 1:\n",
      "   105        19      27865.0   1466.6      0.2                  prev = True\n",
      "   106                                                       elif max_index == 2:\n",
      "   107        19       8738.0    459.9      0.1                  prev_line[j] = True\n",
      "   108        19       8488.0    446.7      0.1  \n",
      "   109        19       7906.0    416.1      0.0      # Identify the maximum score\n",
      "   110        19       8833.0    464.9      0.1      min_seq = min(len_1, len_2)\n",
      "   111                                               max_score = np.max(matrix[min_seq:, min_seq:])\n",
      "   112                                               max_index = np.where(matrix == max_score)\n",
      "   113                                           \n",
      "   114                                               index_list = []\n",
      "   115                                               for i in range(len(max_index[0])):\n",
      "   116                                                   if max_index[0][i] >= min_seq and max_index[1][i] >= min_seq:\n",
      "   117                                                       index_list.append([max_index[0][i], max_index[1][i]])\n",
      "   118                                           \n",
      "   119                                               # if len(index_list) > 1:\n",
      "   120                                               #    logger.warning(f\"Ambigous alignement, {len(index_list)} solutions exists\")\n",
      "   121                                           \n",
      "   122                                               i = index_list[0][0]\n",
      "   123                                               j = index_list[0][1]\n",
      "   124                                           \n",
      "   125                                               # Traceback and compute the alignment\n",
      "   126         1        638.0    638.0      0.0      align_1 = \"\"\n",
      "   127         1        480.0    480.0      0.0      align_2 = \"\"\n",
      "   128                                           \n",
      "   129         1        574.0    574.0      0.0      if i != len_1:\n",
      "   130                                                   align_2 = (len_1 - i) * \"-\"\n",
      "   131         1        601.0    601.0      0.0  \n",
      "   132                                               if j != len_2:\n",
      "   133                                                   align_1 = (len_2 - j) * \"-\"\n",
      "   134         1        746.0    746.0      0.0  \n",
      "   135                                               align_1 += seq_1[i:]\n",
      "   136         1        185.0    185.0      0.0      align_2 += seq_2[j:]\n",
      "   137                                           \n",
      "   138                                               while i != 0 and j != 0:\n",
      "   139                                                   if (\n",
      "   140                                                       matrix[i, j]\n",
      "   141                                                       == matrix[i - 1, j - 1] + BLOSUM62[(seq_1[i - 1], seq_2[j - 1])]\n",
      "   142                                                   ):\n",
      "   143                                                       align_1 = seq_1[i - 1] + align_1\n",
      "   144                                                       align_2 = seq_2[j - 1] + align_2\n",
      "   145                                                       i -= 1\n",
      "   146                                                       j -= 1\n",
      "   147                                                   elif (\n",
      "   148                                                       matrix[i, j] == matrix[i - 1, j] + gap_cost\n",
      "   149                                                       or matrix[i, j] == matrix[i - 1, j] + gap_extension\n",
      "   150                                                   ):\n",
      "   151                                                       align_1 = seq_1[i - 1] + align_1\n",
      "   152                                                       align_2 = \"-\" + align_2\n",
      "   153                                                       i -= 1\n",
      "   154                                                   elif (\n",
      "   155                                                       matrix[i, j] == matrix[i, j - 1] + gap_cost\n",
      "   156                                                       or matrix[i, j] == matrix[i, j - 1] + gap_extension\n",
      "   157                                                   ):\n",
      "   158                                                       align_1 = \"-\" + align_1\n",
      "   159                                                       align_2 = seq_2[j - 1] + align_2\n",
      "   160                                                       j -= 1\n",
      "   161                                           \n",
      "   162                                               align_1 = seq_1[:i] + align_1\n",
      "   163                                               align_2 = seq_2[:j] + align_2\n",
      "   164                                           \n",
      "   165                                               if i != 0:\n",
      "   166                                                   align_2 = i * \"-\" + align_2\n",
      "   167                                               elif j != 0:\n",
      "   168                                                   align_1 = j * \"-\" + align_1\n",
      "   169                                           \n",
      "   170                                               assert len(align_1) == len(align_2)\n",
      "   171                                           \n",
      "   172                                               return align_1, align_2\n",
      "   173                                           \n",
      "   174                                           \n",
      "   175                                           def align_seq_WS(seq_1, seq_2, gap_cost=-8):\n",
      "   176                                               \"\"\"Align two amino acid sequences using the Waterman - Smith Algorithm.\n",
      "   177                                               without gap extensions.\n",
      "   178                                           \n",
      "   179                                               Parameters\n",
      "   180                                               ----------\n",
      "   181                                               seq_1 : str\n",
      "   182                                                   First sequence to align\n",
      "   183                                               seq_2 : str\n",
      "   184                                                   Second sequence to align\n",
      "   185                                               gap_cost : int, optional\n",
      "   186                                                   Cost of gap, by default -8\n",
      "   187                                           \n",
      "   188                                               Returns\n",
      "   189                                               -------\n",
      "   190                                               str\n",
      "   191                                                   Aligned sequence 1\n",
      "   192                                               str\n",
      "   193                                                   Aligned sequence 2\n",
      "   194                                               \"\"\"\n",
      "   195                                           \n",
      "   196                                               seq_1 = seq_1.replace(\"-\", \"\")\n",
      "   197                                               seq_2 = seq_2.replace(\"-\", \"\")\n",
      "   198                                           \n",
      "   199                                               len_1 = len(seq_1)\n",
      "   200                                               len_2 = len(seq_2)\n",
      "   201                                           \n",
      "   202                                               # Initialize the matrix\n",
      "   203                                               matrix = np.zeros((len_1 + 1, len_2 + 1))\n",
      "   204                                           \n",
      "   205                                               # Fill the matrix\n",
      "   206                                               for i in range(1, len_1 + 1):\n",
      "   207                                                   # print(i)\n",
      "   208                                                   for j in range(1, len_2 + 1):\n",
      "   209                                                       # Identify the BLOSUM62 score\n",
      "   210                                                       match = matrix[i - 1, j - 1] + BLOSUM62[(seq_2[j - 1], seq_1[i - 1])]\n",
      "   211                                                       delete = matrix[i - 1, j] + gap_cost\n",
      "   212                                                       insert = matrix[i, j - 1] + gap_cost\n",
      "   213                                           \n",
      "   214                                                       matrix[i, j] = max(0, match, delete, insert)\n",
      "   215                                                       # if match > delete and match > insert:\n",
      "   216                                                       #    matrix[i, j] = match\n",
      "   217                                                       #    #print('Match')\n",
      "   218                                                       # elif delete > insert:\n",
      "   219                                                       #    matrix[i, j] = delete\n",
      "   220                                                       #    #print('Delete')\n",
      "   221                                                       # else:\n",
      "   222                                                       #    matrix[i, j] = insert\n",
      "   223                                                       #    #print('Insert')\n",
      "   224                                           \n",
      "   225                                               for i in range(1, len_1 + 1):\n",
      "   226                                                   for j in range(1, len_2 + 1):\n",
      "   227                                                       print(matrix[i, j], end=\" \")\n",
      "   228                                                   print()\n",
      "   229                                           \n",
      "   230                                               # Identify the maximum score\n",
      "   231                                               min_seq = min(len_1, len_2)\n",
      "   232                                               max_score = np.max(matrix[min_seq:, min_seq:])\n",
      "   233                                               max_index = np.where(matrix == max_score)\n",
      "   234                                           \n",
      "   235                                               index_list = []\n",
      "   236                                               for i in range(len(max_index[0])):\n",
      "   237                                                   if max_index[0][i] >= min_seq and max_index[1][i] >= min_seq:\n",
      "   238                                                       index_list.append([max_index[0][i], max_index[1][i]])\n",
      "   239                                           \n",
      "   240                                               if len(index_list) > 1:\n",
      "   241                                                   logger.warning(f\"Ambigous alignement, {len(index_list)} solutions exists\")\n",
      "   242                                           \n",
      "   243                                               i = index_list[0][0]\n",
      "   244                                               j = index_list[0][1]\n",
      "   245                                           \n",
      "   246                                               # Traceback and compute the alignment\n",
      "   247                                               align_1 = \"\"\n",
      "   248                                               align_2 = \"\"\n",
      "   249                                           \n",
      "   250                                               if i != len_1:\n",
      "   251                                                   align_2 = (len_1 - i) * \"-\"\n",
      "   252                                           \n",
      "   253                                               if j != len_2:\n",
      "   254                                                   align_1 = (len_2 - j) * \"-\"\n",
      "   255                                           \n",
      "   256                                               align_1 += seq_1[i:]\n",
      "   257                                               align_2 += seq_2[j:]\n",
      "   258                                           \n",
      "   259                                               while i != 0 and j != 0:\n",
      "   260                                                   if (\n",
      "   261                                                       matrix[i, j]\n",
      "   262                                                       == matrix[i - 1, j - 1] + BLOSUM62[(seq_1[i - 1], seq_2[j - 1])]\n",
      "   263                                                   ):\n",
      "   264                                                       align_1 = seq_1[i - 1] + align_1\n",
      "   265                                                       align_2 = seq_2[j - 1] + align_2\n",
      "   266                                                       i -= 1\n",
      "   267                                                       j -= 1\n",
      "   268                                                   elif (\n",
      "   269                                                       matrix[i, j] == matrix[i - 1, j] + gap_cost\n",
      "   270                                                       or matrix[i, j] == matrix[i - 1, j] + gap_extension\n",
      "   271                                                   ):\n",
      "   272                                                       align_1 = seq_1[i - 1] + align_1\n",
      "   273                                                       align_2 = \"-\" + align_2\n",
      "   274                                                       i -= 1\n",
      "   275                                                   elif (\n",
      "   276                                                       matrix[i, j] == matrix[i, j - 1] + gap_cost\n",
      "   277                                                       or matrix[i, j] == matrix[i, j - 1] + gap_extension\n",
      "   278                                                   ):\n",
      "   279                                                       align_1 = \"-\" + align_1\n",
      "   280                                                       align_2 = seq_2[j - 1] + align_2\n",
      "   281                                                       j -= 1\n",
      "   282                                           \n",
      "   283                                               align_1 = seq_1[:i] + align_1\n",
      "   284                                               align_2 = seq_2[:j] + align_2\n",
      "   285                                           \n",
      "   286                                               if i != 0:\n",
      "   287                                                   align_2 = i * \"-\" + align_2\n",
      "   288                                               elif j != 0:\n",
      "   289                                                   align_1 = j * \"-\" + align_1\n",
      "   290                                           \n",
      "   291                                               assert len(align_1) == len(align_2)\n",
      "   292                                           \n",
      "   293                                               return align_1, align_2\n",
      "   294                                           \n",
      "   295                                           \n",
      "   296                                           def print_align_seq(seq_1, seq_2, line_len=80):\n",
      "   297                                               \"\"\"Print the aligned sequences with a line length of 80 characters.\n",
      "   298                                           \n",
      "   299                                               Parameters\n",
      "   300                                               ----------\n",
      "   301                                               seq_1 : str\n",
      "   302                                                   First sequence\n",
      "   303                                               seq_2 : str\n",
      "   304                                                   Second sequence\n",
      "   305                                               line_len : int, optional\n",
      "   306                                                   Length of the line, by default 80\n",
      "   307                                           \n",
      "   308                                               Returns\n",
      "   309                                               -------\n",
      "   310                                               None\n",
      "   311                                           \n",
      "   312                                               \"\"\"\n",
      "   313                                           \n",
      "   314                                               sim_seq = \"\"\n",
      "   315                                               for i in range(len(seq_1)):\n",
      "   316                                           \n",
      "   317                                                   if seq_1[i] == seq_2[i]:\n",
      "   318                                                       sim_seq += \"*\"\n",
      "   319                                                       continue\n",
      "   320                                                   elif seq_1[i] != \"-\" and seq_2[i] != \"-\":\n",
      "   321                                                       if (seq_1[i], seq_2[i]) in BLOSUM62:\n",
      "   322                                                           mut_score = BLOSUM62[seq_1[i], seq_2[i]]\n",
      "   323                                                       else:\n",
      "   324                                                           mut_score = BLOSUM62[seq_2[i], seq_1[i]]\n",
      "   325                                                       if mut_score >= 0:\n",
      "   326                                                           sim_seq += \"|\"\n",
      "   327                                                           continue\n",
      "   328                                                   sim_seq += \" \"\n",
      "   329                                           \n",
      "   330                                               for i in range(1 + len(seq_1) // line_len):\n",
      "   331                                                   logger.info(seq_1[i * line_len : (i + 1) * line_len])\n",
      "   332                                                   logger.info(sim_seq[i * line_len : (i + 1) * line_len])\n",
      "   333                                                   logger.info(seq_2[i * line_len : (i + 1) * line_len])\n",
      "   334                                                   logger.info(\"\\n\")\n",
      "   335                                           \n",
      "   336                                               identity = 0\n",
      "   337                                               similarity = 0\n",
      "   338                                               for char in sim_seq:\n",
      "   339                                                   if char == \"*\":\n",
      "   340                                                       identity += 1\n",
      "   341                                                   if char in [\"|\", \"*\"]:\n",
      "   342                                                       similarity += 1\n",
      "   343                                           \n",
      "   344                                               len_1 = len(seq_1.replace(\"-\", \"\"))\n",
      "   345                                               len_2 = len(seq_2.replace(\"-\", \"\"))\n",
      "   346                                           \n",
      "   347                                               logger.info(f\"Identity seq1: {identity / len_1 * 100:.2f}%\")\n",
      "   348                                               logger.info(f\"Identity seq2: {identity / len_2 * 100:.2f}%\")\n",
      "   349                                           \n",
      "   350                                               logger.info(f\"Similarity seq1: {similarity / len_1 * 100:.2f}%\")\n",
      "   351                                               logger.info(f\"Similarity seq2: {similarity / len_2 * 100:.2f}%\")\n",
      "   352                                           \n",
      "   353                                               return\n",
      "   354                                           \n",
      "   355                                           \n",
      "   356                                           def get_common_atoms(\n",
      "   357                                               coor_1, coor_2, chain_1=[\"A\"], chain_2=[\"A\"], back_names=[\"C\", \"N\", \"O\", \"CA\"]"
     ]
    }
   ],
   "source": [
    "%lprun -f alignement.align_seq alignement.align_seq(seq_1, seq_2)"
   ]
  },
  {
   "cell_type": "code",
   "execution_count": 30,
   "metadata": {},
   "outputs": [
    {
     "data": {
      "text/plain": [
       "0"
      ]
     },
     "execution_count": 30,
     "metadata": {},
     "output_type": "execute_result"
    }
   ],
   "source": [
    "max_index = np.argmax([3, 2, 1])\n",
    "max_index"
   ]
  },
  {
   "cell_type": "code",
   "execution_count": 13,
   "metadata": {},
   "outputs": [
    {
     "name": "stdout",
     "output_type": "stream",
     "text": [
      "--------------AQDMVSPPPPIADEPLTVNTGIYLIECYSLDDKAETFKVNAFLSLSWKDRRLAFDPV-RSGVRVKT\n",
      "              | * |   * |   *||*| |*|| |  *| | |  ||** **  |*|* ***||    ||| |  \n",
      "APSEFLDKLMGKVSGYD-ARIRPNFKGPPVNVTCNIFINSFGSIAETTMDYRVNIFLRQQWNDPRLAYSEYPDDSLDLDP\n",
      "\n",
      "\n",
      "YEPEAIWIPEIRFVNVENARDADV-VD---ISVSPDGTVQYLERFSARVLSPLDFRRYPFDSQTLHIYLIVRSVDTRNIV\n",
      "   ||** *|| *|* ||*|  |* |*   | |* |*|* *  *||  |  *|*||||*|* **  | *   |   ||||\n",
      "SMLDSIWKPDLFFANEKGANFHEVTTDNKLLRISKNGNVLYSIRITLVLACPMDLKNFPMDVQTCIMQLESFGYTMNDLI\n",
      "\n",
      "\n",
      "LAVDLE-KVGKNDDVFLTGWDIESFTAVVKPANFALEDRLESKLDYQLRISRQYFSYIPNIILPMLFILFISWTAFW-S-\n",
      "|  * |  *   * | *  | |||    || ||   |    | || |||||**   *| || |* *|*|||**||** | \n",
      "FEWDEKGAVQVADGLTLPQFILKE-EKDLRYCTKHYNTGKFTCIEARFHLERQMGYYLIQMYIPSLLIVILSWVSFWINM\n",
      "\n",
      "\n",
      "TSYEANVTLVVSTLIAHIAFNILVETNLPKTPYMTYTGAIIFMIYLFYFVAVIEVTVQHYL-KVESQ--PARAASITRAS\n",
      " |  *|* * ||*|||  | |   |||***| *|      | |  ** * *||* || ||| || ||   |**  *  |*\n",
      "DAAPARVGLGITTVLTMTTQSSGSRASLPKVSYVKAIDIWMAVCLLFVFSALLEYAAVNFIARAGTKLFISRAKRIDTVS\n",
      "\n",
      "\n",
      "RIAFPVVFLLANIILAFLFFGF---\n",
      "*|***|***| **|  || | |   \n",
      "RVAFPLVFLIFNIFY-WITYKLVPR\n",
      "\n",
      "\n",
      "Identity seq1: 23.66%\n",
      "Identity seq2: 21.93%\n",
      "Similarity seq1: 61.51%\n",
      "Similarity seq2: 57.02%\n"
     ]
    }
   ],
   "source": [
    "alignement.print_align_seq(align_seq_1, align_seq_2, line_len=80)"
   ]
  },
  {
   "cell_type": "code",
   "execution_count": 14,
   "metadata": {},
   "outputs": [
    {
     "name": "stdout",
     "output_type": "stream",
     "text": [
      "AQDMVSPPPPIADEPLTVNTGIYLIECYSLDDKAETFKVNAFLSLSWKDRRLAFDPVRSGVRVKTYEPEAIWIPEIRFVN\n",
      "*********************************************************                       \n",
      "AQDMVSPPPPIADEPLTVNTGIYLIECYSLDDKAETFKVNAFLSLSWKDRRLAFDPV-----------------------\n",
      "\n",
      "\n",
      "VENARDADVVDISVSPDGTVQYLERFSARVLSPLDFRRYPFDSQTLHIYLIVRSVDTRNIVLAVDLEKVGKNDDVFLTGW\n",
      "                                                                                \n",
      "--------------------------------------------------------------------------------\n",
      "\n",
      "\n",
      "DIESFTAVVKPANFALEDRLESKLDYQLRISRQYFSYIPNIILPMLFILFISWTAFWSTSYEANVTLVVSTLIAHIAFNI\n",
      "                                                                                \n",
      "--------------------------------------------------------------------------------\n",
      "\n",
      "\n",
      "LVETNLPKTPYMTYTGAIIFMIYLFYFVAVIEVTVQHYLKVESQPARAASITRASRIAFPVVFLLANIILAFLFFGF\n",
      "                                                                             \n",
      "-----------------------------------------------------------------------------\n",
      "\n",
      "\n",
      "Identity seq1: 17.98%\n",
      "Identity seq2: 100.00%\n",
      "Similarity seq1: 17.98%\n",
      "Similarity seq2: 100.00%\n"
     ]
    }
   ],
   "source": [
    "seq_1 = 'AQDMVSPPPPIADEPLTVNTGIYLIECYSLDDKAETFKVNAFLSLSWKDRRLAFDPV\\\n",
    "RSGVRVKTYEPEAIWIPEIRFVNVENARDADVVDISVSPDGTVQYLERFSARVLSPLDFRRYPFDSQTLHIYLIVRSV\\\n",
    "DTRNIVLAVDLEKVGKNDDVFLTGWDIESFTAVVKPANFALEDRLESKLDYQLRISRQYFSYIPNIILPMLFILFISW\\\n",
    "TAFWSTSYEANVTLVVSTLIAHIAFNILVETNLPKTPYMTYTGAIIFMIYLFYFVAVIEVTVQHYLKVESQPARAASI\\\n",
    "TRASRIAFPVVFLLANIILAFLFFGF'\n",
    "seq_2 = 'AQDMVSPPPPIADEPLTVNTGIYLIECYSLDDKAETFKVNAFLSLSWKDRRLAFDPV'\n",
    "align_seq_1, align_seq_2 = alignement.align_seq(seq_1, seq_2)\n",
    "alignement.print_align_seq(align_seq_1, align_seq_2, line_len=80)"
   ]
  },
  {
   "cell_type": "code",
   "execution_count": 15,
   "metadata": {},
   "outputs": [
    {
     "name": "stdout",
     "output_type": "stream",
     "text": [
      "AQDMVSPPPPIADEPLTVNTGIYLIECYSLDDKAETFKVNAFLSLSWKDRRLAFDPVRSGVRVKTYEPEAIWIPEIRFVN\n",
      "                                                                                \n",
      "--------------------------------------------------------------------------------\n",
      "\n",
      "\n",
      "VENARDADVVDISVSPDGTVQYLERFSARVLSPLDFRRYPFDSQTLHIYLIVRSVDTRNIVLAVDLEKVGKNDDVFLTGW\n",
      "                                                                                \n",
      "--------------------------------------------------------------------------------\n",
      "\n",
      "\n",
      "DIESFTAVVKPANFALEDRLESKLDYQLRISRQYFSYIPNIILPMLFILFISWTAFWSTSYEANVTLVVSTLIAHIAFNI\n",
      "                                                                                \n",
      "--------------------------------------------------------------------------------\n",
      "\n",
      "\n",
      "LVETNLPKTPYMTYTGAIIFMIYLFYFVAVIEVTVQHYLKVESQPARAASITRASRIAFPVVFLLANIILAFLFFGF\n",
      "                       ******************************************************\n",
      "-----------------------LFYFVAVIEVTVQHYLKVESQPARAASITRASRIAFPVVFLLANIILAFLFFGF\n",
      "\n",
      "\n",
      "Identity seq1: 17.03%\n",
      "Identity seq2: 100.00%\n",
      "Similarity seq1: 17.03%\n",
      "Similarity seq2: 100.00%\n"
     ]
    }
   ],
   "source": [
    "seq_1 = 'AQDMVSPPPPIADEPLTVNTGIYLIECYSLDDKAETFKVNAFLSLSWKDRRLAFDPV\\\n",
    "RSGVRVKTYEPEAIWIPEIRFVNVENARDADVVDISVSPDGTVQYLERFSARVLSPLDFRRYPFDSQTLHIYLIVRSV\\\n",
    "DTRNIVLAVDLEKVGKNDDVFLTGWDIESFTAVVKPANFALEDRLESKLDYQLRISRQYFSYIPNIILPMLFILFISW\\\n",
    "TAFWSTSYEANVTLVVSTLIAHIAFNILVETNLPKTPYMTYTGAIIFMIYLFYFVAVIEVTVQHYLKVESQPARAASI\\\n",
    "TRASRIAFPVVFLLANIILAFLFFGF'\n",
    "seq_2 = 'LFYFVAVIEVTVQHYLKVESQPARAASITRASRIAFPVVFLLANIILAFLFFGF'\n",
    "align_seq_1, align_seq_2 = alignement.align_seq(seq_1, seq_2)\n",
    "alignement.print_align_seq(align_seq_1, align_seq_2, line_len=80)"
   ]
  },
  {
   "cell_type": "code",
   "execution_count": null,
   "metadata": {},
   "outputs": [],
   "source": []
  },
  {
   "cell_type": "code",
   "execution_count": 103,
   "metadata": {},
   "outputs": [],
   "source": [
    "seq_1 = 'AQDMVSP'\n",
    "seq_2 = 'AQDMVSPPPPIA'\n",
    "\n",
    "from pdb_numpy.data.blosum import BLOSUM62\n",
    "\n",
    "def align_seq_DTW(seq_1, seq_2):\n",
    "    \"\"\" Align two amino acid sequences using the Dynamic Time Warping Algorithm.\n",
    "    \"\"\"\n",
    "\n",
    "    seq_1 = seq_1.replace(\"-\", \"\")\n",
    "    seq_2 = seq_2.replace(\"-\", \"\")\n",
    "\n",
    "    len_1 = len(seq_1)\n",
    "    len_2 = len(seq_2)\n",
    "\n",
    "    # Initialize the matrix\n",
    "    matrix = np.zeros((len_1 + 1, len_2 + 1))\n",
    "    matrix[1:, 0] = -np.inf\n",
    "    matrix[0, 1:] = -np.inf\n",
    "\n",
    "    direction = np.zeros((len_1 + 1, len_2 + 1))\n",
    "\n",
    "    choices = np.zeros(3)\n",
    "\n",
    "    # Fill the matrix\n",
    "    for i in range(1, len_1 + 1):\n",
    "        # print(i)\n",
    "        prev = False  # insertion matrix[i, j - 1]\n",
    "        for j in range(1, len_2 + 1):\n",
    "            # Identify the BLOSUM62 score\n",
    "            # Match\n",
    "            choices = np.array([matrix[i - 1, j - 1], matrix[i - 1, j],  matrix[i, j - 1]])\n",
    "\n",
    "            max_index = np.argmax(choices)\n",
    "            #print(max_index)\n",
    "            matrix[i, j] = choices[max_index] + BLOSUM62[(seq_2[j - 1], seq_1[i - 1])]\n",
    "            direction[i, j] = max_index\n",
    "    \n",
    "    print(matrix)\n",
    "    print(direction)\n",
    "\n",
    "    i = len_1\n",
    "    j = len_2\n",
    "\n",
    "    align_1 = \"\"\n",
    "    align_2 = \"\"\n",
    "\n",
    "    while i != 0 and j != 0:\n",
    "        if (\n",
    "            direction[i, j] == 0\n",
    "        ):\n",
    "            align_1 = seq_1[i - 1] + align_1\n",
    "            align_2 = seq_2[j - 1] + align_2\n",
    "            i -= 1\n",
    "            j -= 1\n",
    "        elif (\n",
    "            direction[i, j] == 1\n",
    "        ):\n",
    "            align_1 = seq_1[i - 1] + align_1\n",
    "            align_2 = \"-\" + align_2\n",
    "            i -= 1\n",
    "        elif (\n",
    "            direction[i, j] == 2\n",
    "        ):\n",
    "            align_1 = \"-\" + align_1\n",
    "            align_2 = seq_2[j - 1] + align_2\n",
    "            j -= 1\n",
    "\n",
    "    i = len(align_1) - 1\n",
    "    while i > 0:\n",
    "        if (align_1[i] == \"-\" and align_2[i -1] == \"-\"):\n",
    "            align_1 = align_1[:i] + align_1[i + 1:]\n",
    "            align_2 = align_2[:i-1] + align_2[i:]\n",
    "        elif (align_2[i] == \"-\" and align_1[i -1] == \"-\"):\n",
    "            align_2 = align_2[:i] + align_2[i + 1:]\n",
    "            align_1 = align_1[:i-1] + align_1[i:]\n",
    "        i -= 1\n",
    "\n",
    "    assert len(align_1) == len(align_2)\n",
    "\n",
    "    print(align_1)\n",
    "    print(align_2)\n",
    "\n",
    "    return align_1, align_2\n",
    "\n",
    "    "
   ]
  },
  {
   "cell_type": "code",
   "execution_count": 126,
   "metadata": {},
   "outputs": [
    {
     "name": "stdout",
     "output_type": "stream",
     "text": [
      "[[  0. -inf -inf ... -inf -inf -inf]\n",
      " [-inf   4.   3. ...  -5.  -5.  -7.]\n",
      " [-inf   3.   9. ...  -2.  -4.  -4.]\n",
      " ...\n",
      " [-inf -29. -25. ...  95.  96. 100.]\n",
      " [-inf -30. -26. ...  94.  94.  98.]\n",
      " [-inf -30. -28. ...  94.  98.  95.]]\n",
      "[[0. 0. 0. ... 0. 0. 0.]\n",
      " [0. 0. 2. ... 2. 2. 2.]\n",
      " [0. 1. 0. ... 2. 2. 2.]\n",
      " ...\n",
      " [0. 1. 1. ... 1. 1. 0.]\n",
      " [0. 1. 1. ... 1. 1. 1.]\n",
      " [0. 1. 1. ... 1. 0. 1.]]\n",
      "AQDMVSP--PPPIADEPLTVNTGIYLIECYSLDDKAETFKVNAFLSLSWKDRRLAFDPV\n",
      "AQDMVSPPPP--IADEPLT----------------------------------V--N--\n"
     ]
    },
    {
     "data": {
      "text/plain": [
       "('AQDMVSP--PPPIADEPLTVNTGIYLIECYSLDDKAETFKVNAFLSLSWKDRRLAFDPV',\n",
       " 'AQDMVSPPPP--IADEPLT----------------------------------V--N--')"
      ]
     },
     "execution_count": 126,
     "metadata": {},
     "output_type": "execute_result"
    }
   ],
   "source": [
    "seq_1 = \"AQDMVSPPPPIADEPLTVNTGIYLIECYSLDDKAETFKVNAFLSLSWKDRRLAFDPV\"\n",
    "seq_2 = \"AQDMVSPPPPIADEPLTVN\"\n",
    "align_seq_DTW(seq_1, seq_2)"
   ]
  },
  {
   "cell_type": "code",
   "execution_count": 127,
   "metadata": {},
   "outputs": [],
   "source": [
    "import numpy as np\n",
    "from tmtools import tm_align"
   ]
  },
  {
   "cell_type": "code",
   "execution_count": 128,
   "metadata": {},
   "outputs": [],
   "source": [
    "coords1 = pdb_numpy.Coor(\"src/pdb_numpy/tests/input/1u85.pdb\")\n",
    "coords2 = pdb_numpy.Coor(\"src/pdb_numpy/tests/input/1ubd.pdb\")\n",
    "\n",
    "coords1_ca = coords1.select_atoms(\"name CA\")\n",
    "coords2_ca = coords2.select_atoms(\"name CA\")\n",
    "\n",
    "seq1 = coords1.get_aa_seq()['A']\n",
    "seq2 = coords2.get_aa_seq()['C']\n",
    "res = tm_align(coords1_ca.xyz, coords2_ca.xyz, seq1, seq2)"
   ]
  },
  {
   "cell_type": "code",
   "execution_count": 131,
   "metadata": {},
   "outputs": [
    {
     "name": "stdout",
     "output_type": "stream",
     "text": [
      "4.22 ms ± 22.3 µs per loop (mean ± std. dev. of 7 runs, 100 loops each)\n"
     ]
    }
   ],
   "source": [
    "%timeit tm_align(coords1_ca.xyz, coords2_ca.xyz, seq1, seq2)"
   ]
  },
  {
   "cell_type": "code",
   "execution_count": 129,
   "metadata": {},
   "outputs": [
    {
     "data": {
      "text/plain": [
       "{'C': 'TIACPHKGCTKMFRDNSAMRKHLHTHGPRVHVCAECGKAFVESSKLKRHQLVHTGEKPFQCTFEGCGKRFSLDFNLRTHVRIHTGDRPYVCPFDGCNKKFAQSTNLKSHILTHA'}"
      ]
     },
     "execution_count": 129,
     "metadata": {},
     "output_type": "execute_result"
    }
   ],
   "source": [
    "coords2.get_aa_seq()"
   ]
  },
  {
   "cell_type": "code",
   "execution_count": 130,
   "metadata": {},
   "outputs": [
    {
     "data": {
      "text/plain": [
       "array([[-0.75530653, -0.5759304 ,  0.31275584],\n",
       "       [ 0.17315727,  0.28488949,  0.94279082],\n",
       "       [-0.63208275,  0.76625202, -0.11545235]])"
      ]
     },
     "execution_count": 130,
     "metadata": {},
     "output_type": "execute_result"
    }
   ],
   "source": [
    "res.u"
   ]
  },
  {
   "cell_type": "code",
   "execution_count": null,
   "metadata": {},
   "outputs": [],
   "source": []
  },
  {
   "cell_type": "code",
   "execution_count": null,
   "metadata": {},
   "outputs": [],
   "source": []
  }
 ],
 "metadata": {
  "kernelspec": {
   "display_name": "start",
   "language": "python",
   "name": "python3"
  },
  "language_info": {
   "codemirror_mode": {
    "name": "ipython",
    "version": 3
   },
   "file_extension": ".py",
   "mimetype": "text/x-python",
   "name": "python",
   "nbconvert_exporter": "python",
   "pygments_lexer": "ipython3",
   "version": "3.8.12"
  },
  "vscode": {
   "interpreter": {
    "hash": "8566c7ffd5a3fd0eb8b6bc5602eae056722f46b57749c0b0a0c2ae1cbf9832a0"
   }
  }
 },
 "nbformat": 4,
 "nbformat_minor": 2
}

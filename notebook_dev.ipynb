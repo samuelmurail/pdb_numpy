{
 "cells": [
  {
   "cell_type": "code",
   "execution_count": 4,
   "metadata": {},
   "outputs": [],
   "source": [
    "import sys\n",
    "import importlib\n",
    "import logging\n",
    "\n",
    "sys.path.append(\"./src/\")\n",
    "import pdb_numpy\n",
    "\n",
    "import numpy as np"
   ]
  },
  {
   "cell_type": "code",
   "execution_count": 16,
   "metadata": {},
   "outputs": [
    {
     "data": {
      "text/plain": [
       "array([[ 1,  2,  3],\n",
       "       [ 4,  5,  6],\n",
       "       [ 7,  8,  9],\n",
       "       [10, 11, 12]])"
      ]
     },
     "execution_count": 16,
     "metadata": {},
     "output_type": "execute_result"
    }
   ],
   "source": [
    "test = np.array([[1, 2, 3], [4, 5, 6], [7, 8, 9], [10, 11, 12]])\n",
    "test"
   ]
  },
  {
   "cell_type": "code",
   "execution_count": 17,
   "metadata": {},
   "outputs": [
    {
     "data": {
      "text/plain": [
       "array([[ 1,  2,  3],\n",
       "       [ 4,  5,  6],\n",
       "       [ 0,  0,  0],\n",
       "       [ 7,  8,  9],\n",
       "       [10, 11, 12]])"
      ]
     },
     "execution_count": 17,
     "metadata": {},
     "output_type": "execute_result"
    }
   ],
   "source": [
    "np.insert(test, 2, [0, 0, 0], axis=0)"
   ]
  },
  {
   "cell_type": "code",
   "execution_count": 20,
   "metadata": {},
   "outputs": [
    {
     "data": {
      "text/plain": [
       "['W', 'H', 'A', 'Q', ' ', 'W', 'H', 'A', 'T']"
      ]
     },
     "execution_count": 20,
     "metadata": {},
     "output_type": "execute_result"
    }
   ],
   "source": [
    "test = \"WHAT WHAT\"\n",
    "test = list(test)\n",
    "test[3] = \"Q\"\n",
    "test"
   ]
  },
  {
   "cell_type": "code",
   "execution_count": 14,
   "metadata": {},
   "outputs": [
    {
     "data": {
      "text/plain": [
       "3"
      ]
     },
     "execution_count": 14,
     "metadata": {},
     "output_type": "execute_result"
    }
   ],
   "source": [
    "test = np.array([1, 2, 3, 4, 5, 6, 7, 8, 9, 10])\n",
    "np.where(test == 4)[0][0]"
   ]
  },
  {
   "cell_type": "code",
   "execution_count": 2,
   "metadata": {},
   "outputs": [],
   "source": [
    "pdb_numpy.show_log()"
   ]
  },
  {
   "cell_type": "code",
   "execution_count": 3,
   "metadata": {},
   "outputs": [
    {
     "data": {
      "text/plain": [
       "<module 'pdb_numpy' from './src/pdb_numpy/__init__.py'>"
      ]
     },
     "execution_count": 3,
     "metadata": {},
     "output_type": "execute_result"
    }
   ],
   "source": [
    "importlib.reload(pdb_numpy)"
   ]
  },
  {
   "cell_type": "code",
   "execution_count": 4,
   "metadata": {},
   "outputs": [
    {
     "name": "stdout",
     "output_type": "stream",
     "text": [
      "Succeed to read file src/pdb_numpy/tests/input/2rri.pdb \n",
      "479 atoms found\n"
     ]
    }
   ],
   "source": [
    "test = pdb_numpy.Coor('./src/pdb_numpy/tests/input/2rri.pdb')"
   ]
  },
  {
   "cell_type": "code",
   "execution_count": 5,
   "metadata": {},
   "outputs": [
    {
     "data": {
      "text/plain": [
       "'CRYST1    1.000    1.000    1.000  90.00  90.00  90.00 P 1           1          \\n'"
      ]
     },
     "execution_count": 5,
     "metadata": {},
     "output_type": "execute_result"
    }
   ],
   "source": [
    "test.crystal_pack"
   ]
  },
  {
   "cell_type": "code",
   "execution_count": 6,
   "metadata": {},
   "outputs": [
    {
     "data": {
      "text/plain": [
       "array([b'HIS', b'HIS', b'HIS', b'HIS', b'HIS', b'HIS', b'HIS', b'HIS',\n",
       "       b'HIS', b'HIS', b'HIS', b'HIS', b'HIS', b'HIS', b'HIS', b'HIS',\n",
       "       b'HIS', b'HIS', b'SER', b'SER', b'SER', b'SER', b'SER', b'SER',\n",
       "       b'SER', b'SER', b'SER', b'SER', b'SER', b'ASP', b'ASP', b'ASP',\n",
       "       b'ASP', b'ASP', b'ASP', b'ASP', b'ASP', b'ASP', b'ASP', b'ASP',\n",
       "       b'ASP', b'ALA', b'ALA', b'ALA', b'ALA', b'ALA', b'ALA', b'ALA',\n",
       "       b'ALA', b'ALA', b'ALA', b'VAL', b'VAL', b'VAL', b'VAL', b'VAL',\n",
       "       b'VAL', b'VAL', b'VAL', b'VAL', b'VAL', b'VAL', b'VAL', b'VAL',\n",
       "       b'VAL', b'VAL', b'VAL', b'PHE', b'PHE', b'PHE', b'PHE', b'PHE',\n",
       "       b'PHE', b'PHE', b'PHE', b'PHE', b'PHE', b'PHE', b'PHE', b'PHE',\n",
       "       b'PHE', b'PHE', b'PHE', b'PHE', b'PHE', b'PHE', b'PHE', b'THR',\n",
       "       b'THR', b'THR', b'THR', b'THR', b'THR', b'THR', b'THR', b'THR',\n",
       "       b'THR', b'THR', b'THR', b'THR', b'THR', b'ASP', b'ASP', b'ASP',\n",
       "       b'ASP', b'ASP', b'ASP', b'ASP', b'ASP', b'ASP', b'ASP', b'ASP',\n",
       "       b'ASP', b'ASN', b'ASN', b'ASN', b'ASN', b'ASN', b'ASN', b'ASN',\n",
       "       b'ASN', b'ASN', b'ASN', b'ASN', b'ASN', b'ASN', b'ASN', b'TYR',\n",
       "       b'TYR', b'TYR', b'TYR', b'TYR', b'TYR', b'TYR', b'TYR', b'TYR',\n",
       "       b'TYR', b'TYR', b'TYR', b'TYR', b'TYR', b'TYR', b'TYR', b'TYR',\n",
       "       b'TYR', b'TYR', b'TYR', b'TYR', b'THR', b'THR', b'THR', b'THR',\n",
       "       b'THR', b'THR', b'THR', b'THR', b'THR', b'THR', b'THR', b'THR',\n",
       "       b'THR', b'THR', b'ARG', b'ARG', b'ARG', b'ARG', b'ARG', b'ARG',\n",
       "       b'ARG', b'ARG', b'ARG', b'ARG', b'ARG', b'ARG', b'ARG', b'ARG',\n",
       "       b'ARG', b'ARG', b'ARG', b'ARG', b'ARG', b'ARG', b'ARG', b'ARG',\n",
       "       b'ARG', b'ARG', b'LEU', b'LEU', b'LEU', b'LEU', b'LEU', b'LEU',\n",
       "       b'LEU', b'LEU', b'LEU', b'LEU', b'LEU', b'LEU', b'LEU', b'LEU',\n",
       "       b'LEU', b'LEU', b'LEU', b'LEU', b'LEU', b'ARG', b'ARG', b'ARG',\n",
       "       b'ARG', b'ARG', b'ARG', b'ARG', b'ARG', b'ARG', b'ARG', b'ARG',\n",
       "       b'ARG', b'ARG', b'ARG', b'ARG', b'ARG', b'ARG', b'ARG', b'ARG',\n",
       "       b'ARG', b'ARG', b'ARG', b'ARG', b'ARG', b'LYS', b'LYS', b'LYS',\n",
       "       b'LYS', b'LYS', b'LYS', b'LYS', b'LYS', b'LYS', b'LYS', b'LYS',\n",
       "       b'LYS', b'LYS', b'LYS', b'LYS', b'LYS', b'LYS', b'LYS', b'LYS',\n",
       "       b'LYS', b'LYS', b'LYS', b'GLN', b'GLN', b'GLN', b'GLN', b'GLN',\n",
       "       b'GLN', b'GLN', b'GLN', b'GLN', b'GLN', b'GLN', b'GLN', b'GLN',\n",
       "       b'GLN', b'GLN', b'GLN', b'GLN', b'MET', b'MET', b'MET', b'MET',\n",
       "       b'MET', b'MET', b'MET', b'MET', b'MET', b'MET', b'MET', b'MET',\n",
       "       b'MET', b'MET', b'MET', b'MET', b'MET', b'ALA', b'ALA', b'ALA',\n",
       "       b'ALA', b'ALA', b'ALA', b'ALA', b'ALA', b'ALA', b'ALA', b'VAL',\n",
       "       b'VAL', b'VAL', b'VAL', b'VAL', b'VAL', b'VAL', b'VAL', b'VAL',\n",
       "       b'VAL', b'VAL', b'VAL', b'VAL', b'VAL', b'VAL', b'VAL', b'LYS',\n",
       "       b'LYS', b'LYS', b'LYS', b'LYS', b'LYS', b'LYS', b'LYS', b'LYS',\n",
       "       b'LYS', b'LYS', b'LYS', b'LYS', b'LYS', b'LYS', b'LYS', b'LYS',\n",
       "       b'LYS', b'LYS', b'LYS', b'LYS', b'LYS', b'LYS', b'LYS', b'LYS',\n",
       "       b'LYS', b'LYS', b'LYS', b'LYS', b'LYS', b'LYS', b'LYS', b'LYS',\n",
       "       b'LYS', b'LYS', b'LYS', b'LYS', b'LYS', b'LYS', b'LYS', b'LYS',\n",
       "       b'LYS', b'LYS', b'LYS', b'TYR', b'TYR', b'TYR', b'TYR', b'TYR',\n",
       "       b'TYR', b'TYR', b'TYR', b'TYR', b'TYR', b'TYR', b'TYR', b'TYR',\n",
       "       b'TYR', b'TYR', b'TYR', b'TYR', b'TYR', b'TYR', b'TYR', b'TYR',\n",
       "       b'LEU', b'LEU', b'LEU', b'LEU', b'LEU', b'LEU', b'LEU', b'LEU',\n",
       "       b'LEU', b'LEU', b'LEU', b'LEU', b'LEU', b'LEU', b'LEU', b'LEU',\n",
       "       b'LEU', b'LEU', b'LEU', b'ASN', b'ASN', b'ASN', b'ASN', b'ASN',\n",
       "       b'ASN', b'ASN', b'ASN', b'ASN', b'ASN', b'ASN', b'ASN', b'ASN',\n",
       "       b'ASN', b'SER', b'SER', b'SER', b'SER', b'SER', b'SER', b'SER',\n",
       "       b'SER', b'SER', b'SER', b'SER', b'ILE', b'ILE', b'ILE', b'ILE',\n",
       "       b'ILE', b'ILE', b'ILE', b'ILE', b'ILE', b'ILE', b'ILE', b'ILE',\n",
       "       b'ILE', b'ILE', b'ILE', b'ILE', b'ILE', b'ILE', b'ILE', b'LEU',\n",
       "       b'LEU', b'LEU', b'LEU', b'LEU', b'LEU', b'LEU', b'LEU', b'LEU',\n",
       "       b'LEU', b'LEU', b'LEU', b'LEU', b'LEU', b'LEU', b'LEU', b'LEU',\n",
       "       b'LEU', b'LEU', b'ASN', b'ASN', b'ASN', b'ASN', b'ASN', b'ASN',\n",
       "       b'ASN', b'ASN', b'ASN', b'ASN', b'ASN', b'ASN', b'ASN', b'ASN',\n",
       "       b'GLY', b'GLY', b'GLY', b'GLY', b'GLY', b'GLY', b'GLY'],\n",
       "      dtype='|S4')"
      ]
     },
     "execution_count": 6,
     "metadata": {},
     "output_type": "execute_result"
    }
   ],
   "source": [
    "test.model[0].resname"
   ]
  },
  {
   "cell_type": "code",
   "execution_count": 7,
   "metadata": {},
   "outputs": [
    {
     "name": "stdout",
     "output_type": "stream",
     "text": [
      "Succeed to read file src/pdb_numpy/tests/input/2rri.pdb \n",
      "479 atoms found\n",
      "479\n",
      "29\n"
     ]
    }
   ],
   "source": [
    "test = pdb_numpy.Coor('./src/pdb_numpy/tests/input/2rri.pdb')\n",
    "print(test.len)\n",
    "assert test.len == 479\n",
    "\n",
    "test_CA = test.select_atoms(\"name CA\")\n",
    "print(test_CA.len)\n",
    "assert test_CA.len == 29"
   ]
  },
  {
   "cell_type": "code",
   "execution_count": 8,
   "metadata": {},
   "outputs": [
    {
     "data": {
      "text/plain": [
       "array([ 1,  2,  3,  4,  5,  6,  7,  8,  9, 10, 11, 12, 13, 14, 15, 16, 17,\n",
       "       18, 19, 20, 21, 22, 23, 24, 25, 26, 27, 28, 29])"
      ]
     },
     "execution_count": 8,
     "metadata": {},
     "output_type": "execute_result"
    }
   ],
   "source": [
    "test_CA.model[0].res_num"
   ]
  },
  {
   "cell_type": "code",
   "execution_count": 9,
   "metadata": {},
   "outputs": [
    {
     "data": {
      "text/plain": [
       "array([b'ALA', b'ALA', b'ALA', b'ALA', b'ALA', b'ALA', b'ALA', b'ALA',\n",
       "       b'ALA', b'ALA', b'ALA', b'ALA', b'ALA', b'ALA', b'ALA', b'ALA',\n",
       "       b'ALA', b'ALA', b'ALA', b'ALA', b'ALA', b'ALA', b'ALA', b'ALA',\n",
       "       b'ALA', b'ALA', b'ALA', b'ALA', b'ALA'], dtype='|S4')"
      ]
     },
     "execution_count": 9,
     "metadata": {},
     "output_type": "execute_result"
    }
   ],
   "source": [
    "test_CA.model[0].resname = 'ALA'\n",
    "test_CA.model[0].resname"
   ]
  },
  {
   "cell_type": "code",
   "execution_count": 10,
   "metadata": {},
   "outputs": [],
   "source": [
    "import pdb_numpy._alignement as alignement\n"
   ]
  },
  {
   "cell_type": "code",
   "execution_count": 11,
   "metadata": {},
   "outputs": [],
   "source": [
    "\n",
    "importlib.reload(alignement)\n",
    "seq_1 = 'AQDMVSPPPPIADEPLTVNTGIYLIECYSLDDKAETFKVNAFLSLSWKDRRLAFDPV\\\n",
    "RSGVRVKTYEPEAIWIPEIRFVNVENARDADVVDISVSPDGTVQYLERFSARVLSPLDFRRYPFDSQTLHIYLIVRSV\\\n",
    "DTRNIVLAVDLEKVGKNDDVFLTGWDIESFTAVVKPANFALEDRLESKLDYQLRISRQYFSYIPNIILPMLFILFISW\\\n",
    "TAFWSTSYEANVTLVVSTLIAHIAFNILVETNLPKTPYMTYTGAIIFMIYLFYFVAVIEVTVQHYLKVESQPARAASI\\\n",
    "TRASRIAFPVVFLLANIILAFLFFGF'\n",
    "seq_2 = 'APSEFLDKLMGKVSGYDARIRPNFKGPPVNVTCNIFINSFGSIAETTMDYRVNIFLR\\\n",
    "QQWNDPRLAYSEYPDDSLDLDPSMLDSIWKPDLFFANEKGANFHEVTTDNKLLRISKNGNVLYSIRITLVLACPMDLK\\\n",
    "NFPMDVQTCIMQLESFGYTMNDLIFEWDEKGAVQVADGLTLPQFILKEEKDLRYCTKHYNTGKFTCIEARFHLERQMG\\\n",
    "YYLIQMYIPSLLIVILSWVSFWINMDAAPARVGLGITTVLTMTTQSSGSRASLPKVSYVKAIDIWMAVCLLFVFSALL\\\n",
    "EYAAVNFIARAGTKLFISRAKRIDTVSRVAFPLVFLIFNIFYWITY\\\n",
    "KLVPR'\n"
   ]
  },
  {
   "cell_type": "code",
   "execution_count": 12,
   "metadata": {},
   "outputs": [],
   "source": [
    "align_seq_1, align_seq_2 = alignement.align_seq(seq_1, seq_2)"
   ]
  },
  {
   "cell_type": "code",
   "execution_count": 13,
   "metadata": {},
   "outputs": [
    {
     "name": "stdout",
     "output_type": "stream",
     "text": [
      "--------------AQDMVSPPPPIADEPLTVNTGIYLIECYSLDDKAETFKVNAFLSLSWKDRRLAFDPV-RSGVRVKT\n",
      "              | * |   * |   *||*| |*|| |  *| | |  ||** **  |*|* ***||    ||| |  \n",
      "APSEFLDKLMGKVSGYD-ARIRPNFKGPPVNVTCNIFINSFGSIAETTMDYRVNIFLRQQWNDPRLAYSEYPDDSLDLDP\n",
      "\n",
      "\n",
      "YEPEAIWIPEIRFVNVENARDADV-VD---ISVSPDGTVQYLERFSARVLSPLDFRRYPFDSQTLHIYLIVRSVDTRNIV\n",
      "   ||** *|| *|* ||*|  |* |*   | |* |*|* *  *||  |  *|*||||*|* **  | *   |   ||||\n",
      "SMLDSIWKPDLFFANEKGANFHEVTTDNKLLRISKNGNVLYSIRITLVLACPMDLKNFPMDVQTCIMQLESFGYTMNDLI\n",
      "\n",
      "\n",
      "LAVDLE-KVGKNDDVFLTGWDIESFTAVVKPANFALEDRLESKLDYQLRISRQYFSYIPNIILPMLFILFISWTAFW-S-\n",
      "|  * |  *   * | *  | |||    || ||   |    | || |||||**   *| || |* *|*|||**||** | \n",
      "FEWDEKGAVQVADGLTLPQFILKE-EKDLRYCTKHYNTGKFTCIEARFHLERQMGYYLIQMYIPSLLIVILSWVSFWINM\n",
      "\n",
      "\n",
      "TSYEANVTLVVSTLIAHIAFNILVETNLPKTPYMTYTGAIIFMIYLFYFVAVIEVTVQHYL-KVESQ--PARAASITRAS\n",
      " |  *|* * ||*|||  | |   |||***| *|      | |  ** * *||* || ||| || ||   |**  *  |*\n",
      "DAAPARVGLGITTVLTMTTQSSGSRASLPKVSYVKAIDIWMAVCLLFVFSALLEYAAVNFIARAGTKLFISRAKRIDTVS\n",
      "\n",
      "\n",
      "RIAFPVVFLLANIILAFLFFGF---\n",
      "*|***|***| **|  || | |   \n",
      "RVAFPLVFLIFNIFY-WITYKLVPR\n",
      "\n",
      "\n",
      "Identity seq1: 23.66%\n",
      "Identity seq2: 21.93%\n",
      "Similarity seq1: 61.51%\n",
      "Similarity seq2: 57.02%\n"
     ]
    }
   ],
   "source": [
    "alignement.print_align_seq(align_seq_1, align_seq_2, line_len=80)"
   ]
  },
  {
   "cell_type": "code",
   "execution_count": 14,
   "metadata": {},
   "outputs": [
    {
     "name": "stdout",
     "output_type": "stream",
     "text": [
      "AQDMVSPPPPIADEPLTVNTGIYLIECYSLDDKAETFKVNAFLSLSWKDRRLAFDPVRSGVRVKTYEPEAIWIPEIRFVN\n",
      "*********************************************************                       \n",
      "AQDMVSPPPPIADEPLTVNTGIYLIECYSLDDKAETFKVNAFLSLSWKDRRLAFDPV-----------------------\n",
      "\n",
      "\n",
      "VENARDADVVDISVSPDGTVQYLERFSARVLSPLDFRRYPFDSQTLHIYLIVRSVDTRNIVLAVDLEKVGKNDDVFLTGW\n",
      "                                                                                \n",
      "--------------------------------------------------------------------------------\n",
      "\n",
      "\n",
      "DIESFTAVVKPANFALEDRLESKLDYQLRISRQYFSYIPNIILPMLFILFISWTAFWSTSYEANVTLVVSTLIAHIAFNI\n",
      "                                                                                \n",
      "--------------------------------------------------------------------------------\n",
      "\n",
      "\n",
      "LVETNLPKTPYMTYTGAIIFMIYLFYFVAVIEVTVQHYLKVESQPARAASITRASRIAFPVVFLLANIILAFLFFGF\n",
      "                                                                             \n",
      "-----------------------------------------------------------------------------\n",
      "\n",
      "\n",
      "Identity seq1: 17.98%\n",
      "Identity seq2: 100.00%\n",
      "Similarity seq1: 17.98%\n",
      "Similarity seq2: 100.00%\n"
     ]
    }
   ],
   "source": [
    "seq_1 = 'AQDMVSPPPPIADEPLTVNTGIYLIECYSLDDKAETFKVNAFLSLSWKDRRLAFDPV\\\n",
    "RSGVRVKTYEPEAIWIPEIRFVNVENARDADVVDISVSPDGTVQYLERFSARVLSPLDFRRYPFDSQTLHIYLIVRSV\\\n",
    "DTRNIVLAVDLEKVGKNDDVFLTGWDIESFTAVVKPANFALEDRLESKLDYQLRISRQYFSYIPNIILPMLFILFISW\\\n",
    "TAFWSTSYEANVTLVVSTLIAHIAFNILVETNLPKTPYMTYTGAIIFMIYLFYFVAVIEVTVQHYLKVESQPARAASI\\\n",
    "TRASRIAFPVVFLLANIILAFLFFGF'\n",
    "seq_2 = 'AQDMVSPPPPIADEPLTVNTGIYLIECYSLDDKAETFKVNAFLSLSWKDRRLAFDPV'\n",
    "align_seq_1, align_seq_2 = alignement.align_seq(seq_1, seq_2)\n",
    "alignement.print_align_seq(align_seq_1, align_seq_2, line_len=80)"
   ]
  },
  {
   "cell_type": "code",
   "execution_count": 15,
   "metadata": {},
   "outputs": [
    {
     "name": "stdout",
     "output_type": "stream",
     "text": [
      "AQDMVSPPPPIADEPLTVNTGIYLIECYSLDDKAETFKVNAFLSLSWKDRRLAFDPVRSGVRVKTYEPEAIWIPEIRFVN\n",
      "                                                                                \n",
      "--------------------------------------------------------------------------------\n",
      "\n",
      "\n",
      "VENARDADVVDISVSPDGTVQYLERFSARVLSPLDFRRYPFDSQTLHIYLIVRSVDTRNIVLAVDLEKVGKNDDVFLTGW\n",
      "                                                                                \n",
      "--------------------------------------------------------------------------------\n",
      "\n",
      "\n",
      "DIESFTAVVKPANFALEDRLESKLDYQLRISRQYFSYIPNIILPMLFILFISWTAFWSTSYEANVTLVVSTLIAHIAFNI\n",
      "                                                                                \n",
      "--------------------------------------------------------------------------------\n",
      "\n",
      "\n",
      "LVETNLPKTPYMTYTGAIIFMIYLFYFVAVIEVTVQHYLKVESQPARAASITRASRIAFPVVFLLANIILAFLFFGF\n",
      "                       ******************************************************\n",
      "-----------------------LFYFVAVIEVTVQHYLKVESQPARAASITRASRIAFPVVFLLANIILAFLFFGF\n",
      "\n",
      "\n",
      "Identity seq1: 17.03%\n",
      "Identity seq2: 100.00%\n",
      "Similarity seq1: 17.03%\n",
      "Similarity seq2: 100.00%\n"
     ]
    }
   ],
   "source": [
    "seq_1 = 'AQDMVSPPPPIADEPLTVNTGIYLIECYSLDDKAETFKVNAFLSLSWKDRRLAFDPV\\\n",
    "RSGVRVKTYEPEAIWIPEIRFVNVENARDADVVDISVSPDGTVQYLERFSARVLSPLDFRRYPFDSQTLHIYLIVRSV\\\n",
    "DTRNIVLAVDLEKVGKNDDVFLTGWDIESFTAVVKPANFALEDRLESKLDYQLRISRQYFSYIPNIILPMLFILFISW\\\n",
    "TAFWSTSYEANVTLVVSTLIAHIAFNILVETNLPKTPYMTYTGAIIFMIYLFYFVAVIEVTVQHYLKVESQPARAASI\\\n",
    "TRASRIAFPVVFLLANIILAFLFFGF'\n",
    "seq_2 = 'LFYFVAVIEVTVQHYLKVESQPARAASITRASRIAFPVVFLLANIILAFLFFGF'\n",
    "align_seq_1, align_seq_2 = alignement.align_seq(seq_1, seq_2)\n",
    "alignement.print_align_seq(align_seq_1, align_seq_2, line_len=80)"
   ]
  },
  {
   "cell_type": "code",
   "execution_count": null,
   "metadata": {},
   "outputs": [],
   "source": []
  },
  {
   "cell_type": "code",
   "execution_count": null,
   "metadata": {},
   "outputs": [],
   "source": []
  }
 ],
 "metadata": {
  "kernelspec": {
   "display_name": "start",
   "language": "python",
   "name": "python3"
  },
  "language_info": {
   "codemirror_mode": {
    "name": "ipython",
    "version": 3
   },
   "file_extension": ".py",
   "mimetype": "text/x-python",
   "name": "python",
   "nbconvert_exporter": "python",
   "pygments_lexer": "ipython3",
   "version": "3.8.12"
  },
  "vscode": {
   "interpreter": {
    "hash": "8566c7ffd5a3fd0eb8b6bc5602eae056722f46b57749c0b0a0c2ae1cbf9832a0"
   }
  }
 },
 "nbformat": 4,
 "nbformat_minor": 2
}

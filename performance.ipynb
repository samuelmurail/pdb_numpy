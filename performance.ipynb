{
 "cells": [
  {
   "cell_type": "code",
   "execution_count": 9,
   "id": "8e8e5f76-d721-40f0-b06e-6dfdd10e4ba9",
   "metadata": {},
   "outputs": [],
   "source": [
    "import os\n",
    "\n",
    "os.sys.path.insert(0, 'src/')\n",
    "import pdb_numpy\n",
    "from pdb_numpy.analysis import compute_pdockQ"
   ]
  },
  {
   "cell_type": "code",
   "execution_count": 10,
   "id": "43bb9547-e3b6-4f30-b3e3-63b05d5a9c10",
   "metadata": {},
   "outputs": [
    {
     "name": "stdout",
     "output_type": "stream",
     "text": [
      "The line_profiler extension is already loaded. To reload it, use:\n",
      "  %reload_ext line_profiler\n"
     ]
    }
   ],
   "source": [
    "%load_ext line_profiler"
   ]
  },
  {
   "cell_type": "code",
   "execution_count": 11,
   "id": "3c2e82cc",
   "metadata": {},
   "outputs": [],
   "source": [
    "file = \"src/pdb_numpy/tests/input/1rxz_11587_unrelaxed_rank_001_alphafold2_multimer_v3_model_4_seed_000.pdb\"\n",
    "test = pdb_numpy.Coor(file)\n"
   ]
  },
  {
   "cell_type": "code",
   "execution_count": 12,
   "id": "edf5b6dc",
   "metadata": {},
   "outputs": [
    {
     "name": "stdout",
     "output_type": "stream",
     "text": [
      "12.2 ms ± 96.6 µs per loop (mean ± std. dev. of 7 runs, 100 loops each)\n"
     ]
    }
   ],
   "source": [
    "\n",
    "%timeit test = pdb_numpy.Coor(file)"
   ]
  },
  {
   "cell_type": "code",
   "execution_count": 13,
   "id": "4afbe1f7",
   "metadata": {},
   "outputs": [
    {
     "data": {
      "text/plain": [
       "{'A': 'MIDVIMTGELLKTVTRAIVALVSEARIHFLEKGLHSRAVDPANVAMVIVDIPKDSFEVYNIDEEKTIGVDMDRIFDISKSISTKDLVELIVEDESTLKVKFGSVEYKVALIDPSAIRKEPRIPELELPAKIVMDAGEFKKAIAAADKISDQVIFRSDKEGFRIEAKGDVDSIVFHMTETELIEFNGGEARSMFSVDYLKEFCKVAGSGDLLTIHLGTNYPVRLVFELVGGRAKVEYILAPRIESE',\n",
       " 'B': 'KSTQATLERWF'}"
      ]
     },
     "execution_count": 13,
     "metadata": {},
     "output_type": "execute_result"
    }
   ],
   "source": [
    "test.get_aa_seq()"
   ]
  },
  {
   "cell_type": "code",
   "execution_count": 14,
   "id": "9035adf0",
   "metadata": {},
   "outputs": [
    {
     "name": "stdout",
     "output_type": "stream",
     "text": [
      "886 µs ± 12.2 µs per loop (mean ± std. dev. of 7 runs, 1,000 loops each)\n"
     ]
    }
   ],
   "source": [
    "%timeit test.get_aa_seq()"
   ]
  },
  {
   "cell_type": "code",
   "execution_count": 15,
   "id": "2c1fc548",
   "metadata": {},
   "outputs": [
    {
     "name": "stdout",
     "output_type": "stream",
     "text": [
      "4.78 ms ± 43.3 µs per loop (mean ± std. dev. of 7 runs, 100 loops each)\n"
     ]
    }
   ],
   "source": [
    "%timeit compute_pdockQ(test)"
   ]
  },
  {
   "cell_type": "code",
   "execution_count": 16,
   "id": "848e1dad-e6db-4aea-a801-5c4fa8e9eeda",
   "metadata": {},
   "outputs": [
    {
     "name": "stdout",
     "output_type": "stream",
     "text": [
      "Timer unit: 1e-09 s\n",
      "\n",
      "Total time: 0.00418329 s\n",
      "File: /home/murail/miniforge3/envs/docking/lib/python3.10/site-packages/pdb_numpy/coor.py\n",
      "Function: get_aa_seq at line 459\n",
      "\n",
      "Line #      Hits         Time  Per Hit   % Time  Line Contents\n",
      "==============================================================\n",
      "   459                                               def get_aa_seq(self, gap_in_seq=True, frame=0):\n",
      "   460                                                   \"\"\"Get the amino acid sequence from a `Coor` object.\n",
      "   461                                                   This function takes a Coor object, selects the CA atoms using the\n",
      "   462                                                   `select_atoms()` method with the argument name CA, and returns a\n",
      "   463                                                   dictionary with the amino acid sequence of each chain in the protein,\n",
      "   464                                                   where the key is the chain identifier and the value is the sequence.\n",
      "   465                                           \n",
      "   466                                                   The function first creates empty dictionaries `seq_dict` and\n",
      "   467                                                   `aa_num_dict`. These will be used to store the sequence and the number\n",
      "   468                                                   of the last amino acid in each chain, respectively. Then, it loops\n",
      "   469                                                   through each CA atom in the selected atoms and retrieves the chain\n",
      "   470                                                   identifier, residue name, and residue number. If the chain identifier\n",
      "   471                                                   is not in `seq_dict`, the function initializes an empty string for the\n",
      "   472                                                   sequence of that chain and stores the residue number in `aa_num_dict`.\n",
      "   473                                                   Then, if the residue name is recognized as a standard amino acid in\n",
      "   474                                                   `AA_DICT`, the function adds the corresponding one-letter code to the\n",
      "   475                                                   sequence string for the corresponding chain in `seq_dict`, and updates\n",
      "   476                                                   the last amino acid number in aa_num_dict. If the residue name is not\n",
      "   477                                                   recognized, the function logs a warning message. If the residue number\n",
      "   478                                                   is not consecutive to the previous one and `gap_in_seq` is set to True,\n",
      "   479                                                   the function adds gaps to the sequence.\n",
      "   480                                           \n",
      "   481                                                   Finally, the function returns `seq_dict`, the dictionary with the amino\n",
      "   482                                                   acid sequences of each chain in the protein.\n",
      "   483                                           \n",
      "   484                                                   Parameters\n",
      "   485                                                   ----------\n",
      "   486                                                   self : Coor\n",
      "   487                                                       Coor object\n",
      "   488                                                   gap_in_seq : bool, optional\n",
      "   489                                                       if True, add gaps in the sequence, by default True\n",
      "   490                                                   frame : int\n",
      "   491                                                       Frame number for the selection, default is 0\n",
      "   492                                           \n",
      "   493                                                   Returns\n",
      "   494                                                   -------\n",
      "   495                                                   dict\n",
      "   496                                                       Dictionary with chain as key and sequence as value.\n",
      "   497                                           \n",
      "   498                                                   Examples\n",
      "   499                                                   --------\n",
      "   500                                                   >>> prot_coor = Coor('1y0m.pdb')\n",
      "   501                                                   >>> prot_coor.get_aa_seq()\n",
      "   502                                                   {'A': 'TFKSAVKALFDYKAQREDELTFTKSAIIQNVEKQDGGWWRGDYGGKKQLWFPSNYVEEMIN'}\n",
      "   503                                           \n",
      "   504                                                   .. warning::\n",
      "   505                                                       If atom chains are not arranged sequentially (A,A,A,B,B,A,A,A ...),\n",
      "   506                                                       the first atom seq will be overwritten by the last one.\n",
      "   507                                           \n",
      "   508                                                   \"\"\"\n",
      "   509                                           \n",
      "   510                                                   # Get CA atoms\n",
      "   511         1     937844.0 937844.0     22.4          CA_sel = self.select_atoms(\"name CA\", frame=frame)\n",
      "   512                                           \n",
      "   513         1        912.0    912.0      0.0          seq_dict = {}\n",
      "   514         1        718.0    718.0      0.0          aa_num_dict = {}\n",
      "   515                                           \n",
      "   516         1        566.0    566.0      0.0          \"\"\"\n",
      "   517                                                   for i in range(CA_sel.len):\n",
      "   518                                                       chain = (\n",
      "   519                                                           CA_sel.models[frame]\n",
      "   520                                                           .atom_dict[\"alterloc_chain_insertres\"][i, 1]\n",
      "   521                                                           .astype(np.str_)\n",
      "   522                                                       )\n",
      "   523                                                       res_name = (\n",
      "   524                                                           CA_sel.models[frame]\n",
      "   525                                                           .atom_dict[\"name_resname_elem\"][i, 1]\n",
      "   526                                                           .astype(np.str_)\n",
      "   527                                                       )\n",
      "   528                                                       resid = CA_sel.models[frame].atom_dict[\"num_resid_uniqresid\"][i, 1]\n",
      "   529                                           \n",
      "   530                                                       if chain not in seq_dict:\n",
      "   531                                                           seq_dict[chain] = \"\"\n",
      "   532                                                           aa_num_dict[chain] = resid\n",
      "   533                                           \n",
      "   534                                                       if res_name in AA_DICT:\n",
      "   535                                                           if resid != aa_num_dict[chain] + 1 and len(seq_dict[chain]) != 0:\n",
      "   536                                                               logger.info(\n",
      "   537                                                                   f\"Residue {chain}:{res_name}:{resid} is \"\n",
      "   538                                                                   f\"not consecutive, there might be missing \"\n",
      "   539                                                                   f\"residues\"\n",
      "   540                                                               )\n",
      "   541                                                               if gap_in_seq:\n",
      "   542                                                                   seq_dict[chain] += \"-\" * (resid - aa_num_dict[chain] - 1)\n",
      "   543                                                           seq_dict[chain] += AA_DICT[res_name]\n",
      "   544                                                           aa_num_dict[chain] = resid\n",
      "   545                                                       else:\n",
      "   546                                                           logger.warning(f\"Residue {res_name} in chain {chain} not \" \"recognized\")\n",
      "   547                                                   \"\"\"\n",
      "   548                                           \n",
      "   549                                                   #for i in range(CA_sel.len):\n",
      "   550       258     662803.0   2569.0     15.8          for i, (chain, res_name, resid) in enumerate(zip(\n",
      "   551         1       3695.0   3695.0      0.1              CA_sel.models[frame].atom_dict[\"alterloc_chain_insertres\"][:, 1],\n",
      "   552         1       1805.0   1805.0      0.0              CA_sel.models[frame].atom_dict[\"name_resname_elem\"][:, 1],\n",
      "   553         1       1637.0   1637.0      0.0              CA_sel.models[frame].atom_dict[\"num_resid_uniqresid\"][:, 1])):\n",
      "   554                                           \n",
      "   555       256     217893.0    851.1      5.2              if chain not in seq_dict:\n",
      "   556         2       2067.0   1033.5      0.0                  seq_dict[chain] = \"\"\n",
      "   557         2       1458.0    729.0      0.0                  aa_num_dict[chain] = resid\n",
      "   558                                           \n",
      "   559       256     191081.0    746.4      4.6              if res_name in AA_DICT:\n",
      "   560       256    1541808.0   6022.7     36.9                  if resid != aa_num_dict[chain] + 1 and len(seq_dict[chain]) != 0:\n",
      "   561                                                               logger.info(\n",
      "   562                                                                   f\"Residue {chain}:{res_name}:{resid} is \"\n",
      "   563                                                                   f\"not consecutive, there might be missing \"\n",
      "   564                                                                   f\"residues\"\n",
      "   565                                                               )\n",
      "   566                                                               if gap_in_seq:\n",
      "   567                                                                   seq_dict[chain] += \"-\" * (resid - aa_num_dict[chain] - 1)\n",
      "   568       256     376602.0   1471.1      9.0                  seq_dict[chain] += AA_DICT[res_name]\n",
      "   569       256     241972.0    945.2      5.8                  aa_num_dict[chain] = resid\n",
      "   570                                                       else:\n",
      "   571                                                           logger.warning(f\"Residue {res_name} in chain {chain} not \" \"recognized\")\n",
      "   572                                           \n",
      "   573                                           \n",
      "   574         1        430.0    430.0      0.0          return seq_dict"
     ]
    }
   ],
   "source": [
    "%lprun -f pdb_numpy.Coor.get_aa_seq compute_pdockQ(test)"
   ]
  },
  {
   "cell_type": "code",
   "execution_count": null,
   "id": "e9dd8c6d",
   "metadata": {},
   "outputs": [],
   "source": []
  }
 ],
 "metadata": {
  "kernelspec": {
   "display_name": "Python 3 (ipykernel)",
   "language": "python",
   "name": "python3"
  },
  "language_info": {
   "codemirror_mode": {
    "name": "ipython",
    "version": 3
   },
   "file_extension": ".py",
   "mimetype": "text/x-python",
   "name": "python",
   "nbconvert_exporter": "python",
   "pygments_lexer": "ipython3",
   "version": "3.10.13"
  }
 },
 "nbformat": 4,
 "nbformat_minor": 5
}

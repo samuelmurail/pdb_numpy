{
 "cells": [
  {
   "cell_type": "code",
   "execution_count": 1,
   "metadata": {},
   "outputs": [],
   "source": [
    "import sys\n",
    "\n",
    "sys.path.append(\"./src/\")\n",
    "from pdb_numpy.tests.datafiles import PDB_1U85, PDB_1UBD\n",
    "from pdb_numpy import Coor\n",
    "from pdb_numpy import alignement\n",
    "\n",
    "%load_ext line_profiler"
   ]
  },
  {
   "cell_type": "code",
   "execution_count": 2,
   "metadata": {},
   "outputs": [
    {
     "name": "stdout",
     "output_type": "stream",
     "text": [
      "9.02 ms ± 330 µs per loop (mean ± std. dev. of 7 runs, 100 loops each)\n"
     ]
    }
   ],
   "source": [
    "coor_1 = Coor(PDB_1U85)\n",
    "coor_2 = Coor(PDB_1UBD)\n",
    "%timeit rmsds, _ = alignement.align_seq_based(coor_1, coor_2, chain_1=[\"A\"], chain_2=[\"C\"])\n"
   ]
  },
  {
   "cell_type": "code",
   "execution_count": 3,
   "metadata": {},
   "outputs": [
    {
     "name": "stdout",
     "output_type": "stream",
     "text": [
      "8.39 ms ± 406 µs per loop (mean ± std. dev. of 7 runs, 100 loops each)\n"
     ]
    }
   ],
   "source": [
    "\n",
    "coor_1 = Coor(PDB_1U85)\n",
    "coor_2 = Coor(PDB_1UBD)\n",
    "%timeit rmsds, _ = alignement.align_seq_based(coor_1, coor_2, chain_1=[\"A\"], chain_2=[\"C\"])\n"
   ]
  },
  {
   "cell_type": "code",
   "execution_count": 4,
   "metadata": {},
   "outputs": [],
   "source": [
    "%lprun -f alignement.get_common_atoms alignement.align_seq_based(coor_1, coor_2, chain_1=[\"A\"], chain_2=[\"C\"])"
   ]
  },
  {
   "cell_type": "code",
   "execution_count": 5,
   "metadata": {},
   "outputs": [],
   "source": [
    "glic = Coor(pdb_id=\"3eam\")\n",
    "glyr = Coor(pdb_id=\"6ubs\")"
   ]
  },
  {
   "cell_type": "code",
   "execution_count": 8,
   "metadata": {},
   "outputs": [
    {
     "name": "stdout",
     "output_type": "stream",
     "text": [
      "408 ms ± 15.1 ms per loop (mean ± std. dev. of 7 runs, 1 loop each)\n"
     ]
    }
   ],
   "source": [
    "%timeit rmsds, _ = alignement.align_chain_permutation(glic, glyr, chain_2=['A', 'B', 'C', 'D', 'E'])"
   ]
  },
  {
   "cell_type": "code",
   "execution_count": 9,
   "metadata": {},
   "outputs": [
    {
     "data": {
      "text/plain": [
       "[9.687655059653478]"
      ]
     },
     "execution_count": 9,
     "metadata": {},
     "output_type": "execute_result"
    }
   ],
   "source": [
    "rmsds, _ = alignement.align_chain_permutation(glic, glyr, chain_2=['A', 'B', 'C', 'D', 'E'])\n",
    "rmsds"
   ]
  },
  {
   "cell_type": "code",
   "execution_count": null,
   "metadata": {},
   "outputs": [],
   "source": []
  }
 ],
 "metadata": {
  "kernelspec": {
   "display_name": "Python 3 (ipykernel)",
   "language": "python",
   "name": "python3"
  },
  "language_info": {
   "codemirror_mode": {
    "name": "ipython",
    "version": 3
   },
   "file_extension": ".py",
   "mimetype": "text/x-python",
   "name": "python",
   "nbconvert_exporter": "python",
   "pygments_lexer": "ipython3",
   "version": "3.8.12"
  },
  "vscode": {
   "interpreter": {
    "hash": "8566c7ffd5a3fd0eb8b6bc5602eae056722f46b57749c0b0a0c2ae1cbf9832a0"
   }
  }
 },
 "nbformat": 4,
 "nbformat_minor": 2
}

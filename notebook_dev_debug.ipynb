{
 "cells": [
  {
   "cell_type": "code",
   "execution_count": 12,
   "metadata": {},
   "outputs": [],
   "source": [
    "import sys\n",
    "import numpy as np\n",
    "from copy import deepcopy\n",
    "\n",
    "sys.path.append(\"./src/\")\n",
    "from pdb_numpy import Coor, Model\n",
    "from pdb_numpy.format import mmcif, pdb"
   ]
  },
  {
   "cell_type": "code",
   "execution_count": 13,
   "metadata": {},
   "outputs": [
    {
     "name": "stdout",
     "output_type": "stream",
     "text": [
      "2102\n"
     ]
    }
   ],
   "source": [
    "\n",
    "test = Coor('src/pdb_numpy/tests/input/1rxz.pdb')\n",
    "print(test.len)\n",
    "test.write(\"test_raw.pdb\", check_file_out=False)"
   ]
  },
  {
   "cell_type": "code",
   "execution_count": 15,
   "metadata": {
    "scrolled": false
   },
   "outputs": [
    {
     "name": "stdout",
     "output_type": "stream",
     "text": [
      "['A', 'B']\n",
      "['A' 'A' 'A' ... 'B' 'B' 'B']\n",
      "(18918,)\n",
      "[    0     1     2 ... 18915 18916 18917]\n",
      "[[ 1.        1.        0.        0.        0.      ]\n",
      " [ 1.        0.        1.        0.        0.      ]\n",
      " [ 1.        0.        0.        1.        0.      ]\n",
      " [ 2.       -0.5      -0.866025  0.       86.53    ]\n",
      " [ 2.        0.866025 -0.5       0.        0.      ]\n",
      " [ 2.        0.        0.        1.        0.      ]\n",
      " [ 3.       -0.5       0.866025  0.       43.265   ]\n",
      " [ 3.       -0.866025 -0.5       0.       74.93718 ]\n",
      " [ 3.        0.        0.        1.        0.      ]]\n",
      "(18918, 3)\n",
      "Add transformation 1\n",
      "[[-0.5      -0.866025  0.      ]\n",
      " [ 0.866025 -0.5       0.      ]\n",
      " [ 0.        0.        1.      ]] [86.53  0.    0.  ]\n",
      "(18918, 3)\n",
      "Add transformation 2\n",
      "[[-0.5       0.866025  0.      ]\n",
      " [-0.866025 -0.5       0.      ]\n",
      " [ 0.        0.        1.      ]] [43.265   74.93718  0.     ]\n",
      "(18918, 3)\n",
      "56754\n"
     ]
    }
   ],
   "source": [
    "test.apply_transformation()\n",
    "test.write(\"test_trans.pdb\", check_file_out=False)\n",
    "print(test.len)\n",
    "#assert test.len == 112"
   ]
  },
  {
   "cell_type": "code",
   "execution_count": 14,
   "metadata": {},
   "outputs": [
    {
     "name": "stdout",
     "output_type": "stream",
     "text": [
      "18918\n"
     ]
    }
   ],
   "source": [
    "\n",
    "# Here there is only identity matrix\n",
    "# as symmetry, so no change is expected\n",
    "test.add_symmetry()\n",
    "print(test.len)\n",
    "test.write(\"test_sym.pdb\", check_file_out=False)"
   ]
  },
  {
   "cell_type": "code",
   "execution_count": 24,
   "metadata": {},
   "outputs": [
    {
     "name": "stdout",
     "output_type": "stream",
     "text": [
      "[30.745  0.     0.   ] [4.294224e-15 7.013000e+01 0.000000e+00] [7.28873035e-15 7.28873035e-15 1.19034000e+02]\n"
     ]
    },
    {
     "ename": "AssertionError",
     "evalue": "",
     "output_type": "error",
     "traceback": [
      "\u001b[0;31m---------------------------------------------------------------------------\u001b[0m",
      "\u001b[0;31mAssertionError\u001b[0m                            Traceback (most recent call last)",
      "\u001b[0;32m/tmp/ipykernel_755788/1297539553.py\u001b[0m in \u001b[0;36m<module>\u001b[0;34m\u001b[0m\n\u001b[1;32m      1\u001b[0m \u001b[0mtest\u001b[0m\u001b[0;34m.\u001b[0m\u001b[0mcopy_box\u001b[0m\u001b[0;34m(\u001b[0m\u001b[0;36m3\u001b[0m\u001b[0;34m,\u001b[0m \u001b[0;36m3\u001b[0m\u001b[0;34m,\u001b[0m \u001b[0;36m3\u001b[0m\u001b[0;34m)\u001b[0m\u001b[0;34m\u001b[0m\u001b[0;34m\u001b[0m\u001b[0m\n\u001b[0;32m----> 2\u001b[0;31m \u001b[0;32massert\u001b[0m \u001b[0mtest\u001b[0m\u001b[0;34m.\u001b[0m\u001b[0mlen\u001b[0m \u001b[0;34m==\u001b[0m \u001b[0;36m3024\u001b[0m\u001b[0;34m\u001b[0m\u001b[0;34m\u001b[0m\u001b[0m\n\u001b[0m\u001b[1;32m      3\u001b[0m \u001b[0mtest\u001b[0m\u001b[0;34m.\u001b[0m\u001b[0mcompute_chains_CA\u001b[0m\u001b[0;34m(\u001b[0m\u001b[0;34m)\u001b[0m\u001b[0;34m\u001b[0m\u001b[0;34m\u001b[0m\u001b[0m\n\u001b[1;32m      4\u001b[0m \u001b[0mtest\u001b[0m\u001b[0;34m.\u001b[0m\u001b[0mremove_overlap_chain\u001b[0m\u001b[0;34m(\u001b[0m\u001b[0;34m)\u001b[0m\u001b[0;34m\u001b[0m\u001b[0;34m\u001b[0m\u001b[0m\n\u001b[1;32m      5\u001b[0m \u001b[0;32massert\u001b[0m \u001b[0mtest\u001b[0m\u001b[0;34m.\u001b[0m\u001b[0mlen\u001b[0m \u001b[0;34m==\u001b[0m \u001b[0;36m3024\u001b[0m\u001b[0;34m\u001b[0m\u001b[0;34m\u001b[0m\u001b[0m\n",
      "\u001b[0;31mAssertionError\u001b[0m: "
     ]
    }
   ],
   "source": [
    "test.copy_box(3, 3, 3)\n",
    "assert test.len == 3024\n",
    "test.compute_chains_CA()\n",
    "test.remove_overlap_chain()\n",
    "assert test.len == 3024\n",
    "\n",
    "test.write(\"test.pdb\", check_file_out=False)"
   ]
  },
  {
   "cell_type": "code",
   "execution_count": 3,
   "metadata": {},
   "outputs": [],
   "source": [
    "test.write('tmp.pdb', check_file_out=False)"
   ]
  },
  {
   "cell_type": "code",
   "execution_count": 4,
   "metadata": {},
   "outputs": [],
   "source": [
    "test_2 = Coor('tmp.pdb')\n",
    "test_2.write('tmp2.gro', check_file_out=False)"
   ]
  },
  {
   "cell_type": "code",
   "execution_count": 4,
   "metadata": {},
   "outputs": [
    {
     "name": "stdout",
     "output_type": "stream",
     "text": [
      "Add symmetry 1\n",
      "0\n",
      "1\n",
      "Add transformation 1\n",
      "2\n",
      "Add transformation 2\n"
     ]
    }
   ],
   "source": [
    "test.add_symmetry()\n",
    "test.apply_transformation(index=1)\n",
    "test.compute_chains_CA()\n",
    "test.write_pdb('tmp.pdb', check_file_out=False)"
   ]
  },
  {
   "cell_type": "code",
   "execution_count": 5,
   "metadata": {},
   "outputs": [
    {
     "data": {
      "text/plain": [
       "{'matrix': [[1.0, 1.0, 0.0, 0.0, 0.0],\n",
       "  [1.0, 0.0, 1.0, 0.0, 0.0],\n",
       "  [1.0, 0.0, 0.0, 1.0, 0.0],\n",
       "  [2.0, -1.0, 0.0, 0.0, 0.0],\n",
       "  [2.0, 0.0, 1.0, 0.0, 2.35],\n",
       "  [2.0, 0.0, 0.0, -1.0, 0.0]]}"
      ]
     },
     "execution_count": 5,
     "metadata": {},
     "output_type": "execute_result"
    }
   ],
   "source": [
    "test.symmetry"
   ]
  },
  {
   "cell_type": "code",
   "execution_count": 8,
   "metadata": {},
   "outputs": [
    {
     "data": {
      "text/plain": [
       "[<pdb_numpy.model.Model at 0x7f79dd6fbf50>]"
      ]
     },
     "execution_count": 8,
     "metadata": {},
     "output_type": "execute_result"
    }
   ],
   "source": [
    "test.models"
   ]
  },
  {
   "cell_type": "code",
   "execution_count": 6,
   "metadata": {},
   "outputs": [
    {
     "name": "stdout",
     "output_type": "stream",
     "text": [
      "{1: {'chains': ['A'], 'matrix': [[1.0, 1.0, 0.0, 0.0, 0.0], [1.0, 0.0, 1.0, 0.0, 0.0], [1.0, 0.0, 0.0, 1.0, 0.0], [2.0, 1.0, 0.0, 0.0, 0.0], [2.0, 0.0, 1.0, 0.0, 4.7], [2.0, 0.0, 0.0, 1.0, 0.0], [3.0, 1.0, 0.0, 0.0, 0.0], [3.0, 0.0, 1.0, 0.0, -4.7], [3.0, 0.0, 0.0, 1.0, 0.0]]}, 2: {'chains': ['A'], 'matrix': [[1.0, -1.0, 0.0, 0.0, 0.0], [1.0, 0.0, 1.0, 0.0, 2.35], [1.0, 0.0, 0.0, -1.0, 0.0], [2.0, -1.0, 0.0, 0.0, 0.0], [2.0, 0.0, 1.0, 0.0, 7.05], [2.0, 0.0, 0.0, -1.0, 0.0], [3.0, -1.0, 0.0, 0.0, 0.0], [3.0, 0.0, 1.0, 0.0, -2.35], [3.0, 0.0, 0.0, -1.0, 0.0]]}, 3: {'chains': ['A'], 'matrix': [[1.0, 1.0, 0.0, 0.0, 0.0], [1.0, 0.0, 1.0, 0.0, 0.0], [1.0, 0.0, 0.0, 1.0, 0.0]]}}\n"
     ]
    }
   ],
   "source": [
    "print(test.transformation)"
   ]
  },
  {
   "cell_type": "code",
   "execution_count": 22,
   "metadata": {},
   "outputs": [
    {
     "name": "stdout",
     "output_type": "stream",
     "text": [
      "{1: {'chains': ['A'], 'matrix': [[1.0, 1.0, 0.0, 0.0, 0.0], [1.0, 0.0, 1.0, 0.0, 0.0], [1.0, 0.0, 0.0, 1.0, 0.0], [2.0, 1.0, 0.0, 0.0, 0.0], [2.0, 0.0, 1.0, 0.0, 4.7], [2.0, 0.0, 0.0, 1.0, 0.0], [3.0, 1.0, 0.0, 0.0, 0.0], [3.0, 0.0, 1.0, 0.0, -4.7], [3.0, 0.0, 0.0, 1.0, 0.0]]}, 2: {'chains': ['A'], 'matrix': [[1.0, -1.0, 0.0, 0.0, 0.0], [1.0, 0.0, 1.0, 0.0, 2.35], [1.0, 0.0, 0.0, -1.0, 0.0], [2.0, -1.0, 0.0, 0.0, 0.0], [2.0, 0.0, 1.0, 0.0, 7.05], [2.0, 0.0, 0.0, -1.0, 0.0], [3.0, -1.0, 0.0, 0.0, 0.0], [3.0, 0.0, 1.0, 0.0, -2.35], [3.0, 0.0, 0.0, -1.0, 0.0]]}, 3: {'chains': ['A'], 'matrix': [[1.0, 1.0, 0.0, 0.0, 0.0], [1.0, 0.0, 1.0, 0.0, 0.0], [1.0, 0.0, 0.0, 1.0, 0.0]]}}\n"
     ]
    }
   ],
   "source": [
    "def parse_transformation(text):\n",
    "\n",
    "    transformation_dict = {}\n",
    "\n",
    "    for line in text.split('\\n'):\n",
    "        if line[11:23] == \"BIOMOLECULE:\":\n",
    "            biomol = int(line[24:])\n",
    "            transformation_dict[biomol] = {'chains': [], 'matrix': []}\n",
    "        elif line[34:41] == \"CHAINS:\":\n",
    "            transformation_dict[biomol]['chains'] += line[42:].split()\n",
    "        elif line.startswith('REMARK 350   BIOMT'):\n",
    "            transformation_dict[biomol]['matrix'] += [[float(x) for x in line[19:].split()]]\n",
    "        #print(line, line[34:])\n",
    "    print(transformation_dict)\n",
    "\n",
    "\n",
    "parse_transformation(test.transformation)"
   ]
  },
  {
   "cell_type": "code",
   "execution_count": 34,
   "metadata": {},
   "outputs": [],
   "source": [
    "test.models.append(deepcopy(test.models[0]))\n",
    "test.models.append(deepcopy(test.models[0]))"
   ]
  },
  {
   "cell_type": "code",
   "execution_count": 4,
   "metadata": {},
   "outputs": [
    {
     "name": "stdout",
     "output_type": "stream",
     "text": [
      "[[-1.0 0.0 0.0 0.0]\n",
      " [0.0 1.0 0.0 7.05]\n",
      " [0.0 0.0 -1.0 0.0]]\n",
      "[[-1.0 0.0 0.0 0.0]\n",
      " [0.0 1.0 0.0 -2.35]\n",
      " [0.0 0.0 -1.0 0.0]]\n"
     ]
    }
   ],
   "source": [
    "text = \\\n",
    "\"\"\"REMARK 350   BIOMT1   2 -1.000000  0.000000  0.000000        0.00000            \n",
    "REMARK 350   BIOMT2   2  0.000000  1.000000  0.000000        7.05000            \n",
    "REMARK 350   BIOMT3   2  0.000000  0.000000 -1.000000        0.00000\"\"\"\n",
    "\n",
    "rot_mat = []\n",
    "\n",
    "for line in text.split(\"\\n\"):\n",
    "    rot_mat.append([float(x) for x in line.split()[4:]])\n",
    "\n",
    "rot_mat = np.array(rot_mat, dtype=object)\n",
    "print(rot_mat)\n",
    "\n",
    "text = \\\n",
    "\"\"\"REMARK 350   BIOMT1   3 -1.000000  0.000000  0.000000        0.00000            \n",
    "REMARK 350   BIOMT2   3  0.000000  1.000000  0.000000       -2.35000            \n",
    "REMARK 350   BIOMT3   3  0.000000  0.000000 -1.000000        0.00000\"\"\"\n",
    "\n",
    "rot_mat_2 = []\n",
    "\n",
    "for line in text.split(\"\\n\"):\n",
    "    rot_mat_2.append([float(x) for x in line.split()[4:]])\n",
    "\n",
    "rot_mat_2 = np.array(rot_mat_2, dtype=object)\n",
    "print(rot_mat_2)"
   ]
  },
  {
   "cell_type": "code",
   "execution_count": 21,
   "metadata": {},
   "outputs": [
    {
     "data": {
      "text/plain": [
       "array([[-1.0, 0.0, 0.0],\n",
       "       [0.0, 1.0, 0.0],\n",
       "       [0.0, 0.0, -1.0]], dtype=object)"
      ]
     },
     "execution_count": 21,
     "metadata": {},
     "output_type": "execute_result"
    }
   ],
   "source": [
    "rot_mat[:,:3]"
   ]
  },
  {
   "cell_type": "code",
   "execution_count": 36,
   "metadata": {},
   "outputs": [],
   "source": [
    "test.models[1].xyz = np.dot(test.models[0].xyz, rot_mat[:,:3]) + rot_mat[:,3]\n",
    "test.models[2].xyz = np.dot(test.models[0].xyz, rot_mat_2[:,:3]) + rot_mat_2[:,3]"
   ]
  },
  {
   "cell_type": "code",
   "execution_count": 37,
   "metadata": {},
   "outputs": [],
   "source": [
    "test.merge_model()\n",
    "test.write_pdb('tmp.pdb', check_file_out=False)"
   ]
  },
  {
   "cell_type": "code",
   "execution_count": 25,
   "metadata": {},
   "outputs": [
    {
     "data": {
      "text/plain": [
       "'/home/murail/Documents/Code/pdb_numpy'"
      ]
     },
     "execution_count": 25,
     "metadata": {},
     "output_type": "execute_result"
    }
   ],
   "source": [
    "pwd"
   ]
  },
  {
   "cell_type": "code",
   "execution_count": null,
   "metadata": {},
   "outputs": [],
   "source": []
  }
 ],
 "metadata": {
  "kernelspec": {
   "display_name": "Python 3 (ipykernel)",
   "language": "python",
   "name": "python3"
  },
  "language_info": {
   "codemirror_mode": {
    "name": "ipython",
    "version": 3
   },
   "file_extension": ".py",
   "mimetype": "text/x-python",
   "name": "python",
   "nbconvert_exporter": "python",
   "pygments_lexer": "ipython3",
   "version": "3.7.12"
  },
  "vscode": {
   "interpreter": {
    "hash": "dc5fd0b0b4d49cea06c0f571c9f39583c8bfc63b53b50b04d68f5ab1c4afee79"
   }
  }
 },
 "nbformat": 4,
 "nbformat_minor": 2
}

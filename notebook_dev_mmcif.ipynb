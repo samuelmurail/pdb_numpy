{
 "cells": [
  {
   "cell_type": "code",
   "execution_count": 1,
   "metadata": {},
   "outputs": [],
   "source": [
    "import sys\n",
    "import os\n",
    "import numpy as np\n",
    "from copy import deepcopy\n",
    "\n",
    "sys.path.insert(0, os.path.abspath('./src/'))\n",
    "\n",
    "import pdb_numpy\n",
    "from pdb_numpy import Coor, Model, format, abinitio, alignement\n",
    "from pdb_numpy.format import mmcif, pdb"
   ]
  },
  {
   "cell_type": "code",
   "execution_count": 2,
   "metadata": {},
   "outputs": [
    {
     "name": "stdout",
     "output_type": "stream",
     "text": [
      "('SGYWITCCPTCDVDINTWVPFYSTELNKPAMIYCSHGDGHWVHAQCMDLAERTLI--HLSAGSNK--YY-CN--EHV--EIARA', '------------------LPVEKI-IREAKKILDELLKRGLIDPELARIA-REVLERARKLGNEEAARFVLELIERLRRELS--')\n",
      "SGYWITCCPTCDVDINTWVPFYSTELNKPAMIYCSHGDGHWVHAQCMDLAERTLI--HLSAGSNK--YY-CN--EHV--E\n",
      "                  |*  |  |||   *  |      |  |   |* * ||    | *|||   |  |  *||  *\n",
      "------------------LPVEKI-IREAKKILDELLKRGLIDPELARIA-REVLERARKLGNEEAARFVLELIERLRRE\n",
      "\n",
      "\n",
      "IARA\n",
      "||  \n",
      "LS--\n",
      "\n",
      "\n",
      "Identity seq1: 9.33%\n",
      "Identity seq2: 11.29%\n",
      "Similarity seq1: 37.33%\n",
      "Similarity seq2: 45.16%\n"
     ]
    }
   ],
   "source": [
    "seq1 = \"SGYWITCCPTCDVDINTWVPFYSTELNKPAMIYCSHGDGHWVHAQCMDLAERTLIHLSAGSNKYYCNEHVEIARA\"\n",
    "seq2 = \"LPVEKIIREAKKILDELLKRGLIDPELARIAREVLERARKLGNEEAARFVLELIERLRRELS\"\n",
    "\n",
    "ali = alignement.align_seq(seq1, seq2)\n",
    "print(ali)\n",
    "\n",
    "alignement.print_align_seq(ali[0], ali[1])\n"
   ]
  },
  {
   "cell_type": "code",
   "execution_count": 3,
   "metadata": {},
   "outputs": [
    {
     "name": "stdout",
     "output_type": "stream",
     "text": [
      "('SGYWITCCPTCDVDINTWVPFYSTELNKPAMIYCSHGDGHWVHAQCMDLAERTL-I-HLSAGSNK--YYCNEHVEI-AR--A', '------------------LPVEKI-IREAKKILDELLKRGLIDPELARIAREVLE-RARKLGNEEAARFVLELIERLRRELS')\n",
      "SGYWITCCPTCDVDINTWVPFYSTELNKPAMIYCSHGDGHWVHAQCMDLAERTL-I-HLSAGSNK--YYCNEHVEI-AR-\n",
      "                  |*  |  |||   *  |      |  |   |*|||*     | *|||   |  * |*   * \n",
      "------------------LPVEKI-IREAKKILDELLKRGLIDPELARIAREVLE-RARKLGNEEAARFVLELIERLRRE\n",
      "\n",
      "\n",
      "-A\n",
      " |\n",
      "LS\n",
      "\n",
      "\n",
      "Identity seq1: 10.67%\n",
      "Identity seq2: 12.90%\n",
      "Similarity seq1: 36.00%\n",
      "Similarity seq2: 43.55%\n"
     ]
    }
   ],
   "source": [
    "seq1 = \"SGYWITCCPTCDVDINTWVPFYSTELNKPAMIYCSHGDGHWVHAQCMDLAERTLIHLSAGSNKYYCNEHVEIARA\"\n",
    "seq2 = \"LPVEKIIREAKKILDELLKRGLIDPELARIAREVLERARKLGNEEAARFVLELIERLRRELS\"\n",
    "\n",
    "ali = alignement.align_seq_cython(seq1, seq2)\n",
    "print(ali)\n",
    "alignement.print_align_seq(ali[0], ali[1])"
   ]
  },
  {
   "cell_type": "code",
   "execution_count": 2,
   "metadata": {},
   "outputs": [
    {
     "data": {
      "text/plain": [
       "'/home/murail/Documents/Code/pdb_numpy/src/pdb_numpy/__init__.py'"
      ]
     },
     "execution_count": 2,
     "metadata": {},
     "output_type": "execute_result"
    }
   ],
   "source": [
    "pdb_numpy.__file__"
   ]
  },
  {
   "cell_type": "code",
   "execution_count": 3,
   "metadata": {},
   "outputs": [],
   "source": [
    "corr = mmcif.fetch_BioAssembly('8OP8')"
   ]
  },
  {
   "cell_type": "code",
   "execution_count": 4,
   "metadata": {},
   "outputs": [],
   "source": [
    "rm tmp_8OP8.cif"
   ]
  },
  {
   "cell_type": "code",
   "execution_count": 5,
   "metadata": {},
   "outputs": [],
   "source": [
    "corr.write('tmp_8OP8.cif')"
   ]
  },
  {
   "cell_type": "code",
   "execution_count": 6,
   "metadata": {},
   "outputs": [],
   "source": [
    "tmp = Coor('tmp_8OP8.cif')"
   ]
  },
  {
   "cell_type": "code",
   "execution_count": 4,
   "metadata": {},
   "outputs": [
    {
     "data": {
      "text/plain": [
       "{'A': 'AAQTNAPWGLARISSTSPGTSTYYYDESAGQGSCVYVIDTGIEASHPEF------VKTYYYSSRDGNGHGTHCAGTVGSRTYGVAKKTQLFGVKVLDDNGSGQYS-------------------KGVVASLSLGGGYSSSVNSAAARLQSSGVMVAVAAGN-----RNYSPASEPS-CTVGAS----------N--S-L-I-------L------------------------------------------------------------------N-QA',\n",
       " 'B': 'AAASVK'}"
      ]
     },
     "execution_count": 4,
     "metadata": {},
     "output_type": "execute_result"
    }
   ],
   "source": [
    "corr.get_aa_seq()"
   ]
  },
  {
   "cell_type": "code",
   "execution_count": 5,
   "metadata": {},
   "outputs": [],
   "source": [
    "corr_pdb = pdb.fetch_BioAssembly('8SOU')"
   ]
  },
  {
   "cell_type": "code",
   "execution_count": 6,
   "metadata": {},
   "outputs": [
    {
     "data": {
      "text/plain": [
       "{'A': 'AAQTNAPWGLARISSTSPGTSTYYYDESAGQGSCVYVIDTGIEASHPEF------VKTYYYSSRDGNGHGTHCAGTVGSRTYGVAKKTQLFGVKVLDDNGSGQYS-------------------KGVVASLSLGGGYSSSVNSAAARLQSSGVMVAVAAGN-----RNYSPASEPS-CTVGAS----------N--S-L-I-------L------------------------------------------------------------------N-QA',\n",
       " 'B': 'AAASVK'}"
      ]
     },
     "execution_count": 6,
     "metadata": {},
     "output_type": "execute_result"
    }
   ],
   "source": [
    "corr_pdb.get_aa_seq()"
   ]
  },
  {
   "cell_type": "code",
   "execution_count": 10,
   "metadata": {},
   "outputs": [
    {
     "name": "stdout",
     "output_type": "stream",
     "text": [
      "['A', 'B', 'C', 'D', 'E', 'F', 'G', 'H', 'I', 'J', 'K', 'L', 'M', 'N', 'O', 'P', 'Q', 'R', 'S', 'T', 'U', 'V', 'W', 'X', 'Y', 'Z', '0', '1', '2', '3', '4', '5', '6', '7', '8', '9', 'a', 'b', 'c', 'd', 'e', 'f', 'g', 'h', 'i', 'j', 'k', 'l', 'm', 'n', 'o', 'p', 'q', 'r', 's', 't', 'u', 'v', 'w', 'x', 'y', 'z', 'À', 'Á', 'Â', 'Ã', 'Ä', 'Å', 'Æ', 'Ç', 'È', 'É', 'Ê', 'Ë', 'Ì', 'Í', 'Î', 'Ï', 'Ð', 'Ñ', 'Ò', 'Ó', 'Ô', 'Õ', 'Ö', '×', 'Ø', 'Ù', 'Ú', 'Û', 'Ü', 'Ý', 'Þ', 'ß', 'à', 'á', 'â', 'ã', 'ä', 'å', 'æ', 'ç', 'è', 'é', 'ê', 'ë', 'ì', 'í', 'î', 'ï', 'ð', 'ñ', 'ò', 'ó', 'ô', 'õ', 'ö', '÷', 'ø', 'ù', 'ú', 'û', 'ü', 'ý', 'þ', 'ÿ', 'Ā', 'ā', 'Ă', 'ă', 'Ą', 'ą', 'Ć', 'ć', 'Ĉ', 'ĉ', 'Ċ', 'ċ', 'Č', 'č', 'Ď', 'ď', 'Đ', 'đ', 'Ē', 'ē', 'Ĕ', 'ĕ', 'Ė', 'ė', 'Ę', 'ę', 'Ě', 'ě', 'Ĝ', 'ĝ', 'Ğ', 'ğ', 'Ġ', 'ġ', 'Ģ', 'ģ', 'Ĥ', 'ĥ', 'Ħ', 'ħ', 'Ĩ', 'ĩ', 'Ī', 'ī', 'Ĭ', 'ĭ', 'Į', 'į', 'İ', 'ı', 'Ĳ', 'ĳ', 'Ĵ', 'ĵ', 'Ķ', 'ķ', 'ĸ', 'Ĺ', 'ĺ', 'Ļ', 'ļ', 'Ľ', 'ľ', 'Ŀ', 'ŀ', 'Ł', 'ł', 'Ń', 'ń', 'Ņ', 'ņ', 'Ň', 'ň', 'ŉ', 'Ŋ', 'ŋ', 'Ō', 'ō', 'Ŏ', 'ŏ', 'Ő', 'ő', 'Œ', 'œ', 'Ŕ', 'ŕ', 'Ŗ', 'ŗ', 'Ř', 'ř', 'Ś', 'ś', 'Ŝ', 'ŝ', 'Ş', 'ş', 'Š', 'š', 'Ţ', 'ţ', 'Ť', 'ť', 'Ŧ', 'ŧ', 'Ũ', 'ũ', 'Ū', 'ū', 'Ŭ', 'ŭ', 'Ů', 'ů', 'Ű', 'ű', 'Ų', 'ų', 'Ŵ', 'ŵ', 'Ŷ', 'ŷ', 'Ÿ', 'Ź', 'ź', 'Ż', 'ż', 'Ž', 'ž', 'ſ', 'ƀ', 'Ɓ', 'Ƃ', 'ƃ', 'Ƅ', 'ƅ', 'Ɔ', 'Ƈ', 'ƈ', 'Ɖ', 'Ɗ', 'Ƌ', 'ƌ', 'ƍ', 'Ǝ', 'Ə', 'Ɛ', 'Ƒ', 'ƒ', 'Ɠ', 'Ɣ', 'ƕ', 'Ɩ', 'Ɨ', 'Ƙ', 'ƙ', 'ƚ', 'ƛ', 'Ɯ', 'Ɲ', 'ƞ', 'Ɵ', 'Ơ', 'ơ', 'Ƣ', 'ƣ', 'Ƥ', 'ƥ', 'Ʀ', 'Ƨ', 'ƨ', 'Ʃ', 'ƪ', 'ƫ', 'Ƭ', 'ƭ', 'Ʈ', 'Ư', 'ư', 'Ʊ', 'Ʋ', 'Ƴ', 'ƴ', 'Ƶ', 'ƶ', 'Ʒ', 'Ƹ', 'ƹ', 'ƺ', 'ƻ', 'Ƽ', 'ƽ', 'ƾ', 'ƿ', 'ǀ', 'ǁ', 'ǂ', 'ǃ', 'Ǆ', 'ǅ', 'ǆ', 'Ǉ', 'ǈ', 'ǉ', 'Ǌ', 'ǋ', 'ǌ', 'Ǎ', 'ǎ', 'Ǐ', 'ǐ', 'Ǒ', 'ǒ', 'Ǔ', 'ǔ', 'Ǖ', 'ǖ', 'Ǘ', 'ǘ', 'Ǚ', 'ǚ', 'Ǜ', 'ǜ', 'ǝ', 'Ǟ', 'ǟ', 'Ǡ', 'ǡ', 'Ǣ', 'ǣ', 'Ǥ', 'ǥ', 'Ǧ', 'ǧ', 'Ǩ', 'ǩ', 'Ǫ', 'ǫ', 'Ǭ', 'ǭ', 'Ǯ', 'ǯ', 'ǰ', 'Ǳ', 'ǲ', 'ǳ']\n",
      "-491\n",
      "0\n"
     ]
    }
   ],
   "source": [
    "CHAIN_LIST = [chr(i) for i in list(range(65, 91)) + list(range(48, 58)) + list(range(97, 123)) + list(range(192, 500))]\n",
    "print(CHAIN_LIST)\n",
    "\n",
    "chain = \"D-\"\n",
    "\n",
    "count = 0\n",
    "base = 65\n",
    "for i, letter in enumerate(chain):\n",
    "    if i > 0:\n",
    "        base = 64\n",
    "    count += 26**i * (ord(letter) - base)\n",
    "print(count)\n",
    "if 0 < count < len(CHAIN_LIST):\n",
    "    print(CHAIN_LIST[count])\n",
    "else:\n",
    "    print(\"0\")\n"
   ]
  },
  {
   "cell_type": "code",
   "execution_count": 11,
   "metadata": {},
   "outputs": [
    {
     "name": "stdout",
     "output_type": "stream",
     "text": [
      "8C1L\n"
     ]
    },
    {
     "name": "stderr",
     "output_type": "stream",
     "text": [
      "No cell information in mmCIF file\n"
     ]
    },
    {
     "name": "stdout",
     "output_type": "stream",
     "text": [
      "8TEC\n"
     ]
    },
    {
     "name": "stderr",
     "output_type": "stream",
     "text": [
      "No cell information in mmCIF file\n"
     ]
    },
    {
     "name": "stdout",
     "output_type": "stream",
     "text": [
      "8AQB\n"
     ]
    },
    {
     "name": "stderr",
     "output_type": "stream",
     "text": [
      "No cell information in mmCIF file\n"
     ]
    },
    {
     "name": "stdout",
     "output_type": "stream",
     "text": [
      "7RZJ\n"
     ]
    },
    {
     "name": "stderr",
     "output_type": "stream",
     "text": [
      "No cell information in mmCIF file\n"
     ]
    },
    {
     "name": "stdout",
     "output_type": "stream",
     "text": [
      "8S6A\n"
     ]
    },
    {
     "name": "stderr",
     "output_type": "stream",
     "text": [
      "No cell information in mmCIF file\n"
     ]
    },
    {
     "name": "stdout",
     "output_type": "stream",
     "text": [
      "7TO8\n"
     ]
    },
    {
     "name": "stderr",
     "output_type": "stream",
     "text": [
      "No cell information in mmCIF file\n"
     ]
    },
    {
     "name": "stdout",
     "output_type": "stream",
     "text": [
      "8BQ3\n"
     ]
    },
    {
     "name": "stderr",
     "output_type": "stream",
     "text": [
      "No cell information in mmCIF file\n"
     ]
    },
    {
     "name": "stdout",
     "output_type": "stream",
     "text": [
      "7TOA\n"
     ]
    },
    {
     "name": "stderr",
     "output_type": "stream",
     "text": [
      "No cell information in mmCIF file\n"
     ]
    },
    {
     "name": "stdout",
     "output_type": "stream",
     "text": [
      "8TMU\n"
     ]
    },
    {
     "name": "stderr",
     "output_type": "stream",
     "text": [
      "No cell information in mmCIF file\n"
     ]
    },
    {
     "name": "stdout",
     "output_type": "stream",
     "text": [
      "8KDX\n"
     ]
    },
    {
     "name": "stderr",
     "output_type": "stream",
     "text": [
      "No cell information in mmCIF file\n"
     ]
    }
   ],
   "source": [
    "list_mmcif = ['8C1L',\n",
    "'8TEC',\n",
    "'8AQB',\n",
    "'7RZJ',\n",
    "'8S6A',\n",
    "'7TO8',\n",
    "'8BQ3',\n",
    "'7TOA',\n",
    "'8TMU',\n",
    "'8KDX',]\n",
    "\n",
    "coor_list = []\n",
    "\n",
    "for mmcif_file in list_mmcif:\n",
    "    print(mmcif_file)\n",
    "    my_coor = mmcif.fetch_BioAssembly(mmcif_file)\n",
    "    #my_coor = pdb.fetch_BioAssembly(mmcif_file)\n",
    "    my_coor.write('tmp_' + mmcif_file + '.pdb', overwrite=True)\n",
    "    coor_list.append(my_coor)\n",
    "    #seq = my_coor.get_aa_seq()\n",
    "    #print(mmcif_file, seq)"
   ]
  },
  {
   "cell_type": "code",
   "execution_count": 12,
   "metadata": {},
   "outputs": [
    {
     "data": {
      "text/plain": [
       "array(['A', 'A', 'A', 'A', 'A', 'A', 'A', 'A', 'A', 'A', 'A', 'A', 'A',\n",
       "       'A', 'A', 'A', 'A', 'A', 'A', 'A', 'A', 'A', 'A', 'A', 'A', 'A',\n",
       "       'A', 'A', 'A', 'A', 'A', 'A', 'A', 'A', 'A', 'A', 'A', 'A', 'A',\n",
       "       'A', 'A', 'A', 'A', 'A', 'A', 'A', 'A', 'A', 'A', 'A', 'A', 'A',\n",
       "       'A', 'A', 'A', 'A', 'A', 'A', 'A', 'A', 'A', 'A', 'A', 'A', 'A',\n",
       "       'A', 'A', 'A', 'A', 'A', 'A', 'A', 'A', 'A', 'A', 'A', 'A', 'A',\n",
       "       'A', 'A', 'A', 'A', 'A', 'A', 'A', 'A', 'A', 'A', 'A', 'A', 'A',\n",
       "       'A', 'A', 'A', 'A', 'A', 'A', 'A', 'A', 'A', 'A', 'A', 'A', 'A',\n",
       "       'A', 'A', 'A', 'A', 'A', 'A', 'A', 'A', 'A', 'A', 'A', 'A', 'A',\n",
       "       'A', 'A', 'A', 'A', 'A', 'A', 'A', 'A', 'A', 'A', 'A', 'A', 'A',\n",
       "       'A', 'A', 'A', 'A', 'A', 'A', 'A', 'A', 'A', 'A', 'A', 'A', 'A',\n",
       "       'A', 'A', 'A', 'A', 'A', 'A', 'A', 'A', 'A', 'A', 'A', 'A', 'A',\n",
       "       'A', 'A', 'A', 'A', 'A', 'A', 'A', 'A', 'A', 'A', 'A', 'A', 'A',\n",
       "       'A', 'A', 'A', 'A', 'A', 'A', 'A', 'A', 'A', 'A', 'A', 'A', 'A',\n",
       "       'A', 'A', 'A', 'A', 'A', 'A', 'A', 'A', 'A', 'A', 'A', 'A', 'A',\n",
       "       'A', 'A', 'A', 'A', 'A', 'A', 'A', 'A', 'A', 'A', 'A', 'A', 'A',\n",
       "       'A', 'A', 'A', 'A', 'A', 'A', 'A', 'A', 'A', 'A', 'A', 'A', 'A',\n",
       "       'A', 'A', 'A', 'A', 'A', 'A', 'A', 'A', 'A', 'A', 'A', 'A', 'A',\n",
       "       'A', 'A', 'A', 'A', 'A', 'A', 'A', 'A', 'A', 'A', 'A', 'A', 'A',\n",
       "       'A', 'A', 'A', 'A', 'A', 'A', 'A', 'A', 'A', 'A', 'A', 'A', 'A',\n",
       "       'A', 'A', 'A', 'A', 'A', 'A', 'A', 'A', 'A', 'A', 'A', 'A', 'A',\n",
       "       'A', 'A', 'A', 'A', 'A', 'A', 'A', 'A', 'A', 'A', 'A', 'A', 'A',\n",
       "       'A', 'A', 'A', 'A', 'A', 'A', 'A', 'A', 'A', 'A', 'A', 'A', 'A',\n",
       "       'A', 'A', 'A', 'A', 'A', 'A', 'A', 'A', 'A', 'A', 'A', 'A', 'A',\n",
       "       'A', 'A', 'A', 'A', 'A', 'A', 'A', 'A', 'A', 'A', 'A', 'A', 'A',\n",
       "       'A', 'A', 'A', 'A', 'A', 'A', 'A', 'A', 'A', 'A', 'A', 'A', 'A',\n",
       "       'A', 'A', 'A', 'A', 'A', 'A', 'A', 'A', 'A', 'A', 'A', 'A', 'A',\n",
       "       'A', 'A', 'A', 'A', 'A', 'A', 'A', 'A', 'A', 'A', 'A', 'A', 'A',\n",
       "       'A', 'A', 'A', 'A', 'A', 'A', 'A', 'A', 'A', 'A', 'A', 'A', 'A',\n",
       "       'A', 'A', 'A', 'A', 'A', 'A', 'A', 'A', 'A', 'A', 'A', 'A', 'A',\n",
       "       'A', 'A', 'A', 'A', 'A', 'A', 'A', 'A', 'A', 'A', 'A', 'A', 'A',\n",
       "       'A', 'A', 'A', 'A', 'A', 'A', 'A', 'A', 'A', 'A', 'A', 'A', 'A',\n",
       "       'A', 'A', 'A', 'A', 'A', 'A', 'A', 'A', 'A', 'A', 'A', 'A', 'A',\n",
       "       'A', 'A', 'A', 'A', 'A', 'A', 'A', 'A', 'A', 'A', 'A', 'A', 'A',\n",
       "       'A', 'A', 'A', 'A', 'A', 'A', 'A', 'A', 'A', 'A', 'A', 'A', 'A',\n",
       "       'A', 'A', 'A', 'A', 'A', 'A', 'A', 'A', 'A', 'A', 'A', 'A', 'A',\n",
       "       'A', 'A', 'A', 'A', 'A', 'A', 'A', 'A', 'A', 'A', 'A', 'A', 'A',\n",
       "       'A', 'A', 'A', 'A', 'A', 'A', 'A', 'A', 'A', 'A', 'A', 'A', 'A',\n",
       "       'A', 'A', 'A', 'A', 'A', 'A', 'A', 'A', 'A', 'A', 'A', 'A', 'A',\n",
       "       'A', 'A', 'A', 'A', 'A', 'A', 'A', 'A', 'A', 'B-2', 'B-2', 'B-2',\n",
       "       'B-2', 'B-2', 'B-2', 'B-2', 'B-2', 'B-2', 'B-2', 'B-2', 'B-2',\n",
       "       'B-2', 'B-2', 'B-2', 'B-2', 'B-2', 'B-2', 'B-2', 'B-2', 'B-2',\n",
       "       'B-2', 'B-2', 'B-2', 'B-2', 'B-2', 'B-2', 'B-2', 'B-2', 'B-2',\n",
       "       'B-2', 'B-2', 'B-2', 'B-2', 'B-2', 'B-2', 'B-2', 'B-2', 'B-2',\n",
       "       'B-2', 'B-2', 'B-2', 'B-2', 'B-2', 'B-2', 'B-2', 'B-2', 'B-2',\n",
       "       'B-2', 'B-2', 'B-2', 'B-2', 'B-2', 'B-2', 'B-2', 'B-2', 'B-2',\n",
       "       'B-2', 'B-2', 'B-2', 'B-2', 'B-2', 'B-2', 'B-2', 'B-2', 'B-2',\n",
       "       'B-2', 'B-2', 'B-2', 'B-2', 'B-2', 'B-2', 'B-2', 'B-2', 'B-2', 'C',\n",
       "       'C', 'C', 'C', 'C', 'C', 'C', 'C', 'C', 'C', 'C', 'C', 'C', 'C',\n",
       "       'C', 'C', 'C', 'C', 'C', 'C', 'C', 'C', 'C', 'C', 'C', 'C', 'C',\n",
       "       'C', 'C', 'C', 'C', 'C', 'C', 'C', 'C', 'C', 'C', 'C', 'C', 'C',\n",
       "       'C', 'C', 'C', 'C', 'C', 'C', 'C', 'C', 'C', 'C', 'C', 'C', 'C',\n",
       "       'C', 'C', 'C', 'C', 'C', 'C', 'C', 'C', 'C', 'C', 'C', 'C', 'C',\n",
       "       'C', 'C', 'C', 'C', 'C', 'C', 'C', 'C', 'C', 'C', 'C', 'C', 'C',\n",
       "       'C', 'C', 'C', 'C', 'C', 'C', 'C', 'C', 'C', 'C', 'C', 'C', 'C',\n",
       "       'C', 'C', 'C', 'C', 'C', 'C', 'C', 'C', 'C', 'C', 'C', 'C', 'C',\n",
       "       'C', 'C', 'C', 'C', 'C', 'C', 'C', 'C', 'C', 'C', 'C', 'C', 'C',\n",
       "       'D-2', 'D-2', 'D-2', 'D-2', 'D-2', 'D-2', 'D-2', 'D-2', 'D-2',\n",
       "       'D-2', 'D-2', 'D-2', 'D-2', 'D-2', 'D-2'], dtype='<U3')"
      ]
     },
     "execution_count": 12,
     "metadata": {},
     "output_type": "execute_result"
    }
   ],
   "source": [
    "my_coor .chain"
   ]
  },
  {
   "cell_type": "code",
   "execution_count": 13,
   "metadata": {},
   "outputs": [
    {
     "ename": "IndexError",
     "evalue": "list index out of range",
     "output_type": "error",
     "traceback": [
      "\u001b[0;31m---------------------------------------------------------------------------\u001b[0m",
      "\u001b[0;31mIndexError\u001b[0m                                Traceback (most recent call last)",
      "Cell \u001b[0;32mIn[13], line 1\u001b[0m\n\u001b[0;32m----> 1\u001b[0m \u001b[43mcoor_list\u001b[49m\u001b[43m[\u001b[49m\u001b[38;5;241;43m0\u001b[39;49m\u001b[43m]\u001b[49m\u001b[38;5;241;43m.\u001b[39;49m\u001b[43mmodels\u001b[49m\u001b[43m[\u001b[49m\u001b[38;5;241;43m1\u001b[39;49m\u001b[43m]\u001b[49m\u001b[38;5;241m.\u001b[39mlen\n",
      "\u001b[0;31mIndexError\u001b[0m: list index out of range"
     ]
    }
   ],
   "source": [
    "coor_list[0].models[1].len"
   ]
  },
  {
   "cell_type": "code",
   "execution_count": null,
   "metadata": {},
   "outputs": [
    {
     "data": {
      "text/plain": [
       "array([['N', 'ALA', 'N'],\n",
       "       ['CA', 'ALA', 'C'],\n",
       "       ['C', 'ALA', 'C'],\n",
       "       ...,\n",
       "       ['O', 'HOH', 'O'],\n",
       "       ['O', 'HOH', 'O'],\n",
       "       ['O', 'HOH', 'O']], dtype='<U4')"
      ]
     },
     "execution_count": 16,
     "metadata": {},
     "output_type": "execute_result"
    }
   ],
   "source": [
    "my_coor = pdb.fetch_BioAssembly('8C1L')\n",
    "my_coor.models[0].atom_dict['name_resname_elem']"
   ]
  },
  {
   "cell_type": "code",
   "execution_count": null,
   "metadata": {},
   "outputs": [
    {
     "ename": "IndexError",
     "evalue": "index 57 is out of bounds for axis 0 with size 52",
     "output_type": "error",
     "traceback": [
      "\u001b[0;31m---------------------------------------------------------------------------\u001b[0m",
      "\u001b[0;31mIndexError\u001b[0m                                Traceback (most recent call last)",
      "Cell \u001b[0;32mIn[17], line 1\u001b[0m\n\u001b[0;32m----> 1\u001b[0m \u001b[43mmy_coor\u001b[49m\u001b[38;5;241;43m.\u001b[39;49m\u001b[43mselect_atoms\u001b[49m\u001b[43m(\u001b[49m\u001b[38;5;124;43m'\u001b[39;49m\u001b[38;5;124;43mname CA\u001b[39;49m\u001b[38;5;124;43m'\u001b[39;49m\u001b[43m)\u001b[49m\n",
      "File \u001b[0;32m~/Documents/Code/pdb_numpy/src/pdb_numpy/coor.py:468\u001b[0m, in \u001b[0;36mCoor.select_atoms\u001b[0;34m(self, selection, frame)\u001b[0m\n\u001b[1;32m    448\u001b[0m \u001b[38;5;250m\u001b[39m\u001b[38;5;124;03m\"\"\"This method allows selecting atoms from the PDB file based on a\u001b[39;00m\n\u001b[1;32m    449\u001b[0m \u001b[38;5;124;03mselection string. The selection string follows a syntax similar to\u001b[39;00m\n\u001b[1;32m    450\u001b[0m \u001b[38;5;124;03mthat used in the VMD molecular visualization software.\u001b[39;00m\n\u001b[0;32m   (...)\u001b[0m\n\u001b[1;32m    464\u001b[0m \u001b[38;5;124;03m    a new Coor object with the selected atoms\u001b[39;00m\n\u001b[1;32m    465\u001b[0m \u001b[38;5;124;03m\"\"\"\u001b[39;00m\n\u001b[1;32m    467\u001b[0m indexes \u001b[38;5;241m=\u001b[39m \u001b[38;5;28mself\u001b[39m\u001b[38;5;241m.\u001b[39mmodels[frame]\u001b[38;5;241m.\u001b[39mget_index_select(selection)\n\u001b[0;32m--> 468\u001b[0m \u001b[38;5;28;01mreturn\u001b[39;00m \u001b[38;5;28;43mself\u001b[39;49m\u001b[38;5;241;43m.\u001b[39;49m\u001b[43mselect_index\u001b[49m\u001b[43m(\u001b[49m\u001b[43mindexes\u001b[49m\u001b[43m)\u001b[49m\n",
      "File \u001b[0;32m~/Documents/Code/pdb_numpy/src/pdb_numpy/coor.py:416\u001b[0m, in \u001b[0;36mCoor.select_index\u001b[0;34m(self, indexes)\u001b[0m\n\u001b[1;32m    411\u001b[0m \u001b[38;5;66;03m#new_coor = copy.deepcopy(self)\u001b[39;00m\n\u001b[1;32m    412\u001b[0m \u001b[38;5;66;03m#for i in range(len(new_coor.models)):\u001b[39;00m\n\u001b[1;32m    413\u001b[0m \u001b[38;5;66;03m#    new_coor.models[i] = new_coor.models[i].select_index(indexes)\u001b[39;00m\n\u001b[1;32m    415\u001b[0m new_coor \u001b[38;5;241m=\u001b[39m Coor()\n\u001b[0;32m--> 416\u001b[0m new_coor\u001b[38;5;241m.\u001b[39mmodels \u001b[38;5;241m=\u001b[39m [model\u001b[38;5;241m.\u001b[39mselect_index(indexes) \u001b[38;5;28;01mfor\u001b[39;00m model \u001b[38;5;129;01min\u001b[39;00m \u001b[38;5;28mself\u001b[39m\u001b[38;5;241m.\u001b[39mmodels]\n\u001b[1;32m    417\u001b[0m new_coor\u001b[38;5;241m.\u001b[39mactive_model \u001b[38;5;241m=\u001b[39m \u001b[38;5;28mself\u001b[39m\u001b[38;5;241m.\u001b[39mactive_model\n\u001b[1;32m    418\u001b[0m new_coor\u001b[38;5;241m.\u001b[39mcrystal_pack \u001b[38;5;241m=\u001b[39m \u001b[38;5;28mself\u001b[39m\u001b[38;5;241m.\u001b[39mcrystal_pack\n",
      "File \u001b[0;32m~/Documents/Code/pdb_numpy/src/pdb_numpy/coor.py:416\u001b[0m, in \u001b[0;36m<listcomp>\u001b[0;34m(.0)\u001b[0m\n\u001b[1;32m    411\u001b[0m \u001b[38;5;66;03m#new_coor = copy.deepcopy(self)\u001b[39;00m\n\u001b[1;32m    412\u001b[0m \u001b[38;5;66;03m#for i in range(len(new_coor.models)):\u001b[39;00m\n\u001b[1;32m    413\u001b[0m \u001b[38;5;66;03m#    new_coor.models[i] = new_coor.models[i].select_index(indexes)\u001b[39;00m\n\u001b[1;32m    415\u001b[0m new_coor \u001b[38;5;241m=\u001b[39m Coor()\n\u001b[0;32m--> 416\u001b[0m new_coor\u001b[38;5;241m.\u001b[39mmodels \u001b[38;5;241m=\u001b[39m [\u001b[43mmodel\u001b[49m\u001b[38;5;241;43m.\u001b[39;49m\u001b[43mselect_index\u001b[49m\u001b[43m(\u001b[49m\u001b[43mindexes\u001b[49m\u001b[43m)\u001b[49m \u001b[38;5;28;01mfor\u001b[39;00m model \u001b[38;5;129;01min\u001b[39;00m \u001b[38;5;28mself\u001b[39m\u001b[38;5;241m.\u001b[39mmodels]\n\u001b[1;32m    417\u001b[0m new_coor\u001b[38;5;241m.\u001b[39mactive_model \u001b[38;5;241m=\u001b[39m \u001b[38;5;28mself\u001b[39m\u001b[38;5;241m.\u001b[39mactive_model\n\u001b[1;32m    418\u001b[0m new_coor\u001b[38;5;241m.\u001b[39mcrystal_pack \u001b[38;5;241m=\u001b[39m \u001b[38;5;28mself\u001b[39m\u001b[38;5;241m.\u001b[39mcrystal_pack\n",
      "File \u001b[0;32m~/Documents/Code/pdb_numpy/src/pdb_numpy/model.py:425\u001b[0m, in \u001b[0;36mModel.select_index\u001b[0;34m(self, indexes)\u001b[0m\n\u001b[1;32m    423\u001b[0m new_model\u001b[38;5;241m.\u001b[39matom_dict \u001b[38;5;241m=\u001b[39m {}\n\u001b[1;32m    424\u001b[0m \u001b[38;5;28;01mfor\u001b[39;00m key \u001b[38;5;129;01min\u001b[39;00m \u001b[38;5;28mself\u001b[39m\u001b[38;5;241m.\u001b[39matom_dict:\n\u001b[0;32m--> 425\u001b[0m     new_model\u001b[38;5;241m.\u001b[39matom_dict[key] \u001b[38;5;241m=\u001b[39m \u001b[38;5;28;43mself\u001b[39;49m\u001b[38;5;241;43m.\u001b[39;49m\u001b[43matom_dict\u001b[49m\u001b[43m[\u001b[49m\u001b[43mkey\u001b[49m\u001b[43m]\u001b[49m\u001b[43m[\u001b[49m\u001b[43mindexes\u001b[49m\u001b[43m]\u001b[49m\n\u001b[1;32m    427\u001b[0m \u001b[38;5;28;01mreturn\u001b[39;00m new_model\n",
      "\u001b[0;31mIndexError\u001b[0m: index 57 is out of bounds for axis 0 with size 52"
     ]
    }
   ],
   "source": [
    "my_coor.select_atoms('name CA')"
   ]
  },
  {
   "cell_type": "code",
   "execution_count": null,
   "metadata": {},
   "outputs": [
    {
     "data": {
      "text/plain": [
       "2"
      ]
     },
     "execution_count": 19,
     "metadata": {},
     "output_type": "execute_result"
    }
   ],
   "source": [
    "len(my_coor.models)"
   ]
  },
  {
   "cell_type": "code",
   "execution_count": null,
   "metadata": {},
   "outputs": [],
   "source": [
    "test = Coor('../BeEM/example_input/3j6b.cif')\n",
    "test.write(\"tmp.pdb\", overwrite=True)"
   ]
  },
  {
   "cell_type": "code",
   "execution_count": null,
   "metadata": {},
   "outputs": [],
   "source": [
    "from importlib import reload\n",
    "abinitio = reload(abinitio)"
   ]
  },
  {
   "cell_type": "code",
   "execution_count": null,
   "metadata": {},
   "outputs": [],
   "source": [
    "file = '../BeEM/example_input/3j6b.cif'"
   ]
  },
  {
   "cell_type": "code",
   "execution_count": null,
   "metadata": {},
   "outputs": [
    {
     "name": "stdout",
     "output_type": "stream",
     "text": [
      "2.42 s ± 14 ms per loop (mean ± std. dev. of 7 runs, 1 loop each)\n"
     ]
    }
   ],
   "source": [
    "%%timeit\n",
    "test = Coor(file)"
   ]
  },
  {
   "cell_type": "code",
   "execution_count": null,
   "metadata": {},
   "outputs": [
    {
     "name": "stdout",
     "output_type": "stream",
     "text": [
      "31.1 ms ± 287 µs per loop (mean ± std. dev. of 7 runs, 10 loops each)\n"
     ]
    }
   ],
   "source": [
    "%%timeit\n",
    "\n",
    "count = 0\n",
    "with open(file, 'r') as f:\n",
    "    for line in f:\n",
    "        count += 1"
   ]
  },
  {
   "cell_type": "code",
   "execution_count": null,
   "metadata": {},
   "outputs": [
    {
     "name": "stdout",
     "output_type": "stream",
     "text": [
      "4.08 s ± 43.3 ms per loop (mean ± std. dev. of 7 runs, 1 loop each)\n"
     ]
    }
   ],
   "source": [
    "%%timeit\n",
    "test.write(\"tmp.pdb\", overwrite=True)"
   ]
  },
  {
   "cell_type": "code",
   "execution_count": null,
   "metadata": {},
   "outputs": [],
   "source": [
    "%load_ext line_profiler"
   ]
  },
  {
   "cell_type": "code",
   "execution_count": null,
   "metadata": {},
   "outputs": [
    {
     "data": {
      "text/plain": [
       "Timer unit: 1e-09 s\n",
       "\n",
       "Total time: 5.20449 s\n",
       "File: /home/murail/Documents/Code/pdb_numpy/src/pdb_numpy/format/pdb.py\n",
       "Function: get_pdb_string at line 323\n",
       "\n",
       "Line #      Hits         Time  Per Hit   % Time  Line Contents\n",
       "==============================================================\n",
       "   323                                           def get_pdb_string(pdb_coor):\n",
       "   324                                               \"\"\"Return a coor object as a pdb string.\n",
       "   325                                           \n",
       "   326                                               Parameters\n",
       "   327                                               ----------\n",
       "   328                                               pdb_coor : Coor\n",
       "   329                                                   Coor object\n",
       "   330                                               \n",
       "   331                                               Returns\n",
       "   332                                               -------\n",
       "   333                                               str\n",
       "   334                                                   Coor object as a pdb string\n",
       "   335                                               \n",
       "   336                                               Examples\n",
       "   337                                               --------\n",
       "   338                                               >>> prot_coor = Coor()\n",
       "   339                                               >>> prot_coor.read_file(os.path.join(TEST_PATH, '1y0m.pdb'))\\\n",
       "   340                                               #doctest: +ELLIPSIS\n",
       "   341                                               Succeed to read file ...1y0m.pdb ,  648 atoms found\n",
       "   342                                               >>> pdb_str = prot_coor.get_structure_string()\n",
       "   343                                               >>> print(f'Number of caracters: {len(pdb_str)}')\n",
       "   344                                               Number of caracters: 51264\n",
       "   345                                               \"\"\"\n",
       "   346                                           \n",
       "   347         1       3168.0   3168.0      0.0      str_out = \"\"\n",
       "   348                                           \n",
       "   349         1       4736.0   4736.0      0.0      if pdb_coor.crystal_pack != \"\":\n",
       "   350         1      52272.0  52272.0      0.0          str_out += geom.cryst_convert(pdb_coor.crystal_pack, format_out=\"pdb\")\n",
       "   351                                               elif pdb_coor.data_mmCIF is not None:\n",
       "   352                                                   str_out += geom.cryst_convert_mmCIF(pdb_coor.data_mmCIF, format_out=\"pdb\")\n",
       "   353                                           \n",
       "   354         2       5991.0   2995.5      0.0      for model_index, model in enumerate(pdb_coor.models):\n",
       "   355         1       5707.0   5707.0      0.0          str_out += f\"MODEL    {model_index:4d}\\n\"\n",
       "   356         1        629.0    629.0      0.0          old_chain = \"\"\n",
       "   357                                           \n",
       "   358                                                   # Replace mmcif `.` altloc by `''` and `?` insertres by `''`\n",
       "   359         1   81255216.0    8e+07      1.6          alterloc = ['' if altloc == '.' else altloc for altloc in model.atom_dict[\"alterloc_chain_insertres\"][:, 0]]\n",
       "   360         1   72052483.0    7e+07      1.4          insertres = ['' if altloc == '?' else altloc for altloc in model.atom_dict[\"alterloc_chain_insertres\"][:, 2]]\n",
       "   361                                           \n",
       "   362                                                   # If resname in 3 letters or less, we add a space at the end\n",
       "   363         1      45310.0  45310.0      0.0          mylen = np.vectorize(len)\n",
       "   364         1   28467278.0    3e+07      0.5          if max(mylen(model.atom_dict[\"name_resname_elem\"][:, 1])) <= 3:\n",
       "   365         1   92057591.0    9e+07      1.8              resname = np.char.add(model.atom_dict[\"name_resname_elem\"][:, 1], \" \")\n",
       "   366                                           \n",
       "   367    195138   43784039.0    224.4      0.8          for i in range(model.len):\n",
       "   368                                                       # Atom name should start at column 14, with the type of atom ex:\n",
       "   369                                                       #   - with atom type 'C': ' CH3'\n",
       "   370                                                       # for 2 letters atom type, it should start at column 13 ex:\n",
       "   371                                                       #   - with atom type 'FE': 'FE1'\n",
       "   372    195137  400271758.0   2051.2      7.7              name = model.atom_dict[\"name_resname_elem\"][i, 0].astype(np.str_)\n",
       "   373    195137   98904015.0    506.8      1.9              if len(name) <= 3 and name[0] in [\"C\", \"H\", \"O\", \"N\", \"S\", \"P\"]:\n",
       "   374    176357   56587546.0    320.9      1.1                  name = \" \" + name\n",
       "   375                                                       # To use resid > 9999, we need to convert the resid in hexadecimal format \n",
       "   376    195137   98157463.0    503.0      1.9              resid = model.atom_dict[\"num_resid_uniqresid\"][i, 1]\n",
       "   377    195137  394686487.0   2022.6      7.6              if resid > 9999:\n",
       "   378                                                           resid = encode.hy36encode(4, resid)\n",
       "   379                                                       else:\n",
       "   380    195137   88986111.0    456.0      1.7                  resid = str(resid)\n",
       "   381                                                       \n",
       "   382    195137  366808296.0   1879.7      7.0              chain = model.atom_dict[\"alterloc_chain_insertres\"][i, 1].astype(np.str_)\n",
       "   383                                           \n",
       "   384    195137   49837197.0    255.4      1.0              if chain != old_chain:\n",
       "   385       154      30955.0    201.0      0.0                  old_chain = chain\n",
       "   386       154      54829.0    356.0      0.0                  if len(chain) > 1:\n",
       "   387       128     484200.0   3782.8      0.0                      out_chain = convert_chain_2_letter(chain)\n",
       "   388                                                           else:\n",
       "   389        26       6047.0    232.6      0.0                      out_chain = chain\n",
       "   390                                           \n",
       "   391                                           \n",
       "   392                                                       # Note : Here we use 4 letter residue name.\n",
       "   393    390274  171822339.0    440.3      3.3              str_out += (\n",
       "   394    195137   32309479.0    165.6      0.6                  \"{:6s}{:5s} {:4s}{:1s}{:>4s}{:1s}{:>4s}{:1s}\"\n",
       "   395                                                           \"   {:8.3f}{:8.3f}{:8.3f}{:6.2f}{:6.2f}\"\n",
       "   396    390274 1027394606.0   2632.5     19.7                  \"          {:>2s}\\n\".format(\n",
       "   397    195137  127234560.0    652.0      2.4                      FIELD_DICT[model.atom_dict[\"field\"][i]],\n",
       "   398    195137  974838068.0   4995.7     18.7                      encode.hy36encode(5, i + 1),\n",
       "   399    195137   33581881.0    172.1      0.6                      name,\n",
       "   400    195137   43811661.0    224.5      0.8                      alterloc[i],\n",
       "   401    195137   92232046.0    472.7      1.8                      resname[i],\n",
       "   402    195137   30365781.0    155.6      0.6                      out_chain,\n",
       "   403    195137   29536371.0    151.4      0.6                      resid,\n",
       "   404    195137   37727717.0    193.3      0.7                      insertres[i],\n",
       "   405    195137   93546320.0    479.4      1.8                      model.atom_dict[\"xyz\"][i, 0],\n",
       "   406    195137   73866533.0    378.5      1.4                      model.atom_dict[\"xyz\"][i, 1],\n",
       "   407    195137   72137036.0    369.7      1.4                      model.atom_dict[\"xyz\"][i, 2],\n",
       "   408    195137   75260099.0    385.7      1.4                      model.atom_dict[\"occ_beta\"][i, 0],\n",
       "   409    195137   72031958.0    369.1      1.4                      model.atom_dict[\"occ_beta\"][i, 1],\n",
       "   410    195137  344242094.0   1764.1      6.6                      model.atom_dict[\"name_resname_elem\"][i, 2].astype(np.str_),\n",
       "   411                                                           )\n",
       "   412                                                       )\n",
       "   413         1       2342.0   2342.0      0.0          str_out += \"ENDMDL\\n\"\n",
       "   414         1        362.0    362.0      0.0      str_out += \"END\\n\"\n",
       "   415         1        175.0    175.0      0.0      return str_out"
      ]
     },
     "metadata": {},
     "output_type": "display_data"
    }
   ],
   "source": [
    "%lprun -f format.pdb.get_pdb_string test.write(\"tmp.pdb\", overwrite=True)"
   ]
  },
  {
   "cell_type": "code",
   "execution_count": null,
   "metadata": {},
   "outputs": [
    {
     "data": {
      "text/plain": [
       "Timer unit: 1e-09 s\n",
       "\n",
       "Total time: 4.57734 s\n",
       "File: /home/murail/Documents/Code/pdb_numpy/src/pdb_numpy/format/mmcif.py\n",
       "Function: _parse_raw_mmcif_lines at line 461\n",
       "\n",
       "Line #      Hits         Time  Per Hit   % Time  Line Contents\n",
       "==============================================================\n",
       "   461                                           def _parse_raw_mmcif_lines(mmcif_lines):\n",
       "   462                                               \"\"\"Parse the mmcif lines and return atom information as a dictionary\n",
       "   463                                           \n",
       "   464                                               Parameters\n",
       "   465                                               ----------\n",
       "   466                                               mmcif_lines : list\n",
       "   467                                                   list of pdb lines\n",
       "   468                                           \n",
       "   469                                               Returns\n",
       "   470                                               -------\n",
       "   471                                               dict\n",
       "   472                                                   dictionary with atom information\n",
       "   473                                               \"\"\"\n",
       "   474                                           \n",
       "   475         1       2735.0   2735.0      0.0      data_mmCIF = OrderedDict()\n",
       "   476         1        450.0    450.0      0.0      tabular = False\n",
       "   477         1        574.0    574.0      0.0      mutli_line = \"\"\n",
       "   478                                           \n",
       "   479         1        334.0    334.0      0.0      category = \"title\"\n",
       "   480         1        420.0    420.0      0.0      attribute = \"title\"\n",
       "   481                                           \n",
       "   482    231630   87596488.0    378.2      1.9      for i, line in enumerate(mmcif_lines):\n",
       "   483                                                   # print(line, end=\"\")\n",
       "   484                                           \n",
       "   485    231629  175917622.0    759.5      3.8          if line.startswith(\"#\"):\n",
       "   486        87      19365.0    222.6      0.0              tabular = False\n",
       "   487                                           \n",
       "   488    231542   85642679.0    369.9      1.9          elif line.startswith(\"loop_\"):\n",
       "   489        45      10868.0    241.5      0.0              tabular = True\n",
       "   490        45      13069.0    290.4      0.0              col_names = []\n",
       "   491                                           \n",
       "   492    231497   92686867.0    400.4      2.0          elif line.startswith(\"_\"):\n",
       "   493                                                       #token = shlex.split(line, posix=False)\n",
       "   494       895     860774.0    961.8      0.0              token = split_cython.string_split(line[:-1])\n",
       "   495       895     502652.0    561.6      0.0              category, attribute = token[0].split(\".\")\n",
       "   496                                           \n",
       "   497       895     179328.0    200.4      0.0              if tabular:\n",
       "   498       531     164835.0    310.4      0.0                  if category not in data_mmCIF:\n",
       "   499        45      80953.0   1799.0      0.0                      data_mmCIF[category] = {\"col_names\": [], \"value\": []}\n",
       "   500       531     232520.0    437.9      0.0                  data_mmCIF[category][\"col_names\"].append(attribute)\n",
       "   501       531     225133.0    424.0      0.0                  data_mmCIF[category][\"value\"].append([])\n",
       "   502       531     187988.0    354.0      0.0                  final_token = []\n",
       "   503                                                       else:\n",
       "   504       364     106757.0    293.3      0.0                  if category not in data_mmCIF:\n",
       "   505        41      37999.0    926.8      0.0                      data_mmCIF[category] = OrderedDict()\n",
       "   506                                                           # Necessary to handle attributes on 2 lines.\n",
       "   507       364     120605.0    331.3      0.0                  if len(token) == 2:\n",
       "   508       362     228355.0    630.8      0.0                      data_mmCIF[category][attribute] = token[1]\n",
       "   509                                           \n",
       "   510                                                   # Fix the issue with token between 2 \";\"\n",
       "   511                                                   # Opening \";\"\n",
       "   512    230602   85074041.0    368.9      1.9          elif line.startswith(\";\") and not mutli_line:\n",
       "   513       118      47299.0    400.8      0.0              mutli_line += line\n",
       "   514                                           \n",
       "   515                                                   # Closing \";\"\n",
       "   516    230484   87680899.0    380.4      1.9          elif line.startswith(\";\") and mutli_line:\n",
       "   517       118      40782.0    345.6      0.0              mutli_line += line\n",
       "   518       118      24939.0    211.3      0.0              if tabular:\n",
       "   519       117      42760.0    365.5      0.0                  final_token += [mutli_line]\n",
       "   520                                                           # print(len(final_token), len(data_mmCIF[category]['col_names']), final_token)\n",
       "   521       117      71965.0    615.1      0.0                  if len(final_token) == len(data_mmCIF[category][\"col_names\"]):\n",
       "   522                                                               # print(\"finished\", final_token)\n",
       "   523                                                               # remove the last \"\\n\"\n",
       "   524                                                               final_token[-1] = final_token[-1][:-1]\n",
       "   525                                                               for i in range(len(data_mmCIF[category][\"col_names\"])):\n",
       "   526                                                                   data_mmCIF[category][\"value\"][i].append(final_token[i])\n",
       "   527                                                               final_token = []\n",
       "   528                                                       else:\n",
       "   529         1       1448.0   1448.0      0.0                  data_mmCIF[category][attribute] = mutli_line\n",
       "   530       118      46745.0    396.1      0.0              mutli_line = \"\"\n",
       "   531                                           \n",
       "   532    230366   44707108.0    194.1      1.0          elif mutli_line:\n",
       "   533       378     280691.0    742.6      0.0              mutli_line += line\n",
       "   534                                           \n",
       "   535    229988   41009562.0    178.3      0.9          elif tabular:\n",
       "   536                                                       #token = shlex.split(line, posix=False)\n",
       "   537    229986  499977460.0   2173.9     10.9              token = split_cython.string_split(line[:-1])\n",
       "   538                                           \n",
       "   539                                                       #new_token = line.split()\n",
       "   540                                                       #if set(token) != set(new_token):\n",
       "   541                                                       #    print(line)\n",
       "   542                                                       #    print(\"shlex:\", token)\n",
       "   543                                                       #    print(\"new  :\", new_token)\n",
       "   544    229986   41375899.0    179.9      0.9              token_complete = True\n",
       "   545                                                       #print(final_token, len(final_token), token, len(token), len(data_mmCIF[category]['col_names']))\n",
       "   546                                           \n",
       "   547                                                       # TO FIX !!\n",
       "   548    229986  131595254.0    572.2      2.9              if len(token) != len(data_mmCIF[category][\"col_names\"]):\n",
       "   549      2068    1014339.0    490.5      0.0                  if len(final_token) == len(data_mmCIF[category][\"col_names\"]):\n",
       "   550                                                               token = final_token\n",
       "   551      4136    1359651.0    328.7      0.0                  elif len(final_token) + len(token) == len(\n",
       "   552      2068     557864.0    269.8      0.0                      data_mmCIF[category][\"col_names\"]\n",
       "   553                                                           ):\n",
       "   554                                                               # print(\"token complete\", final_token, token)\n",
       "   555      1034     397111.0    384.1      0.0                      token = final_token + token\n",
       "   556                                                           else:\n",
       "   557      1034     184828.0    178.8      0.0                      token_complete = False\n",
       "   558      1034     320717.0    310.2      0.0                      final_token += token\n",
       "   559                                           \n",
       "   560    229986   48943596.0    212.8      1.1              if token_complete:\n",
       "   561                                                           # print(\"token complete\")\n",
       "   562   4733615  954497077.0    201.6     20.9                  for i in range(len(data_mmCIF[category][\"col_names\"])):\n",
       "   563   4504663 2088938833.0    463.7     45.6                      data_mmCIF[category][\"value\"][i].append(token[i])\n",
       "   564    228952  104309909.0    455.6      2.3                  final_token = []\n",
       "   565                                                   else:\n",
       "   566                                                       #token = shlex.split(line, posix=False)\n",
       "   567         2      12808.0   6404.0      0.0              token = split_cython.string_split(line[:-1])\n",
       "   568                                           \n",
       "   569         2       1352.0    676.0      0.0              if category not in data_mmCIF:\n",
       "   570         1       1920.0   1920.0      0.0                  data_mmCIF[category] = OrderedDict()\n",
       "   571         2       2088.0   1044.0      0.0              data_mmCIF[category][attribute] = token[0]\n",
       "   572                                           \n",
       "   573         1        448.0    448.0      0.0      return data_mmCIF"
      ]
     },
     "metadata": {},
     "output_type": "display_data"
    }
   ],
   "source": [
    "%lprun -f format.mmcif._parse_raw_mmcif_lines Coor(file)"
   ]
  },
  {
   "cell_type": "code",
   "execution_count": null,
   "metadata": {},
   "outputs": [],
   "source": [
    "line = \"ATOM   987    H  H62    . A   A  1  38   ? 345.584 231.000 189.453 1.00   74.87  ? 38   A   A H62    1 \""
   ]
  },
  {
   "cell_type": "code",
   "execution_count": null,
   "metadata": {},
   "outputs": [],
   "source": [
    "import shlex"
   ]
  },
  {
   "cell_type": "code",
   "execution_count": null,
   "metadata": {},
   "outputs": [
    {
     "name": "stdout",
     "output_type": "stream",
     "text": [
      "69.2 µs ± 1.44 µs per loop (mean ± std. dev. of 7 runs, 10,000 loops each)\n"
     ]
    }
   ],
   "source": [
    "%timeit shlex.split(line, posix=False)"
   ]
  },
  {
   "cell_type": "code",
   "execution_count": null,
   "metadata": {},
   "outputs": [
    {
     "name": "stdout",
     "output_type": "stream",
     "text": [
      "575 ns ± 4.87 ns per loop (mean ± std. dev. of 7 runs, 1,000,000 loops each)\n"
     ]
    }
   ],
   "source": [
    "%timeit line.split()"
   ]
  },
  {
   "cell_type": "code",
   "execution_count": null,
   "metadata": {},
   "outputs": [],
   "source": [
    "import re"
   ]
  },
  {
   "cell_type": "code",
   "execution_count": null,
   "metadata": {},
   "outputs": [
    {
     "name": "stdout",
     "output_type": "stream",
     "text": [
      "9.02 µs ± 104 ns per loop (mean ± std. dev. of 7 runs, 100,000 loops each)\n"
     ]
    }
   ],
   "source": [
    "%timeit re.split('\\s', line)"
   ]
  },
  {
   "cell_type": "code",
   "execution_count": null,
   "metadata": {},
   "outputs": [
    {
     "name": "stdout",
     "output_type": "stream",
     "text": [
      "3j6b-pdb-bundle1.pdb\n",
      "3j6b-pdb-bundle2.pdb\n",
      "3j6b-chain-id-mapping.txt\n"
     ]
    },
    {
     "data": {
      "text/plain": [
       "CompletedProcess(args=['../BeEM/BeEM', '../BeEM/example_input/3j6b.cif'], returncode=0)"
      ]
     },
     "execution_count": 4,
     "metadata": {},
     "output_type": "execute_result"
    }
   ],
   "source": [
    "import subprocess\n",
    "subprocess.run([\"../BeEM/BeEM\", \"../BeEM/example_input/3j6b.cif\"])"
   ]
  },
  {
   "cell_type": "code",
   "execution_count": null,
   "metadata": {},
   "outputs": [
    {
     "name": "stdout",
     "output_type": "stream",
     "text": [
      "3j6b-pdb-bundle1.pdb\n",
      "3j6b-pdb-bundle2.pdb\n",
      "3j6b-chain-id-mapping.txt\n",
      "3j6b-pdb-bundle1.pdb\n",
      "3j6b-pdb-bundle2.pdb\n",
      "3j6b-chain-id-mapping.txt\n",
      "3j6b-pdb-bundle1.pdb\n",
      "3j6b-pdb-bundle2.pdb\n",
      "3j6b-chain-id-mapping.txt\n",
      "3j6b-pdb-bundle1.pdb\n",
      "3j6b-pdb-bundle2.pdb\n",
      "3j6b-chain-id-mapping.txt\n",
      "3j6b-pdb-bundle1.pdb\n",
      "3j6b-pdb-bundle2.pdb\n",
      "3j6b-chain-id-mapping.txt\n",
      "3j6b-pdb-bundle1.pdb\n",
      "3j6b-pdb-bundle2.pdb\n",
      "3j6b-chain-id-mapping.txt\n",
      "3j6b-pdb-bundle1.pdb\n",
      "3j6b-pdb-bundle2.pdb\n",
      "3j6b-chain-id-mapping.txt\n",
      "3j6b-pdb-bundle1.pdb\n",
      "3j6b-pdb-bundle2.pdb\n",
      "3j6b-chain-id-mapping.txt\n",
      "755 ms ± 12.9 ms per loop (mean ± std. dev. of 7 runs, 1 loop each)\n"
     ]
    }
   ],
   "source": [
    "%%timeit\n",
    "subprocess.run([\"../BeEM/BeEM\", \"../BeEM/example_input/3j6b.cif\"])"
   ]
  },
  {
   "cell_type": "code",
   "execution_count": null,
   "metadata": {},
   "outputs": [
    {
     "name": "stdout",
     "output_type": "stream",
     "text": [
      "{'title': {'title': 'untitled'}, '_entry': {'id': 'XXXX'}, '_cell': {'length_a': '20.63', 'length_b': '4.7', 'length_c': '21.009', 'angle_alpha': '90.0', 'angle_beta': '92.28', 'angle_gamma': '90.0', 'Z_PDB': '2'}, '_atom_site': None}\n"
     ]
    }
   ],
   "source": [
    "print(test.data_mmCIF)"
   ]
  },
  {
   "cell_type": "code",
   "execution_count": null,
   "metadata": {},
   "outputs": [
    {
     "name": "stdout",
     "output_type": "stream",
     "text": [
      "CRYST1   20.630    4.700   21.009  90.00  92.28  90.00 P 1 21 1    2\n",
      "\n"
     ]
    }
   ],
   "source": [
    "test = Coor('/home/murail/Downloads/3ftk.cif')\n",
    "print(test.crystal_pack)"
   ]
  },
  {
   "cell_type": "code",
   "execution_count": null,
   "metadata": {},
   "outputs": [],
   "source": [
    "test.write(\"test.cif\", overwrite=True)"
   ]
  },
  {
   "cell_type": "code",
   "execution_count": null,
   "metadata": {},
   "outputs": [
    {
     "name": "stdout",
     "output_type": "stream",
     "text": [
      "{1: {'chains': ['A', 'B'], 'matrix': [[1.0, 1.0, 0.0, 0.0, 0.0], [1.0, 0.0, 1.0, 0.0, 0.0], [1.0, 0.0, 0.0, 1.0, 0.0], [2.0, 1.0, 0.0, 0.0, 0.0], [2.0, 0.0, 1.0, 0.0, 4.7], [2.0, 0.0, 0.0, 1.0, 0.0], [3.0, 1.0, 0.0, 0.0, 0.0], [3.0, 0.0, 1.0, 0.0, -4.7], [3.0, 0.0, 0.0, 1.0, 0.0]]}, 2: {'chains': ['A', 'B'], 'matrix': [[4.0, -1.0, 0.0, 0.0, 0.0], [4.0, 0.0, 1.0, 0.0, 2.35], [4.0, 0.0, 0.0, -1.0, 0.0], [5.0, -1.0, 0.0, 0.0, 0.0], [5.0, 0.0, 1.0, 0.0, 7.05], [5.0, 0.0, 0.0, -1.0, 0.0], [6.0, -1.0, 0.0, 0.0, 0.0], [6.0, 0.0, 1.0, 0.0, -2.35], [6.0, 0.0, 0.0, -1.0, 0.0]]}, 3: {'chains': ['A', 'B'], 'matrix': [[1.0, 1.0, 0.0, 0.0, 0.0], [1.0, 0.0, 1.0, 0.0, 0.0], [1.0, 0.0, 0.0, 1.0, 0.0]]}}\n"
     ]
    }
   ],
   "source": [
    "print(test.transformation)"
   ]
  },
  {
   "cell_type": "code",
   "execution_count": null,
   "metadata": {},
   "outputs": [],
   "source": [
    "test.apply_transformation([1,2,3])\n",
    "test.write('tmp_trans3.pdb')"
   ]
  },
  {
   "cell_type": "code",
   "execution_count": null,
   "metadata": {},
   "outputs": [
    {
     "data": {
      "text/plain": [
       "{1: {'chains': ['A'],\n",
       "  'matrix': [[1.0, 1.0, 0.0, 0.0, 0.0],\n",
       "   [1.0, 0.0, 1.0, 0.0, 0.0],\n",
       "   [1.0, 0.0, 0.0, 1.0, 0.0],\n",
       "   [2.0, 1.0, 0.0, 0.0, 0.0],\n",
       "   [2.0, 0.0, 1.0, 0.0, 4.7],\n",
       "   [2.0, 0.0, 0.0, 1.0, 0.0],\n",
       "   [3.0, 1.0, 0.0, 0.0, 0.0],\n",
       "   [3.0, 0.0, 1.0, 0.0, -4.7],\n",
       "   [3.0, 0.0, 0.0, 1.0, 0.0]]},\n",
       " 2: {'chains': ['A'],\n",
       "  'matrix': [[1.0, -1.0, 0.0, 0.0, 0.0],\n",
       "   [1.0, 0.0, 1.0, 0.0, 2.35],\n",
       "   [1.0, 0.0, 0.0, -1.0, 0.0],\n",
       "   [2.0, -1.0, 0.0, 0.0, 0.0],\n",
       "   [2.0, 0.0, 1.0, 0.0, 7.05],\n",
       "   [2.0, 0.0, 0.0, -1.0, 0.0],\n",
       "   [3.0, -1.0, 0.0, 0.0, 0.0],\n",
       "   [3.0, 0.0, 1.0, 0.0, -2.35],\n",
       "   [3.0, 0.0, 0.0, -1.0, 0.0]]},\n",
       " 3: {'chains': ['A'],\n",
       "  'matrix': [[1.0, 1.0, 0.0, 0.0, 0.0],\n",
       "   [1.0, 0.0, 1.0, 0.0, 0.0],\n",
       "   [1.0, 0.0, 0.0, 1.0, 0.0]]}}"
      ]
     },
     "execution_count": 128,
     "metadata": {},
     "output_type": "execute_result"
    }
   ],
   "source": [
    "def pdb_parse_transformation(text):\n",
    "    \"\"\"Parse the `REMARK 350   BIOMT` information from a pdb file.\n",
    "\n",
    "    Parameters\n",
    "    ----------\n",
    "    text : str\n",
    "        pdb file\n",
    "\n",
    "    Returns\n",
    "    -------\n",
    "    symetry_dict : dict\n",
    "        symetry information\n",
    "    \"\"\"\n",
    "\n",
    "    transformation_dict = {}\n",
    "\n",
    "    for line in text.split(\"\\n\"):\n",
    "        if line[11:23] == \"BIOMOLECULE:\":\n",
    "            biomol = int(line[24:])\n",
    "            transformation_dict[biomol] = {\"chains\": [], \"matrix\": []}\n",
    "        elif line[34:41] == \"CHAINS:\":\n",
    "            transformation_dict[biomol][\"chains\"] += line[42:].split()\n",
    "        elif line.startswith(\"REMARK 350   BIOMT\"):\n",
    "            transformation_dict[biomol][\"matrix\"] += [\n",
    "                [float(x) for x in line[19:].split()]\n",
    "            ]\n",
    "\n",
    "    return transformation_dict\n",
    "\n",
    "txt = \"\"\"REMARK 350                                                                      \n",
    "REMARK 350 COORDINATES FOR A COMPLETE MULTIMER REPRESENTING THE KNOWN           \n",
    "REMARK 350 BIOLOGICALLY SIGNIFICANT OLIGOMERIZATION STATE OF THE                \n",
    "REMARK 350 MOLECULE CAN BE GENERATED BY APPLYING BIOMT TRANSFORMATIONS          \n",
    "REMARK 350 GIVEN BELOW.  BOTH NON-CRYSTALLOGRAPHIC AND                          \n",
    "REMARK 350 CRYSTALLOGRAPHIC OPERATIONS ARE GIVEN.                               \n",
    "REMARK 350                                                                      \n",
    "REMARK 350 BIOMOLECULE: 1                                                       \n",
    "REMARK 350 AUTHOR DETERMINED BIOLOGICAL UNIT: DIMERIC                           \n",
    "REMARK 350 APPLY THE FOLLOWING TO CHAINS: A                                     \n",
    "REMARK 350   BIOMT1   1  1.000000  0.000000  0.000000        0.00000            \n",
    "REMARK 350   BIOMT2   1  0.000000  1.000000  0.000000        0.00000            \n",
    "REMARK 350   BIOMT3   1  0.000000  0.000000  1.000000        0.00000            \n",
    "REMARK 350   BIOMT1   2  1.000000  0.000000  0.000000        0.94015            \n",
    "REMARK 350   BIOMT2   2  0.000000  1.000000  0.000000        4.78756            \n",
    "REMARK 350   BIOMT3   2  0.000000  0.000000  1.000000        0.00000\"\"\"\n",
    "\n",
    "txt2 = \"\"\"REMARK 350                                                                      \n",
    "REMARK 350 COORDINATES FOR A COMPLETE MULTIMER REPRESENTING THE KNOWN           \n",
    "REMARK 350 BIOLOGICALLY SIGNIFICANT OLIGOMERIZATION STATE OF THE                \n",
    "REMARK 350 MOLECULE CAN BE GENERATED BY APPLYING BIOMT TRANSFORMATIONS          \n",
    "REMARK 350 GIVEN BELOW.  BOTH NON-CRYSTALLOGRAPHIC AND                          \n",
    "REMARK 350 CRYSTALLOGRAPHIC OPERATIONS ARE GIVEN.                               \n",
    "REMARK 350                                                                      \n",
    "REMARK 350 BIOMOLECULE: 1                                                       \n",
    "REMARK 350 AUTHOR DETERMINED BIOLOGICAL UNIT: TRIMERIC                          \n",
    "REMARK 350 APPLY THE FOLLOWING TO CHAINS: A                                     \n",
    "REMARK 350   BIOMT1   1  1.000000  0.000000  0.000000        0.00000            \n",
    "REMARK 350   BIOMT2   1  0.000000  1.000000  0.000000        0.00000            \n",
    "REMARK 350   BIOMT3   1  0.000000  0.000000  1.000000        0.00000            \n",
    "REMARK 350   BIOMT1   2  1.000000  0.000000  0.000000        0.00000            \n",
    "REMARK 350   BIOMT2   2  0.000000  1.000000  0.000000        4.70000            \n",
    "REMARK 350   BIOMT3   2  0.000000  0.000000  1.000000        0.00000            \n",
    "REMARK 350   BIOMT1   3  1.000000  0.000000  0.000000        0.00000            \n",
    "REMARK 350   BIOMT2   3  0.000000  1.000000  0.000000       -4.70000            \n",
    "REMARK 350   BIOMT3   3  0.000000  0.000000  1.000000        0.00000            \n",
    "REMARK 350                                                                      \n",
    "REMARK 350 BIOMOLECULE: 2                                                       \n",
    "REMARK 350 AUTHOR DETERMINED BIOLOGICAL UNIT: TRIMERIC                          \n",
    "REMARK 350 APPLY THE FOLLOWING TO CHAINS: A                                     \n",
    "REMARK 350   BIOMT1   1 -1.000000  0.000000  0.000000        0.00000            \n",
    "REMARK 350   BIOMT2   1  0.000000  1.000000  0.000000        2.35000            \n",
    "REMARK 350   BIOMT3   1  0.000000  0.000000 -1.000000        0.00000            \n",
    "REMARK 350   BIOMT1   2 -1.000000  0.000000  0.000000        0.00000            \n",
    "REMARK 350   BIOMT2   2  0.000000  1.000000  0.000000        7.05000            \n",
    "REMARK 350   BIOMT3   2  0.000000  0.000000 -1.000000        0.00000            \n",
    "REMARK 350   BIOMT1   3 -1.000000  0.000000  0.000000        0.00000            \n",
    "REMARK 350   BIOMT2   3  0.000000  1.000000  0.000000       -2.35000            \n",
    "REMARK 350   BIOMT3   3  0.000000  0.000000 -1.000000        0.00000            \n",
    "REMARK 350                                                                      \n",
    "REMARK 350 BIOMOLECULE: 3                                                       \n",
    "REMARK 350 SOFTWARE DETERMINED QUATERNARY STRUCTURE: MONOMERIC                  \n",
    "REMARK 350 SOFTWARE USED: PISA                                                  \n",
    "REMARK 350 APPLY THE FOLLOWING TO CHAINS: A                                     \n",
    "REMARK 350   BIOMT1   1  1.000000  0.000000  0.000000        0.00000            \n",
    "REMARK 350   BIOMT2   1  0.000000  1.000000  0.000000        0.00000            \n",
    "REMARK 350   BIOMT3   1  0.000000  0.000000  1.000000        0.00000\"\"\"\n",
    "\n",
    "\n",
    "#print(pdb_parse_transformation(txt))\n",
    "pdb_parse_transformation(txt2)\n",
    "#print()\n",
    "#print(pdb_parse_transformation(txt2))"
   ]
  },
  {
   "cell_type": "code",
   "execution_count": null,
   "metadata": {},
   "outputs": [],
   "source": [
    "\n",
    "def parse_transformation(data_mmCIF):\n",
    "    \"\"\"Parse the `_pdbx_struct_oper_list` information from a mmcif file.\n",
    "\n",
    "    Parameters\n",
    "    ----------\n",
    "    pdbx_struct_oper_list : dict\n",
    "        mmcif file information\n",
    "\n",
    "    Returns\n",
    "    -------\n",
    "    symetry_dict : dict\n",
    "        symetry information\n",
    "    \"\"\"\n",
    "    \n",
    "    matrix_indexes = [\n",
    "        ['id', 'matrix[1][1]', 'matrix[1][2]', 'matrix[1][3]', 'vector[1]'],\n",
    "        ['id', 'matrix[2][1]', 'matrix[2][2]', 'matrix[2][3]', 'vector[2]'],\n",
    "        ['id', 'matrix[3][1]', 'matrix[3][2]', 'matrix[3][3]', 'vector[3]']\n",
    "    ]\n",
    "    transformation_dict = {}\n",
    "    print('_pdbx_struct_assembly_gen', data_mmCIF['_pdbx_struct_assembly_gen'])\n",
    "    print('_pdbx_struct_oper_list', data_mmCIF['_pdbx_struct_oper_list'])\n",
    "\n",
    "\n",
    "    # Extract transformation list:\n",
    "    # Here with only one transformation\n",
    "    if 'asym_id_list' in data_mmCIF['_pdbx_struct_assembly_gen']:\n",
    "        trans_num = 1\n",
    "        chain_list = [\n",
    "            chain.strip() for chain in data_mmCIF['_pdbx_struct_assembly_gen']['asym_id_list'].split(',')\n",
    "        ]\n",
    "        \n",
    "        transformation_dict[1] = {\"chains\": chain_list, \"matrix\": []}\n",
    "\n",
    "        for i in range(len(data_mmCIF['_pdbx_struct_oper_list']['value'][0])):\n",
    "            \n",
    "            for matrix_index in matrix_indexes:\n",
    "                local_matrix = []\n",
    "                for index in matrix_index:\n",
    "                    local_index = data_mmCIF['_pdbx_struct_oper_list']['col_names'].index(index)\n",
    "                    local_matrix.append(float(data_mmCIF['_pdbx_struct_oper_list']['value'][local_index][i]))\n",
    "                transformation_dict[1][\"matrix\"].append(local_matrix)\n",
    "        \n",
    "    # Here with multiple transformation\n",
    "    else:\n",
    "        trans_num = len(data_mmCIF['_pdbx_struct_assembly']['value'][0])\n",
    "        assert trans_num == len(data_mmCIF['_pdbx_struct_assembly_gen']['value'][0])\n",
    "        \n",
    "        chain_index = data_mmCIF['_pdbx_struct_assembly_gen']['col_names'].index('asym_id_list')\n",
    "        local_matrix_index = data_mmCIF['_pdbx_struct_assembly_gen']['col_names'].index('oper_expression')\n",
    "        \n",
    "        for i in range(trans_num):\n",
    "            # Extract chain list and matrix indexes\n",
    "            chain_list = [\n",
    "                chain.strip() for chain in data_mmCIF['_pdbx_struct_assembly_gen']['value'][chain_index][i].split(',')\n",
    "            ]\n",
    "            matrix_index_list = [\n",
    "                chain.strip() for chain in data_mmCIF['_pdbx_struct_assembly_gen']['value'][local_matrix_index][i].split(',')\n",
    "            ]\n",
    "            transformation_dict[i+1] = {\"chains\": chain_list, \"matrix\": []}\n",
    "\n",
    "            # Extract matrix value\n",
    "            for j in range(len(data_mmCIF['_pdbx_struct_oper_list']['value'][0])):\n",
    "                matrix_id = data_mmCIF['_pdbx_struct_oper_list']['value'][0][j]\n",
    "                \n",
    "                if matrix_id in matrix_index_list:\n",
    "                    for matrix_index in matrix_indexes:\n",
    "                        local_matrix = []\n",
    "                        for index in matrix_index:\n",
    "                            local_index = data_mmCIF['_pdbx_struct_oper_list']['col_names'].index(index)\n",
    "                            local_matrix.append(float(data_mmCIF['_pdbx_struct_oper_list']['value'][local_index][j]))\n",
    "                        transformation_dict[i+1][\"matrix\"].append(local_matrix)\n",
    "        \n",
    "    return transformation_dict\n"
   ]
  },
  {
   "cell_type": "code",
   "execution_count": null,
   "metadata": {},
   "outputs": [
    {
     "name": "stdout",
     "output_type": "stream",
     "text": [
      "_pdbx_struct_assembly_gen {'col_names': ['assembly_id', 'oper_expression', 'asym_id_list'], 'value': [['1', '2', '3'], ['1,2,3', '4,5,6', '1'], ['A,B', 'A,B', 'A,B']]}\n",
      "_pdbx_struct_oper_list {'col_names': ['id', 'type', 'name', 'symmetry_operation', 'matrix[1][1]', 'matrix[1][2]', 'matrix[1][3]', 'vector[1]', 'matrix[2][1]', 'matrix[2][2]', 'matrix[2][3]', 'vector[2]', 'matrix[3][1]', 'matrix[3][2]', 'matrix[3][3]', 'vector[3]'], 'value': [['1', '2', '3', '4', '5', '6'], [\"'identity operation'\", \"'crystal symmetry operation'\", \"'crystal symmetry operation'\", \"'crystal symmetry operation'\", \"'crystal symmetry operation'\", \"'crystal symmetry operation'\"], ['1_555', '1_565', '1_545', '2_555', '2_565', '2_545'], ['x,y,z', 'x,y+1,z', 'x,y-1,z', '-x,y+1/2,-z', '-x,y+3/2,-z', '-x,y-1/2,-z'], ['1.0000000000', '1.0000000000', '1.0000000000', '-1.0000000000', '-1.0000000000', '-1.0000000000'], ['0.0000000000', '0.0000000000', '0.0000000000', '0.0000000000', '0.0000000000', '0.0000000000'], ['0.0000000000', '0.0000000000', '0.0000000000', '0.0000000000', '0.0000000000', '0.0000000000'], ['0.0000000000', '0.0000000000', '0.0000000000', '0.0000000000', '0.0000000000', '0.0000000000'], ['0.0000000000', '0.0000000000', '0.0000000000', '0.0000000000', '0.0000000000', '0.0000000000'], ['1.0000000000', '1.0000000000', '1.0000000000', '1.0000000000', '1.0000000000', '1.0000000000'], ['0.0000000000', '0.0000000000', '0.0000000000', '0.0000000000', '0.0000000000', '0.0000000000'], ['0.0000000000', '4.7000000000', '-4.7000000000', '2.3500000000', '7.0500000000', '-2.3500000000'], ['0.0000000000', '0.0000000000', '0.0000000000', '0.0000000000', '0.0000000000', '0.0000000000'], ['0.0000000000', '0.0000000000', '0.0000000000', '0.0000000000', '0.0000000000', '0.0000000000'], ['1.0000000000', '1.0000000000', '1.0000000000', '-1.0000000000', '-1.0000000000', '-1.0000000000'], ['0.0000000000', '0.0000000000', '0.0000000000', '0.0000000000', '0.0000000000', '0.0000000000']]}\n"
     ]
    },
    {
     "data": {
      "text/plain": [
       "{1: {'chains': ['A', 'B'],\n",
       "  'matrix': [[1.0, 1.0, 0.0, 0.0, 0.0],\n",
       "   [1.0, 0.0, 1.0, 0.0, 0.0],\n",
       "   [1.0, 0.0, 0.0, 1.0, 0.0],\n",
       "   [2.0, 1.0, 0.0, 0.0, 0.0],\n",
       "   [2.0, 0.0, 1.0, 0.0, 4.7],\n",
       "   [2.0, 0.0, 0.0, 1.0, 0.0],\n",
       "   [3.0, 1.0, 0.0, 0.0, 0.0],\n",
       "   [3.0, 0.0, 1.0, 0.0, -4.7],\n",
       "   [3.0, 0.0, 0.0, 1.0, 0.0]]},\n",
       " 2: {'chains': ['A', 'B'],\n",
       "  'matrix': [[4.0, -1.0, 0.0, 0.0, 0.0],\n",
       "   [4.0, 0.0, 1.0, 0.0, 2.35],\n",
       "   [4.0, 0.0, 0.0, -1.0, 0.0],\n",
       "   [5.0, -1.0, 0.0, 0.0, 0.0],\n",
       "   [5.0, 0.0, 1.0, 0.0, 7.05],\n",
       "   [5.0, 0.0, 0.0, -1.0, 0.0],\n",
       "   [6.0, -1.0, 0.0, 0.0, 0.0],\n",
       "   [6.0, 0.0, 1.0, 0.0, -2.35],\n",
       "   [6.0, 0.0, 0.0, -1.0, 0.0]]},\n",
       " 3: {'chains': ['A', 'B'],\n",
       "  'matrix': [[1.0, 1.0, 0.0, 0.0, 0.0],\n",
       "   [1.0, 0.0, 1.0, 0.0, 0.0],\n",
       "   [1.0, 0.0, 0.0, 1.0, 0.0]]}}"
      ]
     },
     "execution_count": 144,
     "metadata": {},
     "output_type": "execute_result"
    }
   ],
   "source": [
    "parse_transformation(test2.data_mmCIF)"
   ]
  },
  {
   "cell_type": "code",
   "execution_count": null,
   "metadata": {},
   "outputs": [
    {
     "name": "stdout",
     "output_type": "stream",
     "text": [
      "_pdbx_struct_assembly_gen OrderedDict([('assembly_id', '1'), ('oper_expression', '1,2'), ('asym_id_list', 'A,B')])\n",
      "_pdbx_struct_oper_list {'col_names': ['id', 'type', 'name', 'symmetry_operation', 'matrix[1][1]', 'matrix[1][2]', 'matrix[1][3]', 'vector[1]', 'matrix[2][1]', 'matrix[2][2]', 'matrix[2][3]', 'vector[2]', 'matrix[3][1]', 'matrix[3][2]', 'matrix[3][3]', 'vector[3]'], 'value': [['1', '2'], [\"'identity operation'\", \"'crystal symmetry operation'\"], ['1_555', '1_565'], ['x,y,z', 'x,y+1,z'], ['1.0000000000', '1.0000000000'], ['0.0000000000', '0.0000000000'], ['0.0000000000', '0.0000000000'], ['0.0000000000', '0.9401502764'], ['0.0000000000', '0.0000000000'], ['1.0000000000', '1.0000000000'], ['0.0000000000', '0.0000000000'], ['0.0000000000', '4.7875628934'], ['0.0000000000', '0.0000000000'], ['0.0000000000', '0.0000000000'], ['1.0000000000', '1.0000000000'], ['0.0000000000', '0.0000000000']]}\n"
     ]
    },
    {
     "data": {
      "text/plain": [
       "{1: {'chains': ['A', 'B'],\n",
       "  'matrix': [[1.0, 1.0, 0.0, 0.0, 0.0],\n",
       "   [1.0, 0.0, 1.0, 0.0, 0.0],\n",
       "   [1.0, 0.0, 0.0, 1.0, 0.0],\n",
       "   [2.0, 1.0, 0.0, 0.0, 0.9401502764],\n",
       "   [2.0, 0.0, 1.0, 0.0, 4.7875628934],\n",
       "   [2.0, 0.0, 0.0, 1.0, 0.0]]}}"
      ]
     },
     "execution_count": 145,
     "metadata": {},
     "output_type": "execute_result"
    }
   ],
   "source": [
    "parse_transformation(test.data_mmCIF)"
   ]
  },
  {
   "cell_type": "code",
   "execution_count": null,
   "metadata": {},
   "outputs": [],
   "source": [
    "\n",
    "assert test.len == 56\n",
    "# Here there is only identity matrix\n",
    "# as symmetry, so no change is expected\n",
    "test.add_symmetry()\n",
    "assert test.len == 56\n",
    "test.apply_transformation()\n",
    "assert test.len == 112\n",
    "test.copy_box(3, 3, 3)\n",
    "assert test.len == 3024\n",
    "test.compute_chains_CA()\n",
    "test.remove_overlap_chain()\n",
    "assert test.len == 3024\n",
    "\n",
    "test.write(\"test.pdb\", check_file_out=False)\n"
   ]
  },
  {
   "cell_type": "code",
   "execution_count": null,
   "metadata": {},
   "outputs": [],
   "source": [
    "test.write('tmp.pdb', check_file_out=False)"
   ]
  },
  {
   "cell_type": "code",
   "execution_count": null,
   "metadata": {},
   "outputs": [],
   "source": [
    "test_2 = Coor('tmp.pdb')\n",
    "test_2.write('tmp2.gro', check_file_out=False)"
   ]
  },
  {
   "cell_type": "code",
   "execution_count": null,
   "metadata": {},
   "outputs": [
    {
     "name": "stdout",
     "output_type": "stream",
     "text": [
      "Add symmetry 1\n",
      "0\n",
      "1\n",
      "Add transformation 1\n",
      "2\n",
      "Add transformation 2\n"
     ]
    }
   ],
   "source": [
    "test.add_symmetry()\n",
    "test.apply_transformation(index=1)\n",
    "test.compute_chains_CA()\n",
    "test.write_pdb('tmp.pdb', check_file_out=False)"
   ]
  },
  {
   "cell_type": "code",
   "execution_count": null,
   "metadata": {},
   "outputs": [
    {
     "data": {
      "text/plain": [
       "{'matrix': [[1.0, 1.0, 0.0, 0.0, 0.0],\n",
       "  [1.0, 0.0, 1.0, 0.0, 0.0],\n",
       "  [1.0, 0.0, 0.0, 1.0, 0.0],\n",
       "  [2.0, -1.0, 0.0, 0.0, 0.0],\n",
       "  [2.0, 0.0, 1.0, 0.0, 2.35],\n",
       "  [2.0, 0.0, 0.0, -1.0, 0.0]]}"
      ]
     },
     "execution_count": 5,
     "metadata": {},
     "output_type": "execute_result"
    }
   ],
   "source": [
    "test.symmetry"
   ]
  },
  {
   "cell_type": "code",
   "execution_count": null,
   "metadata": {},
   "outputs": [
    {
     "data": {
      "text/plain": [
       "[<pdb_numpy.model.Model at 0x7f79dd6fbf50>]"
      ]
     },
     "execution_count": 8,
     "metadata": {},
     "output_type": "execute_result"
    }
   ],
   "source": [
    "test.models"
   ]
  },
  {
   "cell_type": "code",
   "execution_count": null,
   "metadata": {},
   "outputs": [
    {
     "name": "stdout",
     "output_type": "stream",
     "text": [
      "{1: {'chains': ['A'], 'matrix': [[1.0, 1.0, 0.0, 0.0, 0.0], [1.0, 0.0, 1.0, 0.0, 0.0], [1.0, 0.0, 0.0, 1.0, 0.0], [2.0, 1.0, 0.0, 0.0, 0.0], [2.0, 0.0, 1.0, 0.0, 4.7], [2.0, 0.0, 0.0, 1.0, 0.0], [3.0, 1.0, 0.0, 0.0, 0.0], [3.0, 0.0, 1.0, 0.0, -4.7], [3.0, 0.0, 0.0, 1.0, 0.0]]}, 2: {'chains': ['A'], 'matrix': [[1.0, -1.0, 0.0, 0.0, 0.0], [1.0, 0.0, 1.0, 0.0, 2.35], [1.0, 0.0, 0.0, -1.0, 0.0], [2.0, -1.0, 0.0, 0.0, 0.0], [2.0, 0.0, 1.0, 0.0, 7.05], [2.0, 0.0, 0.0, -1.0, 0.0], [3.0, -1.0, 0.0, 0.0, 0.0], [3.0, 0.0, 1.0, 0.0, -2.35], [3.0, 0.0, 0.0, -1.0, 0.0]]}, 3: {'chains': ['A'], 'matrix': [[1.0, 1.0, 0.0, 0.0, 0.0], [1.0, 0.0, 1.0, 0.0, 0.0], [1.0, 0.0, 0.0, 1.0, 0.0]]}}\n"
     ]
    }
   ],
   "source": [
    "print(test.transformation)"
   ]
  },
  {
   "cell_type": "code",
   "execution_count": null,
   "metadata": {},
   "outputs": [
    {
     "name": "stdout",
     "output_type": "stream",
     "text": [
      "{1: {'chains': ['A'], 'matrix': [[1.0, 1.0, 0.0, 0.0, 0.0], [1.0, 0.0, 1.0, 0.0, 0.0], [1.0, 0.0, 0.0, 1.0, 0.0], [2.0, 1.0, 0.0, 0.0, 0.0], [2.0, 0.0, 1.0, 0.0, 4.7], [2.0, 0.0, 0.0, 1.0, 0.0], [3.0, 1.0, 0.0, 0.0, 0.0], [3.0, 0.0, 1.0, 0.0, -4.7], [3.0, 0.0, 0.0, 1.0, 0.0]]}, 2: {'chains': ['A'], 'matrix': [[1.0, -1.0, 0.0, 0.0, 0.0], [1.0, 0.0, 1.0, 0.0, 2.35], [1.0, 0.0, 0.0, -1.0, 0.0], [2.0, -1.0, 0.0, 0.0, 0.0], [2.0, 0.0, 1.0, 0.0, 7.05], [2.0, 0.0, 0.0, -1.0, 0.0], [3.0, -1.0, 0.0, 0.0, 0.0], [3.0, 0.0, 1.0, 0.0, -2.35], [3.0, 0.0, 0.0, -1.0, 0.0]]}, 3: {'chains': ['A'], 'matrix': [[1.0, 1.0, 0.0, 0.0, 0.0], [1.0, 0.0, 1.0, 0.0, 0.0], [1.0, 0.0, 0.0, 1.0, 0.0]]}}\n"
     ]
    }
   ],
   "source": [
    "def parse_transformation(text):\n",
    "\n",
    "    transformation_dict = {}\n",
    "\n",
    "    for line in text.split('\\n'):\n",
    "        if line[11:23] == \"BIOMOLECULE:\":\n",
    "            biomol = int(line[24:])\n",
    "            transformation_dict[biomol] = {'chains': [], 'matrix': []}\n",
    "        elif line[34:41] == \"CHAINS:\":\n",
    "            transformation_dict[biomol]['chains'] += line[42:].split()\n",
    "        elif line.startswith('REMARK 350   BIOMT'):\n",
    "            transformation_dict[biomol]['matrix'] += [[float(x) for x in line[19:].split()]]\n",
    "        #print(line, line[34:])\n",
    "    print(transformation_dict)\n",
    "\n",
    "\n",
    "parse_transformation(test.transformation)"
   ]
  },
  {
   "cell_type": "code",
   "execution_count": null,
   "metadata": {},
   "outputs": [],
   "source": [
    "test.models.append(deepcopy(test.models[0]))\n",
    "test.models.append(deepcopy(test.models[0]))"
   ]
  },
  {
   "cell_type": "code",
   "execution_count": null,
   "metadata": {},
   "outputs": [
    {
     "name": "stdout",
     "output_type": "stream",
     "text": [
      "[[-1.0 0.0 0.0 0.0]\n",
      " [0.0 1.0 0.0 7.05]\n",
      " [0.0 0.0 -1.0 0.0]]\n",
      "[[-1.0 0.0 0.0 0.0]\n",
      " [0.0 1.0 0.0 -2.35]\n",
      " [0.0 0.0 -1.0 0.0]]\n"
     ]
    }
   ],
   "source": [
    "text = \\\n",
    "\"\"\"REMARK 350   BIOMT1   2 -1.000000  0.000000  0.000000        0.00000            \n",
    "REMARK 350   BIOMT2   2  0.000000  1.000000  0.000000        7.05000            \n",
    "REMARK 350   BIOMT3   2  0.000000  0.000000 -1.000000        0.00000\"\"\"\n",
    "\n",
    "rot_mat = []\n",
    "\n",
    "for line in text.split(\"\\n\"):\n",
    "    rot_mat.append([float(x) for x in line.split()[4:]])\n",
    "\n",
    "rot_mat = np.array(rot_mat, dtype=object)\n",
    "print(rot_mat)\n",
    "\n",
    "text = \\\n",
    "\"\"\"REMARK 350   BIOMT1   3 -1.000000  0.000000  0.000000        0.00000            \n",
    "REMARK 350   BIOMT2   3  0.000000  1.000000  0.000000       -2.35000            \n",
    "REMARK 350   BIOMT3   3  0.000000  0.000000 -1.000000        0.00000\"\"\"\n",
    "\n",
    "rot_mat_2 = []\n",
    "\n",
    "for line in text.split(\"\\n\"):\n",
    "    rot_mat_2.append([float(x) for x in line.split()[4:]])\n",
    "\n",
    "rot_mat_2 = np.array(rot_mat_2, dtype=object)\n",
    "print(rot_mat_2)"
   ]
  },
  {
   "cell_type": "code",
   "execution_count": null,
   "metadata": {},
   "outputs": [
    {
     "data": {
      "text/plain": [
       "array([[-1.0, 0.0, 0.0],\n",
       "       [0.0, 1.0, 0.0],\n",
       "       [0.0, 0.0, -1.0]], dtype=object)"
      ]
     },
     "execution_count": 21,
     "metadata": {},
     "output_type": "execute_result"
    }
   ],
   "source": [
    "rot_mat[:,:3]"
   ]
  },
  {
   "cell_type": "code",
   "execution_count": null,
   "metadata": {},
   "outputs": [],
   "source": [
    "test.models[1].xyz = np.dot(test.models[0].xyz, rot_mat[:,:3]) + rot_mat[:,3]\n",
    "test.models[2].xyz = np.dot(test.models[0].xyz, rot_mat_2[:,:3]) + rot_mat_2[:,3]"
   ]
  },
  {
   "cell_type": "code",
   "execution_count": null,
   "metadata": {},
   "outputs": [],
   "source": [
    "test.merge_model()\n",
    "test.write_pdb('tmp.pdb', check_file_out=False)"
   ]
  },
  {
   "cell_type": "code",
   "execution_count": null,
   "metadata": {},
   "outputs": [
    {
     "data": {
      "text/plain": [
       "'/home/murail/Documents/Code/pdb_numpy'"
      ]
     },
     "execution_count": 25,
     "metadata": {},
     "output_type": "execute_result"
    }
   ],
   "source": [
    "pwd"
   ]
  },
  {
   "cell_type": "code",
   "execution_count": null,
   "metadata": {},
   "outputs": [],
   "source": []
  }
 ],
 "metadata": {
  "kernelspec": {
   "display_name": "docking",
   "language": "python",
   "name": "python3"
  },
  "language_info": {
   "codemirror_mode": {
    "name": "ipython",
    "version": 3
   },
   "file_extension": ".py",
   "mimetype": "text/x-python",
   "name": "python",
   "nbconvert_exporter": "python",
   "pygments_lexer": "ipython3",
   "version": "3.10.13"
  }
 },
 "nbformat": 4,
 "nbformat_minor": 4
}

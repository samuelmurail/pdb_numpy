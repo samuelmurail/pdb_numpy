{
 "cells": [
  {
   "cell_type": "code",
   "execution_count": 1,
   "metadata": {},
   "outputs": [],
   "source": [
    "import sys\n",
    "import importlib\n",
    "import logging\n",
    "import numpy as np\n",
    "\n",
    "sys.path.append(\"./src/\")\n",
    "import pdb_numpy\n",
    "import pdb_numpy.alignement as alignement\n",
    "import pdb_numpy.DSSP as DSSP\n"
   ]
  },
  {
   "cell_type": "code",
   "execution_count": 2,
   "metadata": {},
   "outputs": [],
   "source": [
    "test = pdb_numpy.Coor(pdb_id=\"3eam\")\n",
    "test.write_pdb(\"./tmp.pdb\", check_file_out=False)\n"
   ]
  },
  {
   "cell_type": "code",
   "execution_count": 3,
   "metadata": {},
   "outputs": [
    {
     "name": "stdout",
     "output_type": "stream",
     "text": [
      "Adding NH\n",
      "NH added\n"
     ]
    }
   ],
   "source": [
    "print('Adding NH')\n",
    "DSSP.add_NH(test)\n",
    "print('NH added')"
   ]
  },
  {
   "cell_type": "code",
   "execution_count": 3,
   "metadata": {},
   "outputs": [],
   "source": [
    "# run dssp:\n",
    "# sudo apt install dssp\n",
    "# dssp -i tmp.pdb -o dssp.txt\n",
    "\n",
    "with open(\"./dssp.txt\") as f:\n",
    "    lines = f.readlines()\n",
    "\n",
    "start_read = False\n",
    "dssp_seq = \"\"\n",
    "for line in lines:\n",
    "    if line.startswith(\"  #  RESIDUE AA STRUCTURE BP1 BP2  ACC\"):\n",
    "        start_read = True\n",
    "        continue\n",
    "    if start_read and line[13] != \"!\":\n",
    "        dssp_seq += line[16]\n"
   ]
  },
  {
   "cell_type": "code",
   "execution_count": 5,
   "metadata": {},
   "outputs": [
    {
     "name": "stdout",
     "output_type": "stream",
     "text": [
      "989 ms ± 109 ms per loop (mean ± std. dev. of 7 runs, 1 loop each)\n"
     ]
    }
   ],
   "source": [
    "%timeit DSSP.add_NH(test)"
   ]
  },
  {
   "cell_type": "code",
   "execution_count": 7,
   "metadata": {},
   "outputs": [
    {
     "name": "stdout",
     "output_type": "stream",
     "text": [
      "36.4 ms ± 1.98 ms per loop (mean ± std. dev. of 7 runs, 10 loops each)\n"
     ]
    }
   ],
   "source": [
    "%timeit DSSP.get_NH_xyz(test)"
   ]
  },
  {
   "cell_type": "code",
   "execution_count": 4,
   "metadata": {},
   "outputs": [
    {
     "name": "stdout",
     "output_type": "stream",
     "text": [
      "661 ms ± 20.4 ms per loop (mean ± std. dev. of 7 runs, 1 loop each)\n"
     ]
    }
   ],
   "source": [
    "%timeit SS_list = DSSP.compute_DSSP(test)"
   ]
  },
  {
   "cell_type": "code",
   "execution_count": 13,
   "metadata": {},
   "outputs": [
    {
     "data": {
      "text/plain": [
       "array([[0, 0, 3, 4],\n",
       "       [0, 0, 0, 8],\n",
       "       [0, 0, 0, 0],\n",
       "       [0, 0, 0, 0]])"
      ]
     },
     "execution_count": 13,
     "metadata": {},
     "output_type": "execute_result"
    }
   ],
   "source": [
    "test = np.array([[1, 2, 3, 4], [5, 6, 7, 8], [9, 10, 11, 12], [9, 10, 11, 12]])\n",
    "test[np.tril_indices_from(test, k=1)] = 0\n",
    "test"
   ]
  },
  {
   "cell_type": "code",
   "execution_count": 11,
   "metadata": {},
   "outputs": [
    {
     "data": {
      "text/plain": [
       "{'A': 'ABCG', 'B': 'DEF'}"
      ]
     },
     "execution_count": 11,
     "metadata": {},
     "output_type": "execute_result"
    }
   ],
   "source": [
    "test = {'A': 'ABC', 'B': 'DEF'}\n",
    "test['A'] += 'G'\n",
    "test"
   ]
  },
  {
   "cell_type": "code",
   "execution_count": 6,
   "metadata": {},
   "outputs": [
    {
     "name": "stdout",
     "output_type": "stream",
     "text": [
      "Get NH 1555\n",
      "1555 1555\n"
     ]
    },
    {
     "data": {
      "text/plain": [
       "['      SSS     EEE          TTS       EEE   B SSSB  GGGS  S     SSSS      BSSBSS     B      SEEE    B     B      SS TT        B   B SS B    B SSS    S    SSEEEEE    SS    BSSSSB      B  EEE  SSGHHHHGGGGGGGGGGSSSSSS   GGGGGGGGGGGGGGGGGGGGGGGSSS   SS  GGGGGGGGGGGGGGGGGGGGGGGGGGGTTS GGGGGGGGGGGGGGGGGGGGGGGGGGGGG  S     SSS     EEE          TTS       EEE   B SSS   GGGSS SS    SSSS      BSS SS     B      SS B    B            SS TT        B   B SS B    B SSS    SS   SSB   B    SS    BSSSSB      B    B  SSGHHHHGGGGGGGGGGGSSSSS   GGGGGGGGGGGGGGGGGGGGGGGGSS   SS  GGGGGGGGGGGGGGGGGGGGGGGGGGGTTS GGGGGGGGGGGGGGGGGGGGGGGGGGGGG  S     SSS     EEE   S      TTS       EEE   B SSSB  GGGS  S     SSSS       SS SS     B      SEEE    B            SS TT            B SS B    B SSS    SS   SSEEEEE    SS    BSSSSB      B  EEE  SSGHHHHGGGGGGGGGGSSSSSS   GGGGGGGGGGGGGGGGGGGGGGGGSS   SS  GGGGGGGGGGGGGGGGGGGGGGGGGGGTTS GGGGGGGGGGGGGGGGGGGGGGGGGGGGG  S     SSS     EEE          TTS       EEE   B SSS   GGGT  S     SSSS      BSS SS     B      SS B    B            SS TT        B   B SS B    B SSS    SS   SSB   B    SS    BSSSSB      B    B  SSGHHHHGGGGGGGGGGSSSSSS   GGGGGGGGGGGGGGGGGGGGGGGSSS   SS  GGGGGGGGGGGGGGGGGGGGGGGGGGGTTS GGGGGGGGGGGGGGGGGGGGGGGGGGGGG  S     SSS     EEE   S      TTS       EEE   B SSSB  GGGS  S     SSSS      BSS SS     B      SEEE    EE           SS TT        B   B SS B    B SSS    SS   SSB   B    SS    BSSSSB      B    B  SSGHHHHGGGGGGGGGGSSSSSS   GGGGGGGGGGGGGGGGGGGGGGGGSS   SS  GGGGGGGGGGGGGGGGGGGGGGGGGGGTTS GGGGGGGGGGGGGGGGGGGGGGGGGGGGG  ']"
      ]
     },
     "execution_count": 6,
     "metadata": {},
     "output_type": "execute_result"
    }
   ],
   "source": [
    "DSSP.compute_DSSP(test)"
   ]
  },
  {
   "cell_type": "code",
   "execution_count": 5,
   "metadata": {},
   "outputs": [],
   "source": [
    "\n",
    "\n",
    "%load_ext line_profiler\n",
    "\n"
   ]
  },
  {
   "cell_type": "code",
   "execution_count": 6,
   "metadata": {},
   "outputs": [
    {
     "name": "stdout",
     "output_type": "stream",
     "text": [
      "Timer unit: 1e-09 s\n",
      "\n",
      "Total time: 1.7194 s\n",
      "File: /mnt/c/Users/smura/Documents/Code/pdb_manip/pdb_numpy/./src/pdb_numpy/DSSP.py\n",
      "Function: compute_DSSP at line 204\n",
      "\n",
      "Line #      Hits         Time  Per Hit   % Time  Line Contents\n",
      "==============================================================\n",
      "   204                                           def compute_DSSP(coor):\n",
      "   205                                               \"\"\"Compute DSSP for a protein.\n",
      "   206                                           \n",
      "   207                                               - 96 % accuracy compared to DSSP (3eam)\n",
      "   208                                               - omitted β-bulge annotation\n",
      "   209                                           \n",
      "   210                                               Code:\n",
      "   211                                               ----------\n",
      "   212                                               “H” = 4-helix ($\\alpha$-helix)\n",
      "   213                                               “B” = residue in isolated $\\beta$-bridge\n",
      "   214                                               “E” - extended strand. participates in $\\beta$-ladder\n",
      "   215                                               “G” = 3-helix ($3_{10}$-heIix)\n",
      "   216                                               “I” = 5-helix ($\\pi$-helix)\n",
      "   217                                               “T” = H-bonded turn\n",
      "   218                                               “S” = bend\n",
      "   219                                           \n",
      "   220                                               In case of structural overlaps. priority is given to the structure first in\n",
      "   221                                               this list.\n",
      "   222                                               \"\"\"\n",
      "   223                                           \n",
      "   224         1        698.0    698.0      0.0      cutoff = 8\n",
      "   225                                           \n",
      "   226                                               # Add hydrogens atoms\n",
      "   227                                               # Find a way to deal with PRO\n",
      "   228                                           \n",
      "   229         1    4103602.0 4103602.0      0.2      CA_sel = coor.select_atoms(\"protein and name CA and not altloc B C D E\")\n",
      "   230         1      50652.0  50652.0      0.0      unique_residues = np.unique(CA_sel.uniq_resid)\n",
      "   231         1       2421.0   2421.0      0.0      chain_array = CA_sel.chain\n",
      "   232         1        421.0    421.0      0.0      n_res = len(unique_residues)\n",
      "   233                                           \n",
      "   234                                           \n",
      "   235         1        270.0    270.0      0.0      max_dist = 0\n",
      "   236                                           \n",
      "   237         1        227.0    227.0      0.0      SS_list = []\n",
      "   238                                           \n",
      "   239         1        955.0    955.0      0.0      for model in coor.models:\n",
      "   240                                                   # Compute distance matrix between all residues\n",
      "   241         1   82260329.0 82260329.0      4.8          dist_mat = distance_matrix(CA_sel.xyz, CA_sel.xyz)\n",
      "   242         1     613608.0 613608.0      0.0          Hbond_mat = np.zeros_like(dist_mat, dtype=bool)\n",
      "   243                                           \n",
      "   244         1    1455648.0 1455648.0      0.1          O_array = model.select_atoms(\"protein and name O and not altloc B C D E\").xyz\n",
      "   245         1    1252379.0 1252379.0      0.1          N_array = model.select_atoms(\"protein and name N and not altloc B C D E\").xyz\n",
      "   246         1    1294145.0 1294145.0      0.1          C_array = model.select_atoms(\"protein and name C and not altloc B C D E\").xyz\n",
      "   247         1   29775251.0 29775251.0      1.7          H_array = get_NH_xyz(model)\n",
      "   248                                           \n",
      "   249         1       6761.0   6761.0      0.0          assert CA_sel.len == n_res, \"CA_sel.len != len(unique_residues)\"\n",
      "   250         1       8007.0   8007.0      0.0          assert len(O_array) == n_res\n",
      "   251         1       5589.0   5589.0      0.0          assert len(N_array) == n_res\n",
      "   252         1        784.0    784.0      0.0          assert len(C_array) == n_res\n",
      "   253         1        210.0    210.0      0.0          assert len(H_array) == n_res\n",
      "   254                                           \n",
      "   255         1    1406549.0 1406549.0      0.1          mask = dist_mat < cutoff\n",
      "   256         1   10331698.0 10331698.0      0.6          mask[np.tril_indices_from(mask, k=1)] = False\n",
      "   257         1    4856470.0 4856470.0      0.3          indexes = np.argwhere(mask)\n",
      "   258                                           \n",
      "   259      5993    6192449.0   1033.3      0.4          for i, j in indexes:\n",
      "   260                                           \n",
      "   261      5993    1805324.0    301.2      0.1              O_i = O_array[i]\n",
      "   262      5993    1347211.0    224.8      0.1              C_i = C_array[i]\n",
      "   263      5993    1274555.0    212.7      0.1              N_i = N_array[i]\n",
      "   264      5993    1251716.0    208.9      0.1              H_i = H_array[i]\n",
      "   265                                           \n",
      "   266      5993    1252709.0    209.0      0.1              O_j = O_array[j]\n",
      "   267      5993    1217384.0    203.1      0.1              C_j = C_array[j]\n",
      "   268      5993    1187194.0    198.1      0.1              N_j = N_array[j]\n",
      "   269      5993    1209843.0    201.9      0.1              H_j = H_array[j]\n",
      "   270                                           \n",
      "   271                                                       # Compute HBond energies\n",
      "   272      5720    1174309.0    205.3      0.1              if H_j[0] is not None:\n",
      "   273      5720   98812523.0  17274.9      5.7                  energy = hbond_energy(N_j, H_j, O_i, C_i)\n",
      "   274      4734    1154418.0    243.9      0.1                  if energy < -0.5:\n",
      "   275       986     446708.0    453.1      0.0                      Hbond_mat[i, j] = True\n",
      "   276                                           \n",
      "   277      5621    1113921.0    198.2      0.1              if H_i[0] is not None:\n",
      "   278      5621   94352441.0  16785.7      5.5                  energy = hbond_energy(N_i, H_i, O_j, C_j)\n",
      "   279      5387    1193660.0    221.6      0.1                  if energy < -0.5:\n",
      "   280       234      89415.0    382.1      0.0                      Hbond_mat[j, i] = True\n",
      "   281                                           \n",
      "   282                                                   # Compute secondary structure\n",
      "   283         1     150903.0 150903.0      0.0          SS_seq = np.array([\" \" for i in range(n_res)])\n",
      "   284         1      87416.0  87416.0      0.0          H_seq = np.array([False for i in range(n_res)])\n",
      "   285         1      85350.0  85350.0      0.0          G_seq = np.array([False for i in range(n_res)])\n",
      "   286         1      87899.0  87899.0      0.0          I_seq = np.array([False for i in range(n_res)])\n",
      "   287         1      88032.0  88032.0      0.0          E_seq = np.array([False for i in range(n_res)])\n",
      "   288         1   36228060.0 36228060.0      2.1          S_seq = compute_bend(CA_sel)\n",
      "   289                                           \n",
      "   290                                                   # N-turn\n",
      "   291      1552     169395.0    109.1      0.0          for i in range(n_res - 3):\n",
      "   292      1090     587119.0    538.6      0.0              if i < n_res - 4 and Hbond_mat[i, i + 4]:\n",
      "   293       462      69493.0    150.4      0.0                  H_seq[i] = True\n",
      "   294      1402     286883.0    204.6      0.0              if Hbond_mat[i, i + 3]:\n",
      "   295       150      23732.0    158.2      0.0                  G_seq[i] = True\n",
      "   296      1530     349334.0    228.3      0.0              if i < n_res - 5 and Hbond_mat[i, i + 5]:\n",
      "   297        22       3451.0    156.9      0.0                  I_seq[i] = True\n",
      "   298                                           \n",
      "   299                                                   # Beta sheet\n",
      "   300      1553     269019.0    173.2      0.0          for i in range(1, n_res - 1):\n",
      "   301   1202025  144257428.0    120.0      8.4              for j in range(i + 3, n_res - 1):\n",
      "   302   1202820  154125049.0    128.1      9.0                  if (\n",
      "   303   1202706  231297487.0    192.3     13.5                      (Hbond_mat[i - 1, j] and Hbond_mat[j, i + 1])\n",
      "   304   1202244  297875611.0    247.8     17.3                      or (Hbond_mat[j - 1, i] and Hbond_mat[i, j + 1])\n",
      "   305                                                           ) or (\n",
      "   306   1202820  228416768.0    189.9     13.3                      (Hbond_mat[i, j] and Hbond_mat[j, i])\n",
      "   307   1202059  265814440.0    221.1     15.5                      or (Hbond_mat[i - 1, j + 1] and Hbond_mat[j - 1, i + 1])\n",
      "   308                                                           ):\n",
      "   309       339     357956.0   1055.9      0.0                      E_seq[i] = True\n",
      "   310       339      77168.0    227.6      0.0                      E_seq[j] = True\n",
      "   311                                           \n",
      "   312                                                   # Assign secondary structure sequence (order follows the list above)\n",
      "   313                                                   # Bend\n",
      "   314      1555     166128.0    106.8      0.0          for i in range(n_res):\n",
      "   315       788      97686.0    124.0      0.0              if S_seq[i]:\n",
      "   316       767     135978.0    177.3      0.0                  SS_seq[i] = \"S\"\n",
      "   317                                           \n",
      "   318      1554     174298.0    112.2      0.0          for i in range(n_res - 1):\n",
      "   319      1532     205340.0    134.0      0.0              if I_seq[i]:\n",
      "   320        22      19417.0    882.6      0.0                  SS_seq[i + 1 : i + 5] = \"T\"\n",
      "   321      1092     157021.0    143.8      0.0              if H_seq[i]:\n",
      "   322       462     182791.0    395.7      0.0                  SS_seq[i + 1 : i + 4] = \"T\"\n",
      "   323      1404     212131.0    151.1      0.0              if G_seq[i]:\n",
      "   324       150      59886.0    399.2      0.0                  SS_seq[i + 1 : i + 3] = \"T\"\n",
      "   325                                           \n",
      "   326                                                   # A minimal helix is defined by two consecutive n-turns\n",
      "   327                                           \n",
      "   328      1551     179100.0    115.5      0.0          for i in range(1, n_res - 3):\n",
      "   329      1485     205489.0    138.4      0.0              if G_seq[i] and G_seq[i - 1]:\n",
      "   330        66      25835.0    391.4      0.0                  SS_seq[i : i + 3] = \"G\"\n",
      "   331                                           \n",
      "   332      1553     193018.0    124.3      0.0          for i in range(1, n_res - 1):\n",
      "   333      1156     170609.0    147.6      0.0              if E_seq[i] and E_seq[i - 1]:\n",
      "   334       397     180391.0    454.4      0.0                  SS_seq[i - 1 : i + 1] = \"E\"\n",
      "   335      1067     149735.0    140.3      0.0              elif E_seq[i] and not (E_seq[i + 1] and E_seq[i - 1]):\n",
      "   336        89      17918.0    201.3      0.0                  SS_seq[i] = \"B\"\n",
      "   337                                           \n",
      "   338      1550     235657.0    152.0      0.0          for i in range(1, n_res - 4):\n",
      "   339                                                       # A minimal helix is defined by two consecutive n-turns\n",
      "   340      1138     201052.0    176.7      0.0              if H_seq[i] and H_seq[i - 1]:\n",
      "   341       412     266029.0    645.7      0.0                  SS_seq[i : i + 4] = \"H\"\n",
      "   342                                                   #  In 2012, DSSP was rewritten so that the assignment of π helices\n",
      "   343                                                   #  was given preference over α helices, resulting in better detection of π helices.\n",
      "   344      1549     212250.0    137.0      0.0          for i in range(1, n_res - 5):\n",
      "   345      1544     249540.0    161.6      0.0              if I_seq[i] and I_seq[i - 1]:\n",
      "   346         5       8156.0   1631.2      0.0                  SS_seq[i : i + 5] = \"I\"\n",
      "   347                                           \n",
      "   348                                                   # Two overlapping minimal helices offset by two or three residues are joined\n",
      "   349                                                   # into one helix:\n",
      "   350      1552     206333.0    132.9      0.0          for i in range(1, n_res - 2):\n",
      "   351      1116     337911.0    302.8      0.0              if SS_seq[i - 1] == \"H\" and (SS_seq[i + 1] == \"H\" or SS_seq[i + 2] == \"H\"):\n",
      "   352       436      94687.0    217.2      0.0                  SS_seq[i] = \"H\"\n",
      "   353                                           \n",
      "   354      1553     210133.0    135.3      0.0          for i in range(1, n_res - 1):\n",
      "   355      1201     381270.0    317.5      0.0              if SS_seq[i - 1] in [\"E\", \"B\"] and (SS_seq[i + 1] in [\"E\", \"B\"]):\n",
      "   356       352     160087.0    454.8      0.0                  SS_seq[i - 1 : i + 2] = \"E\"\n",
      "   357                                           \n",
      "   358         1        745.0    745.0      0.0          seq_dict = {}\n",
      "   359                                           \n",
      "   360                                           \n",
      "   361      1555     549877.0    353.6      0.0          for SS, chain in zip(SS_seq, [chain.decode('UTF-8') for chain in chain_array]):\n",
      "   362      1550     215806.0    139.2      0.0              if chain not in seq_dict:\n",
      "   363         5       1780.0    356.0      0.0                  seq_dict[chain] = SS\n",
      "   364                                                       else:\n",
      "   365      1550     321753.0    207.6      0.0                  seq_dict[chain] += SS\n",
      "   366                                           \n",
      "   367         1       1758.0   1758.0      0.0          SS_list.append(seq_dict)\n",
      "   368                                           \n",
      "   369         1         80.0     80.0      0.0      return SS_list"
     ]
    }
   ],
   "source": [
    "%lprun -f DSSP.compute_DSSP DSSP.compute_DSSP(test)"
   ]
  },
  {
   "cell_type": "code",
   "execution_count": 14,
   "metadata": {},
   "outputs": [
    {
     "data": {
      "text/plain": [
       "3"
      ]
     },
     "execution_count": 14,
     "metadata": {},
     "output_type": "execute_result"
    }
   ],
   "source": [
    "test = np.array([1, 2, 3, 4, 5, 6, 7, 8, 9, 10])\n",
    "np.where(test == 4)[0][0]"
   ]
  },
  {
   "cell_type": "code",
   "execution_count": 2,
   "metadata": {},
   "outputs": [],
   "source": [
    "pdb_numpy.show_log()"
   ]
  },
  {
   "cell_type": "code",
   "execution_count": 3,
   "metadata": {},
   "outputs": [
    {
     "data": {
      "text/plain": [
       "<module 'pdb_numpy' from './src/pdb_numpy/__init__.py'>"
      ]
     },
     "execution_count": 3,
     "metadata": {},
     "output_type": "execute_result"
    }
   ],
   "source": [
    "importlib.reload(pdb_numpy)"
   ]
  },
  {
   "cell_type": "code",
   "execution_count": 4,
   "metadata": {},
   "outputs": [
    {
     "name": "stdout",
     "output_type": "stream",
     "text": [
      "Succeed to read file src/pdb_numpy/tests/input/2rri.pdb \n",
      "479 atoms found\n"
     ]
    }
   ],
   "source": [
    "test = pdb_numpy.Coor('./src/pdb_numpy/tests/input/2rri.pdb')"
   ]
  },
  {
   "cell_type": "code",
   "execution_count": 5,
   "metadata": {},
   "outputs": [
    {
     "data": {
      "text/plain": [
       "'CRYST1    1.000    1.000    1.000  90.00  90.00  90.00 P 1           1          \\n'"
      ]
     },
     "execution_count": 5,
     "metadata": {},
     "output_type": "execute_result"
    }
   ],
   "source": [
    "test.crystal_pack"
   ]
  },
  {
   "cell_type": "code",
   "execution_count": 6,
   "metadata": {},
   "outputs": [
    {
     "data": {
      "text/plain": [
       "array([b'HIS', b'HIS', b'HIS', b'HIS', b'HIS', b'HIS', b'HIS', b'HIS',\n",
       "       b'HIS', b'HIS', b'HIS', b'HIS', b'HIS', b'HIS', b'HIS', b'HIS',\n",
       "       b'HIS', b'HIS', b'SER', b'SER', b'SER', b'SER', b'SER', b'SER',\n",
       "       b'SER', b'SER', b'SER', b'SER', b'SER', b'ASP', b'ASP', b'ASP',\n",
       "       b'ASP', b'ASP', b'ASP', b'ASP', b'ASP', b'ASP', b'ASP', b'ASP',\n",
       "       b'ASP', b'ALA', b'ALA', b'ALA', b'ALA', b'ALA', b'ALA', b'ALA',\n",
       "       b'ALA', b'ALA', b'ALA', b'VAL', b'VAL', b'VAL', b'VAL', b'VAL',\n",
       "       b'VAL', b'VAL', b'VAL', b'VAL', b'VAL', b'VAL', b'VAL', b'VAL',\n",
       "       b'VAL', b'VAL', b'VAL', b'PHE', b'PHE', b'PHE', b'PHE', b'PHE',\n",
       "       b'PHE', b'PHE', b'PHE', b'PHE', b'PHE', b'PHE', b'PHE', b'PHE',\n",
       "       b'PHE', b'PHE', b'PHE', b'PHE', b'PHE', b'PHE', b'PHE', b'THR',\n",
       "       b'THR', b'THR', b'THR', b'THR', b'THR', b'THR', b'THR', b'THR',\n",
       "       b'THR', b'THR', b'THR', b'THR', b'THR', b'ASP', b'ASP', b'ASP',\n",
       "       b'ASP', b'ASP', b'ASP', b'ASP', b'ASP', b'ASP', b'ASP', b'ASP',\n",
       "       b'ASP', b'ASN', b'ASN', b'ASN', b'ASN', b'ASN', b'ASN', b'ASN',\n",
       "       b'ASN', b'ASN', b'ASN', b'ASN', b'ASN', b'ASN', b'ASN', b'TYR',\n",
       "       b'TYR', b'TYR', b'TYR', b'TYR', b'TYR', b'TYR', b'TYR', b'TYR',\n",
       "       b'TYR', b'TYR', b'TYR', b'TYR', b'TYR', b'TYR', b'TYR', b'TYR',\n",
       "       b'TYR', b'TYR', b'TYR', b'TYR', b'THR', b'THR', b'THR', b'THR',\n",
       "       b'THR', b'THR', b'THR', b'THR', b'THR', b'THR', b'THR', b'THR',\n",
       "       b'THR', b'THR', b'ARG', b'ARG', b'ARG', b'ARG', b'ARG', b'ARG',\n",
       "       b'ARG', b'ARG', b'ARG', b'ARG', b'ARG', b'ARG', b'ARG', b'ARG',\n",
       "       b'ARG', b'ARG', b'ARG', b'ARG', b'ARG', b'ARG', b'ARG', b'ARG',\n",
       "       b'ARG', b'ARG', b'LEU', b'LEU', b'LEU', b'LEU', b'LEU', b'LEU',\n",
       "       b'LEU', b'LEU', b'LEU', b'LEU', b'LEU', b'LEU', b'LEU', b'LEU',\n",
       "       b'LEU', b'LEU', b'LEU', b'LEU', b'LEU', b'ARG', b'ARG', b'ARG',\n",
       "       b'ARG', b'ARG', b'ARG', b'ARG', b'ARG', b'ARG', b'ARG', b'ARG',\n",
       "       b'ARG', b'ARG', b'ARG', b'ARG', b'ARG', b'ARG', b'ARG', b'ARG',\n",
       "       b'ARG', b'ARG', b'ARG', b'ARG', b'ARG', b'LYS', b'LYS', b'LYS',\n",
       "       b'LYS', b'LYS', b'LYS', b'LYS', b'LYS', b'LYS', b'LYS', b'LYS',\n",
       "       b'LYS', b'LYS', b'LYS', b'LYS', b'LYS', b'LYS', b'LYS', b'LYS',\n",
       "       b'LYS', b'LYS', b'LYS', b'GLN', b'GLN', b'GLN', b'GLN', b'GLN',\n",
       "       b'GLN', b'GLN', b'GLN', b'GLN', b'GLN', b'GLN', b'GLN', b'GLN',\n",
       "       b'GLN', b'GLN', b'GLN', b'GLN', b'MET', b'MET', b'MET', b'MET',\n",
       "       b'MET', b'MET', b'MET', b'MET', b'MET', b'MET', b'MET', b'MET',\n",
       "       b'MET', b'MET', b'MET', b'MET', b'MET', b'ALA', b'ALA', b'ALA',\n",
       "       b'ALA', b'ALA', b'ALA', b'ALA', b'ALA', b'ALA', b'ALA', b'VAL',\n",
       "       b'VAL', b'VAL', b'VAL', b'VAL', b'VAL', b'VAL', b'VAL', b'VAL',\n",
       "       b'VAL', b'VAL', b'VAL', b'VAL', b'VAL', b'VAL', b'VAL', b'LYS',\n",
       "       b'LYS', b'LYS', b'LYS', b'LYS', b'LYS', b'LYS', b'LYS', b'LYS',\n",
       "       b'LYS', b'LYS', b'LYS', b'LYS', b'LYS', b'LYS', b'LYS', b'LYS',\n",
       "       b'LYS', b'LYS', b'LYS', b'LYS', b'LYS', b'LYS', b'LYS', b'LYS',\n",
       "       b'LYS', b'LYS', b'LYS', b'LYS', b'LYS', b'LYS', b'LYS', b'LYS',\n",
       "       b'LYS', b'LYS', b'LYS', b'LYS', b'LYS', b'LYS', b'LYS', b'LYS',\n",
       "       b'LYS', b'LYS', b'LYS', b'TYR', b'TYR', b'TYR', b'TYR', b'TYR',\n",
       "       b'TYR', b'TYR', b'TYR', b'TYR', b'TYR', b'TYR', b'TYR', b'TYR',\n",
       "       b'TYR', b'TYR', b'TYR', b'TYR', b'TYR', b'TYR', b'TYR', b'TYR',\n",
       "       b'LEU', b'LEU', b'LEU', b'LEU', b'LEU', b'LEU', b'LEU', b'LEU',\n",
       "       b'LEU', b'LEU', b'LEU', b'LEU', b'LEU', b'LEU', b'LEU', b'LEU',\n",
       "       b'LEU', b'LEU', b'LEU', b'ASN', b'ASN', b'ASN', b'ASN', b'ASN',\n",
       "       b'ASN', b'ASN', b'ASN', b'ASN', b'ASN', b'ASN', b'ASN', b'ASN',\n",
       "       b'ASN', b'SER', b'SER', b'SER', b'SER', b'SER', b'SER', b'SER',\n",
       "       b'SER', b'SER', b'SER', b'SER', b'ILE', b'ILE', b'ILE', b'ILE',\n",
       "       b'ILE', b'ILE', b'ILE', b'ILE', b'ILE', b'ILE', b'ILE', b'ILE',\n",
       "       b'ILE', b'ILE', b'ILE', b'ILE', b'ILE', b'ILE', b'ILE', b'LEU',\n",
       "       b'LEU', b'LEU', b'LEU', b'LEU', b'LEU', b'LEU', b'LEU', b'LEU',\n",
       "       b'LEU', b'LEU', b'LEU', b'LEU', b'LEU', b'LEU', b'LEU', b'LEU',\n",
       "       b'LEU', b'LEU', b'ASN', b'ASN', b'ASN', b'ASN', b'ASN', b'ASN',\n",
       "       b'ASN', b'ASN', b'ASN', b'ASN', b'ASN', b'ASN', b'ASN', b'ASN',\n",
       "       b'GLY', b'GLY', b'GLY', b'GLY', b'GLY', b'GLY', b'GLY'],\n",
       "      dtype='|S4')"
      ]
     },
     "execution_count": 6,
     "metadata": {},
     "output_type": "execute_result"
    }
   ],
   "source": [
    "test.model[0].resname"
   ]
  },
  {
   "cell_type": "code",
   "execution_count": 7,
   "metadata": {},
   "outputs": [
    {
     "name": "stdout",
     "output_type": "stream",
     "text": [
      "Succeed to read file src/pdb_numpy/tests/input/2rri.pdb \n",
      "479 atoms found\n",
      "479\n",
      "29\n"
     ]
    }
   ],
   "source": [
    "test = pdb_numpy.Coor('./src/pdb_numpy/tests/input/2rri.pdb')\n",
    "print(test.len)\n",
    "assert test.len == 479\n",
    "\n",
    "test_CA = test.select_atoms(\"name CA\")\n",
    "print(test_CA.len)\n",
    "assert test_CA.len == 29"
   ]
  },
  {
   "cell_type": "code",
   "execution_count": 8,
   "metadata": {},
   "outputs": [
    {
     "data": {
      "text/plain": [
       "array([ 1,  2,  3,  4,  5,  6,  7,  8,  9, 10, 11, 12, 13, 14, 15, 16, 17,\n",
       "       18, 19, 20, 21, 22, 23, 24, 25, 26, 27, 28, 29])"
      ]
     },
     "execution_count": 8,
     "metadata": {},
     "output_type": "execute_result"
    }
   ],
   "source": [
    "test_CA.model[0].res_num"
   ]
  },
  {
   "cell_type": "code",
   "execution_count": 9,
   "metadata": {},
   "outputs": [
    {
     "data": {
      "text/plain": [
       "array([b'ALA', b'ALA', b'ALA', b'ALA', b'ALA', b'ALA', b'ALA', b'ALA',\n",
       "       b'ALA', b'ALA', b'ALA', b'ALA', b'ALA', b'ALA', b'ALA', b'ALA',\n",
       "       b'ALA', b'ALA', b'ALA', b'ALA', b'ALA', b'ALA', b'ALA', b'ALA',\n",
       "       b'ALA', b'ALA', b'ALA', b'ALA', b'ALA'], dtype='|S4')"
      ]
     },
     "execution_count": 9,
     "metadata": {},
     "output_type": "execute_result"
    }
   ],
   "source": [
    "test_CA.model[0].resname = 'ALA'\n",
    "test_CA.model[0].resname"
   ]
  },
  {
   "cell_type": "code",
   "execution_count": 10,
   "metadata": {},
   "outputs": [],
   "source": [
    "import pdb_numpy._alignement as alignement\n"
   ]
  },
  {
   "cell_type": "code",
   "execution_count": 11,
   "metadata": {},
   "outputs": [],
   "source": [
    "\n",
    "importlib.reload(alignement)\n",
    "seq_1 = 'AQDMVSPPPPIADEPLTVNTGIYLIECYSLDDKAETFKVNAFLSLSWKDRRLAFDPV\\\n",
    "RSGVRVKTYEPEAIWIPEIRFVNVENARDADVVDISVSPDGTVQYLERFSARVLSPLDFRRYPFDSQTLHIYLIVRSV\\\n",
    "DTRNIVLAVDLEKVGKNDDVFLTGWDIESFTAVVKPANFALEDRLESKLDYQLRISRQYFSYIPNIILPMLFILFISW\\\n",
    "TAFWSTSYEANVTLVVSTLIAHIAFNILVETNLPKTPYMTYTGAIIFMIYLFYFVAVIEVTVQHYLKVESQPARAASI\\\n",
    "TRASRIAFPVVFLLANIILAFLFFGF'\n",
    "seq_2 = 'APSEFLDKLMGKVSGYDARIRPNFKGPPVNVTCNIFINSFGSIAETTMDYRVNIFLR\\\n",
    "QQWNDPRLAYSEYPDDSLDLDPSMLDSIWKPDLFFANEKGANFHEVTTDNKLLRISKNGNVLYSIRITLVLACPMDLK\\\n",
    "NFPMDVQTCIMQLESFGYTMNDLIFEWDEKGAVQVADGLTLPQFILKEEKDLRYCTKHYNTGKFTCIEARFHLERQMG\\\n",
    "YYLIQMYIPSLLIVILSWVSFWINMDAAPARVGLGITTVLTMTTQSSGSRASLPKVSYVKAIDIWMAVCLLFVFSALL\\\n",
    "EYAAVNFIARAGTKLFISRAKRIDTVSRVAFPLVFLIFNIFYWITY\\\n",
    "KLVPR'\n"
   ]
  },
  {
   "cell_type": "code",
   "execution_count": 12,
   "metadata": {},
   "outputs": [],
   "source": [
    "align_seq_1, align_seq_2 = alignement.align_seq(seq_1, seq_2)"
   ]
  },
  {
   "cell_type": "code",
   "execution_count": 13,
   "metadata": {},
   "outputs": [
    {
     "name": "stdout",
     "output_type": "stream",
     "text": [
      "--------------AQDMVSPPPPIADEPLTVNTGIYLIECYSLDDKAETFKVNAFLSLSWKDRRLAFDPV-RSGVRVKT\n",
      "              | * |   * |   *||*| |*|| |  *| | |  ||** **  |*|* ***||    ||| |  \n",
      "APSEFLDKLMGKVSGYD-ARIRPNFKGPPVNVTCNIFINSFGSIAETTMDYRVNIFLRQQWNDPRLAYSEYPDDSLDLDP\n",
      "\n",
      "\n",
      "YEPEAIWIPEIRFVNVENARDADV-VD---ISVSPDGTVQYLERFSARVLSPLDFRRYPFDSQTLHIYLIVRSVDTRNIV\n",
      "   ||** *|| *|* ||*|  |* |*   | |* |*|* *  *||  |  *|*||||*|* **  | *   |   ||||\n",
      "SMLDSIWKPDLFFANEKGANFHEVTTDNKLLRISKNGNVLYSIRITLVLACPMDLKNFPMDVQTCIMQLESFGYTMNDLI\n",
      "\n",
      "\n",
      "LAVDLE-KVGKNDDVFLTGWDIESFTAVVKPANFALEDRLESKLDYQLRISRQYFSYIPNIILPMLFILFISWTAFW-S-\n",
      "|  * |  *   * | *  | |||    || ||   |    | || |||||**   *| || |* *|*|||**||** | \n",
      "FEWDEKGAVQVADGLTLPQFILKE-EKDLRYCTKHYNTGKFTCIEARFHLERQMGYYLIQMYIPSLLIVILSWVSFWINM\n",
      "\n",
      "\n",
      "TSYEANVTLVVSTLIAHIAFNILVETNLPKTPYMTYTGAIIFMIYLFYFVAVIEVTVQHYL-KVESQ--PARAASITRAS\n",
      " |  *|* * ||*|||  | |   |||***| *|      | |  ** * *||* || ||| || ||   |**  *  |*\n",
      "DAAPARVGLGITTVLTMTTQSSGSRASLPKVSYVKAIDIWMAVCLLFVFSALLEYAAVNFIARAGTKLFISRAKRIDTVS\n",
      "\n",
      "\n",
      "RIAFPVVFLLANIILAFLFFGF---\n",
      "*|***|***| **|  || | |   \n",
      "RVAFPLVFLIFNIFY-WITYKLVPR\n",
      "\n",
      "\n",
      "Identity seq1: 23.66%\n",
      "Identity seq2: 21.93%\n",
      "Similarity seq1: 61.51%\n",
      "Similarity seq2: 57.02%\n"
     ]
    }
   ],
   "source": [
    "alignement.print_align_seq(align_seq_1, align_seq_2, line_len=80)"
   ]
  },
  {
   "cell_type": "code",
   "execution_count": 14,
   "metadata": {},
   "outputs": [
    {
     "name": "stdout",
     "output_type": "stream",
     "text": [
      "AQDMVSPPPPIADEPLTVNTGIYLIECYSLDDKAETFKVNAFLSLSWKDRRLAFDPVRSGVRVKTYEPEAIWIPEIRFVN\n",
      "*********************************************************                       \n",
      "AQDMVSPPPPIADEPLTVNTGIYLIECYSLDDKAETFKVNAFLSLSWKDRRLAFDPV-----------------------\n",
      "\n",
      "\n",
      "VENARDADVVDISVSPDGTVQYLERFSARVLSPLDFRRYPFDSQTLHIYLIVRSVDTRNIVLAVDLEKVGKNDDVFLTGW\n",
      "                                                                                \n",
      "--------------------------------------------------------------------------------\n",
      "\n",
      "\n",
      "DIESFTAVVKPANFALEDRLESKLDYQLRISRQYFSYIPNIILPMLFILFISWTAFWSTSYEANVTLVVSTLIAHIAFNI\n",
      "                                                                                \n",
      "--------------------------------------------------------------------------------\n",
      "\n",
      "\n",
      "LVETNLPKTPYMTYTGAIIFMIYLFYFVAVIEVTVQHYLKVESQPARAASITRASRIAFPVVFLLANIILAFLFFGF\n",
      "                                                                             \n",
      "-----------------------------------------------------------------------------\n",
      "\n",
      "\n",
      "Identity seq1: 17.98%\n",
      "Identity seq2: 100.00%\n",
      "Similarity seq1: 17.98%\n",
      "Similarity seq2: 100.00%\n"
     ]
    }
   ],
   "source": [
    "seq_1 = 'AQDMVSPPPPIADEPLTVNTGIYLIECYSLDDKAETFKVNAFLSLSWKDRRLAFDPV\\\n",
    "RSGVRVKTYEPEAIWIPEIRFVNVENARDADVVDISVSPDGTVQYLERFSARVLSPLDFRRYPFDSQTLHIYLIVRSV\\\n",
    "DTRNIVLAVDLEKVGKNDDVFLTGWDIESFTAVVKPANFALEDRLESKLDYQLRISRQYFSYIPNIILPMLFILFISW\\\n",
    "TAFWSTSYEANVTLVVSTLIAHIAFNILVETNLPKTPYMTYTGAIIFMIYLFYFVAVIEVTVQHYLKVESQPARAASI\\\n",
    "TRASRIAFPVVFLLANIILAFLFFGF'\n",
    "seq_2 = 'AQDMVSPPPPIADEPLTVNTGIYLIECYSLDDKAETFKVNAFLSLSWKDRRLAFDPV'\n",
    "align_seq_1, align_seq_2 = alignement.align_seq(seq_1, seq_2)\n",
    "alignement.print_align_seq(align_seq_1, align_seq_2, line_len=80)"
   ]
  },
  {
   "cell_type": "code",
   "execution_count": 15,
   "metadata": {},
   "outputs": [
    {
     "name": "stdout",
     "output_type": "stream",
     "text": [
      "AQDMVSPPPPIADEPLTVNTGIYLIECYSLDDKAETFKVNAFLSLSWKDRRLAFDPVRSGVRVKTYEPEAIWIPEIRFVN\n",
      "                                                                                \n",
      "--------------------------------------------------------------------------------\n",
      "\n",
      "\n",
      "VENARDADVVDISVSPDGTVQYLERFSARVLSPLDFRRYPFDSQTLHIYLIVRSVDTRNIVLAVDLEKVGKNDDVFLTGW\n",
      "                                                                                \n",
      "--------------------------------------------------------------------------------\n",
      "\n",
      "\n",
      "DIESFTAVVKPANFALEDRLESKLDYQLRISRQYFSYIPNIILPMLFILFISWTAFWSTSYEANVTLVVSTLIAHIAFNI\n",
      "                                                                                \n",
      "--------------------------------------------------------------------------------\n",
      "\n",
      "\n",
      "LVETNLPKTPYMTYTGAIIFMIYLFYFVAVIEVTVQHYLKVESQPARAASITRASRIAFPVVFLLANIILAFLFFGF\n",
      "                       ******************************************************\n",
      "-----------------------LFYFVAVIEVTVQHYLKVESQPARAASITRASRIAFPVVFLLANIILAFLFFGF\n",
      "\n",
      "\n",
      "Identity seq1: 17.03%\n",
      "Identity seq2: 100.00%\n",
      "Similarity seq1: 17.03%\n",
      "Similarity seq2: 100.00%\n"
     ]
    }
   ],
   "source": [
    "seq_1 = 'AQDMVSPPPPIADEPLTVNTGIYLIECYSLDDKAETFKVNAFLSLSWKDRRLAFDPV\\\n",
    "RSGVRVKTYEPEAIWIPEIRFVNVENARDADVVDISVSPDGTVQYLERFSARVLSPLDFRRYPFDSQTLHIYLIVRSV\\\n",
    "DTRNIVLAVDLEKVGKNDDVFLTGWDIESFTAVVKPANFALEDRLESKLDYQLRISRQYFSYIPNIILPMLFILFISW\\\n",
    "TAFWSTSYEANVTLVVSTLIAHIAFNILVETNLPKTPYMTYTGAIIFMIYLFYFVAVIEVTVQHYLKVESQPARAASI\\\n",
    "TRASRIAFPVVFLLANIILAFLFFGF'\n",
    "seq_2 = 'LFYFVAVIEVTVQHYLKVESQPARAASITRASRIAFPVVFLLANIILAFLFFGF'\n",
    "align_seq_1, align_seq_2 = alignement.align_seq(seq_1, seq_2)\n",
    "alignement.print_align_seq(align_seq_1, align_seq_2, line_len=80)"
   ]
  },
  {
   "cell_type": "code",
   "execution_count": null,
   "metadata": {},
   "outputs": [],
   "source": []
  },
  {
   "cell_type": "code",
   "execution_count": null,
   "metadata": {},
   "outputs": [],
   "source": []
  }
 ],
 "metadata": {
  "kernelspec": {
   "display_name": "start",
   "language": "python",
   "name": "python3"
  },
  "language_info": {
   "codemirror_mode": {
    "name": "ipython",
    "version": 3
   },
   "file_extension": ".py",
   "mimetype": "text/x-python",
   "name": "python",
   "nbconvert_exporter": "python",
   "pygments_lexer": "ipython3",
   "version": "3.8.12"
  },
  "vscode": {
   "interpreter": {
    "hash": "8566c7ffd5a3fd0eb8b6bc5602eae056722f46b57749c0b0a0c2ae1cbf9832a0"
   }
  }
 },
 "nbformat": 4,
 "nbformat_minor": 2
}

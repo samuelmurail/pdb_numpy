{
 "cells": [
  {
   "cell_type": "code",
   "execution_count": 1,
   "metadata": {},
   "outputs": [],
   "source": [
    "import sys\n",
    "import os\n",
    "import numpy as np\n",
    "from copy import deepcopy\n",
    "\n",
    "sys.path.insert(0, os.path.abspath('./src/'))\n",
    "\n",
    "from pdb_numpy import Coor, Model, format, abinitio"
   ]
  },
  {
   "cell_type": "code",
   "execution_count": 2,
   "metadata": {},
   "outputs": [],
   "source": [
    "from importlib import reload\n",
    "abinitio = reload(abinitio)"
   ]
  },
  {
   "cell_type": "code",
   "execution_count": 9,
   "metadata": {},
   "outputs": [],
   "source": [
    "test = abinitio.make_peptide('ACCCPPPPPPWWWCA', n_term='')"
   ]
  },
  {
   "cell_type": "code",
   "execution_count": 10,
   "metadata": {},
   "outputs": [
    {
     "data": {
      "text/plain": [
       "<pdb_numpy.coor.Coor at 0x7f2755bf0110>"
      ]
     },
     "execution_count": 10,
     "metadata": {},
     "output_type": "execute_result"
    }
   ],
   "source": [
    "test"
   ]
  },
  {
   "cell_type": "code",
   "execution_count": 11,
   "metadata": {},
   "outputs": [
    {
     "data": {
      "text/plain": [
       "<matplotlib.collections.LineCollection at 0x7f2755bf3750>"
      ]
     },
     "execution_count": 11,
     "metadata": {},
     "output_type": "execute_result"
    },
    {
     "data": {
      "image/png": "[encoded data removed]",
      "text/plain": [
       "<Figure size 504x504 with 2 Axes>"
      ]
     },
     "metadata": {
      "needs_background": "light"
     },
     "output_type": "display_data"
    }
   ],
   "source": [
    "from pdb_numpy import visu\n",
    "\n",
    "visu.plot_pseudo_3D(test)"
   ]
  },
  {
   "cell_type": "code",
   "execution_count": 12,
   "metadata": {},
   "outputs": [
    {
     "name": "stderr",
     "output_type": "stream",
     "text": [
      "No cell information in mmCIF file\n"
     ]
    },
    {
     "data": {
      "application/vnd.jupyter.widget-view+json": {
       "model_id": "9c5ab6552dee415daba20dadd0c93b3f",
       "version_major": 2,
       "version_minor": 0
      },
      "text/plain": [
       "NGLWidget()"
      ]
     },
     "metadata": {},
     "output_type": "display_data"
    }
   ],
   "source": [
    "view = visu.get_view(test)\n",
    "view.add_licorice('all')\n",
    "view"
   ]
  },
  {
   "cell_type": "code",
   "execution_count": 8,
   "metadata": {},
   "outputs": [
    {
     "data": {
      "text/plain": [
       "array(['A', 'A', 'A', 'A', 'A', 'A', 'A', 'A', 'A', 'A', 'A', 'A', 'A',\n",
       "       'A', 'A', 'A', 'A', 'A', 'A', 'A', 'A', 'A', 'A', 'A', 'A', 'A',\n",
       "       'A', 'A', 'A', 'A', 'A', 'A', 'A', 'A', 'A', 'A', 'A', 'A', 'A',\n",
       "       'A', 'A', 'A', 'A', 'A', 'A', 'A', 'A', 'A', 'A', 'A', 'A', 'A',\n",
       "       'A', 'A', 'A', 'A', 'A', 'A', 'A', 'A', 'A', 'A', 'A', 'A', 'A',\n",
       "       'A', 'A', 'A', 'A', 'A', 'A', 'A', 'A', 'A', 'A', 'A', 'A', 'A',\n",
       "       'A', 'A', 'A', 'A', 'A'], dtype='<U1')"
      ]
     },
     "execution_count": 8,
     "metadata": {},
     "output_type": "execute_result"
    }
   ],
   "source": [
    "test.models[0].atom_dict[\"field\"]"
   ]
  },
  {
   "cell_type": "code",
   "execution_count": 2,
   "metadata": {},
   "outputs": [
    {
     "name": "stdout",
     "output_type": "stream",
     "text": [
      "CRYST1   20.630    4.700   21.009  90.00  92.28  90.00 P 1 21 1      2          \n",
      "\n"
     ]
    }
   ],
   "source": [
    "\n",
    "test = Coor('/home/murail/Downloads/3ftk.pdb')\n",
    "print(test.crystal_pack)\n",
    "\n",
    "test.write(\"test.cif\", overwrite=True)\n"
   ]
  },
  {
   "cell_type": "code",
   "execution_count": 3,
   "metadata": {},
   "outputs": [
    {
     "name": "stdout",
     "output_type": "stream",
     "text": [
      "{'title': {'title': 'untitled'}, '_entry': {'id': 'XXXX'}, '_cell': {'length_a': '20.63', 'length_b': '4.7', 'length_c': '21.009', 'angle_alpha': '90.0', 'angle_beta': '92.28', 'angle_gamma': '90.0', 'Z_PDB': '2'}, '_atom_site': None}\n"
     ]
    }
   ],
   "source": [
    "print(test.data_mmCIF)"
   ]
  },
  {
   "cell_type": "code",
   "execution_count": 5,
   "metadata": {},
   "outputs": [
    {
     "name": "stdout",
     "output_type": "stream",
     "text": [
      "CRYST1   20.630    4.700   21.009  90.00  92.28  90.00 P 1 21 1    2\n",
      "\n"
     ]
    }
   ],
   "source": [
    "test = Coor('/home/murail/Downloads/3ftk.cif')\n",
    "print(test.crystal_pack)"
   ]
  },
  {
   "cell_type": "code",
   "execution_count": 6,
   "metadata": {},
   "outputs": [],
   "source": [
    "test.write(\"test.cif\", overwrite=True)"
   ]
  },
  {
   "cell_type": "code",
   "execution_count": 4,
   "metadata": {},
   "outputs": [
    {
     "name": "stdout",
     "output_type": "stream",
     "text": [
      "{1: {'chains': ['A', 'B'], 'matrix': [[1.0, 1.0, 0.0, 0.0, 0.0], [1.0, 0.0, 1.0, 0.0, 0.0], [1.0, 0.0, 0.0, 1.0, 0.0], [2.0, 1.0, 0.0, 0.0, 0.0], [2.0, 0.0, 1.0, 0.0, 4.7], [2.0, 0.0, 0.0, 1.0, 0.0], [3.0, 1.0, 0.0, 0.0, 0.0], [3.0, 0.0, 1.0, 0.0, -4.7], [3.0, 0.0, 0.0, 1.0, 0.0]]}, 2: {'chains': ['A', 'B'], 'matrix': [[4.0, -1.0, 0.0, 0.0, 0.0], [4.0, 0.0, 1.0, 0.0, 2.35], [4.0, 0.0, 0.0, -1.0, 0.0], [5.0, -1.0, 0.0, 0.0, 0.0], [5.0, 0.0, 1.0, 0.0, 7.05], [5.0, 0.0, 0.0, -1.0, 0.0], [6.0, -1.0, 0.0, 0.0, 0.0], [6.0, 0.0, 1.0, 0.0, -2.35], [6.0, 0.0, 0.0, -1.0, 0.0]]}, 3: {'chains': ['A', 'B'], 'matrix': [[1.0, 1.0, 0.0, 0.0, 0.0], [1.0, 0.0, 1.0, 0.0, 0.0], [1.0, 0.0, 0.0, 1.0, 0.0]]}}\n"
     ]
    }
   ],
   "source": [
    "print(test.transformation)"
   ]
  },
  {
   "cell_type": "code",
   "execution_count": 5,
   "metadata": {},
   "outputs": [],
   "source": [
    "test.apply_transformation([1,2,3])\n",
    "test.write('tmp_trans3.pdb')"
   ]
  },
  {
   "cell_type": "code",
   "execution_count": 128,
   "metadata": {},
   "outputs": [
    {
     "data": {
      "text/plain": [
       "{1: {'chains': ['A'],\n",
       "  'matrix': [[1.0, 1.0, 0.0, 0.0, 0.0],\n",
       "   [1.0, 0.0, 1.0, 0.0, 0.0],\n",
       "   [1.0, 0.0, 0.0, 1.0, 0.0],\n",
       "   [2.0, 1.0, 0.0, 0.0, 0.0],\n",
       "   [2.0, 0.0, 1.0, 0.0, 4.7],\n",
       "   [2.0, 0.0, 0.0, 1.0, 0.0],\n",
       "   [3.0, 1.0, 0.0, 0.0, 0.0],\n",
       "   [3.0, 0.0, 1.0, 0.0, -4.7],\n",
       "   [3.0, 0.0, 0.0, 1.0, 0.0]]},\n",
       " 2: {'chains': ['A'],\n",
       "  'matrix': [[1.0, -1.0, 0.0, 0.0, 0.0],\n",
       "   [1.0, 0.0, 1.0, 0.0, 2.35],\n",
       "   [1.0, 0.0, 0.0, -1.0, 0.0],\n",
       "   [2.0, -1.0, 0.0, 0.0, 0.0],\n",
       "   [2.0, 0.0, 1.0, 0.0, 7.05],\n",
       "   [2.0, 0.0, 0.0, -1.0, 0.0],\n",
       "   [3.0, -1.0, 0.0, 0.0, 0.0],\n",
       "   [3.0, 0.0, 1.0, 0.0, -2.35],\n",
       "   [3.0, 0.0, 0.0, -1.0, 0.0]]},\n",
       " 3: {'chains': ['A'],\n",
       "  'matrix': [[1.0, 1.0, 0.0, 0.0, 0.0],\n",
       "   [1.0, 0.0, 1.0, 0.0, 0.0],\n",
       "   [1.0, 0.0, 0.0, 1.0, 0.0]]}}"
      ]
     },
     "execution_count": 128,
     "metadata": {},
     "output_type": "execute_result"
    }
   ],
   "source": [
    "def pdb_parse_transformation(text):\n",
    "    \"\"\"Parse the `REMARK 350   BIOMT` information from a pdb file.\n",
    "\n",
    "    Parameters\n",
    "    ----------\n",
    "    text : str\n",
    "        pdb file\n",
    "\n",
    "    Returns\n",
    "    -------\n",
    "    symetry_dict : dict\n",
    "        symetry information\n",
    "    \"\"\"\n",
    "\n",
    "    transformation_dict = {}\n",
    "\n",
    "    for line in text.split(\"\\n\"):\n",
    "        if line[11:23] == \"BIOMOLECULE:\":\n",
    "            biomol = int(line[24:])\n",
    "            transformation_dict[biomol] = {\"chains\": [], \"matrix\": []}\n",
    "        elif line[34:41] == \"CHAINS:\":\n",
    "            transformation_dict[biomol][\"chains\"] += line[42:].split()\n",
    "        elif line.startswith(\"REMARK 350   BIOMT\"):\n",
    "            transformation_dict[biomol][\"matrix\"] += [\n",
    "                [float(x) for x in line[19:].split()]\n",
    "            ]\n",
    "\n",
    "    return transformation_dict\n",
    "\n",
    "txt = \"\"\"REMARK 350                                                                      \n",
    "REMARK 350 COORDINATES FOR A COMPLETE MULTIMER REPRESENTING THE KNOWN           \n",
    "REMARK 350 BIOLOGICALLY SIGNIFICANT OLIGOMERIZATION STATE OF THE                \n",
    "REMARK 350 MOLECULE CAN BE GENERATED BY APPLYING BIOMT TRANSFORMATIONS          \n",
    "REMARK 350 GIVEN BELOW.  BOTH NON-CRYSTALLOGRAPHIC AND                          \n",
    "REMARK 350 CRYSTALLOGRAPHIC OPERATIONS ARE GIVEN.                               \n",
    "REMARK 350                                                                      \n",
    "REMARK 350 BIOMOLECULE: 1                                                       \n",
    "REMARK 350 AUTHOR DETERMINED BIOLOGICAL UNIT: DIMERIC                           \n",
    "REMARK 350 APPLY THE FOLLOWING TO CHAINS: A                                     \n",
    "REMARK 350   BIOMT1   1  1.000000  0.000000  0.000000        0.00000            \n",
    "REMARK 350   BIOMT2   1  0.000000  1.000000  0.000000        0.00000            \n",
    "REMARK 350   BIOMT3   1  0.000000  0.000000  1.000000        0.00000            \n",
    "REMARK 350   BIOMT1   2  1.000000  0.000000  0.000000        0.94015            \n",
    "REMARK 350   BIOMT2   2  0.000000  1.000000  0.000000        4.78756            \n",
    "REMARK 350   BIOMT3   2  0.000000  0.000000  1.000000        0.00000\"\"\"\n",
    "\n",
    "txt2 = \"\"\"REMARK 350                                                                      \n",
    "REMARK 350 COORDINATES FOR A COMPLETE MULTIMER REPRESENTING THE KNOWN           \n",
    "REMARK 350 BIOLOGICALLY SIGNIFICANT OLIGOMERIZATION STATE OF THE                \n",
    "REMARK 350 MOLECULE CAN BE GENERATED BY APPLYING BIOMT TRANSFORMATIONS          \n",
    "REMARK 350 GIVEN BELOW.  BOTH NON-CRYSTALLOGRAPHIC AND                          \n",
    "REMARK 350 CRYSTALLOGRAPHIC OPERATIONS ARE GIVEN.                               \n",
    "REMARK 350                                                                      \n",
    "REMARK 350 BIOMOLECULE: 1                                                       \n",
    "REMARK 350 AUTHOR DETERMINED BIOLOGICAL UNIT: TRIMERIC                          \n",
    "REMARK 350 APPLY THE FOLLOWING TO CHAINS: A                                     \n",
    "REMARK 350   BIOMT1   1  1.000000  0.000000  0.000000        0.00000            \n",
    "REMARK 350   BIOMT2   1  0.000000  1.000000  0.000000        0.00000            \n",
    "REMARK 350   BIOMT3   1  0.000000  0.000000  1.000000        0.00000            \n",
    "REMARK 350   BIOMT1   2  1.000000  0.000000  0.000000        0.00000            \n",
    "REMARK 350   BIOMT2   2  0.000000  1.000000  0.000000        4.70000            \n",
    "REMARK 350   BIOMT3   2  0.000000  0.000000  1.000000        0.00000            \n",
    "REMARK 350   BIOMT1   3  1.000000  0.000000  0.000000        0.00000            \n",
    "REMARK 350   BIOMT2   3  0.000000  1.000000  0.000000       -4.70000            \n",
    "REMARK 350   BIOMT3   3  0.000000  0.000000  1.000000        0.00000            \n",
    "REMARK 350                                                                      \n",
    "REMARK 350 BIOMOLECULE: 2                                                       \n",
    "REMARK 350 AUTHOR DETERMINED BIOLOGICAL UNIT: TRIMERIC                          \n",
    "REMARK 350 APPLY THE FOLLOWING TO CHAINS: A                                     \n",
    "REMARK 350   BIOMT1   1 -1.000000  0.000000  0.000000        0.00000            \n",
    "REMARK 350   BIOMT2   1  0.000000  1.000000  0.000000        2.35000            \n",
    "REMARK 350   BIOMT3   1  0.000000  0.000000 -1.000000        0.00000            \n",
    "REMARK 350   BIOMT1   2 -1.000000  0.000000  0.000000        0.00000            \n",
    "REMARK 350   BIOMT2   2  0.000000  1.000000  0.000000        7.05000            \n",
    "REMARK 350   BIOMT3   2  0.000000  0.000000 -1.000000        0.00000            \n",
    "REMARK 350   BIOMT1   3 -1.000000  0.000000  0.000000        0.00000            \n",
    "REMARK 350   BIOMT2   3  0.000000  1.000000  0.000000       -2.35000            \n",
    "REMARK 350   BIOMT3   3  0.000000  0.000000 -1.000000        0.00000            \n",
    "REMARK 350                                                                      \n",
    "REMARK 350 BIOMOLECULE: 3                                                       \n",
    "REMARK 350 SOFTWARE DETERMINED QUATERNARY STRUCTURE: MONOMERIC                  \n",
    "REMARK 350 SOFTWARE USED: PISA                                                  \n",
    "REMARK 350 APPLY THE FOLLOWING TO CHAINS: A                                     \n",
    "REMARK 350   BIOMT1   1  1.000000  0.000000  0.000000        0.00000            \n",
    "REMARK 350   BIOMT2   1  0.000000  1.000000  0.000000        0.00000            \n",
    "REMARK 350   BIOMT3   1  0.000000  0.000000  1.000000        0.00000\"\"\"\n",
    "\n",
    "\n",
    "#print(pdb_parse_transformation(txt))\n",
    "pdb_parse_transformation(txt2)\n",
    "#print()\n",
    "#print(pdb_parse_transformation(txt2))"
   ]
  },
  {
   "cell_type": "code",
   "execution_count": 143,
   "metadata": {},
   "outputs": [],
   "source": [
    "\n",
    "def parse_transformation(data_mmCIF):\n",
    "    \"\"\"Parse the `_pdbx_struct_oper_list` information from a mmcif file.\n",
    "\n",
    "    Parameters\n",
    "    ----------\n",
    "    pdbx_struct_oper_list : dict\n",
    "        mmcif file information\n",
    "\n",
    "    Returns\n",
    "    -------\n",
    "    symetry_dict : dict\n",
    "        symetry information\n",
    "    \"\"\"\n",
    "    \n",
    "    matrix_indexes = [\n",
    "        ['id', 'matrix[1][1]', 'matrix[1][2]', 'matrix[1][3]', 'vector[1]'],\n",
    "        ['id', 'matrix[2][1]', 'matrix[2][2]', 'matrix[2][3]', 'vector[2]'],\n",
    "        ['id', 'matrix[3][1]', 'matrix[3][2]', 'matrix[3][3]', 'vector[3]']\n",
    "    ]\n",
    "    transformation_dict = {}\n",
    "    print('_pdbx_struct_assembly_gen', data_mmCIF['_pdbx_struct_assembly_gen'])\n",
    "    print('_pdbx_struct_oper_list', data_mmCIF['_pdbx_struct_oper_list'])\n",
    "\n",
    "\n",
    "    # Extract transformation list:\n",
    "    # Here with only one transformation\n",
    "    if 'asym_id_list' in data_mmCIF['_pdbx_struct_assembly_gen']:\n",
    "        trans_num = 1\n",
    "        chain_list = [\n",
    "            chain.strip() for chain in data_mmCIF['_pdbx_struct_assembly_gen']['asym_id_list'].split(',')\n",
    "        ]\n",
    "        \n",
    "        transformation_dict[1] = {\"chains\": chain_list, \"matrix\": []}\n",
    "\n",
    "        for i in range(len(data_mmCIF['_pdbx_struct_oper_list']['value'][0])):\n",
    "            \n",
    "            for matrix_index in matrix_indexes:\n",
    "                local_matrix = []\n",
    "                for index in matrix_index:\n",
    "                    local_index = data_mmCIF['_pdbx_struct_oper_list']['col_names'].index(index)\n",
    "                    local_matrix.append(float(data_mmCIF['_pdbx_struct_oper_list']['value'][local_index][i]))\n",
    "                transformation_dict[1][\"matrix\"].append(local_matrix)\n",
    "        \n",
    "    # Here with multiple transformation\n",
    "    else:\n",
    "        trans_num = len(data_mmCIF['_pdbx_struct_assembly']['value'][0])\n",
    "        assert trans_num == len(data_mmCIF['_pdbx_struct_assembly_gen']['value'][0])\n",
    "        \n",
    "        chain_index = data_mmCIF['_pdbx_struct_assembly_gen']['col_names'].index('asym_id_list')\n",
    "        local_matrix_index = data_mmCIF['_pdbx_struct_assembly_gen']['col_names'].index('oper_expression')\n",
    "        \n",
    "        for i in range(trans_num):\n",
    "            # Extract chain list and matrix indexes\n",
    "            chain_list = [\n",
    "                chain.strip() for chain in data_mmCIF['_pdbx_struct_assembly_gen']['value'][chain_index][i].split(',')\n",
    "            ]\n",
    "            matrix_index_list = [\n",
    "                chain.strip() for chain in data_mmCIF['_pdbx_struct_assembly_gen']['value'][local_matrix_index][i].split(',')\n",
    "            ]\n",
    "            transformation_dict[i+1] = {\"chains\": chain_list, \"matrix\": []}\n",
    "\n",
    "            # Extract matrix value\n",
    "            for j in range(len(data_mmCIF['_pdbx_struct_oper_list']['value'][0])):\n",
    "                matrix_id = data_mmCIF['_pdbx_struct_oper_list']['value'][0][j]\n",
    "                \n",
    "                if matrix_id in matrix_index_list:\n",
    "                    for matrix_index in matrix_indexes:\n",
    "                        local_matrix = []\n",
    "                        for index in matrix_index:\n",
    "                            local_index = data_mmCIF['_pdbx_struct_oper_list']['col_names'].index(index)\n",
    "                            local_matrix.append(float(data_mmCIF['_pdbx_struct_oper_list']['value'][local_index][j]))\n",
    "                        transformation_dict[i+1][\"matrix\"].append(local_matrix)\n",
    "        \n",
    "    return transformation_dict\n"
   ]
  },
  {
   "cell_type": "code",
   "execution_count": 144,
   "metadata": {},
   "outputs": [
    {
     "name": "stdout",
     "output_type": "stream",
     "text": [
      "_pdbx_struct_assembly_gen {'col_names': ['assembly_id', 'oper_expression', 'asym_id_list'], 'value': [['1', '2', '3'], ['1,2,3', '4,5,6', '1'], ['A,B', 'A,B', 'A,B']]}\n",
      "_pdbx_struct_oper_list {'col_names': ['id', 'type', 'name', 'symmetry_operation', 'matrix[1][1]', 'matrix[1][2]', 'matrix[1][3]', 'vector[1]', 'matrix[2][1]', 'matrix[2][2]', 'matrix[2][3]', 'vector[2]', 'matrix[3][1]', 'matrix[3][2]', 'matrix[3][3]', 'vector[3]'], 'value': [['1', '2', '3', '4', '5', '6'], [\"'identity operation'\", \"'crystal symmetry operation'\", \"'crystal symmetry operation'\", \"'crystal symmetry operation'\", \"'crystal symmetry operation'\", \"'crystal symmetry operation'\"], ['1_555', '1_565', '1_545', '2_555', '2_565', '2_545'], ['x,y,z', 'x,y+1,z', 'x,y-1,z', '-x,y+1/2,-z', '-x,y+3/2,-z', '-x,y-1/2,-z'], ['1.0000000000', '1.0000000000', '1.0000000000', '-1.0000000000', '-1.0000000000', '-1.0000000000'], ['0.0000000000', '0.0000000000', '0.0000000000', '0.0000000000', '0.0000000000', '0.0000000000'], ['0.0000000000', '0.0000000000', '0.0000000000', '0.0000000000', '0.0000000000', '0.0000000000'], ['0.0000000000', '0.0000000000', '0.0000000000', '0.0000000000', '0.0000000000', '0.0000000000'], ['0.0000000000', '0.0000000000', '0.0000000000', '0.0000000000', '0.0000000000', '0.0000000000'], ['1.0000000000', '1.0000000000', '1.0000000000', '1.0000000000', '1.0000000000', '1.0000000000'], ['0.0000000000', '0.0000000000', '0.0000000000', '0.0000000000', '0.0000000000', '0.0000000000'], ['0.0000000000', '4.7000000000', '-4.7000000000', '2.3500000000', '7.0500000000', '-2.3500000000'], ['0.0000000000', '0.0000000000', '0.0000000000', '0.0000000000', '0.0000000000', '0.0000000000'], ['0.0000000000', '0.0000000000', '0.0000000000', '0.0000000000', '0.0000000000', '0.0000000000'], ['1.0000000000', '1.0000000000', '1.0000000000', '-1.0000000000', '-1.0000000000', '-1.0000000000'], ['0.0000000000', '0.0000000000', '0.0000000000', '0.0000000000', '0.0000000000', '0.0000000000']]}\n"
     ]
    },
    {
     "data": {
      "text/plain": [
       "{1: {'chains': ['A', 'B'],\n",
       "  'matrix': [[1.0, 1.0, 0.0, 0.0, 0.0],\n",
       "   [1.0, 0.0, 1.0, 0.0, 0.0],\n",
       "   [1.0, 0.0, 0.0, 1.0, 0.0],\n",
       "   [2.0, 1.0, 0.0, 0.0, 0.0],\n",
       "   [2.0, 0.0, 1.0, 0.0, 4.7],\n",
       "   [2.0, 0.0, 0.0, 1.0, 0.0],\n",
       "   [3.0, 1.0, 0.0, 0.0, 0.0],\n",
       "   [3.0, 0.0, 1.0, 0.0, -4.7],\n",
       "   [3.0, 0.0, 0.0, 1.0, 0.0]]},\n",
       " 2: {'chains': ['A', 'B'],\n",
       "  'matrix': [[4.0, -1.0, 0.0, 0.0, 0.0],\n",
       "   [4.0, 0.0, 1.0, 0.0, 2.35],\n",
       "   [4.0, 0.0, 0.0, -1.0, 0.0],\n",
       "   [5.0, -1.0, 0.0, 0.0, 0.0],\n",
       "   [5.0, 0.0, 1.0, 0.0, 7.05],\n",
       "   [5.0, 0.0, 0.0, -1.0, 0.0],\n",
       "   [6.0, -1.0, 0.0, 0.0, 0.0],\n",
       "   [6.0, 0.0, 1.0, 0.0, -2.35],\n",
       "   [6.0, 0.0, 0.0, -1.0, 0.0]]},\n",
       " 3: {'chains': ['A', 'B'],\n",
       "  'matrix': [[1.0, 1.0, 0.0, 0.0, 0.0],\n",
       "   [1.0, 0.0, 1.0, 0.0, 0.0],\n",
       "   [1.0, 0.0, 0.0, 1.0, 0.0]]}}"
      ]
     },
     "execution_count": 144,
     "metadata": {},
     "output_type": "execute_result"
    }
   ],
   "source": [
    "parse_transformation(test2.data_mmCIF)"
   ]
  },
  {
   "cell_type": "code",
   "execution_count": 145,
   "metadata": {},
   "outputs": [
    {
     "name": "stdout",
     "output_type": "stream",
     "text": [
      "_pdbx_struct_assembly_gen OrderedDict([('assembly_id', '1'), ('oper_expression', '1,2'), ('asym_id_list', 'A,B')])\n",
      "_pdbx_struct_oper_list {'col_names': ['id', 'type', 'name', 'symmetry_operation', 'matrix[1][1]', 'matrix[1][2]', 'matrix[1][3]', 'vector[1]', 'matrix[2][1]', 'matrix[2][2]', 'matrix[2][3]', 'vector[2]', 'matrix[3][1]', 'matrix[3][2]', 'matrix[3][3]', 'vector[3]'], 'value': [['1', '2'], [\"'identity operation'\", \"'crystal symmetry operation'\"], ['1_555', '1_565'], ['x,y,z', 'x,y+1,z'], ['1.0000000000', '1.0000000000'], ['0.0000000000', '0.0000000000'], ['0.0000000000', '0.0000000000'], ['0.0000000000', '0.9401502764'], ['0.0000000000', '0.0000000000'], ['1.0000000000', '1.0000000000'], ['0.0000000000', '0.0000000000'], ['0.0000000000', '4.7875628934'], ['0.0000000000', '0.0000000000'], ['0.0000000000', '0.0000000000'], ['1.0000000000', '1.0000000000'], ['0.0000000000', '0.0000000000']]}\n"
     ]
    },
    {
     "data": {
      "text/plain": [
       "{1: {'chains': ['A', 'B'],\n",
       "  'matrix': [[1.0, 1.0, 0.0, 0.0, 0.0],\n",
       "   [1.0, 0.0, 1.0, 0.0, 0.0],\n",
       "   [1.0, 0.0, 0.0, 1.0, 0.0],\n",
       "   [2.0, 1.0, 0.0, 0.0, 0.9401502764],\n",
       "   [2.0, 0.0, 1.0, 0.0, 4.7875628934],\n",
       "   [2.0, 0.0, 0.0, 1.0, 0.0]]}}"
      ]
     },
     "execution_count": 145,
     "metadata": {},
     "output_type": "execute_result"
    }
   ],
   "source": [
    "parse_transformation(test.data_mmCIF)"
   ]
  },
  {
   "cell_type": "code",
   "execution_count": null,
   "metadata": {},
   "outputs": [],
   "source": [
    "\n",
    "assert test.len == 56\n",
    "# Here there is only identity matrix\n",
    "# as symmetry, so no change is expected\n",
    "test.add_symmetry()\n",
    "assert test.len == 56\n",
    "test.apply_transformation()\n",
    "assert test.len == 112\n",
    "test.copy_box(3, 3, 3)\n",
    "assert test.len == 3024\n",
    "test.compute_chains_CA()\n",
    "test.remove_overlap_chain()\n",
    "assert test.len == 3024\n",
    "\n",
    "test.write(\"test.pdb\", check_file_out=False)\n"
   ]
  },
  {
   "cell_type": "code",
   "execution_count": 3,
   "metadata": {},
   "outputs": [],
   "source": [
    "test.write('tmp.pdb', check_file_out=False)"
   ]
  },
  {
   "cell_type": "code",
   "execution_count": 4,
   "metadata": {},
   "outputs": [],
   "source": [
    "test_2 = Coor('tmp.pdb')\n",
    "test_2.write('tmp2.gro', check_file_out=False)"
   ]
  },
  {
   "cell_type": "code",
   "execution_count": 4,
   "metadata": {},
   "outputs": [
    {
     "name": "stdout",
     "output_type": "stream",
     "text": [
      "Add symmetry 1\n",
      "0\n",
      "1\n",
      "Add transformation 1\n",
      "2\n",
      "Add transformation 2\n"
     ]
    }
   ],
   "source": [
    "test.add_symmetry()\n",
    "test.apply_transformation(index=1)\n",
    "test.compute_chains_CA()\n",
    "test.write_pdb('tmp.pdb', check_file_out=False)"
   ]
  },
  {
   "cell_type": "code",
   "execution_count": 5,
   "metadata": {},
   "outputs": [
    {
     "data": {
      "text/plain": [
       "{'matrix': [[1.0, 1.0, 0.0, 0.0, 0.0],\n",
       "  [1.0, 0.0, 1.0, 0.0, 0.0],\n",
       "  [1.0, 0.0, 0.0, 1.0, 0.0],\n",
       "  [2.0, -1.0, 0.0, 0.0, 0.0],\n",
       "  [2.0, 0.0, 1.0, 0.0, 2.35],\n",
       "  [2.0, 0.0, 0.0, -1.0, 0.0]]}"
      ]
     },
     "execution_count": 5,
     "metadata": {},
     "output_type": "execute_result"
    }
   ],
   "source": [
    "test.symmetry"
   ]
  },
  {
   "cell_type": "code",
   "execution_count": 8,
   "metadata": {},
   "outputs": [
    {
     "data": {
      "text/plain": [
       "[<pdb_numpy.model.Model at 0x7f79dd6fbf50>]"
      ]
     },
     "execution_count": 8,
     "metadata": {},
     "output_type": "execute_result"
    }
   ],
   "source": [
    "test.models"
   ]
  },
  {
   "cell_type": "code",
   "execution_count": 6,
   "metadata": {},
   "outputs": [
    {
     "name": "stdout",
     "output_type": "stream",
     "text": [
      "{1: {'chains': ['A'], 'matrix': [[1.0, 1.0, 0.0, 0.0, 0.0], [1.0, 0.0, 1.0, 0.0, 0.0], [1.0, 0.0, 0.0, 1.0, 0.0], [2.0, 1.0, 0.0, 0.0, 0.0], [2.0, 0.0, 1.0, 0.0, 4.7], [2.0, 0.0, 0.0, 1.0, 0.0], [3.0, 1.0, 0.0, 0.0, 0.0], [3.0, 0.0, 1.0, 0.0, -4.7], [3.0, 0.0, 0.0, 1.0, 0.0]]}, 2: {'chains': ['A'], 'matrix': [[1.0, -1.0, 0.0, 0.0, 0.0], [1.0, 0.0, 1.0, 0.0, 2.35], [1.0, 0.0, 0.0, -1.0, 0.0], [2.0, -1.0, 0.0, 0.0, 0.0], [2.0, 0.0, 1.0, 0.0, 7.05], [2.0, 0.0, 0.0, -1.0, 0.0], [3.0, -1.0, 0.0, 0.0, 0.0], [3.0, 0.0, 1.0, 0.0, -2.35], [3.0, 0.0, 0.0, -1.0, 0.0]]}, 3: {'chains': ['A'], 'matrix': [[1.0, 1.0, 0.0, 0.0, 0.0], [1.0, 0.0, 1.0, 0.0, 0.0], [1.0, 0.0, 0.0, 1.0, 0.0]]}}\n"
     ]
    }
   ],
   "source": [
    "print(test.transformation)"
   ]
  },
  {
   "cell_type": "code",
   "execution_count": 22,
   "metadata": {},
   "outputs": [
    {
     "name": "stdout",
     "output_type": "stream",
     "text": [
      "{1: {'chains': ['A'], 'matrix': [[1.0, 1.0, 0.0, 0.0, 0.0], [1.0, 0.0, 1.0, 0.0, 0.0], [1.0, 0.0, 0.0, 1.0, 0.0], [2.0, 1.0, 0.0, 0.0, 0.0], [2.0, 0.0, 1.0, 0.0, 4.7], [2.0, 0.0, 0.0, 1.0, 0.0], [3.0, 1.0, 0.0, 0.0, 0.0], [3.0, 0.0, 1.0, 0.0, -4.7], [3.0, 0.0, 0.0, 1.0, 0.0]]}, 2: {'chains': ['A'], 'matrix': [[1.0, -1.0, 0.0, 0.0, 0.0], [1.0, 0.0, 1.0, 0.0, 2.35], [1.0, 0.0, 0.0, -1.0, 0.0], [2.0, -1.0, 0.0, 0.0, 0.0], [2.0, 0.0, 1.0, 0.0, 7.05], [2.0, 0.0, 0.0, -1.0, 0.0], [3.0, -1.0, 0.0, 0.0, 0.0], [3.0, 0.0, 1.0, 0.0, -2.35], [3.0, 0.0, 0.0, -1.0, 0.0]]}, 3: {'chains': ['A'], 'matrix': [[1.0, 1.0, 0.0, 0.0, 0.0], [1.0, 0.0, 1.0, 0.0, 0.0], [1.0, 0.0, 0.0, 1.0, 0.0]]}}\n"
     ]
    }
   ],
   "source": [
    "def parse_transformation(text):\n",
    "\n",
    "    transformation_dict = {}\n",
    "\n",
    "    for line in text.split('\\n'):\n",
    "        if line[11:23] == \"BIOMOLECULE:\":\n",
    "            biomol = int(line[24:])\n",
    "            transformation_dict[biomol] = {'chains': [], 'matrix': []}\n",
    "        elif line[34:41] == \"CHAINS:\":\n",
    "            transformation_dict[biomol]['chains'] += line[42:].split()\n",
    "        elif line.startswith('REMARK 350   BIOMT'):\n",
    "            transformation_dict[biomol]['matrix'] += [[float(x) for x in line[19:].split()]]\n",
    "        #print(line, line[34:])\n",
    "    print(transformation_dict)\n",
    "\n",
    "\n",
    "parse_transformation(test.transformation)"
   ]
  },
  {
   "cell_type": "code",
   "execution_count": 34,
   "metadata": {},
   "outputs": [],
   "source": [
    "test.models.append(deepcopy(test.models[0]))\n",
    "test.models.append(deepcopy(test.models[0]))"
   ]
  },
  {
   "cell_type": "code",
   "execution_count": 4,
   "metadata": {},
   "outputs": [
    {
     "name": "stdout",
     "output_type": "stream",
     "text": [
      "[[-1.0 0.0 0.0 0.0]\n",
      " [0.0 1.0 0.0 7.05]\n",
      " [0.0 0.0 -1.0 0.0]]\n",
      "[[-1.0 0.0 0.0 0.0]\n",
      " [0.0 1.0 0.0 -2.35]\n",
      " [0.0 0.0 -1.0 0.0]]\n"
     ]
    }
   ],
   "source": [
    "text = \\\n",
    "\"\"\"REMARK 350   BIOMT1   2 -1.000000  0.000000  0.000000        0.00000            \n",
    "REMARK 350   BIOMT2   2  0.000000  1.000000  0.000000        7.05000            \n",
    "REMARK 350   BIOMT3   2  0.000000  0.000000 -1.000000        0.00000\"\"\"\n",
    "\n",
    "rot_mat = []\n",
    "\n",
    "for line in text.split(\"\\n\"):\n",
    "    rot_mat.append([float(x) for x in line.split()[4:]])\n",
    "\n",
    "rot_mat = np.array(rot_mat, dtype=object)\n",
    "print(rot_mat)\n",
    "\n",
    "text = \\\n",
    "\"\"\"REMARK 350   BIOMT1   3 -1.000000  0.000000  0.000000        0.00000            \n",
    "REMARK 350   BIOMT2   3  0.000000  1.000000  0.000000       -2.35000            \n",
    "REMARK 350   BIOMT3   3  0.000000  0.000000 -1.000000        0.00000\"\"\"\n",
    "\n",
    "rot_mat_2 = []\n",
    "\n",
    "for line in text.split(\"\\n\"):\n",
    "    rot_mat_2.append([float(x) for x in line.split()[4:]])\n",
    "\n",
    "rot_mat_2 = np.array(rot_mat_2, dtype=object)\n",
    "print(rot_mat_2)"
   ]
  },
  {
   "cell_type": "code",
   "execution_count": 21,
   "metadata": {},
   "outputs": [
    {
     "data": {
      "text/plain": [
       "array([[-1.0, 0.0, 0.0],\n",
       "       [0.0, 1.0, 0.0],\n",
       "       [0.0, 0.0, -1.0]], dtype=object)"
      ]
     },
     "execution_count": 21,
     "metadata": {},
     "output_type": "execute_result"
    }
   ],
   "source": [
    "rot_mat[:,:3]"
   ]
  },
  {
   "cell_type": "code",
   "execution_count": 36,
   "metadata": {},
   "outputs": [],
   "source": [
    "test.models[1].xyz = np.dot(test.models[0].xyz, rot_mat[:,:3]) + rot_mat[:,3]\n",
    "test.models[2].xyz = np.dot(test.models[0].xyz, rot_mat_2[:,:3]) + rot_mat_2[:,3]"
   ]
  },
  {
   "cell_type": "code",
   "execution_count": 37,
   "metadata": {},
   "outputs": [],
   "source": [
    "test.merge_model()\n",
    "test.write_pdb('tmp.pdb', check_file_out=False)"
   ]
  },
  {
   "cell_type": "code",
   "execution_count": 25,
   "metadata": {},
   "outputs": [
    {
     "data": {
      "text/plain": [
       "'/home/murail/Documents/Code/pdb_numpy'"
      ]
     },
     "execution_count": 25,
     "metadata": {},
     "output_type": "execute_result"
    }
   ],
   "source": [
    "pwd"
   ]
  },
  {
   "cell_type": "code",
   "execution_count": null,
   "metadata": {},
   "outputs": [],
   "source": []
  }
 ],
 "metadata": {
  "kernelspec": {
   "display_name": "Python 3 (ipykernel)",
   "language": "python",
   "name": "python3"
  },
  "language_info": {
   "codemirror_mode": {
    "name": "ipython",
    "version": 3
   },
   "file_extension": ".py",
   "mimetype": "text/x-python",
   "name": "python",
   "nbconvert_exporter": "python",
   "pygments_lexer": "ipython3",
   "version": "3.7.12"
  },
  "vscode": {
   "interpreter": {
    "hash": "dc5fd0b0b4d49cea06c0f571c9f39583c8bfc63b53b50b04d68f5ab1c4afee79"
   }
  }
 },
 "nbformat": 4,
 "nbformat_minor": 2
}

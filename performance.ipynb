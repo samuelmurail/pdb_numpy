{
 "cells": [
  {
   "cell_type": "code",
   "execution_count": 1,
   "id": "8e8e5f76-d721-40f0-b06e-6dfdd10e4ba9",
   "metadata": {},
   "outputs": [],
   "source": [
    "import os\n",
    "\n",
    "os.sys.path.insert(0, 'src/')\n",
    "import pdb_numpy\n",
    "from pdb_numpy.analysis import compute_pdockQ"
   ]
  },
  {
   "cell_type": "code",
   "execution_count": 2,
   "id": "43bb9547-e3b6-4f30-b3e3-63b05d5a9c10",
   "metadata": {},
   "outputs": [],
   "source": [
    "%load_ext line_profiler"
   ]
  },
  {
   "cell_type": "code",
   "execution_count": 3,
   "id": "3c2e82cc",
   "metadata": {},
   "outputs": [],
   "source": [
    "file = \"src/pdb_numpy/tests/input/1rxz_11587_unrelaxed_rank_001_alphafold2_multimer_v3_model_4_seed_000.pdb\"\n",
    "test = pdb_numpy.Coor(file)\n"
   ]
  },
  {
   "cell_type": "code",
   "execution_count": 4,
   "id": "edf5b6dc",
   "metadata": {},
   "outputs": [
    {
     "name": "stdout",
     "output_type": "stream",
     "text": [
      "13.1 ms ± 137 µs per loop (mean ± std. dev. of 7 runs, 100 loops each)\n"
     ]
    }
   ],
   "source": [
    "%timeit test = pdb_numpy.Coor(file)"
   ]
  },
  {
   "cell_type": "code",
   "execution_count": 5,
   "id": "dd20fde7-20e4-499a-b8e4-d1d71f557bf4",
   "metadata": {},
   "outputs": [
    {
     "name": "stdout",
     "output_type": "stream",
     "text": [
      "83.2 µs ± 911 ns per loop (mean ± std. dev. of 7 runs, 10,000 loops each)\n"
     ]
    }
   ],
   "source": [
    "%timeit test.select_atoms(\"chain A and name CA\")"
   ]
  },
  {
   "cell_type": "code",
   "execution_count": 6,
   "id": "ac72c5d7-5f5f-4b09-9f3a-1c7e9cd4181d",
   "metadata": {},
   "outputs": [],
   "source": [
    "test_2 = test.select_atoms(\"chain A and name CA\")\n",
    "test_2.chain[:] = 'z'"
   ]
  },
  {
   "cell_type": "code",
   "execution_count": 7,
   "id": "2c3be5cc-de26-45c5-a1ac-3d3a2b11729d",
   "metadata": {},
   "outputs": [
    {
     "data": {
      "text/plain": [
       "array(['A', 'B'], dtype='<U2')"
      ]
     },
     "execution_count": 7,
     "metadata": {},
     "output_type": "execute_result"
    }
   ],
   "source": [
    "import numpy as np\n",
    "np.unique(test.chain)"
   ]
  },
  {
   "cell_type": "code",
   "execution_count": 8,
   "id": "4afbe1f7",
   "metadata": {},
   "outputs": [
    {
     "data": {
      "text/plain": [
       "{'A': 'MIDVIMTGELLKTVTRAIVALVSEARIHFLEKGLHSRAVDPANVAMVIVDIPKDSFEVYNIDEEKTIGVDMDRIFDISKSISTKDLVELIVEDESTLKVKFGSVEYKVALIDPSAIRKEPRIPELELPAKIVMDAGEFKKAIAAADKISDQVIFRSDKEGFRIEAKGDVDSIVFHMTETELIEFNGGEARSMFSVDYLKEFCKVAGSGDLLTIHLGTNYPVRLVFELVGGRAKVEYILAPRIESE',\n",
       " 'B': 'KSTQATLERWF'}"
      ]
     },
     "execution_count": 8,
     "metadata": {},
     "output_type": "execute_result"
    }
   ],
   "source": [
    "test.get_aa_seq()"
   ]
  },
  {
   "cell_type": "code",
   "execution_count": 9,
   "id": "9035adf0",
   "metadata": {},
   "outputs": [
    {
     "name": "stdout",
     "output_type": "stream",
     "text": [
      "57.1 ms ± 110 µs per loop (mean ± std. dev. of 7 runs, 10 loops each)\n"
     ]
    }
   ],
   "source": [
    "%timeit test.get_aa_DL_seq()"
   ]
  },
  {
   "cell_type": "code",
   "execution_count": 9,
   "id": "2c1fc548",
   "metadata": {},
   "outputs": [
    {
     "name": "stdout",
     "output_type": "stream",
     "text": [
      "743 µs ± 8.4 µs per loop (mean ± std. dev. of 7 runs, 1,000 loops each)\n"
     ]
    }
   ],
   "source": [
    "%timeit test.get_aa_seq()"
   ]
  },
  {
   "cell_type": "code",
   "execution_count": 1,
   "id": "848e1dad-e6db-4aea-a801-5c4fa8e9eeda",
   "metadata": {},
   "outputs": [],
   "source": [
    "#%lprun -f compute_pdockQ compute_pdockQ(test)"
   ]
  },
  {
   "cell_type": "code",
   "execution_count": 18,
   "id": "e9dd8c6d",
   "metadata": {},
   "outputs": [
    {
     "data": {
      "text/plain": [
       "Timer unit: 1e-09 s\n",
       "\n",
       "Total time: 0.00115216 s\n",
       "File: /home/murail/Documents/Code/pdb_numpy/src/pdb_numpy/model.py\n",
       "Function: simple_select_atoms at line 210\n",
       "\n",
       "Line #      Hits         Time  Per Hit   % Time  Line Contents\n",
       "==============================================================\n",
       "   210                                               def simple_select_atoms(self, column, values, operator=\"==\"):\n",
       "   211                                                   \"\"\"Select atoms from the PDB file based on the selection tokens.\n",
       "   212                                                   Selection tokens are simple selection containing only one\n",
       "   213                                                   keyword, operator, and values.\n",
       "   214                                           \n",
       "   215                                                   The keywords :\n",
       "   216                                           \n",
       "   217                                                   - `\"resname\"`\n",
       "   218                                                   - `\"chain\"`\n",
       "   219                                                   - `\"name\"`\n",
       "   220                                                   - `\"altloc\"`\n",
       "   221                                                   - `\"resid\"`\n",
       "   222                                                   - `\"residue\"`\n",
       "   223                                                   - `\"beta\"`\n",
       "   224                                                   - `\"occupancy\"`\n",
       "   225                                                   - `\"x\"`, `\"y\"`, `\"z\"`.\n",
       "   226                                           \n",
       "   227                                                   The operators are:\n",
       "   228                                           \n",
       "   229                                                   - `\"==\"`\n",
       "   230                                                   - `\"!=\"`\n",
       "   231                                                   - `\">\"`\n",
       "   232                                                   - `\">=\"`\n",
       "   233                                                   - `\"<\"`\n",
       "   234                                                   - `\"<=\"`\n",
       "   235                                                   - `\"isin\"`\n",
       "   236                                           \n",
       "   237                                                   Parameters\n",
       "   238                                                   ----------\n",
       "   239                                                   self : Model\n",
       "   240                                                       Model object\n",
       "   241                                                   column : str\n",
       "   242                                                       Keyword for the selection\n",
       "   243                                                   values : list\n",
       "   244                                                       List of values for the selection\n",
       "   245                                                   operator : str\n",
       "   246                                                       Operator for the selection\n",
       "   247                                                   frame : int\n",
       "   248                                                       Frame number for the selection, default is 0\n",
       "   249                                           \n",
       "   250                                                   Returns\n",
       "   251                                                   -------\n",
       "   252                                                   list\n",
       "   253                                                       a list of boolean values for each atom in the PDB file\n",
       "   254                                                   \"\"\"\n",
       "   255                                           \n",
       "   256         8      16514.0   2064.2      1.4          keyword_dict = {\n",
       "   257         8       9790.0   1223.8      0.8              \"num\": [\"num_resid_uniqresid\", 0],\n",
       "   258         8       6689.0    836.1      0.6              \"resname\": [\"name_resname_elem\", 1],\n",
       "   259         8       4785.0    598.1      0.4              \"chain\": [\"alterloc_chain_insertres\", 1],\n",
       "   260         8       4501.0    562.6      0.4              \"name\": [\"name_resname_elem\", 0],\n",
       "   261         8       4371.0    546.4      0.4              \"altloc\": [\"alterloc_chain_insertres\", 0],\n",
       "   262         8       4582.0    572.8      0.4              \"resid\": [\"num_resid_uniqresid\", 1],\n",
       "   263         8       4392.0    549.0      0.4              \"residue\": [\"num_resid_uniqresid\", 2],\n",
       "   264         8       4451.0    556.4      0.4              \"beta\": [\"occ_beta\", 1],\n",
       "   265         8       4372.0    546.5      0.4              \"occupancy\": [\"occ_beta\", 0],\n",
       "   266         8       4323.0    540.4      0.4              \"x\": [\"xyz\", 0],\n",
       "   267         8       4321.0    540.1      0.4              \"y\": [\"xyz\", 1],\n",
       "   268         8       4775.0    596.9      0.4              \"z\": [\"xyz\", 2],\n",
       "   269                                                   }\n",
       "   270                                           \n",
       "   271         8       8580.0   1072.5      0.7          if column in keyword_dict:\n",
       "   272         8       7507.0    938.4      0.7              col = keyword_dict[column][0]\n",
       "   273         8       6971.0    871.4      0.6              index = keyword_dict[column][1]\n",
       "   274                                                   else:\n",
       "   275                                                       raise ValueError(f\"Column {column} not recognized\")\n",
       "   276                                           \n",
       "   277         8       7429.0    928.6      0.6          if isinstance(values, list):\n",
       "   278         8       6540.0    817.5      0.6              if column in [\"resname\", \"chain\", \"name\", \"altloc\"]:\n",
       "   279         8      66627.0   8328.4      5.8                  values = np.array(values, dtype=\"U\")\n",
       "   280                                                           # deal with case with \"name H*\"\n",
       "   281         8      39445.0   4930.6      3.4                  if len(values) == 1 and values[0][-1] == \"*\":\n",
       "   282                                                               operator = \"startswith\"\n",
       "   283                                                               values = values[0][:-1]\n",
       "   284                                                       elif column in [\"resid\", \"residue\"]:\n",
       "   285                                                           values = np.array(values, dtype=int)\n",
       "   286                                                       elif column in [\"beta\", \"occupancy\", \"x\", \"y\", \"z\"]:\n",
       "   287                                                           values = np.array(values, dtype=float)\n",
       "   288                                                       else:\n",
       "   289                                                           raise ValueError(f\"Column {column} not recognized\")\n",
       "   290         8       6457.0    807.1      0.6              if len(values) > 1 and operator in [\">\", \">=\", \"<\", \"<=\"]:\n",
       "   291                                                           raise ValueError(f\"Wrong operator {operator} with multiple values\")\n",
       "   292         8       5848.0    731.0      0.5              elif len(values) > 1 and operator == \"==\":\n",
       "   293                                                           operator = \"isin\"\n",
       "   294         8       6880.0    860.0      0.6              elif len(values) > 1:\n",
       "   295                                                           raise ValueError(f\"Wrong operator {operator} with multiple values\")\n",
       "   296                                           \n",
       "   297                                                   elif isinstance(values, str):\n",
       "   298                                                       # Remove the \".\" before checking if the string is numeric\n",
       "   299                                                       # Also remove the \"-\" if it is the first character\n",
       "   300                                                       if values.replace(\".\", \"\", 1).lstrip(\"-\").isnumeric():\n",
       "   301                                                           if values.find(\".\") == -1:\n",
       "   302                                                               values = int(values)\n",
       "   303                                                           else:\n",
       "   304                                                               values = float(values)\n",
       "   305                                                       else:\n",
       "   306                                                           values = np.array([values], dtype=\"U\")\n",
       "   307                                           \n",
       "   308         8       5534.0    691.8      0.5          if operator == \"==\":\n",
       "   309         8     901450.0 112681.2     78.2              bool_val = self.atom_dict[col][:, index] == values\n",
       "   310                                                   elif operator == \"!=\":\n",
       "   311                                                       bool_val = self.atom_dict[col][:, index] != values\n",
       "   312                                                   elif operator == \">\":\n",
       "   313                                                       bool_val = self.atom_dict[col][:, index] > values\n",
       "   314                                                   elif operator == \">=\":\n",
       "   315                                                       bool_val = self.atom_dict[col][:, index] >= values\n",
       "   316                                                   elif operator == \"<\":\n",
       "   317                                                       bool_val = self.atom_dict[col][:, index] < values\n",
       "   318                                                   elif operator == \"<=\":\n",
       "   319                                                       bool_val = self.atom_dict[col][:, index] <= values\n",
       "   320                                                   elif operator == \"isin\":\n",
       "   321                                                       bool_val = np.isin(self.atom_dict[col][:, index], (values))\n",
       "   322                                                   elif operator == \"startswith\":\n",
       "   323                                                       bool_val = np.array(\n",
       "   324                                                           [x.startswith(values) for x in self.atom_dict[col][:, index]]\n",
       "   325                                                       )\n",
       "   326                                           \n",
       "   327                                                   else:\n",
       "   328                                                       raise ValueError(f\"Operator {operator} not recognized\")\n",
       "   329                                           \n",
       "   330         8       5025.0    628.1      0.4          return bool_val"
      ]
     },
     "metadata": {},
     "output_type": "display_data"
    }
   ],
   "source": [
    "%lprun -f pdb_numpy.Model.simple_select_atoms compute_pdockQ(test)"
   ]
  },
  {
   "cell_type": "code",
   "execution_count": null,
   "id": "50782981-c9a2-4918-bcf9-08bd9a46a7f5",
   "metadata": {},
   "outputs": [],
   "source": []
  }
 ],
 "metadata": {
  "kernelspec": {
   "display_name": "Python 3 (ipykernel)",
   "language": "python",
   "name": "python3"
  },
  "language_info": {
   "codemirror_mode": {
    "name": "ipython",
    "version": 3
   },
   "file_extension": ".py",
   "mimetype": "text/x-python",
   "name": "python",
   "nbconvert_exporter": "python",
   "pygments_lexer": "ipython3",
   "version": "3.10.13"
  }
 },
 "nbformat": 4,
 "nbformat_minor": 5
}

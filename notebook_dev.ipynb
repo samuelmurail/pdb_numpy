{
 "cells": [
  {
   "cell_type": "code",
   "execution_count": 15,
   "metadata": {},
   "outputs": [],
   "source": [
    "import sys\n",
    "import importlib\n",
    "\n",
    "sys.path.append(\"./src/\")\n",
    "import pdb_numpy"
   ]
  },
  {
   "cell_type": "code",
   "execution_count": 16,
   "metadata": {},
   "outputs": [
    {
     "data": {
      "text/plain": [
       "<module 'pdb_numpy' from './src/pdb_numpy/__init__.py'>"
      ]
     },
     "execution_count": 16,
     "metadata": {},
     "output_type": "execute_result"
    }
   ],
   "source": [
    "importlib.reload(pdb_numpy)"
   ]
  },
  {
   "cell_type": "code",
   "execution_count": 17,
   "metadata": {},
   "outputs": [
    {
     "name": "stdout",
     "output_type": "stream",
     "text": [
      "[<pdb_numpy.model.Model object at 0x7f329e8d2550>, <pdb_numpy.model.Model object at 0x7f329e8c9590>, <pdb_numpy.model.Model object at 0x7f329e8ce5d0>, <pdb_numpy.model.Model object at 0x7f329e8ce610>, <pdb_numpy.model.Model object at 0x7f329e8ce650>, <pdb_numpy.model.Model object at 0x7f329e8ce6d0>, <pdb_numpy.model.Model object at 0x7f329e8ce710>, <pdb_numpy.model.Model object at 0x7f329e8ce750>, <pdb_numpy.model.Model object at 0x7f329e8ce790>, <pdb_numpy.model.Model object at 0x7f329e8ce150>, <pdb_numpy.model.Model object at 0x7f329e8ce7d0>, <pdb_numpy.model.Model object at 0x7f329e8ce810>, <pdb_numpy.model.Model object at 0x7f329e8ce850>, <pdb_numpy.model.Model object at 0x7f329e8ce890>, <pdb_numpy.model.Model object at 0x7f329e8ce8d0>, <pdb_numpy.model.Model object at 0x7f329e8ce910>, <pdb_numpy.model.Model object at 0x7f329e8ce950>, <pdb_numpy.model.Model object at 0x7f329e8ce990>, <pdb_numpy.model.Model object at 0x7f329e8c9f90>, <pdb_numpy.model.Model object at 0x7f329e8c9d10>]\n"
     ]
    }
   ],
   "source": [
    "test = pdb_numpy.Coor('./src/pdb_numpy/tests/input/2rri.pdb')"
   ]
  },
  {
   "cell_type": "code",
   "execution_count": 18,
   "metadata": {},
   "outputs": [
    {
     "data": {
      "text/plain": [
       "'CRYST1    1.000    1.000    1.000  90.00  90.00  90.00 P 1           1          \\n'"
      ]
     },
     "execution_count": 18,
     "metadata": {},
     "output_type": "execute_result"
    }
   ],
   "source": [
    "test.crystal_pack"
   ]
  },
  {
   "cell_type": "code",
   "execution_count": 19,
   "metadata": {},
   "outputs": [
    {
     "data": {
      "text/plain": [
       "array([b'HIS', b'HIS', b'HIS', b'HIS', b'HIS', b'HIS', b'HIS', b'HIS',\n",
       "       b'HIS', b'HIS', b'HIS', b'HIS', b'HIS', b'HIS', b'HIS', b'HIS',\n",
       "       b'HIS', b'HIS', b'SER', b'SER', b'SER', b'SER', b'SER', b'SER',\n",
       "       b'SER', b'SER', b'SER', b'SER', b'SER', b'ASP', b'ASP', b'ASP',\n",
       "       b'ASP', b'ASP', b'ASP', b'ASP', b'ASP', b'ASP', b'ASP', b'ASP',\n",
       "       b'ASP', b'ALA', b'ALA', b'ALA', b'ALA', b'ALA', b'ALA', b'ALA',\n",
       "       b'ALA', b'ALA', b'ALA', b'VAL', b'VAL', b'VAL', b'VAL', b'VAL',\n",
       "       b'VAL', b'VAL', b'VAL', b'VAL', b'VAL', b'VAL', b'VAL', b'VAL',\n",
       "       b'VAL', b'VAL', b'VAL', b'PHE', b'PHE', b'PHE', b'PHE', b'PHE',\n",
       "       b'PHE', b'PHE', b'PHE', b'PHE', b'PHE', b'PHE', b'PHE', b'PHE',\n",
       "       b'PHE', b'PHE', b'PHE', b'PHE', b'PHE', b'PHE', b'PHE', b'THR',\n",
       "       b'THR', b'THR', b'THR', b'THR', b'THR', b'THR', b'THR', b'THR',\n",
       "       b'THR', b'THR', b'THR', b'THR', b'THR', b'ASP', b'ASP', b'ASP',\n",
       "       b'ASP', b'ASP', b'ASP', b'ASP', b'ASP', b'ASP', b'ASP', b'ASP',\n",
       "       b'ASP', b'ASN', b'ASN', b'ASN', b'ASN', b'ASN', b'ASN', b'ASN',\n",
       "       b'ASN', b'ASN', b'ASN', b'ASN', b'ASN', b'ASN', b'ASN', b'TYR',\n",
       "       b'TYR', b'TYR', b'TYR', b'TYR', b'TYR', b'TYR', b'TYR', b'TYR',\n",
       "       b'TYR', b'TYR', b'TYR', b'TYR', b'TYR', b'TYR', b'TYR', b'TYR',\n",
       "       b'TYR', b'TYR', b'TYR', b'TYR', b'THR', b'THR', b'THR', b'THR',\n",
       "       b'THR', b'THR', b'THR', b'THR', b'THR', b'THR', b'THR', b'THR',\n",
       "       b'THR', b'THR', b'ARG', b'ARG', b'ARG', b'ARG', b'ARG', b'ARG',\n",
       "       b'ARG', b'ARG', b'ARG', b'ARG', b'ARG', b'ARG', b'ARG', b'ARG',\n",
       "       b'ARG', b'ARG', b'ARG', b'ARG', b'ARG', b'ARG', b'ARG', b'ARG',\n",
       "       b'ARG', b'ARG', b'LEU', b'LEU', b'LEU', b'LEU', b'LEU', b'LEU',\n",
       "       b'LEU', b'LEU', b'LEU', b'LEU', b'LEU', b'LEU', b'LEU', b'LEU',\n",
       "       b'LEU', b'LEU', b'LEU', b'LEU', b'LEU', b'ARG', b'ARG', b'ARG',\n",
       "       b'ARG', b'ARG', b'ARG', b'ARG', b'ARG', b'ARG', b'ARG', b'ARG',\n",
       "       b'ARG', b'ARG', b'ARG', b'ARG', b'ARG', b'ARG', b'ARG', b'ARG',\n",
       "       b'ARG', b'ARG', b'ARG', b'ARG', b'ARG', b'LYS', b'LYS', b'LYS',\n",
       "       b'LYS', b'LYS', b'LYS', b'LYS', b'LYS', b'LYS', b'LYS', b'LYS',\n",
       "       b'LYS', b'LYS', b'LYS', b'LYS', b'LYS', b'LYS', b'LYS', b'LYS',\n",
       "       b'LYS', b'LYS', b'LYS', b'GLN', b'GLN', b'GLN', b'GLN', b'GLN',\n",
       "       b'GLN', b'GLN', b'GLN', b'GLN', b'GLN', b'GLN', b'GLN', b'GLN',\n",
       "       b'GLN', b'GLN', b'GLN', b'GLN', b'MET', b'MET', b'MET', b'MET',\n",
       "       b'MET', b'MET', b'MET', b'MET', b'MET', b'MET', b'MET', b'MET',\n",
       "       b'MET', b'MET', b'MET', b'MET', b'MET', b'ALA', b'ALA', b'ALA',\n",
       "       b'ALA', b'ALA', b'ALA', b'ALA', b'ALA', b'ALA', b'ALA', b'VAL',\n",
       "       b'VAL', b'VAL', b'VAL', b'VAL', b'VAL', b'VAL', b'VAL', b'VAL',\n",
       "       b'VAL', b'VAL', b'VAL', b'VAL', b'VAL', b'VAL', b'VAL', b'LYS',\n",
       "       b'LYS', b'LYS', b'LYS', b'LYS', b'LYS', b'LYS', b'LYS', b'LYS',\n",
       "       b'LYS', b'LYS', b'LYS', b'LYS', b'LYS', b'LYS', b'LYS', b'LYS',\n",
       "       b'LYS', b'LYS', b'LYS', b'LYS', b'LYS', b'LYS', b'LYS', b'LYS',\n",
       "       b'LYS', b'LYS', b'LYS', b'LYS', b'LYS', b'LYS', b'LYS', b'LYS',\n",
       "       b'LYS', b'LYS', b'LYS', b'LYS', b'LYS', b'LYS', b'LYS', b'LYS',\n",
       "       b'LYS', b'LYS', b'LYS', b'TYR', b'TYR', b'TYR', b'TYR', b'TYR',\n",
       "       b'TYR', b'TYR', b'TYR', b'TYR', b'TYR', b'TYR', b'TYR', b'TYR',\n",
       "       b'TYR', b'TYR', b'TYR', b'TYR', b'TYR', b'TYR', b'TYR', b'TYR',\n",
       "       b'LEU', b'LEU', b'LEU', b'LEU', b'LEU', b'LEU', b'LEU', b'LEU',\n",
       "       b'LEU', b'LEU', b'LEU', b'LEU', b'LEU', b'LEU', b'LEU', b'LEU',\n",
       "       b'LEU', b'LEU', b'LEU', b'ASN', b'ASN', b'ASN', b'ASN', b'ASN',\n",
       "       b'ASN', b'ASN', b'ASN', b'ASN', b'ASN', b'ASN', b'ASN', b'ASN',\n",
       "       b'ASN', b'SER', b'SER', b'SER', b'SER', b'SER', b'SER', b'SER',\n",
       "       b'SER', b'SER', b'SER', b'SER', b'ILE', b'ILE', b'ILE', b'ILE',\n",
       "       b'ILE', b'ILE', b'ILE', b'ILE', b'ILE', b'ILE', b'ILE', b'ILE',\n",
       "       b'ILE', b'ILE', b'ILE', b'ILE', b'ILE', b'ILE', b'ILE', b'LEU',\n",
       "       b'LEU', b'LEU', b'LEU', b'LEU', b'LEU', b'LEU', b'LEU', b'LEU',\n",
       "       b'LEU', b'LEU', b'LEU', b'LEU', b'LEU', b'LEU', b'LEU', b'LEU',\n",
       "       b'LEU', b'LEU', b'ASN', b'ASN', b'ASN', b'ASN', b'ASN', b'ASN',\n",
       "       b'ASN', b'ASN', b'ASN', b'ASN', b'ASN', b'ASN', b'ASN', b'ASN',\n",
       "       b'GLY', b'GLY', b'GLY', b'GLY', b'GLY', b'GLY', b'GLY'],\n",
       "      dtype='|S4')"
      ]
     },
     "execution_count": 19,
     "metadata": {},
     "output_type": "execute_result"
    }
   ],
   "source": [
    "test.model[0].resname"
   ]
  },
  {
   "cell_type": "code",
   "execution_count": 20,
   "metadata": {},
   "outputs": [
    {
     "name": "stdout",
     "output_type": "stream",
     "text": [
      "[<pdb_numpy.model.Model object at 0x7f329e94b650>, <pdb_numpy.model.Model object at 0x7f329e9baad0>, <pdb_numpy.model.Model object at 0x7f329e9486d0>, <pdb_numpy.model.Model object at 0x7f329e994290>, <pdb_numpy.model.Model object at 0x7f329e949750>, <pdb_numpy.model.Model object at 0x7f329e9bcc10>, <pdb_numpy.model.Model object at 0x7f329e947810>, <pdb_numpy.model.Model object at 0x7f329e9c0d50>, <pdb_numpy.model.Model object at 0x7f329e9c2d50>, <pdb_numpy.model.Model object at 0x7f329e9bdd50>, <pdb_numpy.model.Model object at 0x7f329e9a4e10>, <pdb_numpy.model.Model object at 0x7f329e9b7e50>, <pdb_numpy.model.Model object at 0x7f329e991950>, <pdb_numpy.model.Model object at 0x7f329e999990>, <pdb_numpy.model.Model object at 0x7f329e9999d0>, <pdb_numpy.model.Model object at 0x7f329e999a10>, <pdb_numpy.model.Model object at 0x7f329e999a50>, <pdb_numpy.model.Model object at 0x7f329e999a90>, <pdb_numpy.model.Model object at 0x7f329e999ad0>, <pdb_numpy.model.Model object at 0x7f329e999b10>]\n",
      "[<pdb_numpy.model.Model object at 0x7f329e94b650>, <pdb_numpy.model.Model object at 0x7f329e9baad0>, <pdb_numpy.model.Model object at 0x7f329e9486d0>, <pdb_numpy.model.Model object at 0x7f329e994290>, <pdb_numpy.model.Model object at 0x7f329e949750>, <pdb_numpy.model.Model object at 0x7f329e9bcc10>, <pdb_numpy.model.Model object at 0x7f329e947810>, <pdb_numpy.model.Model object at 0x7f329e9c0d50>, <pdb_numpy.model.Model object at 0x7f329e9c2d50>, <pdb_numpy.model.Model object at 0x7f329e9bdd50>, <pdb_numpy.model.Model object at 0x7f329e9a4e10>, <pdb_numpy.model.Model object at 0x7f329e9b7e50>, <pdb_numpy.model.Model object at 0x7f329e991950>, <pdb_numpy.model.Model object at 0x7f329e999990>, <pdb_numpy.model.Model object at 0x7f329e9999d0>, <pdb_numpy.model.Model object at 0x7f329e999a10>, <pdb_numpy.model.Model object at 0x7f329e999a50>, <pdb_numpy.model.Model object at 0x7f329e999a90>, <pdb_numpy.model.Model object at 0x7f329e999ad0>, <pdb_numpy.model.Model object at 0x7f329e999b10>]\n",
      "479\n",
      "[<pdb_numpy.model.Model object at 0x7f329e94b650>, <pdb_numpy.model.Model object at 0x7f329e9baad0>, <pdb_numpy.model.Model object at 0x7f329e9486d0>, <pdb_numpy.model.Model object at 0x7f329e994290>, <pdb_numpy.model.Model object at 0x7f329e949750>, <pdb_numpy.model.Model object at 0x7f329e9bcc10>, <pdb_numpy.model.Model object at 0x7f329e947810>, <pdb_numpy.model.Model object at 0x7f329e9c0d50>, <pdb_numpy.model.Model object at 0x7f329e9c2d50>, <pdb_numpy.model.Model object at 0x7f329e9bdd50>, <pdb_numpy.model.Model object at 0x7f329e9a4e10>, <pdb_numpy.model.Model object at 0x7f329e9b7e50>, <pdb_numpy.model.Model object at 0x7f329e991950>, <pdb_numpy.model.Model object at 0x7f329e999990>, <pdb_numpy.model.Model object at 0x7f329e9999d0>, <pdb_numpy.model.Model object at 0x7f329e999a10>, <pdb_numpy.model.Model object at 0x7f329e999a50>, <pdb_numpy.model.Model object at 0x7f329e999a90>, <pdb_numpy.model.Model object at 0x7f329e999ad0>, <pdb_numpy.model.Model object at 0x7f329e999b10>]\n"
     ]
    },
    {
     "ename": "AssertionError",
     "evalue": "",
     "output_type": "error",
     "traceback": [
      "\u001b[0;31m---------------------------------------------------------------------------\u001b[0m",
      "\u001b[0;31mAssertionError\u001b[0m                            Traceback (most recent call last)",
      "\u001b[0;32m/tmp/ipykernel_131381/3647270700.py\u001b[0m in \u001b[0;36m<module>\u001b[0;34m\u001b[0m\n\u001b[1;32m      1\u001b[0m \u001b[0mtest\u001b[0m \u001b[0;34m=\u001b[0m \u001b[0mpdb_numpy\u001b[0m\u001b[0;34m.\u001b[0m\u001b[0mCoor\u001b[0m\u001b[0;34m(\u001b[0m\u001b[0;34m'./src/pdb_numpy/tests/input/2rri.pdb'\u001b[0m\u001b[0;34m)\u001b[0m\u001b[0;34m\u001b[0m\u001b[0;34m\u001b[0m\u001b[0m\n\u001b[1;32m      2\u001b[0m \u001b[0mprint\u001b[0m\u001b[0;34m(\u001b[0m\u001b[0mtest\u001b[0m\u001b[0;34m.\u001b[0m\u001b[0mlen\u001b[0m\u001b[0;34m)\u001b[0m\u001b[0;34m\u001b[0m\u001b[0;34m\u001b[0m\u001b[0m\n\u001b[0;32m----> 3\u001b[0;31m \u001b[0;32massert\u001b[0m \u001b[0mtest\u001b[0m\u001b[0;34m.\u001b[0m\u001b[0mlen\u001b[0m \u001b[0;34m==\u001b[0m \u001b[0;36m9580\u001b[0m\u001b[0;34m\u001b[0m\u001b[0;34m\u001b[0m\u001b[0m\n\u001b[0m\u001b[1;32m      4\u001b[0m \u001b[0;34m\u001b[0m\u001b[0m\n\u001b[1;32m      5\u001b[0m \u001b[0mtest_CA\u001b[0m \u001b[0;34m=\u001b[0m \u001b[0mtest\u001b[0m\u001b[0;34m.\u001b[0m\u001b[0mselect_atoms\u001b[0m\u001b[0;34m(\u001b[0m\u001b[0;34m\"name CA\"\u001b[0m\u001b[0;34m)\u001b[0m\u001b[0;34m\u001b[0m\u001b[0;34m\u001b[0m\u001b[0m\n",
      "\u001b[0;31mAssertionError\u001b[0m: "
     ]
    }
   ],
   "source": [
    "test = pdb_numpy.Coor('./src/pdb_numpy/tests/input/2rri.pdb')\n",
    "print(test.len)\n",
    "assert test.len == 9580\n",
    "\n",
    "test_CA = test.select_atoms(\"name CA\")\n",
    "print(test_CA.len)\n",
    "assert test_CA.len == 61"
   ]
  },
  {
   "cell_type": "code",
   "execution_count": 11,
   "metadata": {},
   "outputs": [
    {
     "data": {
      "text/plain": [
       "array([791, 792, 793, 794, 795, 796, 797, 798, 799, 800, 801, 802, 803,\n",
       "       804, 805, 806, 807, 808, 809, 810, 811, 812, 813, 814, 815, 816,\n",
       "       817, 818, 819, 820, 821, 822, 823, 824, 825, 826, 827, 828, 829,\n",
       "       830, 831, 832, 833, 834, 835, 836, 837, 838, 839, 840, 841, 842,\n",
       "       843, 844, 845, 846, 847, 848, 849, 850, 851])"
      ]
     },
     "execution_count": 11,
     "metadata": {},
     "output_type": "execute_result"
    }
   ],
   "source": [
    "test_CA.res_num"
   ]
  },
  {
   "cell_type": "code",
   "execution_count": null,
   "metadata": {},
   "outputs": [],
   "source": []
  }
 ],
 "metadata": {
  "kernelspec": {
   "display_name": "docking",
   "language": "python",
   "name": "python3"
  },
  "language_info": {
   "codemirror_mode": {
    "name": "ipython",
    "version": 3
   },
   "file_extension": ".py",
   "mimetype": "text/x-python",
   "name": "python",
   "nbconvert_exporter": "python",
   "pygments_lexer": "ipython3",
   "version": "3.7.12"
  },
  "orig_nbformat": 4,
  "vscode": {
   "interpreter": {
    "hash": "dc5fd0b0b4d49cea06c0f571c9f39583c8bfc63b53b50b04d68f5ab1c4afee79"
   }
  }
 },
 "nbformat": 4,
 "nbformat_minor": 2
}

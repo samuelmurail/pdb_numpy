{
 "cells": [
  {
   "cell_type": "code",
   "execution_count": 5,
   "id": "8e8e5f76-d721-40f0-b06e-6dfdd10e4ba9",
   "metadata": {},
   "outputs": [],
   "source": [
    "import os\n",
    "\n",
    "os.sys.path.insert(0, 'src/')\n",
    "import pdb_numpy\n",
    "from pdb_numpy.analysis import compute_pdockQ"
   ]
  },
  {
   "cell_type": "code",
   "execution_count": 6,
   "id": "43bb9547-e3b6-4f30-b3e3-63b05d5a9c10",
   "metadata": {},
   "outputs": [
    {
     "name": "stdout",
     "output_type": "stream",
     "text": [
      "The line_profiler extension is already loaded. To reload it, use:\n",
      "  %reload_ext line_profiler\n"
     ]
    }
   ],
   "source": [
    "%load_ext line_profiler"
   ]
  },
  {
   "cell_type": "code",
   "execution_count": 7,
   "id": "3c2e82cc",
   "metadata": {},
   "outputs": [],
   "source": [
    "file = \"src/pdb_numpy/tests/input/1rxz_11587_unrelaxed_rank_001_alphafold2_multimer_v3_model_4_seed_000.pdb\"\n",
    "test = pdb_numpy.Coor(file)\n"
   ]
  },
  {
   "cell_type": "code",
   "execution_count": 8,
   "id": "edf5b6dc",
   "metadata": {},
   "outputs": [
    {
     "name": "stdout",
     "output_type": "stream",
     "text": [
      "13.1 ms ± 202 µs per loop (mean ± std. dev. of 7 runs, 100 loops each)\n"
     ]
    }
   ],
   "source": [
    "%timeit test = pdb_numpy.Coor(file)"
   ]
  },
  {
   "cell_type": "code",
   "execution_count": 19,
   "id": "ad848503-a48c-4276-bbfb-21b4feb6a8d4",
   "metadata": {},
   "outputs": [
    {
     "data": {
      "text/plain": [
       "Timer unit: 1e-09 s\n",
       "\n",
       "Total time: 0.0442948 s\n",
       "File: /home/murail/Documents/Code/pdb_numpy/src/pdb_numpy/format/pdb.py\n",
       "Function: parse at line 22\n",
       "\n",
       "Line #      Hits         Time  Per Hit   % Time  Line Contents\n",
       "==============================================================\n",
       "    22                                           def parse(pdb_lines, pqr_format=False):\n",
       "    23                                               \"\"\"Parse the pdb lines and return atom information's as a dictionary\n",
       "    24                                           \n",
       "    25                                               Parameters\n",
       "    26                                               ----------\n",
       "    27                                               pdb_lines : list\n",
       "    28                                                   list of pdb lines\n",
       "    29                                               pqr_format : bool, optional\n",
       "    30                                                   if True, parse pqr format, by default False\n",
       "    31                                           \n",
       "    32                                               Returns\n",
       "    33                                               -------\n",
       "    34                                               Coor\n",
       "    35                                                   Coor object\n",
       "    36                                           \n",
       "    37                                               \"\"\"\n",
       "    38                                           \n",
       "    39         1      13026.0  13026.0      0.0      pdb_coor = coor.Coor()\n",
       "    40                                           \n",
       "    41                                               # To parse hexadecimal resid:\n",
       "    42         1        831.0    831.0      0.0      resid_base = 10\n",
       "    43                                           \n",
       "    44         1        577.0    577.0      0.0      atom_index = 0\n",
       "    45         1        565.0    565.0      0.0      uniq_resid = -1\n",
       "    46         1       3268.0   3268.0      0.0      old_resid = -np.inf\n",
       "    47         1        662.0    662.0      0.0      old_insert_res = \" \"\n",
       "    48         1        797.0    797.0      0.0      model_num = 1\n",
       "    49                                           \n",
       "    50         1        906.0    906.0      0.0      index_list = []\n",
       "    51         1        774.0    774.0      0.0      field_list = []  # 6 char\n",
       "    52         1       1079.0   1079.0      0.0      num_resid_uniqresid_list = []  # int 5 digits (+1 with Chimera)\n",
       "    53         1        592.0    592.0      0.0      alter_chain_insert_list = []  # 1 char\n",
       "    54         1        710.0    710.0      0.0      name_resname_elem_list = []  # 4 / 3 char (+1 with Chimera) = 4\n",
       "    55         1        676.0    676.0      0.0      xyz_list = []  # real (8.3)\n",
       "    56         1        925.0    925.0      0.0      occ_beta_list = []  # real (6.2)\n",
       "    57                                           \n",
       "    58         1        697.0    697.0      0.0      transformation = \"\"\n",
       "    59         1        972.0    972.0      0.0      symmetry = \"\"\n",
       "    60                                           \n",
       "    61      2017     597564.0    296.3      1.3      for line in pdb_lines:\n",
       "    62      2016     930353.0    461.5      2.1          if line.startswith(\"CRYST1\"):\n",
       "    63                                                       pdb_coor.crystal_pack = line\n",
       "    64      2016     889519.0    441.2      2.0          elif line.startswith(\"REMARK 350 \"):\n",
       "    65                                                       transformation += line\n",
       "    66      2016     875838.0    434.4      2.0          elif line.startswith(\"REMARK 290 \"):\n",
       "    67                                                       symmetry += line\n",
       "    68      2016     871600.0    432.3      2.0          elif line.startswith(\"MODEL\"):\n",
       "    69                                                       # print('Read Model {}'.format(model_num))\n",
       "    70         1       1923.0   1923.0      0.0              model_num += 1\n",
       "    71      2015    1676629.0    832.1      3.8          elif line.startswith(\"ENDMDL\") or line.startswith(\"END\"):\n",
       "    72         2       2969.0   1484.5      0.0              if len(field_list) > 0:\n",
       "    73         1       5487.0   5487.0      0.0                  local_model = Model()\n",
       "    74         1       4002.0   4002.0      0.0                  local_model.atom_dict = {\n",
       "    75         1     183274.0 183274.0      0.4                      \"field\": np.array(field_list, dtype=\"|U1\"),\n",
       "    76         2     831546.0 415773.0      1.9                      \"num_resid_uniqresid\": np.array(\n",
       "    77         1        508.0    508.0      0.0                          num_resid_uniqresid_list, dtype=\"int32\"\n",
       "    78                                                               ),\n",
       "    79         1    1073334.0    1e+06      2.4                      \"name_resname_elem\": np.array(name_resname_elem_list, dtype=\"|U4\"),\n",
       "    80         2     967908.0 483954.0      2.2                      \"alterloc_chain_insertres\": np.array(\n",
       "    81         1        302.0    302.0      0.0                          alter_chain_insert_list, dtype=\"|U2\"\n",
       "    82                                                               ),\n",
       "    83         1     728138.0 728138.0      1.6                      \"xyz\": np.array(xyz_list, dtype=\"float32\"),\n",
       "    84         1     590075.0 590075.0      1.3                      \"occ_beta\": np.array(occ_beta_list, dtype=\"float32\"),\n",
       "    85                                                           }\n",
       "    86                                                           if (\n",
       "    87         1       1820.0   1820.0      0.0                      len(pdb_coor.models) > 1\n",
       "    88                                                               and local_model.len != pdb_coor.models[-1].len\n",
       "    89                                                           ):\n",
       "    90                                                               logger.warning(\n",
       "    91                                                                   f\"The atom number is not the same in the model {len(pdb_coor.models)-1} and the model {len(pdb_coor.models)}.\"\n",
       "    92                                                                   \"\\nSkip this model.\"\n",
       "    93                                                               )\n",
       "    94                                                           else:\n",
       "    95         1       1381.0   1381.0      0.0                      pdb_coor.models.append(local_model)\n",
       "    96         1        423.0    423.0      0.0                  atom_index = 0\n",
       "    97         1        307.0    307.0      0.0                  uniq_resid = -1\n",
       "    98         1       2342.0   2342.0      0.0                  old_resid = -np.inf\n",
       "    99         1        427.0    427.0      0.0                  old_insert_res = \" \"\n",
       "   100         1        296.0    296.0      0.0                  model_num = 1\n",
       "   101         1      18994.0  18994.0      0.0                  index_list = []\n",
       "   102         1       4276.0   4276.0      0.0                  field_list = []  # 6 char\n",
       "   103         1      94886.0  94886.0      0.2                  num_resid_uniqresid_list = []  # int 5 digits (+1 with Chimera)\n",
       "   104         1      80874.0  80874.0      0.2                  alter_chain_insert_list = []  # 1 char\n",
       "   105         1     127406.0 127406.0      0.3                  name_resname_elem_list = []  # 4 / 3 char (+1 with Chimera) = 4\n",
       "   106         1     123240.0 123240.0      0.3                  xyz_list = []  # real (8.3)\n",
       "   107         1     113333.0 113333.0      0.3                  occ_beta_list = []  # real (6.2)\n",
       "   108      2013     931501.0    462.7      2.1          elif line.startswith(\"ATOM\") or line.startswith(\"HETATM\"):\n",
       "   109      2011    1117449.0    555.7      2.5              field = line[:6].strip()\n",
       "   110      2011    3808721.0   1893.9      8.6              atom_num = encode.hy36decode(5, line[6:11])\n",
       "   111      2011    1072624.0    533.4      2.4              atom_name = line[12:16].strip()\n",
       "   112      2011     926798.0    460.9      2.1              res_name = line[17:20].strip()\n",
       "   113      2011     551629.0    274.3      1.2              chain = line[21]\n",
       "   114                                                       # To parse hexadecimal resid:\n",
       "   115      2011    3609049.0   1794.7      8.1              resid = encode.hy36decode(4, line[22:26])\n",
       "   116                                                       # If resid is hexadecimal, resid_base is set to 16\n",
       "   117      2011     568963.0    282.9      1.3              if resid >= 9999:\n",
       "   118                                                           resid_base = 16\n",
       "   119      2011    1094269.0    544.1      2.5              insert_res = line[26:27].strip()\n",
       "   120      2011    2713509.0   1349.3      6.1              xyz = [float(line[30:38]), float(line[38:46]), float(line[46:54])]\n",
       "   121      2011     499187.0    248.2      1.1              if pqr_format:\n",
       "   122                                                           alter_loc = \"\"\n",
       "   123                                                           res_name = line[16:20].strip()\n",
       "   124                                                           occ, beta = line[54:62].strip(), line[62:70].strip()\n",
       "   125                                                           elem_symbol = \"\"\n",
       "   126                                                       else:\n",
       "   127      2011     887851.0    441.5      2.0                  alter_loc = line[16:17].strip()\n",
       "   128      2011    1095009.0    544.5      2.5                  res_name = line[17:21].strip()\n",
       "   129      2011    1735396.0    863.0      3.9                  occ, beta = line[54:60].strip(), line[60:66].strip()\n",
       "   130      2011     958881.0    476.8      2.2                  elem_symbol = line[76:78].strip()\n",
       "   131      2011     557054.0    277.0      1.3              if occ == \"\":\n",
       "   132                                                           occ = 0.0\n",
       "   133                                                       else:\n",
       "   134      2011     818666.0    407.1      1.8                  occ = float(occ)\n",
       "   135      2011     533311.0    265.2      1.2              if beta == \"\":\n",
       "   136                                                           beta = 0.0\n",
       "   137                                                       else:\n",
       "   138      2011     816352.0    405.9      1.8                  beta = float(beta)\n",
       "   139      2011     721622.0    358.8      1.6              if resid != old_resid or insert_res != old_insert_res:\n",
       "   140       256      73240.0    286.1      0.2                  uniq_resid += 1\n",
       "   141       256      53856.0    210.4      0.1                  old_resid = resid\n",
       "   142       256      54464.0    212.8      0.1                  old_insert_res = insert_res\n",
       "   143      2011     946238.0    470.5      2.1              field_list.append(field[0])\n",
       "   144      2011     911828.0    453.4      2.1              num_resid_uniqresid_list.append([atom_num, resid, uniq_resid])\n",
       "   145      2011     744862.0    370.4      1.7              index_list.append(atom_index)\n",
       "   146      2011    1727738.0    859.1      3.9              name_resname_elem_list.append([atom_name, res_name, elem_symbol])\n",
       "   147      2011     862088.0    428.7      1.9              alter_chain_insert_list.append([alter_loc, chain, insert_res])\n",
       "   148      2011     708522.0    352.3      1.6              xyz_list.append(xyz)\n",
       "   149      2011     856524.0    425.9      1.9              occ_beta_list.append([occ, beta])\n",
       "   150      2011    1507259.0    749.5      3.4              atom_index += 1\n",
       "   151                                           \n",
       "   152         1       1197.0   1197.0      0.0      if len(field_list) > 0:\n",
       "   153                                                   logger.warning(\"No ENDMDL in the pdb file.\")\n",
       "   154                                                   local_model = Model()\n",
       "   155                                                   local_model.atom_dict = {\n",
       "   156                                                       \"field\": np.array(field_list, dtype=\"|U1\"),\n",
       "   157                                                       \"num_resid_uniqresid\": np.array(num_resid_uniqresid_list, dtype=\"int32\"),\n",
       "   158                                                       \"name_resname_elem\": np.array(name_resname_elem_list, dtype=\"|U4\"),\n",
       "   159                                                       \"alterloc_chain_insertres\": np.array(alter_chain_insert_list, dtype=\"|U2\"),\n",
       "   160                                                       \"xyz\": np.array(xyz_list, dtype=\"float32\"),\n",
       "   161                                                       \"occ_beta\": np.array(occ_beta_list, dtype=\"float32\"),\n",
       "   162                                                   }\n",
       "   163                                                   if len(pdb_coor.models) > 1 and local_model.len != pdb_coor.models[-1].len:\n",
       "   164                                                       logger.warning(\n",
       "   165                                                           f\"The atom number is not the same in the model {len(pdb_coor.models)-1} and the model {len(pdb_coor.models)}.\"\n",
       "   166                                                           \"\\nSkip this model.\"\n",
       "   167                                                       )\n",
       "   168                                                   else:\n",
       "   169                                                       pdb_coor.models.append(local_model)\n",
       "   170                                           \n",
       "   171         1        595.0    595.0      0.0      if transformation != \"\":\n",
       "   172                                                   pdb_coor.transformation = parse_transformation(transformation)\n",
       "   173         1        223.0    223.0      0.0      if symmetry != \"\":\n",
       "   174                                                   pdb_coor.symmetry = parse_symmetry(symmetry)\n",
       "   175                                           \n",
       "   176         1        288.0    288.0      0.0      return pdb_coor"
      ]
     },
     "metadata": {},
     "output_type": "display_data"
    }
   ],
   "source": [
    "%lprun -f pdb_numpy.format.pdb.parse pdb_numpy.Coor(file)"
   ]
  },
  {
   "cell_type": "code",
   "execution_count": 9,
   "id": "dd20fde7-20e4-499a-b8e4-d1d71f557bf4",
   "metadata": {},
   "outputs": [
    {
     "name": "stdout",
     "output_type": "stream",
     "text": [
      "89.1 µs ± 2 µs per loop (mean ± std. dev. of 7 runs, 10,000 loops each)\n"
     ]
    }
   ],
   "source": [
    "%timeit test.select_atoms(\"chain A and name CA\")"
   ]
  },
  {
   "cell_type": "code",
   "execution_count": 10,
   "id": "ac72c5d7-5f5f-4b09-9f3a-1c7e9cd4181d",
   "metadata": {},
   "outputs": [],
   "source": [
    "test_2 = test.select_atoms(\"chain A and name CA\")\n",
    "test_2.chain[:] = 'z'"
   ]
  },
  {
   "cell_type": "code",
   "execution_count": 11,
   "id": "2c3be5cc-de26-45c5-a1ac-3d3a2b11729d",
   "metadata": {},
   "outputs": [
    {
     "data": {
      "text/plain": [
       "array(['A', 'B'], dtype='<U2')"
      ]
     },
     "execution_count": 11,
     "metadata": {},
     "output_type": "execute_result"
    }
   ],
   "source": [
    "import numpy as np\n",
    "np.unique(test.chain)"
   ]
  },
  {
   "cell_type": "code",
   "execution_count": 12,
   "id": "4afbe1f7",
   "metadata": {},
   "outputs": [
    {
     "data": {
      "text/plain": [
       "{'A': 'MIDVIMTGELLKTVTRAIVALVSEARIHFLEKGLHSRAVDPANVAMVIVDIPKDSFEVYNIDEEKTIGVDMDRIFDISKSISTKDLVELIVEDESTLKVKFGSVEYKVALIDPSAIRKEPRIPELELPAKIVMDAGEFKKAIAAADKISDQVIFRSDKEGFRIEAKGDVDSIVFHMTETELIEFNGGEARSMFSVDYLKEFCKVAGSGDLLTIHLGTNYPVRLVFELVGGRAKVEYILAPRIESE',\n",
       " 'B': 'KSTQATLERWF'}"
      ]
     },
     "execution_count": 12,
     "metadata": {},
     "output_type": "execute_result"
    }
   ],
   "source": [
    "test.get_aa_seq()"
   ]
  },
  {
   "cell_type": "code",
   "execution_count": 13,
   "id": "9035adf0",
   "metadata": {},
   "outputs": [
    {
     "name": "stdout",
     "output_type": "stream",
     "text": [
      "59.9 ms ± 1.43 ms per loop (mean ± std. dev. of 7 runs, 10 loops each)\n"
     ]
    }
   ],
   "source": [
    "%timeit test.get_aa_DL_seq()"
   ]
  },
  {
   "cell_type": "code",
   "execution_count": 14,
   "id": "2c1fc548",
   "metadata": {},
   "outputs": [
    {
     "name": "stdout",
     "output_type": "stream",
     "text": [
      "761 µs ± 7.07 µs per loop (mean ± std. dev. of 7 runs, 1,000 loops each)\n"
     ]
    }
   ],
   "source": [
    "%timeit test.get_aa_seq()"
   ]
  },
  {
   "cell_type": "code",
   "execution_count": 15,
   "id": "848e1dad-e6db-4aea-a801-5c4fa8e9eeda",
   "metadata": {},
   "outputs": [],
   "source": [
    "#%lprun -f compute_pdockQ compute_pdockQ(test)"
   ]
  },
  {
   "cell_type": "code",
   "execution_count": 16,
   "id": "e9dd8c6d",
   "metadata": {},
   "outputs": [
    {
     "data": {
      "text/plain": [
       "Timer unit: 1e-09 s\n",
       "\n",
       "Total time: 0.000542098 s\n",
       "File: /home/murail/Documents/Code/pdb_numpy/src/pdb_numpy/model.py\n",
       "Function: simple_select_atoms at line 225\n",
       "\n",
       "Line #      Hits         Time  Per Hit   % Time  Line Contents\n",
       "==============================================================\n",
       "   225                                               def simple_select_atoms(self, column, values, operator=\"==\"):\n",
       "   226                                                   \"\"\"Select atoms from the PDB file based on the selection tokens.\n",
       "   227                                                   Selection tokens are simple selection containing only one\n",
       "   228                                                   keyword, operator, and values.\n",
       "   229                                           \n",
       "   230                                                   The keywords :\n",
       "   231                                           \n",
       "   232                                                   - `\"resname\"`\n",
       "   233                                                   - `\"chain\"`\n",
       "   234                                                   - `\"name\"`\n",
       "   235                                                   - `\"altloc\"`\n",
       "   236                                                   - `\"resid\"`\n",
       "   237                                                   - `\"residue\"`\n",
       "   238                                                   - `\"beta\"`\n",
       "   239                                                   - `\"occupancy\"`\n",
       "   240                                                   - `\"x\"`, `\"y\"`, `\"z\"`.\n",
       "   241                                           \n",
       "   242                                                   The operators are:\n",
       "   243                                           \n",
       "   244                                                   - `\"==\"`\n",
       "   245                                                   - `\"!=\"`\n",
       "   246                                                   - `\">\"`\n",
       "   247                                                   - `\">=\"`\n",
       "   248                                                   - `\"<\"`\n",
       "   249                                                   - `\"<=\"`\n",
       "   250                                                   - `\"isin\"`\n",
       "   251                                           \n",
       "   252                                                   Parameters\n",
       "   253                                                   ----------\n",
       "   254                                                   self : Model\n",
       "   255                                                       Model object\n",
       "   256                                                   column : str\n",
       "   257                                                       Keyword for the selection\n",
       "   258                                                   values : list\n",
       "   259                                                       List of values for the selection\n",
       "   260                                                   operator : str\n",
       "   261                                                       Operator for the selection\n",
       "   262                                                   frame : int\n",
       "   263                                                       Frame number for the selection, default is 0\n",
       "   264                                           \n",
       "   265                                                   Returns\n",
       "   266                                                   -------\n",
       "   267                                                   list\n",
       "   268                                                       a list of boolean values for each atom in the PDB file\n",
       "   269                                                   \"\"\"\n",
       "   270                                           \n",
       "   271         8      25965.0   3245.6      4.8          if column in KEYWORD_DICT:\n",
       "   272         8       8840.0   1105.0      1.6              col = KEYWORD_DICT[column][0]\n",
       "   273         8       7645.0    955.6      1.4              index = KEYWORD_DICT[column][1]\n",
       "   274                                                   else:\n",
       "   275                                                       raise ValueError(f\"Column {column} not recognized\")\n",
       "   276                                           \n",
       "   277         8       6399.0    799.9      1.2          if isinstance(values, list):\n",
       "   278         8       6313.0    789.1      1.2              if column in [\"resname\", \"chain\", \"name\", \"altloc\"]:\n",
       "   279         8      59264.0   7408.0     10.9                  values = np.array(values, dtype=\"U\")\n",
       "   280                                                           # deal with case with \"name H*\"\n",
       "   281         8      35287.0   4410.9      6.5                  if len(values) == 1 and values[0][-1] == \"*\":\n",
       "   282                                                               operator = \"startswith\"\n",
       "   283                                                               values = values[0][:-1]\n",
       "   284                                                       elif column in [\"resid\", \"residue\"]:\n",
       "   285                                                           values = np.array(values, dtype=int)\n",
       "   286                                                       elif column in [\"beta\", \"occupancy\", \"x\", \"y\", \"z\"]:\n",
       "   287                                                           values = np.array(values, dtype=float)\n",
       "   288                                                       else:\n",
       "   289                                                           raise ValueError(f\"Column {column} not recognized\")\n",
       "   290         8       5878.0    734.8      1.1              if len(values) > 1 and operator in [\">\", \">=\", \"<\", \"<=\"]:\n",
       "   291                                                           raise ValueError(f\"Wrong operator {operator} with multiple values\")\n",
       "   292         8       5171.0    646.4      1.0              elif len(values) > 1 and operator == \"==\":\n",
       "   293                                                           operator = \"isin\"\n",
       "   294         8       7239.0    904.9      1.3              elif len(values) > 1:\n",
       "   295                                                           raise ValueError(f\"Wrong operator {operator} with multiple values\")\n",
       "   296                                           \n",
       "   297                                                   elif isinstance(values, str):\n",
       "   298                                                       # Remove the \".\" before checking if the string is numeric\n",
       "   299                                                       # Also remove the \"-\" if it is the first character\n",
       "   300                                                       if values.replace(\".\", \"\", 1).lstrip(\"-\").isnumeric():\n",
       "   301                                                           if values.find(\".\") == -1:\n",
       "   302                                                               values = int(values)\n",
       "   303                                                           else:\n",
       "   304                                                               values = float(values)\n",
       "   305                                                       else:\n",
       "   306                                                           values = np.array([values], dtype=\"U\")\n",
       "   307                                           \n",
       "   308         8       5511.0    688.9      1.0          if operator == \"==\":\n",
       "   309         8     363561.0  45445.1     67.1              bool_val = self.atom_dict[col][:, index] == values\n",
       "   310                                                   elif operator == \"!=\":\n",
       "   311                                                       bool_val = self.atom_dict[col][:, index] != values\n",
       "   312                                                   elif operator == \">\":\n",
       "   313                                                       bool_val = self.atom_dict[col][:, index] > values\n",
       "   314                                                   elif operator == \">=\":\n",
       "   315                                                       bool_val = self.atom_dict[col][:, index] >= values\n",
       "   316                                                   elif operator == \"<\":\n",
       "   317                                                       bool_val = self.atom_dict[col][:, index] < values\n",
       "   318                                                   elif operator == \"<=\":\n",
       "   319                                                       bool_val = self.atom_dict[col][:, index] <= values\n",
       "   320                                                   elif operator == \"isin\":\n",
       "   321                                                       bool_val = np.isin(self.atom_dict[col][:, index], (values))\n",
       "   322                                                   elif operator == \"startswith\":\n",
       "   323                                                       bool_val = np.array(\n",
       "   324                                                           [x.startswith(values) for x in self.atom_dict[col][:, index]]\n",
       "   325                                                       )\n",
       "   326                                           \n",
       "   327                                                   else:\n",
       "   328                                                       raise ValueError(f\"Operator {operator} not recognized\")\n",
       "   329                                           \n",
       "   330         8       5025.0    628.1      0.9          return bool_val"
      ]
     },
     "metadata": {},
     "output_type": "display_data"
    }
   ],
   "source": [
    "%lprun -f pdb_numpy.Model.simple_select_atoms compute_pdockQ(test)"
   ]
  },
  {
   "cell_type": "code",
   "execution_count": null,
   "id": "50782981-c9a2-4918-bcf9-08bd9a46a7f5",
   "metadata": {},
   "outputs": [],
   "source": []
  }
 ],
 "metadata": {
  "kernelspec": {
   "display_name": "Python 3 (ipykernel)",
   "language": "python",
   "name": "python3"
  },
  "language_info": {
   "codemirror_mode": {
    "name": "ipython",
    "version": 3
   },
   "file_extension": ".py",
   "mimetype": "text/x-python",
   "name": "python",
   "nbconvert_exporter": "python",
   "pygments_lexer": "ipython3",
   "version": "3.10.13"
  }
 },
 "nbformat": 4,
 "nbformat_minor": 5
}

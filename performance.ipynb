{
 "cells": [
  {
   "cell_type": "code",
   "execution_count": 1,
   "id": "8e8e5f76-d721-40f0-b06e-6dfdd10e4ba9",
   "metadata": {},
   "outputs": [],
   "source": [
    "import pdb_numpy"
   ]
  },
  {
   "cell_type": "code",
   "execution_count": 2,
   "id": "43bb9547-e3b6-4f30-b3e3-63b05d5a9c10",
   "metadata": {},
   "outputs": [],
   "source": [
    "%load_ext line_profiler"
   ]
  },
  {
   "cell_type": "code",
   "execution_count": null,
   "id": "848e1dad-e6db-4aea-a801-5c4fa8e9eeda",
   "metadata": {},
   "outputs": [],
   "source": []
  }
 ],
 "metadata": {
  "kernelspec": {
   "display_name": "Python 3 (ipykernel)",
   "language": "python",
   "name": "python3"
  },
  "language_info": {
   "codemirror_mode": {
    "name": "ipython",
    "version": 3
   },
   "file_extension": ".py",
   "mimetype": "text/x-python",
   "name": "python",
   "nbconvert_exporter": "python",
   "pygments_lexer": "ipython3",
   "version": "3.10.13"
  }
 },
 "nbformat": 4,
 "nbformat_minor": 5
}
